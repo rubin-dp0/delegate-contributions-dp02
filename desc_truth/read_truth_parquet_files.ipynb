{
 "cells": [
  {
   "cell_type": "markdown",
   "id": "9cd32b73-9795-491b-8c4f-d324d3d1395c",
   "metadata": {
    "tags": []
   },
   "source": [
    "# Read the DESC truth tables in parquet format\n",
    "\n",
    "**A large container must be used for this notebook or the kernel will crash.**\n",
    "\n",
    "**Contact authors:** Jeff Carlin and Melissa Graham <br>\n",
    "**Container size:** large <br>\n",
    "**Last verified to run:** 2023-02-15 <br>\n",
    "**Version:** w_2023_07"
   ]
  },
  {
   "cell_type": "markdown",
   "id": "d756e879-8c46-4e37-96fd-431cc01dcd87",
   "metadata": {},
   "source": [
    "## 1.0. Introduction\n",
    "\n",
    "Jim Chiang has put additional <a href=\"https://parquet.apache.org/\">parquet</a>-format truth tables in `/project` for DP0 delegates:\n",
    " - `/project/jchiang/Run2.2i/truth/` contains\n",
    "   - `SNe/truth_sn_summary_v1-0-0.parquet` (46M)\n",
    "   - `SNe/truth_sn_variability_v1-0-0.parquet` (247M)\n",
    "   - `stars/truth_star_summary_v1-0-0.parquet` (211M)\n",
    "   - `stars/truth_star_variability_v1-0-0.parquet` (5.3G)\n",
    "\n",
    "These truth tables have been publicly released by the DESC, but they are not part of DP0.2. They contain more detailed information about the simulated supernovae (SNe) and stars that were injected into the DP0.2 dataset. \n",
    "\n",
    "> **Warning: these truth tables have not been, and will not be, cross-matched to the DP0.2 DiaObject table nor available via the TAP service like other DP0.2 catalogs.** \n",
    "\n",
    "Attempting to use TAP or SQL on these parquet files will fail.\n",
    "In particular, note that the tutorial notebook \"08_Truth_Tables.ipynb\" uses the `id_truth_type` column to match between DP0.2 truth catalogs, and that this column is *unique* to the DP0.2 truth catalogs.\n",
    "It is *not available* in these auxiliary truth data files that come directly from DESC.\n",
    "\n",
    "This notebook demonstrates the other methods available for users to cross-match their DP0.2 objects of interest with these truth tables.\n",
    "\n",
    "The **schema** for these tables can be found in the DESC's DC2 Data Release note (<a href=\"https://arxiv.org/pdf/2101.04855.pdf\">arXiv:2101.04855</a>),\n",
    "in tables B.3 (truth star summary), B.4 (truth SN summary), B.6 (truth star variability), and B.7 (truth SN variability).\n",
    "\n",
    "> **Warning: the truth star variability file, at 5.3 G, is too large to be read in full and will crash the kernel.**\n",
    "\n",
    "For the large file of truth star variability, users have the option of the `pyarrow` or `dask` packages for retrieving variability data for a single star, and then converting it into a `pandas` dataframe.\n",
    "As demonstrated in Section 2, it takes about 15-20 seconds to retrieve the full simulated light curve for a single star. \n",
    "Use the truth star variability file with care to avoid crashing the kernel.\n",
    "\n",
    "The three files that are <250 MB are small enough to be read in full.\n",
    "The `pandas` package can be used to read the entire table into a dataframe, as demonstrated below.\n",
    "\n",
    "Rerunning cells multiple times might cause a kernel error in this notebook, given the potentially large data volumes.\n",
    "If this happens, go to the \"Kernel\" menu item and choose \"Restart kernel and clear all outputs\" and try again.\n",
    "If issues persist, exit the RSP and log back in with a large container.\n",
    "\n",
    "### 1.1. Import packages."
   ]
  },
  {
   "cell_type": "code",
   "execution_count": 5,
   "id": "c8bc532d-b33f-4c26-b9fe-479f0b31292a",
   "metadata": {
    "execution": {
     "iopub.execute_input": "2023-06-16T17:01:02.382154Z",
     "iopub.status.busy": "2023-06-16T17:01:02.381823Z",
     "iopub.status.idle": "2023-06-16T17:01:04.089898Z",
     "shell.execute_reply": "2023-06-16T17:01:04.089171Z",
     "shell.execute_reply.started": "2023-06-16T17:01:02.382130Z"
    },
    "tags": []
   },
   "outputs": [],
   "source": [
    "import numpy as np\n",
    "import matplotlib.pyplot as plt\n",
    "import time, gc\n",
    "import pandas as pd\n",
    "import pyarrow.parquet as pq\n",
    "import dask.dataframe as dd"
   ]
  },
  {
   "cell_type": "markdown",
   "id": "33a6d262-9ded-41d1-981f-ac111571a2e9",
   "metadata": {},
   "source": [
    "## 2.0. Stars\n",
    "\n",
    "Define the file names of the star truth data."
   ]
  },
  {
   "cell_type": "code",
   "execution_count": 6,
   "id": "2024bca9-4cd3-470a-9bca-16ff2646cee4",
   "metadata": {
    "execution": {
     "iopub.execute_input": "2023-06-16T17:01:06.234059Z",
     "iopub.status.busy": "2023-06-16T17:01:06.233187Z",
     "iopub.status.idle": "2023-06-16T17:01:06.237357Z",
     "shell.execute_reply": "2023-06-16T17:01:06.236582Z",
     "shell.execute_reply.started": "2023-06-16T17:01:06.234023Z"
    },
    "tags": []
   },
   "outputs": [],
   "source": [
    "pfnm_star_sum = '/project/jchiang/Run2.2i/truth/stars/truth_star_summary_v1-0-0.parquet'\n",
    "pfnm_star_var = '/project/jchiang/Run2.2i/truth/stars/truth_star_variability_v1-0-0.parquet'"
   ]
  },
  {
   "cell_type": "markdown",
   "id": "b438cb98-5179-46ca-b713-683388950bbd",
   "metadata": {},
   "source": [
    "### 2.1. Read the full summary table with `pandas`\n",
    "\n",
    "The star summary file, at 211 M, is small enough to be read in entirely with `pandas`, as done below.\n",
    "\n",
    "But, if you attempt to use `pd.read_parquet` with the star variability file (5.3 G), the kernel will crash."
   ]
  },
  {
   "cell_type": "code",
   "execution_count": 7,
   "id": "16d37271-f6e1-45c0-b915-89d7fa3f9bb6",
   "metadata": {
    "execution": {
     "iopub.execute_input": "2023-06-16T17:01:08.706284Z",
     "iopub.status.busy": "2023-06-16T17:01:08.705927Z",
     "iopub.status.idle": "2023-06-16T17:01:09.366143Z",
     "shell.execute_reply": "2023-06-16T17:01:09.365391Z",
     "shell.execute_reply.started": "2023-06-16T17:01:08.706258Z"
    },
    "tags": []
   },
   "outputs": [],
   "source": [
    "result_star_sum = pd.read_parquet(pfnm_star_sum)"
   ]
  },
  {
   "cell_type": "markdown",
   "id": "f3dc1d3b-e51b-4b6a-acce-a94b42019f9b",
   "metadata": {},
   "source": [
    "**Option** to view the star summary table."
   ]
  },
  {
   "cell_type": "code",
   "execution_count": 8,
   "id": "59fb479a-323e-48d5-aa14-b8e01cc27633",
   "metadata": {
    "execution": {
     "iopub.execute_input": "2023-06-16T17:01:10.460473Z",
     "iopub.status.busy": "2023-06-16T17:01:10.460119Z",
     "iopub.status.idle": "2023-06-16T17:01:10.464103Z",
     "shell.execute_reply": "2023-06-16T17:01:10.463280Z",
     "shell.execute_reply.started": "2023-06-16T17:01:10.460444Z"
    },
    "tags": []
   },
   "outputs": [],
   "source": [
    "# result_star_sum"
   ]
  },
  {
   "cell_type": "markdown",
   "id": "c2cc670f-d059-473a-91d1-d961b226c916",
   "metadata": {},
   "source": [
    "### 2.2. Identify a single true star of interest\n",
    "\n",
    "Use `numpy.unique` to figure out how many different variable star types there are."
   ]
  },
  {
   "cell_type": "code",
   "execution_count": 9,
   "id": "73109ce8-0004-4e63-9f42-da0d9821b3b9",
   "metadata": {
    "execution": {
     "iopub.execute_input": "2023-06-16T17:01:13.838903Z",
     "iopub.status.busy": "2023-06-16T17:01:13.837869Z",
     "iopub.status.idle": "2023-06-16T17:01:16.123190Z",
     "shell.execute_reply": "2023-06-16T17:01:16.122309Z",
     "shell.execute_reply.started": "2023-06-16T17:01:13.838862Z"
    },
    "tags": []
   },
   "outputs": [
    {
     "name": "stdout",
     "output_type": "stream",
     "text": [
      "0 MLT 2361402\n",
      "1 None 126709\n",
      "2 applyRRly 211\n",
      "3 kplr 1744538\n"
     ]
    }
   ],
   "source": [
    "unique_models, counts_models = np.unique(result_star_sum['model'], return_counts=True)\n",
    "for u in range(len(unique_models)):\n",
    "    print(u, unique_models[u], counts_models[u])"
   ]
  },
  {
   "cell_type": "markdown",
   "id": "70a5e969-a388-455e-8cad-0e235454278c",
   "metadata": {},
   "source": [
    "As described in the DESC DC2 Data Release Note, these types include:\n",
    "1. `applyRRly`: periodic variables (RR Lyrae and Cepheids)\n",
    "2. `MLT`: non-periodic transients/variables such as microlensing events, flaring M-dwarfs, cataclysmic variables, etc.\n",
    "3. `kplr`: stars with no definitive variability class, whose variability is modeled after Kepler lightcurves\n",
    "4. `None`: non-variable stars\n",
    "\n",
    "Use `tx` to index all 211 of the RR Lyrae stars. Print the `id`, `ra`, and `dec` of a random RR Lyrae."
   ]
  },
  {
   "cell_type": "code",
   "execution_count": 10,
   "id": "72c3c11e-7d20-4481-9843-baf60c42ee70",
   "metadata": {
    "execution": {
     "iopub.execute_input": "2023-06-16T17:01:17.323455Z",
     "iopub.status.busy": "2023-06-16T17:01:17.322615Z",
     "iopub.status.idle": "2023-06-16T17:01:17.532772Z",
     "shell.execute_reply": "2023-06-16T17:01:17.531902Z",
     "shell.execute_reply.started": "2023-06-16T17:01:17.323416Z"
    },
    "tags": []
   },
   "outputs": [
    {
     "name": "stdout",
     "output_type": "stream",
     "text": [
      "696465 54.4463796 -39.1503306\n"
     ]
    }
   ],
   "source": [
    "tx = np.where(result_star_sum['model'][:] == 'applyRRly')[0]\n",
    "ri = np.random.choice(tx, size=1)\n",
    "print(result_star_sum['id'][ri[0]], \\\n",
    "      result_star_sum['ra'][ri[0]], \\\n",
    "      result_star_sum['dec'][ri[0]])\n",
    "del tx, ri"
   ]
  },
  {
   "cell_type": "markdown",
   "id": "ad930aa0-90ee-4715-a1f0-cc45e8e1da10",
   "metadata": {},
   "source": [
    "If all we had was an RA and Dec that we got by, for example, identifying a `DiaObject` that we thought might be an RR Lyrae, we could find the `id` in the star summary table.\n",
    "\n",
    "For this example, use RA = 72.5850633 and Dec = -44.6386746."
   ]
  },
  {
   "cell_type": "code",
   "execution_count": 11,
   "id": "69ada608-29ee-4700-8f0d-4a3ee5a33323",
   "metadata": {
    "execution": {
     "iopub.execute_input": "2023-06-16T17:01:22.265512Z",
     "iopub.status.busy": "2023-06-16T17:01:22.264701Z",
     "iopub.status.idle": "2023-06-16T17:01:22.268616Z",
     "shell.execute_reply": "2023-06-16T17:01:22.267943Z",
     "shell.execute_reply.started": "2023-06-16T17:01:22.265482Z"
    },
    "tags": []
   },
   "outputs": [],
   "source": [
    "my_star_ra = 72.5850633\n",
    "my_star_dec = -44.6386746"
   ]
  },
  {
   "cell_type": "code",
   "execution_count": 12,
   "id": "00e44850-2079-491e-b92f-efb29477c4d1",
   "metadata": {
    "execution": {
     "iopub.execute_input": "2023-06-16T17:01:24.956861Z",
     "iopub.status.busy": "2023-06-16T17:01:24.956077Z",
     "iopub.status.idle": "2023-06-16T17:01:25.020214Z",
     "shell.execute_reply": "2023-06-16T17:01:25.019407Z",
     "shell.execute_reply.started": "2023-06-16T17:01:24.956831Z"
    },
    "tags": []
   },
   "outputs": [
    {
     "name": "stdout",
     "output_type": "stream",
     "text": [
      "Unique match identified within 2 arcseconds.\n",
      "836896 72.5850633 -44.6386746\n"
     ]
    }
   ],
   "source": [
    "tx = np.where((np.abs(result_star_sum['ra'] - my_star_ra) < 2.0/3600.)\n",
    "              & (np.abs(result_star_sum['dec'] - my_star_dec) < 2.0/3600.))[0]\n",
    "if(len(tx) == 1):\n",
    "    print('Unique match identified within 2 arcseconds.')\n",
    "    print(result_star_sum['id'][tx[0]], \\\n",
    "          result_star_sum['ra'][tx[0]], \\\n",
    "          result_star_sum['dec'][tx[0]])\n",
    "else:\n",
    "    print('Number of matches: ', len(tx))\n",
    "del tx"
   ]
  },
  {
   "cell_type": "markdown",
   "id": "8b96ca23-74c0-4550-b543-a0ea95e2f021",
   "metadata": {},
   "source": [
    "Clean up."
   ]
  },
  {
   "cell_type": "code",
   "execution_count": 13,
   "id": "bc24c699-b9ba-4273-ba9d-266e07d82513",
   "metadata": {
    "execution": {
     "iopub.execute_input": "2023-06-16T17:01:29.232608Z",
     "iopub.status.busy": "2023-06-16T17:01:29.231751Z",
     "iopub.status.idle": "2023-06-16T17:01:29.393839Z",
     "shell.execute_reply": "2023-06-16T17:01:29.393208Z",
     "shell.execute_reply.started": "2023-06-16T17:01:29.232579Z"
    },
    "tags": []
   },
   "outputs": [
    {
     "data": {
      "text/plain": [
       "996"
      ]
     },
     "execution_count": 13,
     "metadata": {},
     "output_type": "execute_result"
    }
   ],
   "source": [
    "del result_star_sum, my_star_ra, my_star_dec\n",
    "gc.collect()"
   ]
  },
  {
   "cell_type": "markdown",
   "id": "a2211840-e561-459d-b170-65ac37aea050",
   "metadata": {},
   "source": [
    "### 2.3. Use `pyarrow` to retrieve the true light curve\n",
    "\n",
    "Use `pyarrow` to retrieve the  true variability (true light curve) for this one RR Lyrae of interest, with `id` = 836896.\n",
    "\n",
    "Read the parquet table and only retrieve rows where `id` = 836896. This takes about 10 seconds."
   ]
  },
  {
   "cell_type": "code",
   "execution_count": null,
   "id": "83267c64-7c06-4fdd-9bc5-8bcfab07980b",
   "metadata": {
    "execution": {
     "iopub.execute_input": "2023-06-16T17:01:33.720756Z",
     "iopub.status.busy": "2023-06-16T17:01:33.719967Z"
    },
    "tags": []
   },
   "outputs": [],
   "source": [
    "result = pq.read_table(pfnm_star_var, use_threads=False,\n",
    "                         filters=[('id', '==', 836896)])"
   ]
  },
  {
   "cell_type": "markdown",
   "id": "80dee140-eb9e-473c-97ff-70cfd1449a30",
   "metadata": {},
   "source": [
    "Convert the result ot a pandas dataframe, `df`. This takes <1 second."
   ]
  },
  {
   "cell_type": "code",
   "execution_count": 3,
   "id": "1c501dc3-3b5c-4131-83f6-8b616eb79b51",
   "metadata": {
    "execution": {
     "iopub.execute_input": "2023-06-16T17:01:56.399278Z",
     "iopub.status.busy": "2023-06-16T17:01:56.398477Z",
     "iopub.status.idle": "2023-06-16T17:01:56.411508Z",
     "shell.execute_reply": "2023-06-16T17:01:56.410766Z",
     "shell.execute_reply.started": "2023-06-16T17:01:56.399247Z"
    },
    "tags": []
   },
   "outputs": [
    {
     "ename": "NameError",
     "evalue": "name 'result' is not defined",
     "output_type": "error",
     "traceback": [
      "\u001b[0;31m---------------------------------------------------------------------------\u001b[0m",
      "\u001b[0;31mNameError\u001b[0m                                 Traceback (most recent call last)",
      "Input \u001b[0;32mIn [3]\u001b[0m, in \u001b[0;36m<cell line: 1>\u001b[0;34m()\u001b[0m\n\u001b[0;32m----> 1\u001b[0m df \u001b[38;5;241m=\u001b[39m \u001b[43mresult\u001b[49m\u001b[38;5;241m.\u001b[39mto_pandas()\n",
      "\u001b[0;31mNameError\u001b[0m: name 'result' is not defined"
     ]
    }
   ],
   "source": [
    "df = result.to_pandas()"
   ]
  },
  {
   "cell_type": "markdown",
   "id": "2fce9bce-727b-4d46-9157-c27a3c0de626",
   "metadata": {},
   "source": [
    "**Option** to show the dataframe."
   ]
  },
  {
   "cell_type": "code",
   "execution_count": 2,
   "id": "3a4b2cea-de1a-4aa2-b9e6-3ea6bca08cbf",
   "metadata": {
    "execution": {
     "iopub.execute_input": "2023-06-16T17:01:49.845487Z",
     "iopub.status.busy": "2023-06-16T17:01:49.844611Z",
     "iopub.status.idle": "2023-06-16T17:01:49.858356Z",
     "shell.execute_reply": "2023-06-16T17:01:49.857553Z",
     "shell.execute_reply.started": "2023-06-16T17:01:49.845453Z"
    },
    "tags": []
   },
   "outputs": [
    {
     "ename": "NameError",
     "evalue": "name 'df' is not defined",
     "output_type": "error",
     "traceback": [
      "\u001b[0;31m---------------------------------------------------------------------------\u001b[0m",
      "\u001b[0;31mNameError\u001b[0m                                 Traceback (most recent call last)",
      "Input \u001b[0;32mIn [2]\u001b[0m, in \u001b[0;36m<cell line: 1>\u001b[0;34m()\u001b[0m\n\u001b[0;32m----> 1\u001b[0m \u001b[43mdf\u001b[49m\n",
      "\u001b[0;31mNameError\u001b[0m: name 'df' is not defined"
     ]
    }
   ],
   "source": [
    "df"
   ]
  },
  {
   "cell_type": "markdown",
   "id": "e8331823-2383-4841-b6a3-76c9736cec76",
   "metadata": {},
   "source": [
    "Plot the g, r, and i-band `delta_flux` values."
   ]
  },
  {
   "cell_type": "code",
   "execution_count": null,
   "id": "5a3207dd-4cff-41d7-ba8f-8d1e166e78e4",
   "metadata": {},
   "outputs": [],
   "source": [
    "gx = df['bandpass'][:] == 'g'\n",
    "rx = df['bandpass'][:] == 'r'\n",
    "ix = df['bandpass'][:] == 'i'\n",
    "plt.plot(df['MJD'][gx], df['delta_flux'][gx], \\\n",
    "         'o', ms=3, mew=0, alpha=0.3, color='darkgreen')\n",
    "plt.plot(df['MJD'][rx], df['delta_flux'][rx], \\\n",
    "         'o', ms=3, mew=0, alpha=0.3, color='darkorange')\n",
    "plt.plot(df['MJD'][ix], df['delta_flux'][ix], \\\n",
    "         'o', ms=3, mew=0, alpha=0.3, color='black')\n",
    "plt.xlabel('MJD (days)')\n",
    "plt.ylabel('delta$\\_$flux (nJy)')\n",
    "plt.show()\n",
    "del gx, rx, ix"
   ]
  },
  {
   "cell_type": "code",
   "execution_count": null,
   "id": "63214b81-404c-463e-a5b3-0859bd9de540",
   "metadata": {},
   "outputs": [],
   "source": [
    "del result, df\n",
    "gc.collect()"
   ]
  },
  {
   "cell_type": "markdown",
   "id": "4fbf38dd-5218-46ad-9d93-26633f15a079",
   "metadata": {},
   "source": [
    "### 2.4. Use `dask` to retrieve the true light curve\n",
    "\n",
    "Use `dask` to retrieve the  true variability (true light curve) for this one RR Lyrae of interest, with `id` = 836896.\n",
    "\n",
    "**Option** to read the parquet file and view what `dd.read_parquet` returns. Note that it is the structure of the dataframe, NOT a dataframe filled with values."
   ]
  },
  {
   "cell_type": "code",
   "execution_count": null,
   "id": "91167569-4833-4b22-8ee1-7f4fc7daa724",
   "metadata": {
    "tags": []
   },
   "outputs": [],
   "source": [
    "# result = dd.read_parquet(pfnm_star_var)"
   ]
  },
  {
   "cell_type": "code",
   "execution_count": null,
   "id": "7ae79d9f-e056-47ee-b583-0f86f374d58c",
   "metadata": {
    "tags": []
   },
   "outputs": [],
   "source": [
    "# result"
   ]
  },
  {
   "cell_type": "code",
   "execution_count": null,
   "id": "bce46dcf-ef38-4660-a2f3-33cf56800e05",
   "metadata": {
    "tags": []
   },
   "outputs": [],
   "source": [
    "# del result"
   ]
  },
  {
   "cell_type": "markdown",
   "id": "1a38040f-5240-4892-9c22-b10b463a1529",
   "metadata": {},
   "source": [
    "Read the parquet table and only retrieve rows where `id` = 836896. This takes <1 second."
   ]
  },
  {
   "cell_type": "code",
   "execution_count": null,
   "id": "c46acec9-fcc8-40f0-be9b-764513e1b021",
   "metadata": {},
   "outputs": [],
   "source": [
    "result = dd.read_parquet(pfnm_star_var, filters = [('id', '==', 836896)])"
   ]
  },
  {
   "cell_type": "markdown",
   "id": "a651bb75-b182-442b-8d8d-d30e43a1ea8e",
   "metadata": {},
   "source": [
    "Convert the result into a `pandas` dataframe. This takes up to 15 seconds."
   ]
  },
  {
   "cell_type": "code",
   "execution_count": null,
   "id": "78752e78-478d-41b7-9907-ab97c1413d8c",
   "metadata": {},
   "outputs": [],
   "source": [
    "df = result.compute()"
   ]
  },
  {
   "cell_type": "markdown",
   "id": "8db861ac-7059-47e3-98ae-6d1b5e30b145",
   "metadata": {},
   "source": [
    "**Option** to show the `pandas` dataframe."
   ]
  },
  {
   "cell_type": "code",
   "execution_count": null,
   "id": "e3e984d0-a91d-4125-9a20-a1230fbeb0ec",
   "metadata": {
    "tags": []
   },
   "outputs": [],
   "source": [
    "# df"
   ]
  },
  {
   "cell_type": "markdown",
   "id": "016646aa-27d2-45dc-ad25-45af2fddbda0",
   "metadata": {},
   "source": [
    "Plot the g, r, and i-band `delta_flux` values."
   ]
  },
  {
   "cell_type": "code",
   "execution_count": null,
   "id": "34ad50e3-bec1-4cdb-8fc0-5137e722966d",
   "metadata": {},
   "outputs": [],
   "source": [
    "gx = df['bandpass'][:] == 'g'\n",
    "rx = df['bandpass'][:] == 'r'\n",
    "ix = df['bandpass'][:] == 'i'\n",
    "plt.plot(df['MJD'][gx], df['delta_flux'][gx], \\\n",
    "         'o', ms=3, mew=0, alpha=0.3, color='darkgreen')\n",
    "plt.plot(df['MJD'][rx], df['delta_flux'][rx], \\\n",
    "         'o', ms=3, mew=0, alpha=0.3, color='darkorange')\n",
    "plt.plot(df['MJD'][ix], df['delta_flux'][ix], \\\n",
    "         'o', ms=3, mew=0, alpha=0.3, color='black')\n",
    "plt.xlabel('MJD (days)')\n",
    "plt.ylabel('delta$\\_$flux (nJy)')\n",
    "plt.show()\n",
    "del gx, rx, ix"
   ]
  },
  {
   "cell_type": "code",
   "execution_count": null,
   "id": "e8a32325-5810-4204-be18-379ffe3ba706",
   "metadata": {},
   "outputs": [],
   "source": [
    "del result, df\n",
    "gc.collect()"
   ]
  },
  {
   "cell_type": "markdown",
   "id": "6c8ceb0b-a8c7-410a-8a83-8dc276540286",
   "metadata": {},
   "source": [
    "## 3.0. Supernovae\n",
    "\n",
    "Define the file names of the SN truth data."
   ]
  },
  {
   "cell_type": "code",
   "execution_count": null,
   "id": "7f2ee2e8-69b0-49c5-a2ea-3db493f890c4",
   "metadata": {},
   "outputs": [],
   "source": [
    "pfnm_sn_sum = '/project/jchiang/Run2.2i/truth/SNe/truth_sn_summary_v1-0-0.parquet'\n",
    "pfnm_sn_var = '/project/jchiang/Run2.2i/truth/SNe/truth_sn_variability_v1-0-0.parquet'"
   ]
  },
  {
   "cell_type": "markdown",
   "id": "9968d11f-72b1-4d2a-a893-05bcffd9833c",
   "metadata": {},
   "source": [
    "### 3.1. Read the full parquet files\n",
    "\n",
    "Read the full SN summary table."
   ]
  },
  {
   "cell_type": "code",
   "execution_count": null,
   "id": "cb53f6e6-8fde-4369-9b86-7ab73ef7c260",
   "metadata": {},
   "outputs": [],
   "source": [
    "result_sn_sum = pd.read_parquet(pfnm_sn_sum)"
   ]
  },
  {
   "cell_type": "markdown",
   "id": "99f176c2-9b63-4b39-9bd8-2fff16533352",
   "metadata": {},
   "source": [
    "**Option** to show the SN summary table contents."
   ]
  },
  {
   "cell_type": "code",
   "execution_count": null,
   "id": "fa8ba7ee-9359-4881-aa3c-06e140005ed9",
   "metadata": {
    "tags": []
   },
   "outputs": [],
   "source": [
    "# result_sn_sum"
   ]
  },
  {
   "cell_type": "markdown",
   "id": "57d9728a-1e59-4fba-a9e7-083e3468a925",
   "metadata": {},
   "source": [
    "Read the full SN variability table."
   ]
  },
  {
   "cell_type": "code",
   "execution_count": null,
   "id": "ce1ab188-047d-4b6c-9a20-26186ea9b145",
   "metadata": {},
   "outputs": [],
   "source": [
    "result_sn_var = pd.read_parquet(pfnm_sn_var)"
   ]
  },
  {
   "cell_type": "markdown",
   "id": "50d5f3c6-7e7d-47ce-bde5-739a1a52b6e4",
   "metadata": {},
   "source": [
    "**Option** to show the SN variability table contents."
   ]
  },
  {
   "cell_type": "code",
   "execution_count": null,
   "id": "9c7f17e6-2634-4ac3-80c7-203f5b7bed83",
   "metadata": {
    "tags": []
   },
   "outputs": [],
   "source": [
    "# result_sn_var"
   ]
  },
  {
   "cell_type": "markdown",
   "id": "39d41d02-2daf-4b8d-a1ae-de685b8ca4b2",
   "metadata": {},
   "source": [
    "Plot the g, r, and i-band `delta_flux` values (the light curve) for true SN with `id` 10816000752662."
   ]
  },
  {
   "cell_type": "code",
   "execution_count": null,
   "id": "aa888df8-e436-4e43-86d5-0af88d6ec0c3",
   "metadata": {},
   "outputs": [],
   "source": [
    "%%time\n",
    "gx = (result_sn_var['id'][:] == 10816000752662) & (result_sn_var['bandpass'][:] == 'g')\n",
    "rx = (result_sn_var['id'][:] == 10816000752662) & (result_sn_var['bandpass'][:] == 'r')\n",
    "ix = (result_sn_var['id'][:] == 10816000752662) & (result_sn_var['bandpass'][:] == 'i')\n",
    "plt.plot(result_sn_var['MJD'][gx], result_sn_var['delta_flux'][gx], \\\n",
    "         'o', ms=13, mew=0, alpha=0.3, color='darkgreen')\n",
    "plt.plot(result_sn_var['MJD'][rx], result_sn_var['delta_flux'][rx], \\\n",
    "         'o', ms=13, mew=0, alpha=0.3, color='darkorange')\n",
    "plt.plot(result_sn_var['MJD'][ix], result_sn_var['delta_flux'][ix], \\\n",
    "         'o', ms=13, mew=0, alpha=0.3, color='black')\n",
    "plt.xlabel('MJD (days)')\n",
    "plt.ylabel('delta$\\_$flux (nJy)')\n",
    "plt.show()\n",
    "del gx, rx, ix"
   ]
  },
  {
   "cell_type": "markdown",
   "id": "f186112b-2fac-4f5b-8859-b2703a76da04",
   "metadata": {},
   "source": [
    "Clean up."
   ]
  },
  {
   "cell_type": "code",
   "execution_count": null,
   "id": "384ff114-8ec7-4d94-9304-28a637cb4f7c",
   "metadata": {},
   "outputs": [],
   "source": [
    "del result_sn_sum, result_sn_var\n",
    "gc.collect()"
   ]
  },
  {
   "cell_type": "markdown",
   "id": "00d8be99-b213-49e9-9f21-6189c08ebcdb",
   "metadata": {},
   "source": [
    "### 3.2. Use `dask` to retrieve a true SN light curve\n",
    "\n",
    "Just because we _can_ read in the full SN variability parquet file doesn't mean we should, if all we want is the light curve for one SN of interest.\n",
    "\n",
    "In this case, the \"SN of interest\" is chosen to be the SN with `id` = 10816000752662. \n",
    "\n",
    "See Section 2.2 for a demonstration of how to do a simple spatial cross match if the RA and Dec of the object of interest is known, instead of the `id`.\n",
    "\n",
    "The following uses `dask`, as done in Section 2.4 for a variable star light curve, but users could use `pyarrow` in the same way as Section 2.3 if preferred."
   ]
  },
  {
   "cell_type": "code",
   "execution_count": null,
   "id": "34976fc0-580b-403d-887c-ee4662983987",
   "metadata": {},
   "outputs": [],
   "source": [
    "result = dd.read_parquet(pfnm_sn_var, filters = [('id', '==', 10816000752662)])"
   ]
  },
  {
   "cell_type": "code",
   "execution_count": null,
   "id": "1ec220d9-b8eb-4c07-bd70-47e3ad864aab",
   "metadata": {},
   "outputs": [],
   "source": [
    "df = result.compute()"
   ]
  },
  {
   "cell_type": "markdown",
   "id": "1856250c-8eaf-4739-9e2b-f9a6bac5a8ee",
   "metadata": {},
   "source": [
    "**Option** to view the dataframe."
   ]
  },
  {
   "cell_type": "code",
   "execution_count": null,
   "id": "b5c87f28-9567-44ad-a3b7-28b68d6929e5",
   "metadata": {
    "tags": []
   },
   "outputs": [],
   "source": [
    "# df"
   ]
  },
  {
   "cell_type": "markdown",
   "id": "7635011e-4083-4616-bc2a-704f81a3349e",
   "metadata": {},
   "source": [
    "Plot the g, r, and i-band `delta_flux` values (the light curve) for true SN with `id` 10816000752662."
   ]
  },
  {
   "cell_type": "code",
   "execution_count": null,
   "id": "dfea60e5-f3bd-4f20-8016-800b3a835b99",
   "metadata": {},
   "outputs": [],
   "source": [
    "gx = df['bandpass'][:] == 'g'\n",
    "rx = df['bandpass'][:] == 'r'\n",
    "ix = df['bandpass'][:] == 'i'\n",
    "plt.plot(df['MJD'][gx], df['delta_flux'][gx], \\\n",
    "         'o', ms=13, mew=0, alpha=0.3, color='darkgreen')\n",
    "plt.plot(df['MJD'][rx], df['delta_flux'][rx], \\\n",
    "         'o', ms=13, mew=0, alpha=0.3, color='darkorange')\n",
    "plt.plot(df['MJD'][ix], df['delta_flux'][ix], \\\n",
    "         'o', ms=13, mew=0, alpha=0.3, color='black')\n",
    "plt.xlabel('MJD (days)')\n",
    "plt.ylabel('delta$\\_$flux (nJy)')\n",
    "plt.show()\n",
    "del gx, rx, ix"
   ]
  },
  {
   "cell_type": "code",
   "execution_count": null,
   "id": "dc31e1e4-93cd-4b92-8de7-8956a6a365de",
   "metadata": {},
   "outputs": [],
   "source": []
  }
 ],
 "metadata": {
  "kernelspec": {
   "display_name": "LSST",
   "language": "python",
   "name": "lsst"
  },
  "language_info": {
   "codemirror_mode": {
    "name": "ipython",
    "version": 3
   },
   "file_extension": ".py",
   "mimetype": "text/x-python",
   "name": "python",
   "nbconvert_exporter": "python",
   "pygments_lexer": "ipython3",
   "version": "3.10.10"
  }
 },
 "nbformat": 4,
 "nbformat_minor": 5
}
