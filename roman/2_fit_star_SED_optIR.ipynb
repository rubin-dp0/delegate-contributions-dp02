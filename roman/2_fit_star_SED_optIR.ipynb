{
 "cells": [
  {
   "cell_type": "markdown",
   "id": "84f2c848-5d21-46e1-8ad8-96e7b2f3592d",
   "metadata": {},
   "source": [
    "# Visualize optical-IR stellar SEDs\n",
    "\n",
    "Author: Melissa Graham\n",
    "\n",
    "Date: Mon Oct 28 2024\n",
    "\n",
    "RSP Image: Weekly 2024_37\n",
    "\n",
    "Goal: Show how to display stellar SED with Rubin optical and Roman IR photometry."
   ]
  },
  {
   "cell_type": "markdown",
   "id": "38dad4ec-143f-496c-afc5-bce8c39fa82d",
   "metadata": {},
   "source": [
    "## Introduction\n",
    "\n",
    "### Warning!\n",
    "\n",
    "The point of this notebook is just to show how to visualize the \n",
    "optical (Rubin) and infrared (Roman) SED of a few\n",
    "simulated objects that are bright, and thus likely stars.\n",
    "\n",
    "This notebook also does blackbody fits to the SEDs.\n",
    "But it does so in a very unrigorous way!\n",
    "**In particular, the affects of dust or other emission lines on the stellar\n",
    "SED are not modelled or accounted for in the blackbody fits.**"
   ]
  },
  {
   "cell_type": "markdown",
   "id": "28ff1179-4a7f-4002-b32e-48e8319eee5f",
   "metadata": {},
   "source": [
    "### Basics\n",
    "\n",
    "What's an SED? Spectral energy distribution: https://en.wikipedia.org/wiki/Spectral_energy_distribution\n",
    "\n",
    "What's a blackbody? Thermal radiation of a continuous spectrum: https://en.wikipedia.org/wiki/Black-body_radiation"
   ]
  },
  {
   "cell_type": "markdown",
   "id": "29326898-0169-4a3d-a8a5-d60d5fc3e113",
   "metadata": {},
   "source": [
    "### The simulated data\n",
    "\n",
    "The same simulation, DESC's Data Challenge 2 (DC2), is the basis for both\n",
    "the simulated data products of Rubin's Data Preview 0, and the simulated\n",
    "data for Roman Observatory presented in Troxel et al. (2023).\n",
    "\n",
    "Thus, it is possible to cross-match the catalogs and obtain infrared\n",
    "photometry for DP0 Objects.\n",
    "\n",
    "Roman DC2 Simulated Images and Catalogs at IRSA IPAC:<br>\n",
    "https://irsa.ipac.caltech.edu/data/theory/Roman/Troxel2023/overview.html\n",
    "\n",
    "Troxel et al. (2023):<br>\n",
    "https://academic.oup.com/mnras/article/522/2/2801/7076879?login=false"
   ]
  },
  {
   "cell_type": "markdown",
   "id": "6dd573ac-6669-4050-b0fa-905aa956a25b",
   "metadata": {},
   "source": [
    "## Set up"
   ]
  },
  {
   "cell_type": "code",
   "execution_count": null,
   "id": "cd76ea96-c74f-4da1-ade6-3c918600df2e",
   "metadata": {},
   "outputs": [],
   "source": [
    "import numpy as np\n",
    "import matplotlib.pyplot as plt\n",
    "from astropy.io import fits\n",
    "from astropy.coordinates import SkyCoord\n",
    "from astropy.coordinates import match_coordinates_sky\n",
    "import astropy.units as u\n",
    "from astropy.modeling import models, fitting\n",
    "from lsst.rsp import get_tap_service, retrieve_query"
   ]
  },
  {
   "cell_type": "code",
   "execution_count": null,
   "id": "b63aedcd-c707-4ced-9b60-de024bffbc70",
   "metadata": {},
   "outputs": [],
   "source": [
    "service = get_tap_service(\"tap\")"
   ]
  },
  {
   "cell_type": "markdown",
   "id": "53f3a3f8-7df7-46ba-9af9-71700402a40e",
   "metadata": {},
   "source": [
    "## Retrieve data sets \n",
    "\n",
    "### Roman, Troxel et al. (2023)"
   ]
  },
  {
   "cell_type": "code",
   "execution_count": null,
   "id": "b1c161b1-7abc-4474-9e9f-8d48a3fdd265",
   "metadata": {},
   "outputs": [],
   "source": [
    "fnm = '/project/melissagraham2/troxel2023/dc2_det_52.21_-40.3.fits'\n",
    "hdul = fits.open(fnm)\n",
    "data = hdul[1].data"
   ]
  },
  {
   "cell_type": "code",
   "execution_count": null,
   "id": "a10c0b0f-96a3-4c8d-8fb6-8f6ae82ea6d7",
   "metadata": {},
   "outputs": [],
   "source": [
    "roman_ra = np.asarray(data['alphawin_j2000'], dtype='float')\n",
    "roman_dec = np.asarray(data['deltawin_j2000'], dtype='float')\n",
    "roman_y = np.asarray(data['mag_auto_Y106'], dtype='float')\n",
    "roman_j = np.asarray(data['mag_auto_J129'], dtype='float')\n",
    "roman_h = np.asarray(data['mag_auto_H158'], dtype='float')\n",
    "roman_f = np.asarray(data['mag_auto_F184'], dtype='float')\n",
    "roman_ye = np.asarray(data['magerr_auto_Y106'], dtype='float')\n",
    "roman_je = np.asarray(data['magerr_auto_J129'], dtype='float')\n",
    "roman_he = np.asarray(data['magerr_auto_H158'], dtype='float')\n",
    "roman_fe = np.asarray(data['magerr_auto_F184'], dtype='float')"
   ]
  },
  {
   "cell_type": "code",
   "execution_count": null,
   "id": "75a575ea-e2ec-4e67-b385-3a2ed99a9fb3",
   "metadata": {},
   "outputs": [],
   "source": [
    "print('Number of Troxel objects: ', len(roman_ra))"
   ]
  },
  {
   "cell_type": "code",
   "execution_count": null,
   "id": "7532c6f8-7638-4ef3-8495-a0c868028003",
   "metadata": {},
   "outputs": [],
   "source": [
    "del fnm, hdul, data"
   ]
  },
  {
   "cell_type": "markdown",
   "id": "e08179bb-063f-4f9f-a903-68906bdabbe3",
   "metadata": {},
   "source": [
    "### Rubin, Data Preview 0"
   ]
  },
  {
   "cell_type": "code",
   "execution_count": null,
   "id": "0b113120-e3cd-4181-993d-f4a97775e050",
   "metadata": {},
   "outputs": [],
   "source": [
    "sra = str(np.round(np.mean(roman_ra), 3))\n",
    "sde = str(np.round(np.mean(roman_dec), 3))\n",
    "query = \"SELECT coord_ra, coord_dec, \"\\\n",
    "        \"scisql_nanojanskyToAbMag(u_cModelFlux) AS umag, \"\\\n",
    "        \"scisql_nanojanskyToAbMag(g_cModelFlux) AS gmag, \"\\\n",
    "        \"scisql_nanojanskyToAbMag(r_cModelFlux) AS rmag, \"\\\n",
    "        \"scisql_nanojanskyToAbMag(i_cModelFlux) AS imag, \"\\\n",
    "        \"scisql_nanojanskyToAbMag(z_cModelFlux) AS zmag, \"\\\n",
    "        \"scisql_nanojanskyToAbMag(y_cModelFlux) AS ymag, \"\\\n",
    "        \"scisql_nanojanskyToAbMagSigma(u_cModelFlux, u_cModelFluxErr) AS umage, \"\\\n",
    "        \"scisql_nanojanskyToAbMagSigma(g_cModelFlux, g_cModelFluxErr) AS gmage, \"\\\n",
    "        \"scisql_nanojanskyToAbMagSigma(r_cModelFlux, r_cModelFluxErr) AS rmage, \"\\\n",
    "        \"scisql_nanojanskyToAbMagSigma(i_cModelFlux, i_cModelFluxErr) AS image, \"\\\n",
    "        \"scisql_nanojanskyToAbMagSigma(z_cModelFlux, z_cModelFluxErr) AS zmage, \"\\\n",
    "        \"scisql_nanojanskyToAbMagSigma(y_cModelFlux, y_cModelFluxErr) AS ymage \"\\\n",
    "        \"FROM dp02_dc2_catalogs.Object \"\\\n",
    "        \"WHERE CONTAINS(POINT('ICRS', coord_ra, coord_dec), \"\\\n",
    "        \"CIRCLE('ICRS', \"+sra+\", \"+sde+\", 0.08)) = 1 \"\\\n",
    "        \"AND detect_isPrimary = 1\"\n",
    "print(query)\n",
    "del sra, sde"
   ]
  },
  {
   "cell_type": "code",
   "execution_count": null,
   "id": "ef5e0290-6c0f-4d2a-a9fa-731804476c34",
   "metadata": {},
   "outputs": [],
   "source": [
    "job = service.submit_job(query)\n",
    "job.run()\n",
    "job.wait(phases=['COMPLETED', 'ERROR'])\n",
    "print('Job phase is', job.phase)"
   ]
  },
  {
   "cell_type": "code",
   "execution_count": null,
   "id": "320c5cf1-de36-44b1-aa04-cd62ab7e8158",
   "metadata": {},
   "outputs": [],
   "source": [
    "results = job.fetch_result().to_table()\n",
    "print('Number of DP0.2 objects: ', len(results))"
   ]
  },
  {
   "cell_type": "code",
   "execution_count": null,
   "id": "1df41e2f-6da5-431a-9835-76ba7e083fd2",
   "metadata": {},
   "outputs": [],
   "source": [
    "rubin_ra = np.asarray(results['coord_ra'], dtype='float')\n",
    "rubin_dec = np.asarray(results['coord_dec'], dtype='float')\n",
    "rubin_u = np.asarray(results['umag'], dtype='float')\n",
    "rubin_g = np.asarray(results['gmag'], dtype='float')\n",
    "rubin_r = np.asarray(results['rmag'], dtype='float')\n",
    "rubin_i = np.asarray(results['imag'], dtype='float')\n",
    "rubin_z = np.asarray(results['zmag'], dtype='float')\n",
    "rubin_y = np.asarray(results['ymag'], dtype='float')\n",
    "rubin_ue = np.asarray(results['umage'], dtype='float')\n",
    "rubin_ge = np.asarray(results['gmage'], dtype='float')\n",
    "rubin_re = np.asarray(results['rmage'], dtype='float')\n",
    "rubin_ie = np.asarray(results['image'], dtype='float')\n",
    "rubin_ze = np.asarray(results['zmage'], dtype='float')\n",
    "rubin_ye = np.asarray(results['ymage'], dtype='float')"
   ]
  },
  {
   "cell_type": "code",
   "execution_count": null,
   "id": "3792e6b7-fba3-4a4e-9155-ab72ac41e66f",
   "metadata": {},
   "outputs": [],
   "source": [
    "del query, job, results"
   ]
  },
  {
   "cell_type": "markdown",
   "id": "4c8749da-7ed6-4515-813d-585a72d9c5a7",
   "metadata": {},
   "source": [
    "## Cross-match bright objects\n",
    "\n",
    "Only use objects with y-band magnitude between 18 and 20. \n",
    "\n",
    "These are so bright they're likely to be stars."
   ]
  },
  {
   "cell_type": "code",
   "execution_count": null,
   "id": "2ebbf692-4963-4f3c-a33d-842847a51409",
   "metadata": {},
   "outputs": [],
   "source": [
    "ru_x = np.where((rubin_y >= 18.0) & (rubin_y <= 20.0))[0]\n",
    "ro_x = np.where((roman_y >= 18.0) & (roman_y <= 20.0))[0]"
   ]
  },
  {
   "cell_type": "code",
   "execution_count": null,
   "id": "736682a9-6c92-4666-90b7-acef2b1b836f",
   "metadata": {},
   "outputs": [],
   "source": [
    "rubin_coord = SkyCoord(ra=rubin_ra[ru_x]*u.degree, dec=rubin_dec[ru_x]*u.degree, frame='icrs')\n",
    "roman_coord = SkyCoord(ra=roman_ra[ro_x]*u.degree, dec=roman_dec[ro_x]*u.degree, frame='icrs')"
   ]
  },
  {
   "cell_type": "code",
   "execution_count": null,
   "id": "35e276fd-831c-43c7-9662-03dd41f6f8b7",
   "metadata": {},
   "outputs": [],
   "source": [
    "idx, d2d, d3d = match_coordinates_sky(rubin_coord, roman_coord)"
   ]
  },
  {
   "cell_type": "code",
   "execution_count": null,
   "id": "1dd03bfd-1992-4891-9a2d-a152f7028f47",
   "metadata": {},
   "outputs": [],
   "source": [
    "max_off_arcsec = 0.5\n",
    "rubin_rox = np.zeros(len(rubin_y), dtype='int') - 1\n",
    "for i in range(len(ru_x)):\n",
    "    if d2d.arcsec[i] < 0.5:\n",
    "        rubin_rox[ru_x[i]] = ro_x[idx[i]]"
   ]
  },
  {
   "cell_type": "code",
   "execution_count": null,
   "id": "a4fcc00c-5664-48fe-8c36-9d0dd35ab3a1",
   "metadata": {},
   "outputs": [],
   "source": [
    "tx = np.where(rubin_rox >= 0)[0]\n",
    "print('Number of bright Rubin objects with a Roman object within 0.5\": ', len(tx))\n",
    "del tx"
   ]
  },
  {
   "cell_type": "markdown",
   "id": "f1dc2066-8147-44e4-ae66-54450f62a216",
   "metadata": {},
   "source": [
    "### Count number of detection filters\n",
    "\n",
    "Identify y-bright objects that are detected with magnitudes < 25 in all other filters."
   ]
  },
  {
   "cell_type": "code",
   "execution_count": null,
   "id": "787470d2-7bc5-438b-a660-beb6f91a50cd",
   "metadata": {},
   "outputs": [],
   "source": [
    "rubin_nfilt = np.zeros(len(rubin_ra), dtype='int')\n",
    "tx = np.where(rubin_rox[ru_x] >= 0)[0]\n",
    "for x in tx:\n",
    "    count = 0\n",
    "    if rubin_u[ru_x[x]] < 25:\n",
    "        count += 1\n",
    "    if rubin_g[ru_x[x]] < 25:\n",
    "        count += 1\n",
    "    if rubin_r[ru_x[x]] < 25:\n",
    "        count += 1\n",
    "    if rubin_i[ru_x[x]] < 25:\n",
    "        count += 1\n",
    "    if rubin_z[ru_x[x]] < 25:\n",
    "        count += 1\n",
    "    if roman_j[rubin_rox[ru_x[x]]] < 25:\n",
    "        count += 1\n",
    "    if roman_h[rubin_rox[ru_x[x]]] < 25:\n",
    "        count += 1\n",
    "    if roman_f[rubin_rox[ru_x[x]]] < 25:\n",
    "        count += 1\n",
    "    rubin_nfilt[ru_x[x]] = count\n",
    "del tx"
   ]
  },
  {
   "cell_type": "code",
   "execution_count": null,
   "id": "e1482e1f-4455-4ddb-bd6e-29da6e238925",
   "metadata": {},
   "outputs": [],
   "source": [
    "tx = np.where(rubin_nfilt == 8)[0]\n",
    "print('Number of y-bright objects detected in 8 filters: ', len(tx))\n",
    "del tx"
   ]
  },
  {
   "cell_type": "markdown",
   "id": "8267f585-029e-421d-8049-74da053f6a51",
   "metadata": {},
   "source": [
    "## Blackbody fit for one (potential) star\n",
    "\n",
    "> **WARNING** These blackbody fits do not include the effects of\n",
    "> dust or emission lines on the SED.\n",
    "\n",
    "Pick one of the potential stars with detections in all filters to use."
   ]
  },
  {
   "cell_type": "code",
   "execution_count": null,
   "id": "ae79e837-f894-4138-819d-1a9f260c30bf",
   "metadata": {},
   "outputs": [],
   "source": [
    "tx = np.where(rubin_nfilt == 8)[0]\n",
    "my_j = 14\n",
    "my_i = tx[my_j]\n",
    "del tx"
   ]
  },
  {
   "cell_type": "markdown",
   "id": "7454fea1-dcb6-4c73-a9b2-097d25448110",
   "metadata": {},
   "source": [
    "### Define the filters' effective wavelengths\n",
    "\n",
    "https://github.com/lsst/throughputs/blob/main/examples/LSST%20Throughputs%20Curves.ipynb\n",
    "\n",
    "LSST effective wavelength per filter in nanometers."
   ]
  },
  {
   "cell_type": "code",
   "execution_count": null,
   "id": "3cc19e8e-447e-4a14-a178-d58689d5c9c9",
   "metadata": {},
   "outputs": [],
   "source": [
    "lsst_eff_wl = {'u': 370.9,'g': 476.7,'r': 619.4,\n",
    "               'i': 753.9,'z': 866.8,'y': 973.9}"
   ]
  },
  {
   "cell_type": "markdown",
   "id": "acdec975-ffdc-4a76-9cd3-ef8f8f2f02ee",
   "metadata": {},
   "source": [
    "https://roman-docs.stsci.edu/roman-instruments-home/wfi-imaging-mode-user-guide/wfi-design/wfi-optical-elements\n",
    "\n",
    "Roman pivot wavelength per filter in microns."
   ]
  },
  {
   "cell_type": "code",
   "execution_count": null,
   "id": "0302e5f2-5a58-4961-af1c-a93ab5890b88",
   "metadata": {},
   "outputs": [],
   "source": [
    "roman_eff_wl = {'Y106': 1.0567, 'J129': 1.2901,\n",
    "                'H158': 1.5749, 'F184': 1.8394}"
   ]
  },
  {
   "cell_type": "markdown",
   "id": "9d253aa2-c0bb-44fd-8d42-216229e3900f",
   "metadata": {},
   "source": [
    "### Fit LSST filters only"
   ]
  },
  {
   "cell_type": "markdown",
   "id": "2ca8fcd0-00b7-4230-b517-98ffa56a799f",
   "metadata": {},
   "source": [
    "First just plot the photometry."
   ]
  },
  {
   "cell_type": "code",
   "execution_count": null,
   "id": "bfa311fe-69c7-405f-a915-6061b1863363",
   "metadata": {},
   "outputs": [],
   "source": [
    "fig = plt.figure(figsize=(6, 4))\n",
    "plt.plot(lsst_eff_wl['u'], rubin_u[my_i], 'o')\n",
    "plt.plot(lsst_eff_wl['g'], rubin_g[my_i], 'o')\n",
    "plt.plot(lsst_eff_wl['r'], rubin_r[my_i], 'o')\n",
    "plt.plot(lsst_eff_wl['i'], rubin_i[my_i], 'o')\n",
    "plt.plot(lsst_eff_wl['z'], rubin_z[my_i], 'o')\n",
    "plt.plot(lsst_eff_wl['y'], rubin_y[my_i], 'o')\n",
    "plt.plot(roman_eff_wl['Y106']*1000.0, roman_y[rubin_rox[my_i]], 's')\n",
    "plt.plot(roman_eff_wl['J129']*1000.0, roman_j[rubin_rox[my_i]], 's')\n",
    "plt.plot(roman_eff_wl['H158']*1000.0, roman_h[rubin_rox[my_i]], 's')\n",
    "plt.plot(roman_eff_wl['F184']*1000.0, roman_f[rubin_rox[my_i]], 's')\n",
    "plt.xlabel('Filter effective wavelength [nm]')\n",
    "plt.ylabel('Magnitude')\n",
    "plt.gca().invert_yaxis()\n",
    "plt.show()"
   ]
  },
  {
   "cell_type": "markdown",
   "id": "55960cac-760d-43bd-b627-db82f6b4f547",
   "metadata": {},
   "source": [
    "Use `astropy` code to fit a blackbody to the optical fluxes.\n",
    "\n",
    "First create input arrays."
   ]
  },
  {
   "cell_type": "code",
   "execution_count": null,
   "id": "734cc9d1-8fdb-40d1-b55c-b83fae729134",
   "metadata": {},
   "outputs": [],
   "source": [
    "lsst_wls = np.asarray([lsst_eff_wl['u']*10.0, lsst_eff_wl['g']*10.0,\n",
    "                       lsst_eff_wl['r']*10.0, lsst_eff_wl['i']*10.0,\n",
    "                       lsst_eff_wl['z']*10.0, lsst_eff_wl['y']*10.0]) * u.Angstrom\n",
    "lsst_flx = np.asarray([1e-9 * np.power(10, (rubin_u[my_i] - 31.4)/(-2.5)),\n",
    "                       1e-9 * np.power(10, (rubin_g[my_i] - 31.4)/(-2.5)),\n",
    "                       1e-9 * np.power(10, (rubin_r[my_i] - 31.4)/(-2.5)),\n",
    "                       1e-9 * np.power(10, (rubin_i[my_i] - 31.4)/(-2.5)),\n",
    "                       1e-9 * np.power(10, (rubin_z[my_i] - 31.4)/(-2.5)),\n",
    "                       1e-9 * np.power(10, (rubin_y[my_i] - 31.4)/(-2.5))]) * u.Jy"
   ]
  },
  {
   "cell_type": "code",
   "execution_count": null,
   "id": "1d0710ac-eaa3-49f3-9e4e-d850240e7a34",
   "metadata": {},
   "outputs": [],
   "source": [
    "blackbody_model = models.BlackBody(temperature=5000 * u.K)\n",
    "fitter = fitting.LevMarLSQFitter()\n",
    "fit_result = fitter(blackbody_model, lsst_wls, lsst_flx)\n",
    "fit_result"
   ]
  },
  {
   "cell_type": "code",
   "execution_count": null,
   "id": "ea0679dc-e915-4bc6-a90b-23c3d8841e0a",
   "metadata": {},
   "outputs": [],
   "source": [
    "fig = plt.figure(figsize=(6, 4))\n",
    "plt.plot(lsst_wls, lsst_flx, 'o', label='Data')\n",
    "plt.plot(lsst_wls, fit_result(lsst_wls), label='Fit')\n",
    "plt.xlabel('Wavelength (Angstrom)')\n",
    "plt.ylabel('Flux (Jy)')\n",
    "plt.legend()\n",
    "plt.show()"
   ]
  },
  {
   "cell_type": "code",
   "execution_count": null,
   "id": "3b6cee05-c1b4-486f-b30d-542884e3a9f4",
   "metadata": {},
   "outputs": [],
   "source": [
    "del lsst_wls, lsst_flx, blackbody_model, fitter, fit_result"
   ]
  },
  {
   "cell_type": "markdown",
   "id": "00ce42ae-9399-42ee-8971-b9c742da632a",
   "metadata": {},
   "source": [
    "### Fit LSST and Roman filters\n",
    "\n",
    "Use `astropy` code to fit a blackbody to the optical + IR fluxes. Note the temperature is different from the optical-only fit."
   ]
  },
  {
   "cell_type": "code",
   "execution_count": null,
   "id": "1176998b-8dda-479d-9608-db4b8a6f2139",
   "metadata": {},
   "outputs": [],
   "source": [
    "all_wls = np.asarray([lsst_eff_wl['u']*10.0, lsst_eff_wl['g']*10.0,\n",
    "                      lsst_eff_wl['r']*10.0, lsst_eff_wl['i']*10.0,\n",
    "                      lsst_eff_wl['z']*10.0, lsst_eff_wl['y']*10.0,\n",
    "                      roman_eff_wl['Y106']*10000.0, roman_eff_wl['J129']*10000.0,\n",
    "                      roman_eff_wl['H158']*10000.0, roman_eff_wl['F184']*10000.0]) * u.Angstrom\n",
    "all_flx = np.asarray([1e-9 * np.power(10, (rubin_u[my_i] - 31.4)/(-2.5)),\n",
    "                      1e-9 * np.power(10, (rubin_g[my_i] - 31.4)/(-2.5)),\n",
    "                      1e-9 * np.power(10, (rubin_r[my_i] - 31.4)/(-2.5)),\n",
    "                      1e-9 * np.power(10, (rubin_i[my_i] - 31.4)/(-2.5)),\n",
    "                      1e-9 * np.power(10, (rubin_z[my_i] - 31.4)/(-2.5)),\n",
    "                      1e-9 * np.power(10, (rubin_y[my_i] - 31.4)/(-2.5)),\n",
    "                      1e-9 * np.power(10, (roman_y[rubin_rox[my_i]] - 31.4)/(-2.5)),\n",
    "                      1e-9 * np.power(10, (roman_h[rubin_rox[my_i]] - 31.4)/(-2.5)),\n",
    "                      1e-9 * np.power(10, (roman_h[rubin_rox[my_i]] - 31.4)/(-2.5)),\n",
    "                      1e-9 * np.power(10, (roman_f[rubin_rox[my_i]] - 31.4)/(-2.5))]) * u.Jy"
   ]
  },
  {
   "cell_type": "code",
   "execution_count": null,
   "id": "c510fc25-82af-41a3-ab31-2aef85c41ca7",
   "metadata": {},
   "outputs": [],
   "source": [
    "blackbody_model = models.BlackBody(temperature=5000 * u.K)\n",
    "fitter = fitting.LevMarLSQFitter()\n",
    "fit_result = fitter(blackbody_model, all_wls, all_flx)\n",
    "fit_result"
   ]
  },
  {
   "cell_type": "code",
   "execution_count": null,
   "id": "11e30b15-2410-4923-8e41-454b1b7e5175",
   "metadata": {},
   "outputs": [],
   "source": [
    "fig = plt.figure(figsize=(6, 4))\n",
    "plt.plot(all_wls, all_flx, 'o', label='Data')\n",
    "plt.plot(all_wls, fit_result(all_wls), label='Fit')\n",
    "plt.xlabel('Wavelength (Angstrom)')\n",
    "plt.ylabel('Flux (Jy)')\n",
    "plt.legend()\n",
    "plt.show()"
   ]
  },
  {
   "cell_type": "code",
   "execution_count": null,
   "id": "5f9d69e3-384e-43e4-9cbd-f3a647c5399c",
   "metadata": {},
   "outputs": [],
   "source": [
    "del all_wls, all_flx, blackbody_model, fitter, fit_result"
   ]
  },
  {
   "cell_type": "markdown",
   "id": "3feee0aa-24bb-453a-81ab-7318c6aa63a1",
   "metadata": {},
   "source": [
    "## Blackbody fits for all (potential) stars"
   ]
  },
  {
   "cell_type": "code",
   "execution_count": null,
   "id": "c57c7368-5843-4d6a-ae9c-04674e19cd9b",
   "metadata": {},
   "outputs": [],
   "source": [
    "all_wls = np.asarray([lsst_eff_wl['u']*10.0, lsst_eff_wl['g']*10.0,\n",
    "                      lsst_eff_wl['r']*10.0, lsst_eff_wl['i']*10.0,\n",
    "                      lsst_eff_wl['z']*10.0, lsst_eff_wl['y']*10.0,\n",
    "                      roman_eff_wl['Y106']*10000.0, roman_eff_wl['J129']*10000.0,\n",
    "                      roman_eff_wl['H158']*10000.0, roman_eff_wl['F184']*10000.0]) * u.Angstrom\n",
    "lssti = np.asarray([0,1,2,3,4,5], dtype='int')\n",
    "blackbody_model = models.BlackBody(temperature=5000 * u.K)\n",
    "fitter = fitting.LevMarLSQFitter()"
   ]
  },
  {
   "cell_type": "code",
   "execution_count": null,
   "id": "ea8e87cf-760f-456e-8473-51e94639aff1",
   "metadata": {},
   "outputs": [],
   "source": [
    "temp1 = []\n",
    "temp2 = []\n",
    "tx = np.where(rubin_nfilt == 8)[0]\n",
    "for x in tx:\n",
    "    all_flx = np.asarray([1e-9 * np.power(10, (rubin_u[x] - 31.4)/(-2.5)),\n",
    "                          1e-9 * np.power(10, (rubin_g[x] - 31.4)/(-2.5)),\n",
    "                          1e-9 * np.power(10, (rubin_r[x] - 31.4)/(-2.5)),\n",
    "                          1e-9 * np.power(10, (rubin_i[x] - 31.4)/(-2.5)),\n",
    "                          1e-9 * np.power(10, (rubin_z[x] - 31.4)/(-2.5)),\n",
    "                          1e-9 * np.power(10, (rubin_y[x] - 31.4)/(-2.5)),\n",
    "                          1e-9 * np.power(10, (roman_y[rubin_rox[x]] - 31.4)/(-2.5)),\n",
    "                          1e-9 * np.power(10, (roman_h[rubin_rox[x]] - 31.4)/(-2.5)),\n",
    "                          1e-9 * np.power(10, (roman_h[rubin_rox[x]] - 31.4)/(-2.5)),\n",
    "                          1e-9 * np.power(10, (roman_f[rubin_rox[x]] - 31.4)/(-2.5))]) * u.Jy\n",
    "    fit_result1 = fitter(blackbody_model, all_wls[lssti], all_flx[lssti])\n",
    "    temp1.append(fit_result1.temperature.value)\n",
    "    fit_result2 = fitter(blackbody_model, all_wls, all_flx)\n",
    "    temp2.append(fit_result2.temperature.value)\n",
    "    del all_flx, fit_result1, fit_result2\n",
    "del tx"
   ]
  },
  {
   "cell_type": "code",
   "execution_count": null,
   "id": "0dfa5670-4ea4-4ccc-969a-9653024c6be7",
   "metadata": {},
   "outputs": [],
   "source": [
    "temps_opt = np.asarray(temp1, dtype='float')\n",
    "temps_optIR = np.asarray(temp2, dtype='float')\n",
    "del temp1, temp2"
   ]
  },
  {
   "cell_type": "code",
   "execution_count": null,
   "id": "0a8137ec-8301-4441-97f1-f019fa152231",
   "metadata": {},
   "outputs": [],
   "source": [
    "fig = plt.figure(figsize=(6, 4))\n",
    "plt.plot([3000, 6500], [3000, 6500], lw=1, ls='solid', color='lightgrey')\n",
    "plt.plot(temps_opt, temps_optIR, 'o', ms=5, mew=0, alpha=0.8, color='grey')\n",
    "plt.plot(temps_opt[my_j], temps_optIR[my_j], '*', ms=15, mew=0, alpha=1,\n",
    "         color='black', label='the first object fit')\n",
    "plt.xlabel('Optical only fit temperature')\n",
    "plt.ylabel('Optical+IR fit temperature')\n",
    "plt.show()"
   ]
  },
  {
   "cell_type": "markdown",
   "id": "78bc2639-552f-4562-a041-5255f6a7eb76",
   "metadata": {},
   "source": [
    "Above, the black star marks the object for which the SED fits were shown in the section above.\n",
    "\n",
    "### Suggested exercise\n",
    "\n",
    "Go back and use a `my_j` of 0 or 1 to see lower-temperature SED fits."
   ]
  },
  {
   "cell_type": "code",
   "execution_count": null,
   "id": "a880e0ed-2861-496a-b39f-9c648566d050",
   "metadata": {},
   "outputs": [],
   "source": []
  }
 ],
 "metadata": {
  "kernelspec": {
   "display_name": "LSST",
   "language": "python",
   "name": "lsst"
  },
  "language_info": {
   "codemirror_mode": {
    "name": "ipython",
    "version": 3
   },
   "file_extension": ".py",
   "mimetype": "text/x-python",
   "name": "python",
   "nbconvert_exporter": "python",
   "pygments_lexer": "ipython3",
   "version": "3.11.9"
  }
 },
 "nbformat": 4,
 "nbformat_minor": 5
}
