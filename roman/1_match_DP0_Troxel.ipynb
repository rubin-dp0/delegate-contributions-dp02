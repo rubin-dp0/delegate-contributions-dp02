{
 "cells": [
  {
   "cell_type": "markdown",
   "id": "f5a5ec72-78f6-4566-832b-2b5164c7b7ba",
   "metadata": {},
   "source": [
    "# Rubin (DP0) & Roman (Troxel+23) cross-match\n",
    "\n",
    "Author: Melissa Graham\n",
    "\n",
    "Date: Mon Oct 28 2024\n",
    "\n",
    "RSP Image: Weekly 2024_37\n",
    "\n",
    "Goal: Cross-match DP0.2 Objects with the Roman simulation from Troxel et al. (2023).\n",
    "\n",
    "## Introduction\n",
    "\n",
    "The same simulation, DESC's Data Challenge 2 (DC2), is the basis for both\n",
    "the simulated data products of Rubin's Data Preview 0, and the simulated\n",
    "data for Roman Observatory presented in Troxel et al. (2023).\n",
    "\n",
    "Thus, it is possible to cross-match the catalogs and obtain infrared\n",
    "photometry for DP0 Objects.\n",
    "\n",
    "Roman DC2 Simulated Images and Catalogs at IRSA IPAC:<br>\n",
    "https://irsa.ipac.caltech.edu/data/theory/Roman/Troxel2023/overview.html\n",
    "\n",
    "Troxel et al. (2023):<br>\n",
    "https://academic.oup.com/mnras/article/522/2/2801/7076879?login=false\n",
    "\n",
    "## Set up"
   ]
  },
  {
   "cell_type": "code",
   "execution_count": null,
   "id": "09270b75-2116-48e7-97c3-645758fa244c",
   "metadata": {},
   "outputs": [],
   "source": [
    "import os\n",
    "from astropy.io import fits\n",
    "from astropy.coordinates import SkyCoord\n",
    "from astropy.coordinates import match_coordinates_sky\n",
    "import astropy.units as u\n",
    "import numpy as np\n",
    "import matplotlib.pyplot as plt\n",
    "from lsst.rsp import get_tap_service, retrieve_query"
   ]
  },
  {
   "cell_type": "markdown",
   "id": "dfe78354-972f-4f21-ba41-5284b73c9690",
   "metadata": {},
   "source": [
    "Start Rubin TAP service for DP0.2 catalog access."
   ]
  },
  {
   "cell_type": "code",
   "execution_count": null,
   "id": "dfe72599-343a-4c0b-b663-7e0e83f6ab12",
   "metadata": {},
   "outputs": [],
   "source": [
    "service = get_tap_service(\"tap\")"
   ]
  },
  {
   "cell_type": "markdown",
   "id": "68996c10-4b54-4c79-8ad4-7fd1cdbd7090",
   "metadata": {},
   "source": [
    "Use colorblind-friendly colors for the LSST filters."
   ]
  },
  {
   "cell_type": "code",
   "execution_count": null,
   "id": "ca86b5d1-5e87-46eb-8aa6-4cd6f19e0a14",
   "metadata": {},
   "outputs": [],
   "source": [
    "lsst_filt_clrs = {'u': '#0c71ff', 'g': '#49be61', 'r': '#c61c00',\n",
    "                  'i': '#ffc200', 'z': '#f341a2', 'y': '#5d0000'}"
   ]
  },
  {
   "cell_type": "markdown",
   "id": "30185240-88fe-4767-9e84-2f05a45e31d1",
   "metadata": {},
   "source": [
    "Define colors to use for the Roman filters."
   ]
  },
  {
   "cell_type": "code",
   "execution_count": null,
   "id": "38de01f1-1347-4bce-b715-9c6a9217aa64",
   "metadata": {},
   "outputs": [],
   "source": [
    "roman_filt_clrs = {'y': 'limegreen', 'j': 'magenta',\n",
    "                   'h': 'cyan', 'f': 'grey'}"
   ]
  },
  {
   "cell_type": "markdown",
   "id": "e2cd2bdd-2354-4f06-b78e-8b9fcc0cf1bc",
   "metadata": {},
   "source": [
    "## Simulated Roman data\n",
    "\n",
    "The simulated Roman data presented in Troxel et al. (2023) is available as FITS table files.\n",
    "\n",
    "For example: <br>\n",
    "https://irsa.ipac.caltech.edu/data/theory/Roman/Troxel2023/detection/dc2_det_50.93_-38.8.fits.gz\n",
    "\n",
    "Files can be downloaded and unzipped using `wget`, for example:\n",
    "\n",
    "```\n",
    "filename = 'dc2_det_50.93_-38.8.fits'\n",
    "path_and_filename = 'https://irsa.ipac.caltech.edu/data/theory/Roman/Troxel2023/detection/'+filename+'.gz'\n",
    "os.system('wget '+path_and_filename)\n",
    "os.system('gunzip '+filename+'.gz')\n",
    "```\n",
    "\n",
    "### Pick a Troxel file and read it\n",
    "\n",
    "A bunch of unzipped FITS files containing detections in the simulated Roman data from Troxel et al. (2023) \n",
    "have already been downloaded and are available in the RSP's `/project/` directory.\n",
    "\n",
    "The RA, Dec coordinates are in the file name.\n",
    "Get a list of all available files and plot the coordinates."
   ]
  },
  {
   "cell_type": "code",
   "execution_count": null,
   "id": "9a1e19f2-870b-4636-8d0d-97ecda2bc094",
   "metadata": {},
   "outputs": [],
   "source": [
    "os.system('ls /project/melissagraham2/troxel2023/*fits > fitslist.txt')\n",
    "with open('fitslist.txt') as file:\n",
    "    lines = [line.rstrip() for line in file]\n",
    "print('Number of files available: ', len(lines))"
   ]
  },
  {
   "cell_type": "code",
   "execution_count": null,
   "id": "91079bf1-20d3-4d95-a55b-0dbccc69231d",
   "metadata": {},
   "outputs": [],
   "source": [
    "t1 = []\n",
    "t2 = []\n",
    "for line in lines:\n",
    "    fx = line.find('det_')\n",
    "    t1.append(line[fx+4:fx+9])\n",
    "    t2.append(line[fx+10:fx+15])\n",
    "    del fx\n",
    "allra = np.asarray(t1, dtype='float')\n",
    "allde = np.asarray(t2, dtype='float')\n",
    "del t1, t2, lines"
   ]
  },
  {
   "cell_type": "code",
   "execution_count": null,
   "id": "5c26545d-0959-4c70-b3a9-de164579dfb5",
   "metadata": {},
   "outputs": [],
   "source": [
    "fig = plt.figure(figsize=(6, 4))\n",
    "plt.plot(allra, allde, 'o', ms=4)\n",
    "plt.xlabel('RA')\n",
    "plt.ylabel('Dec')\n",
    "plt.title('Already-downloaded Troxel FITS file centers')\n",
    "plt.show()"
   ]
  },
  {
   "cell_type": "markdown",
   "id": "aaf6433b-be77-4033-9b5f-21e0a1838d48",
   "metadata": {},
   "source": [
    "Pick one file to work with in this demo."
   ]
  },
  {
   "cell_type": "code",
   "execution_count": null,
   "id": "93bf05d0-2127-41d2-b3fc-2b1788b57f46",
   "metadata": {},
   "outputs": [],
   "source": [
    "fnm = '/project/melissagraham2/troxel2023/dc2_det_52.21_-40.3.fits'\n",
    "hdul = fits.open(fnm)\n",
    "data = hdul[1].data"
   ]
  },
  {
   "cell_type": "markdown",
   "id": "2dacc242-2aa3-4842-a0f0-78a54a9579d3",
   "metadata": {},
   "source": [
    "Print the column names."
   ]
  },
  {
   "cell_type": "code",
   "execution_count": null,
   "id": "05486cf8-7777-4f74-bc0a-954509c26dd7",
   "metadata": {},
   "outputs": [],
   "source": [
    "data.columns"
   ]
  },
  {
   "cell_type": "markdown",
   "id": "1b2199e4-f59d-4513-9cd9-711c6c33cf37",
   "metadata": {},
   "source": [
    "Store the data in `numpy` arrays."
   ]
  },
  {
   "cell_type": "code",
   "execution_count": null,
   "id": "15377de1-a253-43bb-8530-f103de68c22c",
   "metadata": {},
   "outputs": [],
   "source": [
    "roman_ra = np.asarray(data['alphawin_j2000'], dtype='float')\n",
    "roman_dec = np.asarray(data['deltawin_j2000'], dtype='float')\n",
    "roman_y = np.asarray(data['mag_auto_Y106'], dtype='float')\n",
    "roman_j = np.asarray(data['mag_auto_J129'], dtype='float')\n",
    "roman_h = np.asarray(data['mag_auto_H158'], dtype='float')\n",
    "roman_f = np.asarray(data['mag_auto_F184'], dtype='float')\n",
    "roman_ye = np.asarray(data['magerr_auto_Y106'], dtype='float')\n",
    "roman_je = np.asarray(data['magerr_auto_J129'], dtype='float')\n",
    "roman_he = np.asarray(data['magerr_auto_H158'], dtype='float')\n",
    "roman_fe = np.asarray(data['magerr_auto_F184'], dtype='float')"
   ]
  },
  {
   "cell_type": "markdown",
   "id": "e26d0f9b-20ec-4cf3-978b-4743931a1174",
   "metadata": {},
   "source": [
    "Clean up."
   ]
  },
  {
   "cell_type": "code",
   "execution_count": null,
   "id": "67e36d6b-233e-4718-9a2f-ac7ff3dee91c",
   "metadata": {},
   "outputs": [],
   "source": [
    "del fnm, hdul, data"
   ]
  },
  {
   "cell_type": "markdown",
   "id": "0a40d7e3-f975-43b8-86fa-917ef36ab8f4",
   "metadata": {},
   "source": [
    "## Simulated Rubin data\n",
    "\n",
    "### Get DP0 objects"
   ]
  },
  {
   "cell_type": "code",
   "execution_count": null,
   "id": "ba56c876-103a-4e50-a5fd-4c40e878a947",
   "metadata": {},
   "outputs": [],
   "source": [
    "sra = str(np.round(np.mean(roman_ra), 3))\n",
    "sde = str(np.round(np.mean(roman_dec), 3))\n",
    "query = \"SELECT coord_ra, coord_dec, \"\\\n",
    "        \"scisql_nanojanskyToAbMag(u_cModelFlux) AS umag, \"\\\n",
    "        \"scisql_nanojanskyToAbMag(g_cModelFlux) AS gmag, \"\\\n",
    "        \"scisql_nanojanskyToAbMag(r_cModelFlux) AS rmag, \"\\\n",
    "        \"scisql_nanojanskyToAbMag(i_cModelFlux) AS imag, \"\\\n",
    "        \"scisql_nanojanskyToAbMag(z_cModelFlux) AS zmag, \"\\\n",
    "        \"scisql_nanojanskyToAbMag(y_cModelFlux) AS ymag, \"\\\n",
    "        \"scisql_nanojanskyToAbMagSigma(u_cModelFlux, u_cModelFluxErr) AS umage, \"\\\n",
    "        \"scisql_nanojanskyToAbMagSigma(g_cModelFlux, g_cModelFluxErr) AS gmage, \"\\\n",
    "        \"scisql_nanojanskyToAbMagSigma(r_cModelFlux, r_cModelFluxErr) AS rmage, \"\\\n",
    "        \"scisql_nanojanskyToAbMagSigma(i_cModelFlux, i_cModelFluxErr) AS image, \"\\\n",
    "        \"scisql_nanojanskyToAbMagSigma(z_cModelFlux, z_cModelFluxErr) AS zmage, \"\\\n",
    "        \"scisql_nanojanskyToAbMagSigma(y_cModelFlux, y_cModelFluxErr) AS ymage \"\\\n",
    "        \"FROM dp02_dc2_catalogs.Object \"\\\n",
    "        \"WHERE CONTAINS(POINT('ICRS', coord_ra, coord_dec), \"\\\n",
    "        \"CIRCLE('ICRS', \"+sra+\", \"+sde+\", 0.08)) = 1 \"\\\n",
    "        \"AND detect_isPrimary = 1\"\n",
    "print(query)\n",
    "del sra, sde"
   ]
  },
  {
   "cell_type": "code",
   "execution_count": null,
   "id": "a7462683-9895-416a-87f6-f7f201ace4a4",
   "metadata": {},
   "outputs": [],
   "source": [
    "job = service.submit_job(query)\n",
    "job.run()\n",
    "job.wait(phases=['COMPLETED', 'ERROR'])\n",
    "print('Job phase is', job.phase)"
   ]
  },
  {
   "cell_type": "code",
   "execution_count": null,
   "id": "cd283160-8650-4b4e-80da-1a9ecca91ec6",
   "metadata": {},
   "outputs": [],
   "source": [
    "results = job.fetch_result().to_table()\n",
    "print('Number of DP0.2 objects: ', len(results))"
   ]
  },
  {
   "cell_type": "code",
   "execution_count": null,
   "id": "d92d1879-e4d9-4e35-ac29-f94d06bb55a7",
   "metadata": {},
   "outputs": [],
   "source": [
    "rubin_ra = np.asarray(results['coord_ra'], dtype='float')\n",
    "rubin_dec = np.asarray(results['coord_dec'], dtype='float')\n",
    "rubin_u = np.asarray(results['umag'], dtype='float')\n",
    "rubin_g = np.asarray(results['gmag'], dtype='float')\n",
    "rubin_r = np.asarray(results['rmag'], dtype='float')\n",
    "rubin_i = np.asarray(results['imag'], dtype='float')\n",
    "rubin_z = np.asarray(results['zmag'], dtype='float')\n",
    "rubin_y = np.asarray(results['ymag'], dtype='float')\n",
    "rubin_ue = np.asarray(results['umage'], dtype='float')\n",
    "rubin_ge = np.asarray(results['gmage'], dtype='float')\n",
    "rubin_re = np.asarray(results['rmage'], dtype='float')\n",
    "rubin_ie = np.asarray(results['image'], dtype='float')\n",
    "rubin_ze = np.asarray(results['zmage'], dtype='float')\n",
    "rubin_ye = np.asarray(results['ymage'], dtype='float')"
   ]
  },
  {
   "cell_type": "markdown",
   "id": "15d27597-ec4e-4053-8792-a42881f6f3bd",
   "metadata": {},
   "source": [
    "Clean up."
   ]
  },
  {
   "cell_type": "code",
   "execution_count": null,
   "id": "f773a33f-1abf-44dd-9f42-ac64a03a3eeb",
   "metadata": {},
   "outputs": [],
   "source": [
    "del query, job, results"
   ]
  },
  {
   "cell_type": "markdown",
   "id": "f529a868-24e9-4767-bb39-bbeea215310a",
   "metadata": {},
   "source": [
    "## Visualize the data\n",
    "\n",
    "### Photometry"
   ]
  },
  {
   "cell_type": "code",
   "execution_count": null,
   "id": "aeadfb96-e924-4527-ab60-922d6d8167db",
   "metadata": {},
   "outputs": [],
   "source": [
    "fig = plt.figure(figsize=(6, 4))\n",
    "plt.hist(rubin_u, bins=50, histtype='step', color=lsst_filt_clrs['u'], label='u')\n",
    "plt.hist(rubin_g, bins=50, histtype='step', color=lsst_filt_clrs['g'], label='g')\n",
    "plt.hist(rubin_r, bins=50, histtype='step', color=lsst_filt_clrs['r'], label='r')\n",
    "plt.hist(rubin_i, bins=50, histtype='step', color=lsst_filt_clrs['i'], label='i')\n",
    "plt.hist(rubin_z, bins=50, histtype='step', color=lsst_filt_clrs['z'], label='z')\n",
    "plt.hist(rubin_y, bins=50, histtype='step', color=lsst_filt_clrs['y'], label='y')\n",
    "plt.xlim([18, 30])\n",
    "plt.xlabel('Apparent Magnitude')\n",
    "plt.ylabel('Number of Objects')\n",
    "plt.legend(loc='upper left')\n",
    "plt.title('Rubin DP0 Objects')\n",
    "plt.show()"
   ]
  },
  {
   "cell_type": "code",
   "execution_count": null,
   "id": "b4c005f9-5822-4e49-b291-7771fb3749bb",
   "metadata": {},
   "outputs": [],
   "source": [
    "fig = plt.figure(figsize=(6, 4))\n",
    "yx = np.where(roman_y < 40)[0]\n",
    "jx = np.where(roman_j < 40)[0]\n",
    "hx = np.where(roman_h < 40)[0]\n",
    "fx = np.where(roman_f < 40)[0]\n",
    "plt.hist(roman_y[yx], bins=50, histtype='step', color=roman_filt_clrs['y'], label='Y106')\n",
    "plt.hist(roman_j[jx], bins=50, histtype='step', color=roman_filt_clrs['j'], label='J129')\n",
    "plt.hist(roman_h[hx], bins=50, histtype='step', color=roman_filt_clrs['h'], label='H158')\n",
    "plt.hist(roman_f[fx], bins=50, histtype='step', color=roman_filt_clrs['f'], label='F184')\n",
    "del yx, jx, hx, fx\n",
    "plt.xlim([18, 30])\n",
    "plt.xlabel('Apparent Magnitude')\n",
    "plt.ylabel('Number of Objects')\n",
    "plt.legend(loc='upper left')\n",
    "plt.title('Troxel DC2 Objects')\n",
    "plt.show()"
   ]
  },
  {
   "cell_type": "code",
   "execution_count": null,
   "id": "6611b306-0a4b-4b72-8fe9-68a9bfd01618",
   "metadata": {},
   "outputs": [],
   "source": [
    "fig = plt.figure(figsize=(6, 4))\n",
    "plt.hist(rubin_y, bins=50, histtype='step', color=lsst_filt_clrs['y'], label='LSST y')\n",
    "yx = np.where(roman_y < 40)[0]\n",
    "plt.hist(roman_y[yx], bins=50, histtype='step', color=roman_filt_clrs['y'], label='Roman Y106')\n",
    "del yx\n",
    "plt.xlim([18, 30])\n",
    "plt.xlabel('Apparent Magnitude')\n",
    "plt.ylabel('Number of Objects')\n",
    "plt.legend(loc='upper left')\n",
    "plt.show()"
   ]
  },
  {
   "cell_type": "code",
   "execution_count": null,
   "id": "7dc3fdce-bcb7-4efa-9a64-8ee29efdafa4",
   "metadata": {},
   "outputs": [],
   "source": [
    "fig = plt.figure(figsize=(6, 4))\n",
    "plt.plot(rubin_y, rubin_ye, 'o', ms=2, mew=0, alpha=0.2, color=lsst_filt_clrs['y'])\n",
    "yx = np.where(roman_y < 30)[0]\n",
    "plt.plot(roman_y[yx], roman_ye[yx], 'o', ms=2, mew=0, alpha=0.2, color=roman_filt_clrs['y'])\n",
    "del yx\n",
    "plt.xlim([20, 30])\n",
    "plt.ylim([0.0, 2])\n",
    "plt.xlabel('Apparent Magnitude')\n",
    "plt.ylabel('Magnitude Error')\n",
    "plt.plot(0, 0, 'o', ms=4, mew=0, color=lsst_filt_clrs['y'], label='Rubin y')\n",
    "plt.plot(0, 0, 'o', ms=4, mew=0, color=roman_filt_clrs['y'], label='Roman Y106')\n",
    "plt.legend(loc='upper left')\n",
    "plt.show()"
   ]
  },
  {
   "cell_type": "markdown",
   "id": "fdd7c314-eb86-4783-8c22-6ed06152815a",
   "metadata": {},
   "source": [
    "### Coordinates"
   ]
  },
  {
   "cell_type": "code",
   "execution_count": null,
   "id": "895b50b1-1ec8-4d09-b029-4efe22674961",
   "metadata": {},
   "outputs": [],
   "source": [
    "fig = plt.figure(figsize=(6, 6))\n",
    "plt.plot(rubin_ra, rubin_dec, 'o', ms=3, mew=0, alpha=0.3, color='darkorange', label='Rubin')\n",
    "plt.plot(roman_ra, roman_dec, 'o', ms=3, mew=0, alpha=0.3, color='dodgerblue', label='Roman')\n",
    "plt.xlabel('RA')\n",
    "plt.ylabel('Dec')\n",
    "plt.legend(loc='upper left')\n",
    "plt.show()"
   ]
  },
  {
   "cell_type": "markdown",
   "id": "4057e2cb-228b-4235-81a6-3c8e8c492166",
   "metadata": {},
   "source": [
    "Take a closer look to make sure the coordinates align.\n",
    "\n",
    "Show the size of one arcsecond."
   ]
  },
  {
   "cell_type": "code",
   "execution_count": null,
   "id": "e55b2a7c-9268-4da2-ade5-ec070c17650c",
   "metadata": {},
   "outputs": [],
   "source": [
    "fig = plt.figure(figsize=(4, 4))\n",
    "\n",
    "ru_x = np.where(rubin_y < 25)[0]\n",
    "ro_x = np.where(roman_y < 25)[0]\n",
    "plt.plot(rubin_ra[ru_x], rubin_dec[ru_x], 'o', ms=5, mew=0, alpha=0.3, color='darkorange', label='Rubin ('+str(len(ru_x))+')')\n",
    "plt.plot(roman_ra[ro_x], roman_dec[ro_x], 'o', ms=3, mew=0, alpha=0.8, color='dodgerblue', label='Roman ('+str(len(ro_x))+')')\n",
    "del ru_x, ro_x\n",
    "\n",
    "tra = 52.2225\n",
    "tde = -40.3325\n",
    "ts = 0.5/3600.0\n",
    "plt.plot([tra-ts, tra+ts], [tde, tde], lw=1, ls='solid', color='black')\n",
    "plt.plot([tra, tra], [tde-ts, tde+ts], lw=1, ls='solid', color='black')\n",
    "plt.text(tra + 2.0*ts, tde, '1\"')\n",
    "del tra, tde, ts\n",
    "\n",
    "cra = 52.215\n",
    "cde = -40.325\n",
    "cw = 0.01\n",
    "plt.xlim([cra-cw, cra+cw])\n",
    "plt.ylim([cde-cw, cde+cw])\n",
    "del cra, cde, cw\n",
    "\n",
    "plt.xlabel('RA')\n",
    "plt.ylabel('Dec')\n",
    "plt.title('Zoom in, bright objects only')\n",
    "plt.legend(loc='upper left')\n",
    "plt.show()"
   ]
  },
  {
   "cell_type": "markdown",
   "id": "925afcea-585b-48ac-a71c-c78e4ffdf7b2",
   "metadata": {},
   "source": [
    "Yes, it appears object coordinates match to within an arcsecond."
   ]
  },
  {
   "cell_type": "markdown",
   "id": "26030e66-abb7-4e65-8f3e-948ddc8c979b",
   "metadata": {},
   "source": [
    "## Cross match\n",
    "\n",
    "### Down-select to bright objects\n",
    "\n",
    "As the Roman surveys will be deeper, there are many more objects detected.\n",
    "\n",
    "As this is simply a demo of how to cross-match, restrict the tables to objects brighter than 25th magnitude in the y-band.\n",
    "\n",
    "In reality, such restrictions would be driven by scientific use case."
   ]
  },
  {
   "cell_type": "code",
   "execution_count": null,
   "id": "845ca579-d3ce-488e-be5e-75e7adf0dfba",
   "metadata": {},
   "outputs": [],
   "source": [
    "print('Number of objects:')\n",
    "print('Rubin: ', len(rubin_y))\n",
    "print('Roman: ', len(roman_y))\n",
    "print(' ')\n",
    "\n",
    "print('Number of objects with y <= 25 mag:')\n",
    "ru_x = np.where(rubin_y <= 25.0)[0]\n",
    "ro_x = np.where(roman_y <= 25.0)[0]\n",
    "print('Rubin: ', len(ru_x))\n",
    "print('Roman: ', len(ro_x))"
   ]
  },
  {
   "cell_type": "markdown",
   "id": "ce58bebc-fc62-4d03-91d2-5149ceb9371e",
   "metadata": {},
   "source": [
    "### Use astropy to match coordinates\n",
    "\n",
    "Create arrays of `astropy` `SkyCoord` to facilitate cross-match."
   ]
  },
  {
   "cell_type": "code",
   "execution_count": null,
   "id": "304dcc29-b66e-4aca-b015-738795f90e09",
   "metadata": {},
   "outputs": [],
   "source": [
    "rubin_coord = SkyCoord(ra=rubin_ra[ru_x]*u.degree, dec=rubin_dec[ru_x]*u.degree, frame='icrs')\n",
    "roman_coord = SkyCoord(ra=roman_ra[ro_x]*u.degree, dec=roman_dec[ro_x]*u.degree, frame='icrs')"
   ]
  },
  {
   "cell_type": "markdown",
   "id": "9e7e77fe-93c8-4636-ac2a-17da1fc5ef90",
   "metadata": {},
   "source": [
    "Use `match_coordinaets_sky`.\n",
    "\n",
    "https://docs.astropy.org/en/latest/api/astropy.coordinates.match_coordinates_sky.html"
   ]
  },
  {
   "cell_type": "code",
   "execution_count": null,
   "id": "a611e494-25f4-4914-bd9c-52a733155b8d",
   "metadata": {},
   "outputs": [],
   "source": [
    "idx, d2d, d3d = match_coordinates_sky(rubin_coord, roman_coord)"
   ]
  },
  {
   "cell_type": "markdown",
   "id": "59ab3452-4df2-457d-8b2b-4700df1e0111",
   "metadata": {},
   "source": [
    "Plot 2d offsets"
   ]
  },
  {
   "cell_type": "code",
   "execution_count": null,
   "id": "53a5ef93-e947-4a71-8602-8c6f6e13734f",
   "metadata": {},
   "outputs": [],
   "source": [
    "fig = plt.figure(figsize=(4, 3))\n",
    "tx = np.where(d2d.arcsec < 5.0)[0]\n",
    "plt.hist(d2d.arcsec[tx], bins=100, log=True)\n",
    "del tx\n",
    "plt.xlabel('Offset in arcsec')\n",
    "plt.ylabel('Number of matched objects')\n",
    "plt.title('Where 2d distance is <5 arcsec')\n",
    "plt.show()"
   ]
  },
  {
   "cell_type": "markdown",
   "id": "d466c746-e36b-4473-9560-07a5774bc603",
   "metadata": {},
   "source": [
    "Based on above, 0.5\" appears to be a good cut-off to declare a cross-match.\n",
    "\n",
    "This approximation is ok for this demo, which does not explore purity or\n",
    "completeness, or do any kind of probabilistic assessment.\n",
    "But many science goals would require a more rigorous consideration."
   ]
  },
  {
   "cell_type": "code",
   "execution_count": null,
   "id": "dfbbdede-28c2-4460-aa90-c4f7d1a3b0c9",
   "metadata": {},
   "outputs": [],
   "source": [
    "max_off_arcsec = 0.5"
   ]
  },
  {
   "cell_type": "markdown",
   "id": "9fcf70fc-ea93-49e1-92a4-9ad9a581b8aa",
   "metadata": {},
   "source": [
    "Create an array to hold the index of the Roman object that has been cross-matched for each Rubin object.\n",
    "\n",
    "Set a default value of -1 to represent Rubin objects without a Roman object association (or that are faint and were never considered for cross-match in the first place)."
   ]
  },
  {
   "cell_type": "code",
   "execution_count": null,
   "id": "c019ba4d-1153-414f-9c3a-8d2464a718c0",
   "metadata": {},
   "outputs": [],
   "source": [
    "rubin_rox = np.zeros(len(rubin_y), dtype='int') - 1"
   ]
  },
  {
   "cell_type": "markdown",
   "id": "a85eede8-f020-4a22-a6ec-41915265ba08",
   "metadata": {},
   "source": [
    "Store the index of the cross-matched Roman object for each Rubin object in `rubin_rox`."
   ]
  },
  {
   "cell_type": "code",
   "execution_count": null,
   "id": "286d25b1-691a-4a4a-8b40-8e1f2579ced2",
   "metadata": {},
   "outputs": [],
   "source": [
    "for i in range(len(ru_x)):\n",
    "    if d2d.arcsec[i] < 0.5:\n",
    "        rubin_rox[ru_x[i]] = ro_x[idx[i]]"
   ]
  },
  {
   "cell_type": "code",
   "execution_count": null,
   "id": "6e893fa6-8d70-4ab7-9d2c-ee4b451474fd",
   "metadata": {},
   "outputs": [],
   "source": [
    "tx = np.where(rubin_rox >= 0)[0]\n",
    "print('Number of bright Rubin objects with a Roman object within 0.5\": ', len(tx))\n",
    "del tx"
   ]
  },
  {
   "cell_type": "markdown",
   "id": "cbb36ba8-a846-4a26-9a3f-35c1068cc2b1",
   "metadata": {},
   "source": [
    "## Visualize cross-matched objects\n",
    "\n",
    "### Compare y-band magnitudes"
   ]
  },
  {
   "cell_type": "code",
   "execution_count": null,
   "id": "3d6b73ed-de69-40c0-a372-76e8eda0ca66",
   "metadata": {},
   "outputs": [],
   "source": [
    "fig = plt.figure(figsize=(6, 4))\n",
    "tx = np.where(rubin_rox[ru_x] >= 0)[0]\n",
    "plt.plot(rubin_y[ru_x[tx]], roman_y[rubin_rox[ru_x[tx]]], 'o', ms=3, mew=0, color='grey')\n",
    "del tx\n",
    "plt.plot([18, 25], [18, 25], lw=1, ls='solid', color='lightgrey')\n",
    "plt.xlim([18, 25])\n",
    "plt.ylim([18, 25])\n",
    "plt.xlabel('Rubin')\n",
    "plt.ylabel('Roman')\n",
    "plt.title('Compare y-band Magnitudes')\n",
    "plt.show()"
   ]
  },
  {
   "cell_type": "markdown",
   "id": "cff7b6ff-ef6e-471f-a702-c4aaa131287a",
   "metadata": {},
   "source": [
    "### Optical/IR color-color diagram"
   ]
  },
  {
   "cell_type": "code",
   "execution_count": null,
   "id": "3e0fd417-bdff-4088-bbdf-d394bc5e8b45",
   "metadata": {},
   "outputs": [],
   "source": [
    "fig = plt.figure(figsize=(6, 4))\n",
    "tx = np.where(rubin_rox[ru_x] >= 0)[0]\n",
    "plt.plot(rubin_z[ru_x[tx]]-rubin_y[ru_x[tx]], \n",
    "         roman_j[rubin_rox[ru_x[tx]]]-roman_h[rubin_rox[ru_x[tx]]],\n",
    "         'o', ms=3, mew=0, alpha=0.3, color='grey', label='all')\n",
    "del tx\n",
    "tx = np.where((rubin_rox[ru_x] >= 0) &\n",
    "              (rubin_y[ru_x] > 18) &\n",
    "              (rubin_y[ru_x] < 20))[0]\n",
    "plt.plot(rubin_z[ru_x[tx]]-rubin_y[ru_x[tx]], \n",
    "         roman_j[rubin_rox[ru_x[tx]]]-roman_h[rubin_rox[ru_x[tx]]],\n",
    "         '*', ms=5, mew=0, alpha=0.8, color='black', label='18 < y < 20 mag')\n",
    "del tx\n",
    "plt.xlim([-0.8, 1.2])\n",
    "plt.ylim([-0.4, 0.6])\n",
    "plt.xlabel('Rubin z-y Color')\n",
    "plt.ylabel('Roman J-H Color')\n",
    "plt.title('Optical/IR Color-Color Diagram')\n",
    "plt.legend(loc='upper left')\n",
    "plt.show()"
   ]
  },
  {
   "cell_type": "markdown",
   "id": "ea0b0023-c3bb-4ba0-b610-8d5b0f50f7f2",
   "metadata": {},
   "source": [
    "Above, structure in the color-color diagram can be seen for the brighter objects, which are probably stars."
   ]
  },
  {
   "cell_type": "code",
   "execution_count": null,
   "id": "22284408-b52b-4e34-965b-dade05f48cd6",
   "metadata": {},
   "outputs": [],
   "source": []
  },
  {
   "cell_type": "code",
   "execution_count": null,
   "id": "a8f6e549-359f-4013-9b7e-4230a553c554",
   "metadata": {},
   "outputs": [],
   "source": []
  }
 ],
 "metadata": {
  "kernelspec": {
   "display_name": "LSST",
   "language": "python",
   "name": "lsst"
  },
  "language_info": {
   "codemirror_mode": {
    "name": "ipython",
    "version": 3
   },
   "file_extension": ".py",
   "mimetype": "text/x-python",
   "name": "python",
   "nbconvert_exporter": "python",
   "pygments_lexer": "ipython3",
   "version": "3.11.9"
  }
 },
 "nbformat": 4,
 "nbformat_minor": 5
}
