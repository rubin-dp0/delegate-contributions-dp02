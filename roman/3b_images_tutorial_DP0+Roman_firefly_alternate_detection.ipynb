{
 "cells": [
  {
   "cell_type": "markdown",
   "id": "73176e5e-1912-4769-939b-b6aaf57b4006",
   "metadata": {},
   "source": [
    "# Rubin (DP0) & Roman (Troxel+23) images - alternate.\n",
    "\n",
    "Contact: Melissa Graham, Andrés A. Plazas Malagón\n",
    "\n",
    "**Based on a tutorial by Chien-Hao Lin.** \n",
    "\n",
    "**This tutorial is similar to the \"3_images_tutorial_DP0+Roman.ipynb\" tutorial in this directory, except it uses Firefly for image display and incorporates steps from the DP0.2 [\"NB05 Source Detection and Measurement\"](https://dp0-2.lsst.io/_static/nb_html/DP02_05_Source_Detection_and_Measurement.html) tutorial for image processing of the Roman simulations.**\n",
    "\n",
    "Date: Mon Nov 14 2024\n",
    "\n",
    "RSP Image: Weekly 2024_42\n",
    "\n",
    "Goal: Recreate Chien-Hao's notebook and use Roman images to help with deblending Rubin images.\n",
    "\n",
    "## Introduction\n",
    "\n",
    "Space-based images have much higher resolution.\n",
    "Stars and galaxies that are very close together or even overlapping (blended) due to chance\n",
    "alignments along the line-of-sight can be better distinguished in higher resolution images.\n",
    "So can actual galaxy mergers in close physical proximity, though this is less common.\n",
    "\n",
    "It is possible to use the locations of physically distinct objects (deblended objects)\n",
    "from higher resolution images to make more accurate photometry measurements.\n",
    "In cases where the higher and lower resolution images are obtained in the same filters,\n",
    "and with similar depths, it makes sense just to use the higher resolution images alone.\n",
    "\n",
    "However, Rubin will obtain data in optical filters and Roman in infrared filters.\n",
    "In this case, using the higher-resolution infrared images to determine the number and\n",
    "location of distinct objects, and then make photometric measurements in Rubin's\n",
    "optical-range images, can improve the optical photometric measurements.\n",
    "\n",
    "Roman DC2 Simulated Images and Catalogs at IRSA IPAC:<br>\n",
    "https://irsa.ipac.caltech.edu/data/theory/Roman/Troxel2023/overview.html\n",
    "\n",
    "Troxel et al. (2023):<br>\n",
    "https://academic.oup.com/mnras/article/522/2/2801/7076879?login=false\n",
    "\n",
    "## Set up"
   ]
  },
  {
   "cell_type": "code",
   "execution_count": null,
   "id": "f828784b-7a14-4dda-aab4-72a4c618128d",
   "metadata": {},
   "outputs": [],
   "source": [
    "import numpy as np\n",
    "\n",
    "import lsst.geom\n",
    "import lsst.afw.image as afwImage\n",
    "import lsst.afw.display as afwDisplay\n",
    "from lsst.daf.butler import Butler as dafButler\n",
    "\n",
    "import lsst.daf.base as dafBase\n",
    "from lsst.pipe.tasks.characterizeImage import CharacterizeImageTask\n",
    "from lsst.meas.algorithms.detection import SourceDetectionTask\n",
    "from lsst.meas.deblender import SourceDeblendTask\n",
    "from lsst.meas.base import SingleFrameMeasurementTask\n",
    "import lsst.afw.table as afwTable\n",
    "\n",
    "import lsst.meas.algorithms as measAlg\n",
    "import lsst.afw.math as afwMath\n",
    "import lsst.afw.image as afwImage"
   ]
  },
  {
   "cell_type": "markdown",
   "id": "ff25f866-fd94-4604-aee6-2e12cadf07f6",
   "metadata": {},
   "source": [
    "Set the display backed to be Firefly."
   ]
  },
  {
   "cell_type": "code",
   "execution_count": null,
   "id": "0ae70064-9770-4dd5-a49f-20f28e9c850e",
   "metadata": {},
   "outputs": [],
   "source": [
    "afwDisplay.setDefaultBackend('firefly')"
   ]
  },
  {
   "cell_type": "markdown",
   "id": "e81ff194-c248-47de-80a7-5e04a30fdd59",
   "metadata": {},
   "source": [
    "Instantiate the butler."
   ]
  },
  {
   "cell_type": "code",
   "execution_count": null,
   "id": "9df61d90-0082-4729-95a5-b3defd9a8d32",
   "metadata": {},
   "outputs": [],
   "source": [
    "butler = dafButler('dp02', collections='2.2i/runs/DP0.2')"
   ]
  },
  {
   "cell_type": "markdown",
   "id": "99a64a7b-4763-4fcd-8133-4218ee801ffe",
   "metadata": {},
   "source": [
    "Define `ra` and `dec`, the central coordinates of interest.\n",
    "\n",
    "Define the scale, in arcseconds per pixel, of Rubin and Roman images.\n",
    "\n",
    "Define the stamp size to use when visualizing the images (i.e., the cutout size), in Rubin pixels; then use `stampsize / scale_ratio` as the extent when visualizing Roman images."
   ]
  },
  {
   "cell_type": "code",
   "execution_count": null,
   "id": "82b5adf6-9c9f-4418-92cc-7a8e546e4daf",
   "metadata": {},
   "outputs": [],
   "source": [
    "ra, dec = 54.28, -38.30\n",
    "rubin_scale = 0.2\n",
    "roman_scale = 0.0575\n",
    "stampsize = 150\n",
    "scale_ratio = rubin_scale/roman_scale"
   ]
  },
  {
   "cell_type": "markdown",
   "id": "0e8bfca6-dcdf-482b-880f-d01101701dd2",
   "metadata": {},
   "source": [
    "Convert the coordinates to type `SpherePoint`."
   ]
  },
  {
   "cell_type": "code",
   "execution_count": null,
   "id": "b3d90440-acff-4ee7-b63b-9866eb0f860a",
   "metadata": {},
   "outputs": [],
   "source": [
    "radec = lsst.geom.SpherePoint(ra, dec, lsst.geom.degrees)"
   ]
  },
  {
   "cell_type": "markdown",
   "id": "aae1d8a8-c1ff-4e31-891c-a106049ff917",
   "metadata": {},
   "source": [
    "For Rubin images: identify Rubin DP0.2 butler tract and patch for the desired coordinates."
   ]
  },
  {
   "cell_type": "code",
   "execution_count": null,
   "id": "a9a6c2c2-0c5a-4289-b5b1-766600886e90",
   "metadata": {},
   "outputs": [],
   "source": [
    "skymap = butler.get('skyMap')\n",
    "tract = skymap.findTract(radec).tract_id\n",
    "patch = skymap.findTract(radec).findPatch(radec).getSequentialIndex()\n",
    "print(tract, patch)"
   ]
  },
  {
   "cell_type": "markdown",
   "id": "978266fd-165d-41d1-84f0-39c2f0d26c1a",
   "metadata": {},
   "source": [
    "For Roman image and Point Spread Function (PSF) files: four filters for one patch of deeply coadded Roman images have been stored in the shared space in the `/project` directory."
   ]
  },
  {
   "cell_type": "code",
   "execution_count": null,
   "id": "c8b72657-05c7-4816-8223-05ca24280d22",
   "metadata": {},
   "outputs": [],
   "source": [
    "ro_img_path = '/project/melissagraham2/troxel2023/'\n",
    "ro_img_fnms = {\n",
    "    'Y106': 'dc2_Y106_54.24_-38.3.fits',\n",
    "    'J129': 'dc2_J129_54.24_-38.3.fits',\n",
    "    'H158': 'dc2_H158_54.24_-38.3.fits',\n",
    "    'F184': 'dc2_F184_54.24_-38.3.fits'\n",
    "}\n",
    "\n",
    "\n",
    "ro_psf_path = '/project/plazas/troxel2023/psf/coadd/'\n",
    "ro_psf_fnms = {\n",
    "    'Y106': 'dc2_Y106_54.24_-38.3_psf.fits',\n",
    "    'J129': 'dc2_J129_54.24_-38.3_psf.fits',\n",
    "    'H158': 'dc2_H158_54.24_-38.3_psf.fits',\n",
    "    'F184': 'dc2_F184_54.24_-38.3_psf.fits'\n",
    "}"
   ]
  },
  {
   "cell_type": "markdown",
   "id": "4bd17689-7bf5-413e-a19e-8c626f11195a",
   "metadata": {},
   "source": [
    "## Visualize images\n",
    "\n",
    "### Rubin images\n",
    "\n",
    "For each filter, retrieve the `deepCoadd` patch and display the cutout in Firefly frames 1 through 6."
   ]
  },
  {
   "cell_type": "code",
   "execution_count": null,
   "id": "9789ff1c-67f5-4fae-825b-03dfdb3d9cf1",
   "metadata": {
    "editable": true,
    "slideshow": {
     "slide_type": ""
    },
    "tags": []
   },
   "outputs": [],
   "source": [
    "lsst_bands = ['u', 'g', 'r', 'i', 'z', 'y']\n",
    "for i in range(6):\n",
    "    print(i+1, lsst_bands[i])\n",
    "    afw_display = afwDisplay.Display(frame=i+1)\n",
    "    dataId = {'tract': tract, 'patch': patch, 'band': lsst_bands[i]}\n",
    "    image = butler.get('deepCoadd', dataId=dataId)\n",
    "    size = stampsize\n",
    "    extent = lsst.geom.ExtentI(size, size)\n",
    "    cutout = image.getCutout(radec, extent)\n",
    "    afw_display.mtv(cutout)\n",
    "    afw_display.setMaskTransparency(100)\n",
    "    del dataId, image, size, extent, cutout"
   ]
  },
  {
   "cell_type": "markdown",
   "id": "2d4d9bc5-39f5-4ff0-9bfc-9087ac2608ea",
   "metadata": {
    "editable": true,
    "slideshow": {
     "slide_type": ""
    },
    "tags": []
   },
   "source": [
    "### Roman images\n",
    "\n",
    "Load and display a small cutout from each of the four images in Firefly frames 7 through 10.\n",
    "\n",
    "> **Warnings:** Below, the warnings about unreadable mask extensions can be disregarded for the purposes of this tutorial, but generally when using the LSST Science Pipelines with non-Rubin data, all warnings should be followed up and third-party data sets might need to be reformatted to work properly.\n",
    "In this case the images have four extensions: SCI, WHT, CTX, ERR.\n",
    "But the `readFits` function expects MASK and IMAGE extensions."
   ]
  },
  {
   "cell_type": "code",
   "execution_count": null,
   "id": "4b03f732-2aea-40c3-9c56-5ad064a228e4",
   "metadata": {},
   "outputs": [],
   "source": [
    "roman_bands = ['Y106', 'J129', 'H158', 'F184']\n",
    "for i, band in enumerate(roman_bands):\n",
    "    afw_display = afwDisplay.Display(frame=i+7)\n",
    "    fnm = ro_img_path + ro_img_fnms[band]\n",
    "    print(i+7, fnm)\n",
    "    image = afwImage.ExposureF.readFits(fnm)\n",
    "    size = stampsize * scale_ratio\n",
    "    extent = lsst.geom.ExtentI(size, size)\n",
    "    cutout = image.getCutout(radec, extent)\n",
    "    afw_display.mtv(cutout)\n",
    "    del fnm, image, size, extent, cutout"
   ]
  },
  {
   "cell_type": "markdown",
   "id": "982a6cc8-a399-4c22-ac5e-5e2e4d7f060f",
   "metadata": {
    "editable": true,
    "slideshow": {
     "slide_type": ""
    },
    "tags": []
   },
   "source": [
    "### Clean up the Firefly window\n",
    "\n",
    "Close each panel by clicking on the 'X' in the upper right corner until the display again says \"Firefly Ready\" and \"Awaiting Python API Commands\"."
   ]
  },
  {
   "cell_type": "markdown",
   "id": "15d8d66e-fb8d-4866-b1f2-e8f0811a4ab6",
   "metadata": {},
   "source": [
    "## Visualize detected sources\n",
    "\n",
    "### Rubin\n",
    "\n",
    "Source detection has already been run on the Rubin DP0 images.\n",
    "\n",
    "The threshold is 5-sigma.\n",
    "\n",
    "Display the r-band image cutout and overplot detected sources."
   ]
  },
  {
   "cell_type": "code",
   "execution_count": null,
   "id": "7b77a6c5-1406-49d8-b678-6f886da5e529",
   "metadata": {},
   "outputs": [],
   "source": [
    "dataId = {'tract': tract, 'patch': patch, 'band': 'r'}"
   ]
  },
  {
   "cell_type": "code",
   "execution_count": null,
   "id": "3ff9ef73-9c7b-4502-bfb9-9cf8fac9030c",
   "metadata": {},
   "outputs": [],
   "source": [
    "objects = butler.get('objectTable', dataId=dataId)"
   ]
  },
  {
   "cell_type": "code",
   "execution_count": null,
   "id": "d50ce51c-c455-40a9-9c01-072f7309bde3",
   "metadata": {},
   "outputs": [],
   "source": [
    "# objects"
   ]
  },
  {
   "cell_type": "markdown",
   "id": "7060e9fb-cde3-4bff-94e7-0b3da1a9b29d",
   "metadata": {},
   "source": [
    "Extract coordinate data into `numpy` arrays."
   ]
  },
  {
   "cell_type": "code",
   "execution_count": null,
   "id": "fcebe2c0-b410-4308-9b47-b1ffe95cb948",
   "metadata": {},
   "outputs": [],
   "source": [
    "ra_vals = np.asarray(objects['coord_ra'], dtype='float')\n",
    "dec_vals = np.asarray(objects['coord_dec'], dtype='float')\n",
    "x_vals = np.asarray(objects['x'], dtype='float')\n",
    "y_vals = np.asarray(objects['y'], dtype='float')"
   ]
  },
  {
   "cell_type": "markdown",
   "id": "dfb8a628-2700-404b-9791-d68b1fa0f593",
   "metadata": {},
   "source": [
    "Display the r-band cutout."
   ]
  },
  {
   "cell_type": "code",
   "execution_count": null,
   "id": "aa33cf7d-cc82-420f-864f-e2b801b8e9cc",
   "metadata": {},
   "outputs": [],
   "source": [
    "afw_display = afwDisplay.Display(frame=1)\n",
    "image = butler.get('deepCoadd', dataId=dataId)\n",
    "size = stampsize\n",
    "extent = lsst.geom.ExtentI(size, size)\n",
    "cutout = image.getCutout(radec, extent)\n",
    "afw_display.mtv(cutout)\n",
    "afw_display.setMaskTransparency(100)"
   ]
  },
  {
   "cell_type": "markdown",
   "id": "1d76c5f0-b3b3-4eaf-b456-7c128f13cea8",
   "metadata": {},
   "source": [
    "Mark detected objects with orange circles.\n",
    "\n",
    "The stampsize of 150 x 150 pixels is 30 x 30 arcsec, or about 0.008 x 0.008 degrees.\n",
    "Only plot objects thata re in the cutout."
   ]
  },
  {
   "cell_type": "code",
   "execution_count": null,
   "id": "519c93d4-678f-49c6-84ab-c8a9a4aa2905",
   "metadata": {},
   "outputs": [],
   "source": [
    "tx = np.where((ra_vals > ra - 0.01) &\n",
    "              (ra_vals < ra + 0.01) &\n",
    "              (dec_vals > dec - 0.01) &\n",
    "              (dec_vals < dec + 0.01))[0]\n",
    "print(len(tx))"
   ]
  },
  {
   "cell_type": "code",
   "execution_count": null,
   "id": "de0c5b6c-d1c4-4e6c-8218-6635289b8b91",
   "metadata": {},
   "outputs": [],
   "source": [
    "with afw_display.Buffering():\n",
    "    for x in tx:\n",
    "        afw_display.dot('o', x_vals[x], y_vals[x],\n",
    "                        size=5, ctype='orange')"
   ]
  },
  {
   "cell_type": "markdown",
   "id": "98d71571-dc44-44d5-b985-d107e941bae5",
   "metadata": {},
   "source": [
    "Clean up."
   ]
  },
  {
   "cell_type": "code",
   "execution_count": null,
   "id": "656da226-bcba-4fca-b69e-d18569a81648",
   "metadata": {},
   "outputs": [],
   "source": [
    "del ra_vals, dec_vals, x_vals, y_vals\n",
    "del tx\n",
    "del dataId, image, size, extent, cutout"
   ]
  },
  {
   "cell_type": "markdown",
   "id": "19dea0f1-66a5-4777-9a1f-19e94cce8fe5",
   "metadata": {
    "editable": true,
    "slideshow": {
     "slide_type": ""
    },
    "tags": []
   },
   "source": [
    "### Roman\n"
   ]
  },
  {
   "cell_type": "markdown",
   "id": "3107867d-19c5-4b20-837f-cc87f67ecc25",
   "metadata": {},
   "source": [
    "#### Use DP0.2 tutorial [\"NB05 Source Detection and Measurement\"](https://dp0-2.lsst.io/_static/nb_html/DP02_05_Source_Detection_and_Measurement.html) as a guide\n",
    "Start by setting up the configurations for each task."
   ]
  },
  {
   "cell_type": "code",
   "execution_count": null,
   "id": "966d459a-188a-4582-8ede-5c26a5475e42",
   "metadata": {},
   "outputs": [],
   "source": [
    "config_characterize = CharacterizeImageTask.ConfigClass()\n",
    "config_characterize.psfIterations = 2\n",
    "\n",
    "config_detection = SourceDetectionTask.ConfigClass()\n",
    "config_detection.thresholdValue = 5\n",
    "config_detection.thresholdType = \"stdev\"\n",
    "\n",
    "config_deblend = SourceDeblendTask.ConfigClass()\n",
    "config_deblend.propagateAllPeaks = True\n",
    "config_deblend.maskPlanes=[]\n",
    "\n",
    "config_measure = SingleFrameMeasurementTask.ConfigClass() "
   ]
  },
  {
   "cell_type": "markdown",
   "id": "66a2d450-2f28-45e0-b8fd-544c324ae21b",
   "metadata": {},
   "source": [
    "Define a minimal schema and add a few extra fields to avoind warnings."
   ]
  },
  {
   "cell_type": "code",
   "execution_count": null,
   "id": "eba35a5c-1918-4c79-a012-daba1ea7d92d",
   "metadata": {},
   "outputs": [],
   "source": [
    "schema = afwTable.SourceTable.makeMinimalSchema()\n",
    "raerr = schema.addField(\"coord_raErr\", type=\"F\")\n",
    "decerr = schema.addField(\"coord_decErr\", type=\"F\")\n",
    "\n",
    "algMetadata = dafBase.PropertyList()"
   ]
  },
  {
   "cell_type": "markdown",
   "id": "8f817909-2684-4178-be35-a844b133b54d",
   "metadata": {},
   "source": [
    "Define the image processing tasks. "
   ]
  },
  {
   "cell_type": "code",
   "execution_count": null,
   "id": "4093c002-0945-46c2-b8b4-f5c861ecf6ae",
   "metadata": {},
   "outputs": [],
   "source": [
    "detectionTask = SourceDetectionTask(schema=schema, config=config_detection)\n",
    "deblendTask = SourceDeblendTask(schema=schema, config=config_deblend)\n",
    "measureTask = SingleFrameMeasurementTask(schema=schema,\n",
    "                                         config=config_measure,\n",
    "                                         algMetadata=algMetadata)"
   ]
  },
  {
   "cell_type": "markdown",
   "id": "5ec27004-e03b-4a7a-a3ac-e8ecfe002b49",
   "metadata": {},
   "source": [
    "Get the Roman image and PSF."
   ]
  },
  {
   "cell_type": "code",
   "execution_count": null,
   "id": "ee65988c-aa99-427f-ab48-8847554fcb6b",
   "metadata": {},
   "outputs": [],
   "source": [
    "fnm = ro_img_path + ro_img_fnms['H158']\n",
    "fnm_psf = ro_psf_path + ro_psf_fnms['H158']\n",
    "print(fnm)\n",
    "print (fnm_psf)"
   ]
  },
  {
   "cell_type": "markdown",
   "id": "df5d4508-b82b-487e-9a3b-d2bdf87fd9e4",
   "metadata": {},
   "source": [
    "Set the PSF in the full image, and make a cutout."
   ]
  },
  {
   "cell_type": "code",
   "execution_count": null,
   "id": "04ee7eed-85a4-416a-8579-22c1cd9cc254",
   "metadata": {},
   "outputs": [],
   "source": [
    "image = afwImage.ExposureF.readFits(fnm)\n",
    "psf = measAlg.KernelPsf(afwMath.FixedKernel(afwImage.ImageD(fnm_psf)))\n",
    "\n",
    "image.setPsf(psf)\n",
    "\n",
    "size = stampsize * scale_ratio\n",
    "extent = lsst.geom.ExtentI(size, size)\n",
    "cutout = image.getCutout(radec, extent)"
   ]
  },
  {
   "cell_type": "code",
   "execution_count": null,
   "id": "c89a09ed-6101-4fe7-baea-ec1db636301c",
   "metadata": {},
   "outputs": [],
   "source": [
    "tab = afwTable.SourceTable.make(schema)"
   ]
  },
  {
   "cell_type": "markdown",
   "id": "b2dc31b7-2321-4674-8002-c1bb9c529494",
   "metadata": {},
   "source": [
    "Run the detection, deblensing, and measurement tasks."
   ]
  },
  {
   "cell_type": "code",
   "execution_count": null,
   "id": "53ea22c8-b6a5-4143-853b-d956bea13ad9",
   "metadata": {},
   "outputs": [],
   "source": [
    "result = detectionTask.run(tab, cutout)"
   ]
  },
  {
   "cell_type": "code",
   "execution_count": null,
   "id": "1735bf2e-71b6-4d95-935d-36a06682b4e2",
   "metadata": {},
   "outputs": [],
   "source": [
    "result.numPosPeaks"
   ]
  },
  {
   "cell_type": "code",
   "execution_count": null,
   "id": "0802892d-8772-4eb0-9348-5665eed97a15",
   "metadata": {},
   "outputs": [],
   "source": [
    "sources = result.sources"
   ]
  },
  {
   "cell_type": "code",
   "execution_count": null,
   "id": "c2d38b1e-274d-4726-8fa2-7252b8508f00",
   "metadata": {},
   "outputs": [],
   "source": [
    "# sources"
   ]
  },
  {
   "cell_type": "code",
   "execution_count": null,
   "id": "4256f785-d856-42f4-b761-0aac089ab946",
   "metadata": {},
   "outputs": [],
   "source": [
    "deblendTask.run(cutout, sources)"
   ]
  },
  {
   "cell_type": "code",
   "execution_count": null,
   "id": "43e29055-6352-4f15-ab53-1e00d4ac7b2b",
   "metadata": {},
   "outputs": [],
   "source": [
    "measureTask.run(measCat=sources, exposure=cutout)"
   ]
  },
  {
   "cell_type": "code",
   "execution_count": null,
   "id": "932a867a-4c9a-4bf4-a227-095ab19af1a2",
   "metadata": {},
   "outputs": [],
   "source": [
    "sources = sources.copy(True)"
   ]
  },
  {
   "cell_type": "markdown",
   "id": "f71beced-0bea-4fd2-9028-a718aa730c0f",
   "metadata": {},
   "source": [
    "Display the Roman H158-band cutout in frame 2."
   ]
  },
  {
   "cell_type": "code",
   "execution_count": null,
   "id": "3d1c5ec0-134b-4a58-9496-2e1463a2206e",
   "metadata": {},
   "outputs": [],
   "source": [
    "afw_display = afwDisplay.Display(frame=2)\n",
    "afw_display.mtv(cutout)\n",
    "afw_display.setMaskTransparency(100)"
   ]
  },
  {
   "cell_type": "markdown",
   "id": "5c42df01-d798-481c-833f-f7206314e4d1",
   "metadata": {
    "editable": true,
    "slideshow": {
     "slide_type": ""
    },
    "tags": []
   },
   "source": [
    "Overplot detected sources.\n"
   ]
  },
  {
   "cell_type": "code",
   "execution_count": null,
   "id": "81000225-e686-4f10-8075-63967add2c55",
   "metadata": {},
   "outputs": [],
   "source": [
    "x_vals = np.asarray(sources.getX(), dtype='float')\n",
    "y_vals = np.asarray(sources.getY(), dtype='float')"
   ]
  },
  {
   "cell_type": "code",
   "execution_count": null,
   "id": "d9533f41-8c61-4d5d-bba4-a6f5ebb9f440",
   "metadata": {},
   "outputs": [],
   "source": [
    "with afw_display.Buffering():\n",
    "    for i in np.arange(len(x_vals)):\n",
    "        afw_display.dot('o', x_vals[i], y_vals[i],\n",
    "                        size=20, ctype='orange')"
   ]
  },
  {
   "cell_type": "markdown",
   "id": "cba75d04-b0bd-4e9d-aae3-a6ab8fd639d6",
   "metadata": {
    "editable": true,
    "slideshow": {
     "slide_type": ""
    },
    "tags": []
   },
   "source": [
    "Clean up."
   ]
  },
  {
   "cell_type": "code",
   "execution_count": null,
   "id": "b480f0a2-2adb-4997-ba12-3b93b5298d9c",
   "metadata": {},
   "outputs": [],
   "source": [
    "del x_vals, y_vals\n",
    "del fnm, image, size, cutout, extent\n",
    "del tab, result, sources"
   ]
  },
  {
   "cell_type": "code",
   "execution_count": null,
   "id": "5166ee49-172a-4e35-8c17-1dae54ae0ec7",
   "metadata": {},
   "outputs": [],
   "source": [
    "del config_detection, config_deblend, config_measure\n",
    "del algMetadata, schema\n",
    "del detectionTask, deblendTask, measureTask"
   ]
  },
  {
   "cell_type": "code",
   "execution_count": null,
   "id": "581e6761-86e3-4f01-861f-2b10984b3fce",
   "metadata": {},
   "outputs": [],
   "source": []
  }
 ],
 "metadata": {
  "kernelspec": {
   "display_name": "LSST",
   "language": "python",
   "name": "lsst"
  },
  "language_info": {
   "codemirror_mode": {
    "name": "ipython",
    "version": 3
   },
   "file_extension": ".py",
   "mimetype": "text/x-python",
   "name": "python",
   "nbconvert_exporter": "python",
   "pygments_lexer": "ipython3",
   "version": "3.11.9"
  }
 },
 "nbformat": 4,
 "nbformat_minor": 5
}
