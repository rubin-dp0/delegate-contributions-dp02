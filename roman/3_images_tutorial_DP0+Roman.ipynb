{
 "cells": [
  {
   "cell_type": "markdown",
   "id": "1df46f49-4f30-478d-b682-ce0ea4199dc8",
   "metadata": {},
   "source": [
    "# Rubin (DP0) & Roman (Troxel+23) images\n",
    "\n",
    "Contact: Melissa Graham\n",
    "\n",
    "**Based on a tutorial by Chien-Hao Lin.**\n",
    "\n",
    "Date: Mon Nov 14 2024\n",
    "\n",
    "RSP Image: Weekly 2024_42\n",
    "\n",
    "Goal: Interact with the Rubin & Roman simulated images and perform a uniform image processing task (object detection/deblending/measurement) on both. This demonstrates how the space images can help with deblending.\n",
    "\n",
    "## Introduction\n",
    "\n",
    "Space-based images have much higher resolution.\n",
    "Stars and galaxies that are very close together or even overlapping (blended) due to chance\n",
    "alignments along the line-of-sight can be better distinguished in higher resolution images.\n",
    "So can actual galaxy mergers in close physical proximity, though this is less common.\n",
    "\n",
    "It is possible to use the locations of physically distinct objects (deblended objects)\n",
    "from higher resolution images to make more accurate photometry measurements.\n",
    "In cases where the higher and lower resolution images are obtained in the same filters,\n",
    "and with similar depths, it makes sense just to use the higher resolution images alone.\n",
    "\n",
    "However, Rubin will obtain data in optical filters and Roman in infrared filters.\n",
    "In this case, using the higher-resolution infrared images to determine the number and\n",
    "location of distinct objects, and then make photometric measurements in Rubin's\n",
    "optical-range images, can improve the optical photometric measurements.\n",
    "\n",
    "Roman DC2 Simulated Images and Catalogs at IRSA IPAC:<br>\n",
    "https://irsa.ipac.caltech.edu/data/theory/Roman/Troxel2023/overview.html\n",
    "\n",
    "Troxel et al. (2023):<br>\n",
    "https://academic.oup.com/mnras/article/522/2/2801/7076879?login=false\n",
    "\n",
    "## Set up"
   ]
  },
  {
   "cell_type": "code",
   "execution_count": null,
   "id": "8371adfa-fdd6-4763-974f-bb5e6979d009",
   "metadata": {
    "tags": []
   },
   "outputs": [],
   "source": [
    "import os\n",
    "import warnings\n",
    "warnings.filterwarnings('ignore')\n",
    "import pickle\n",
    "import numpy as np\n",
    "import galsim\n",
    "import importlib\n",
    "import matplotlib.pyplot as plt\n",
    "from matplotlib.patches import Ellipse, Circle\n",
    "from matplotlib.collections import PatchCollection\n",
    "%matplotlib inline\n",
    "%config InlineBackend.figure_formats = ['svg']\n",
    "import lsst.geom\n",
    "import astropy.units as u\n",
    "from astropy.wcs import WCS\n",
    "import lsst.meas.algorithms as measAlg\n",
    "import lsst.afw.math as afwMath\n",
    "import lsst.afw.geom as afwGeom\n",
    "import lsst.afw.detection as afwDet\n",
    "import lsst.afw.table as afwTable\n",
    "import lsst.afw.image as afwImage\n",
    "from lsst.meas.algorithms.detection import SourceDetectionTask\n",
    "from lsst.meas.deblender import SourceDeblendTask\n",
    "from lsst.meas.base import SingleFrameMeasurementTask\n",
    "from lsst.daf.butler import Butler as dafButler"
   ]
  },
  {
   "cell_type": "code",
   "execution_count": null,
   "id": "72810a0f-12c7-44fd-b99f-a5dfd0498925",
   "metadata": {
    "tags": []
   },
   "outputs": [],
   "source": [
    "from astropy.visualization import MinMaxInterval, PercentileInterval, ZScaleInterval, simple_norm\n",
    "def plot(im_, interval='zscale', stretch='linear', title=None, fn=None, xlabel=None, ylabel=None, colorbar=True, cmap='jet', dpi=300, show=False, **kwargs):\n",
    "    if isinstance(im_, galsim.Image):\n",
    "        im_ = im_.array\n",
    "    \n",
    "    if interval=='zscale':\n",
    "        interval_ = ZScaleInterval()\n",
    "    if interval=='minmax':\n",
    "        interval_ = MinMaxInterval()\n",
    "    if interval=='percentile':\n",
    "        interval_ = PercentileInterval()\n",
    "        \n",
    "    vmin, vmax = interval_.get_limits(im_)\n",
    "    norm = simple_norm(im_, stretch=stretch, min_cut=vmin, max_cut=vmax)\n",
    "    f = plt.imshow(im_, norm=norm, origin='lower', cmap=cmap,  **kwargs)\n",
    "    cb = plt.colorbar()\n",
    "    \n",
    "    if not colorbar:\n",
    "        cb.remove()\n",
    "    \n",
    "    if xlabel is not None:\n",
    "        plt.xlabel(xlabel)\n",
    "    if ylabel is not None:\n",
    "        plt.ylabel(ylabel)\n",
    "    if title is not None:\n",
    "        plt.title(title)\n",
    "    if fn is not None:\n",
    "        plt.savefig(fn, dpi=dpi)\n",
    "    if show:\n",
    "        plt.show()\n",
    "\n",
    "    return f"
   ]
  },
  {
   "cell_type": "markdown",
   "id": "83bf41ff-a182-4ff3-b871-3c19efebd2c0",
   "metadata": {},
   "source": [
    "initiate butler for Rubin images"
   ]
  },
  {
   "cell_type": "code",
   "execution_count": null,
   "id": "8e894613-82c1-48cb-a74d-4fc47b3a4341",
   "metadata": {},
   "outputs": [],
   "source": [
    "butler = dafButler('dp02', collections='2.2i/runs/DP0.2')"
   ]
  },
  {
   "cell_type": "markdown",
   "id": "303c8f31-15d2-4a3a-922e-b10385ca3667",
   "metadata": {},
   "source": [
    "setting up path. For Roman images: four filters for one patch of deeply coadded Roman images have been stored in the shared space in the /project directory."
   ]
  },
  {
   "cell_type": "code",
   "execution_count": null,
   "id": "a92e818f-5e8c-4608-9c06-29f1ce62fc8f",
   "metadata": {
    "tags": []
   },
   "outputs": [],
   "source": [
    "lsst_bands = ['r', 'i', 'z', 'y', 'g', 'u']\n",
    "roman_bands = ['Y106', 'J129', 'H158', 'F184']\n",
    "roman_bands_i = [ band[0] for band in roman_bands]\n",
    "roman_fn_dict = {band: '/project/melissagraham2/troxel2023/dc2_%s_54.24_-38.3.fits'%band for band in roman_bands}\n",
    "roman_fn_psf_dict = {band: '/project/plazas/troxel2023/psf/coadd/dc2_%s_54.24_-38.3_psf.fits'%band for band in roman_bands}"
   ]
  },
  {
   "cell_type": "markdown",
   "id": "b8f4eb22-120b-46c0-870b-1e629e695053",
   "metadata": {},
   "source": [
    "Define `ra` and `dec`, the central coordinates of interest.\n",
    "\n",
    "Define the scale, in arcseconds per pixel, of Rubin and Roman images.\n",
    "\n",
    "Define the stamp size to use when visualizing the images (i.e., the cutout size), in Rubin pixels; then use `stampsize / scale_ratio` as the extent when visualizing Roman images."
   ]
  },
  {
   "cell_type": "code",
   "execution_count": null,
   "id": "2bb75046-d3d2-437c-ac4c-329ba5360ef8",
   "metadata": {},
   "outputs": [],
   "source": [
    "ra, dec = 54.28, -38.30 #center\n",
    "rubin_scale = 0.2\n",
    "roman_scale = 0.0575\n",
    "stampsize = 150\n",
    "scale_ratio = rubin_scale/roman_scale"
   ]
  },
  {
   "cell_type": "markdown",
   "id": "2f591175-544d-40ef-9b01-ce50f7642730",
   "metadata": {},
   "source": [
    "## Rubin image\n",
    "Define a function to retrive the `deepCoadd` patch id and return the cutout"
   ]
  },
  {
   "cell_type": "code",
   "execution_count": null,
   "id": "fb10582b-d043-4e53-8988-58b4e2f17055",
   "metadata": {
    "tags": []
   },
   "outputs": [],
   "source": [
    "def get_rubin_img(ra, dec, butler, butlerDataset, size, band):\n",
    "    skymap = butler.get('skyMap')\n",
    "    radec =  lsst.geom.SpherePoint(ra, dec, lsst.geom.degrees)\n",
    "    tract = skymap.findTract(radec).tract_id\n",
    "    patch = skymap.findTract(radec).findPatch(radec).getSequentialIndex()\n",
    "    dataId = {\"tract\": tract, \"patch\": patch, \"band\": band}\n",
    "    \n",
    "    full_patch = butler.get(butlerDataset, dataId=dataId)\n",
    "    cutout_extent = lsst.geom.ExtentI(size, size)\n",
    "    exp = full_patch.getCutout(radec, cutout_extent)\n",
    "    return exp"
   ]
  },
  {
   "cell_type": "code",
   "execution_count": null,
   "id": "9dfea232-c79b-4541-9fd0-53d450e8d72f",
   "metadata": {
    "tags": []
   },
   "outputs": [],
   "source": [
    "imageDict_rubin = {band[0]:get_rubin_img(ra, dec, butler, 'deepCoadd', size=stampsize, band=band) for band in lsst_bands}"
   ]
  },
  {
   "cell_type": "markdown",
   "id": "4008628b-d94a-4d0d-b573-68d1c1c31b83",
   "metadata": {},
   "source": [
    "Display the rubin images in 6 bands"
   ]
  },
  {
   "cell_type": "code",
   "execution_count": null,
   "id": "f0075cea-0f0e-4782-99d6-2c66cf6f8ed1",
   "metadata": {
    "tags": []
   },
   "outputs": [],
   "source": [
    "for band, img in imageDict_rubin.items():\n",
    "    bbox = img.getBBox()\n",
    "    extent = (bbox.getBeginX(),bbox.getEndX(),bbox.getBeginY(),bbox.getEndY())\n",
    "    fig, ax = plt.subplots(figsize=(8,8), dpi=300)\n",
    "    plot(img.getMaskedImage().getImage().array, cmap='gray', colorbar=False, extent=extent, title=band)"
   ]
  },
  {
   "cell_type": "markdown",
   "id": "9d0f2afd-da2e-4767-b52b-6ad29f3caa19",
   "metadata": {},
   "source": [
    "## Roman image\n",
    "\n",
    "Load and display a small cutout from each of the four roman bands.\n",
    "\n",
    "> **Warnings:** Below, the warnings about unreadable mask extensions can be disregarded for the purposes of this tutorial, but generally when using the LSST Science Pipelines with non-Rubin data, all warnings should be followed up and third-party data sets might need to be reformatted to work properly.\n",
    "In this case the images have four extensions: SCI, WHT, CTX, ERR.\n",
    "But the `readFits` function expects MASK and IMAGE extensions."
   ]
  },
  {
   "cell_type": "code",
   "execution_count": null,
   "id": "e6727e69-4939-465a-840b-c3cee603798b",
   "metadata": {
    "tags": []
   },
   "outputs": [],
   "source": [
    "def get_roman_image(ra, dec, fn_img, size, fn_psf):\n",
    "    radec = lsst.geom.SpherePoint(ra, dec, lsst.geom.degrees)\n",
    "    full_patch = lsst.afw.image.ExposureF.readFits(fn_img)\n",
    "    if fn_psf:\n",
    "        psf = measAlg.KernelPsf(afwMath.FixedKernel(afwImage.ImageD(fn_psf)))\n",
    "        full_patch.setPsf(psf)\n",
    "    cutout_extent = lsst.geom.ExtentI(size, size)\n",
    "    cutout_extent = lsst.geom.ExtentI(size, size)\n",
    "    exp = full_patch.getCutout(radec, cutout_extent)\n",
    "    return exp"
   ]
  },
  {
   "cell_type": "code",
   "execution_count": null,
   "id": "e9c81068-1d9b-4ab6-be84-460f4cb824f8",
   "metadata": {
    "tags": []
   },
   "outputs": [],
   "source": [
    "imageDict_roman = {band[0]:get_roman_image(ra, dec, fn_img=roman_fn_dict[band], fn_psf=roman_fn_psf_dict[band], size=stampsize*scale_ratio) for band in roman_bands}"
   ]
  },
  {
   "cell_type": "code",
   "execution_count": null,
   "id": "6354ed70-e02a-4ff2-987d-6cf812cd04b5",
   "metadata": {
    "tags": []
   },
   "outputs": [],
   "source": [
    "for band, img in imageDict_roman.items():\n",
    "    bbox = img.getBBox()\n",
    "    extent = (bbox.getBeginX(),bbox.getEndX(),bbox.getBeginY(),bbox.getEndY())\n",
    "    fig, ax = plt.subplots(figsize=(8,8), dpi=300)\n",
    "    plot(img.getMaskedImage().getImage().array, cmap='gray', colorbar=False, extent=extent, title=band)"
   ]
  },
  {
   "cell_type": "markdown",
   "id": "2f5a89fd-8454-4c64-b9b7-850c1eeeea4a",
   "metadata": {},
   "source": [
    "## Image processing\n",
    "\n",
    "Create a single-band image processing task that works with both rubin and roman images. This includes object detection, single band deblender, and source measurement. "
   ]
  },
  {
   "cell_type": "markdown",
   "id": "af4ccd1c-bfcb-4791-aa11-4a40df35accc",
   "metadata": {},
   "source": [
    "Let's start by setting up the configuration."
   ]
  },
  {
   "cell_type": "code",
   "execution_count": null,
   "id": "94047564-5dbd-422c-8850-15f037b16880",
   "metadata": {
    "tags": []
   },
   "outputs": [],
   "source": [
    "config_detection = SourceDetectionTask.ConfigClass()\n",
    "config_detection.thresholdValue = 5\n",
    "config_detection.thresholdType = \"stdev\"\n",
    "config_deblend = SourceDeblendTask.ConfigClass()\n",
    "config_meas = SingleFrameMeasurementTask.ConfigClass() \n",
    "config_deblend.propagateAllPeaks = True\n",
    "config_deblend.maskPlanes=[]"
   ]
  },
  {
   "cell_type": "markdown",
   "id": "8e016541-4e13-4141-92c3-65dcef7434a0",
   "metadata": {},
   "source": [
    "Define the schema."
   ]
  },
  {
   "cell_type": "code",
   "execution_count": null,
   "id": "1839fc6d-bbb1-4997-bdec-beec473008dd",
   "metadata": {},
   "outputs": [],
   "source": [
    "schema = afwTable.SourceTable.makeMinimalSchema()\n",
    "raerr = schema.addField(\"coord_raErr\", type=\"F\")\n",
    "decerr = schema.addField(\"coord_decErr\", type=\"F\")"
   ]
  },
  {
   "cell_type": "markdown",
   "id": "9efc0a88-00ea-4183-acfc-b13e07db287e",
   "metadata": {},
   "source": [
    "Define the image processing task."
   ]
  },
  {
   "cell_type": "code",
   "execution_count": null,
   "id": "8401f70b-a4f1-4d71-809b-5dea0cca28ec",
   "metadata": {},
   "outputs": [],
   "source": [
    "detectionTask = SourceDetectionTask(schema=schema, config=config_detection)\n",
    "sourceDeblendTask = SourceDeblendTask(schema=schema, config=config_deblend)\n",
    "measureTask = SingleFrameMeasurementTask(schema=schema, config=config_meas)"
   ]
  },
  {
   "cell_type": "markdown",
   "id": "7068044a-4a7e-48f5-bd74-100eaf26076a",
   "metadata": {},
   "source": [
    "Run the processing task on rubin `r` band image. The outputs are in `detections` and `sources`.\n",
    "\n",
    "\n",
    "`detections`: peaks and footprint of the detected sources\n",
    "\n",
    "`sources`: source catalog that includes source info and measurement results as defined in the schema."
   ]
  },
  {
   "cell_type": "code",
   "execution_count": null,
   "id": "17eda84c-08df-4da6-927b-946a3abb8272",
   "metadata": {
    "tags": []
   },
   "outputs": [],
   "source": [
    "exp_r = imageDict_rubin['r']\n",
    "tab_r = afwTable.SourceTable.make(schema)\n",
    "detections_r = detectionTask.run(tab_r, exp_r, doSmooth=True, sigma=None)\n",
    "sources_r = detections_r.sources\n",
    "sourceDeblendTask.run(exp_r, sources_r)\n",
    "measureTask.measure(sources_r, exp_r)"
   ]
  },
  {
   "cell_type": "markdown",
   "id": "46f96a33-659b-4da9-8660-a948c357dee9",
   "metadata": {},
   "source": [
    "Run the processing task on roman `H` band image."
   ]
  },
  {
   "cell_type": "code",
   "execution_count": null,
   "id": "d18dc472-c0c7-4bdd-94b0-f8234ca2119b",
   "metadata": {},
   "outputs": [],
   "source": [
    "exp_H = imageDict_roman['H']\n",
    "tab_H = afwTable.SourceTable.make(schema)\n",
    "detections_H = detectionTask.run(tab_H, exp_H, doSmooth=True, sigma=None)\n",
    "sources_H = detections_H.sources\n",
    "sourceDeblendTask.run(exp_H, sources_H)\n",
    "measureTask.measure(sources_H, exp_H)"
   ]
  },
  {
   "cell_type": "markdown",
   "id": "986f64af-9b34-4fd6-8a9f-4ec419871bc5",
   "metadata": {},
   "source": [
    "## plot sources and peaks"
   ]
  },
  {
   "cell_type": "code",
   "execution_count": null,
   "id": "17923c22-5450-4e02-b1be-f6a82f976ec6",
   "metadata": {
    "tags": []
   },
   "outputs": [],
   "source": [
    "#define bbox and figure\n",
    "bbox = exp_r.getBBox()\n",
    "extent = (bbox.getBeginX(),bbox.getEndX(),bbox.getBeginY(),bbox.getEndY())\n",
    "fig, ax = plt.subplots(figsize=(8,8), dpi=300)\n",
    "\n",
    "#draw the raw img\n",
    "plot(exp_r.getMaskedImage().getImage().array, cmap='gray', colorbar=False, extent=extent, title='r')\n",
    "\n",
    "#draw peaks\n",
    "px=[]\n",
    "py=[]\n",
    "for sr in sources_r: #iterate over the sources and get peak info\n",
    "    fp = sr.getFootprint()\n",
    "    for pp in fp.getPeaks():\n",
    "        px.append(pp.getFx())\n",
    "        py.append(pp.getFy())\n",
    "plt.scatter(px, py, c='#142c8c', marker='+', linewidths=0.8)  \n",
    "\n",
    "\n",
    "#draw ellipses with measurement results\n",
    "#sources['deblend_nChild']==0  -> all the children of blends + isolated object = all peaks \n",
    "flag = (sources_r['deblend_nChild']>0) | sources_r['base_PixelFlags_flag']\n",
    "sources = sources_r[~flag]\n",
    "x = sources['base_SdssCentroid_x']\n",
    "y = sources['base_SdssCentroid_y']\n",
    "axes = [ afwGeom.ellipses.Axes(s.getShape())  for s in sources] \n",
    "\n",
    "size_scale = 1.0/rubin_scale\n",
    "ellipses = [Ellipse( (x[i], y[i]), \n",
    "                    width  =axes[i].getA()*size_scale,\n",
    "                    height =axes[i].getB()*size_scale, \n",
    "                    angle  =np.rad2deg(axes[i].getTheta() ) ) for i in range(len(x))]\n",
    "collection = PatchCollection(ellipses, edgecolor='r', facecolor='None')\n",
    "ax.add_collection(collection)\n",
    "\n",
    "plt.tight_layout()\n",
    "plt.show()\n"
   ]
  },
  {
   "cell_type": "code",
   "execution_count": null,
   "id": "2aaca37b-bd47-4f87-9d8d-93b572ba7293",
   "metadata": {
    "tags": []
   },
   "outputs": [],
   "source": [
    "#define bbox and figure\n",
    "bbox = exp_H.getBBox()\n",
    "extent = (bbox.getBeginX(),bbox.getEndX(),bbox.getBeginY(),bbox.getEndY())\n",
    "fig, ax = plt.subplots(figsize=(8,8), dpi=300)\n",
    "\n",
    "#draw img\n",
    "plot(exp_H.getMaskedImage().getImage().array, cmap='gray', colorbar=False, extent=extent, title='H')\n",
    "\n",
    "#draw peaks\n",
    "px=[]\n",
    "py=[]\n",
    "for sr in sources_H: #iterate over the sources and get peak info\n",
    "    fp = sr.getFootprint()\n",
    "    for pp in fp.getPeaks():\n",
    "        px.append(pp.getFx())\n",
    "        py.append(pp.getFy())\n",
    "plt.scatter(px, py, c='#142c8c', marker='+', linewidths=0.8)  \n",
    "\n",
    "\n",
    "#draw ellipses with measurement results\n",
    "#sources['deblend_nChild']==0  -> all the children of blends + isolated object = all peaks \n",
    "flag = (sources_H['deblend_nChild']>0) | sources_H['base_PixelFlags_flag']\n",
    "sources = sources_H[~flag]\n",
    "x = sources['base_SdssCentroid_x']\n",
    "y = sources['base_SdssCentroid_y']\n",
    "\n",
    "axes = [ afwGeom.ellipses.Axes(s.getShape())  for s in sources]\n",
    "\n",
    "size_scale = 0.5/roman_scale\n",
    "ellipses = [Ellipse( (x[i], y[i]), \n",
    "                    width  =axes[i].getA()*size_scale,\n",
    "                    height =axes[i].getB()*size_scale, \n",
    "                    angle  =np.rad2deg(axes[i].getTheta() ) ) for i in range(len(x))]\n",
    "collection = PatchCollection(ellipses, edgecolor='r', facecolor='None')\n",
    "ax.add_collection(collection)\n",
    "\n",
    "plt.tight_layout()\n",
    "plt.show()"
   ]
  },
  {
   "cell_type": "code",
   "execution_count": null,
   "id": "b5efe770-a665-4b30-b4f0-8c54c179f090",
   "metadata": {},
   "outputs": [],
   "source": []
  }
 ],
 "metadata": {
  "kernelspec": {
   "display_name": "LSST",
   "language": "python",
   "name": "lsst"
  },
  "language_info": {
   "codemirror_mode": {
    "name": "ipython",
    "version": 3
   },
   "file_extension": ".py",
   "mimetype": "text/x-python",
   "name": "python",
   "nbconvert_exporter": "python",
   "pygments_lexer": "ipython3",
   "version": "3.11.9"
  }
 },
 "nbformat": 4,
 "nbformat_minor": 5
}
