{
 "cells": [
  {
   "cell_type": "markdown",
   "id": "73176e5e-1912-4769-939b-b6aaf57b4006",
   "metadata": {},
   "source": [
    "# Rubin (DP0) & Roman (Troxel+23) images\n",
    "\n",
    "Contact: Melissa Graham, Andrés A. Plazas Malagón\n",
    "\n",
    "**Based on a tutorial by Chien-Hao Lin.**\n",
    "\n",
    "Date: Mon Nov 11 2024\n",
    "\n",
    "RSP Image: Weekly 2024_42\n",
    "\n",
    "Goal: Recreate Chien-Hao's notebook and use Roman images to help with deblending Rubin images.\n",
    "\n",
    "## Introduction\n",
    "\n",
    "Space-based images have much higher resolution.\n",
    "Stars and galaxies that are very close together or even overlapping (blended) due to chance\n",
    "alignments along the line-of-sight can be better distinguished in higher resolution images.\n",
    "So can actual galaxy mergers in close physical proximity, though this is less common.\n",
    "\n",
    "It is possible to use the locations of physically distinct objects (deblended objects)\n",
    "from higher resolution images to make more accurate photometry measurements.\n",
    "In cases where the higher and lower resolution images are obtained in the same filters,\n",
    "and with similar depths, it makes sense just to use the higher resolution images alone.\n",
    "\n",
    "However, Rubin will obtain data in optical filters and Roman in infrared filters.\n",
    "In this case, using the higher-resolution infrared images to determine the number and\n",
    "location of distinct objects, and then make photometric measurements in Rubin's\n",
    "optical-range images, can improve the optical photometric measurements.\n",
    "\n",
    "Roman DC2 Simulated Images and Catalogs at IRSA IPAC:<br>\n",
    "https://irsa.ipac.caltech.edu/data/theory/Roman/Troxel2023/overview.html\n",
    "\n",
    "Troxel et al. (2023):<br>\n",
    "https://academic.oup.com/mnras/article/522/2/2801/7076879?login=false\n",
    "\n",
    "## Set up"
   ]
  },
  {
   "cell_type": "code",
   "execution_count": 59,
   "id": "f828784b-7a14-4dda-aab4-72a4c618128d",
   "metadata": {
    "execution": {
     "iopub.execute_input": "2024-11-14T17:54:43.369532Z",
     "iopub.status.busy": "2024-11-14T17:54:43.368582Z",
     "iopub.status.idle": "2024-11-14T17:54:43.376160Z",
     "shell.execute_reply": "2024-11-14T17:54:43.375327Z",
     "shell.execute_reply.started": "2024-11-14T17:54:43.369495Z"
    }
   },
   "outputs": [],
   "source": [
    "import numpy as np\n",
    "\n",
    "import lsst.geom\n",
    "import lsst.afw.image as afwImage\n",
    "import lsst.afw.display as afwDisplay\n",
    "from lsst.daf.butler import Butler as dafButler\n",
    "\n",
    "import lsst.daf.base as dafBase\n",
    "from lsst.pipe.tasks.characterizeImage import CharacterizeImageTask\n",
    "from lsst.meas.algorithms.detection import SourceDetectionTask\n",
    "from lsst.meas.deblender import SourceDeblendTask\n",
    "from lsst.meas.base import SingleFrameMeasurementTask\n",
    "import lsst.afw.table as afwTable\n",
    "\n",
    "import lsst.meas.algorithms as measAlg\n",
    "import lsst.afw.math as afwMath\n",
    "import lsst.afw.image as afwImage"
   ]
  },
  {
   "cell_type": "markdown",
   "id": "ff25f866-fd94-4604-aee6-2e12cadf07f6",
   "metadata": {},
   "source": [
    "Set the display backed to be Firefly."
   ]
  },
  {
   "cell_type": "code",
   "execution_count": 2,
   "id": "0ae70064-9770-4dd5-a49f-20f28e9c850e",
   "metadata": {
    "execution": {
     "iopub.execute_input": "2024-11-14T15:33:49.306178Z",
     "iopub.status.busy": "2024-11-14T15:33:49.305320Z",
     "iopub.status.idle": "2024-11-14T15:33:49.372403Z",
     "shell.execute_reply": "2024-11-14T15:33:49.371781Z",
     "shell.execute_reply.started": "2024-11-14T15:33:49.306148Z"
    }
   },
   "outputs": [],
   "source": [
    "afwDisplay.setDefaultBackend('firefly')"
   ]
  },
  {
   "cell_type": "markdown",
   "id": "e81ff194-c248-47de-80a7-5e04a30fdd59",
   "metadata": {},
   "source": [
    "Instantiate the butler."
   ]
  },
  {
   "cell_type": "code",
   "execution_count": 3,
   "id": "9df61d90-0082-4729-95a5-b3defd9a8d32",
   "metadata": {
    "execution": {
     "iopub.execute_input": "2024-11-14T15:33:50.255120Z",
     "iopub.status.busy": "2024-11-14T15:33:50.253971Z",
     "iopub.status.idle": "2024-11-14T15:33:50.977104Z",
     "shell.execute_reply": "2024-11-14T15:33:50.976498Z",
     "shell.execute_reply.started": "2024-11-14T15:33:50.255092Z"
    }
   },
   "outputs": [],
   "source": [
    "butler = dafButler('dp02', collections='2.2i/runs/DP0.2')"
   ]
  },
  {
   "cell_type": "markdown",
   "id": "99a64a7b-4763-4fcd-8133-4218ee801ffe",
   "metadata": {},
   "source": [
    "Define `ra` and `dec`, the central coordinates of interest.\n",
    "\n",
    "Define the scale, in arcseconds per pixel, of Rubin and Roman images.\n",
    "\n",
    "Define the stamp size to use when visualizing the images (i.e., the cutout size), in Rubin pixels; then use `stampsize / scale_ratio` as the extent when visualizing Roman images."
   ]
  },
  {
   "cell_type": "code",
   "execution_count": 4,
   "id": "82b5adf6-9c9f-4418-92cc-7a8e546e4daf",
   "metadata": {
    "execution": {
     "iopub.execute_input": "2024-11-14T15:33:51.366759Z",
     "iopub.status.busy": "2024-11-14T15:33:51.366074Z",
     "iopub.status.idle": "2024-11-14T15:33:51.370239Z",
     "shell.execute_reply": "2024-11-14T15:33:51.369509Z",
     "shell.execute_reply.started": "2024-11-14T15:33:51.366730Z"
    }
   },
   "outputs": [],
   "source": [
    "ra, dec = 54.28, -38.30\n",
    "rubin_scale = 0.2\n",
    "roman_scale = 0.0575\n",
    "stampsize = 150\n",
    "scale_ratio = rubin_scale/roman_scale"
   ]
  },
  {
   "cell_type": "markdown",
   "id": "0e8bfca6-dcdf-482b-880f-d01101701dd2",
   "metadata": {},
   "source": [
    "Convert the coordinates to type `SpherePoint`."
   ]
  },
  {
   "cell_type": "code",
   "execution_count": 5,
   "id": "b3d90440-acff-4ee7-b63b-9866eb0f860a",
   "metadata": {
    "execution": {
     "iopub.execute_input": "2024-11-14T15:33:52.432237Z",
     "iopub.status.busy": "2024-11-14T15:33:52.431453Z",
     "iopub.status.idle": "2024-11-14T15:33:52.435562Z",
     "shell.execute_reply": "2024-11-14T15:33:52.434895Z",
     "shell.execute_reply.started": "2024-11-14T15:33:52.432205Z"
    }
   },
   "outputs": [],
   "source": [
    "radec = lsst.geom.SpherePoint(ra, dec, lsst.geom.degrees)"
   ]
  },
  {
   "cell_type": "markdown",
   "id": "aae1d8a8-c1ff-4e31-891c-a106049ff917",
   "metadata": {},
   "source": [
    "For Rubin images: identify Rubin DP0.2 butler tract and patch for the desired coordinates."
   ]
  },
  {
   "cell_type": "code",
   "execution_count": 6,
   "id": "a9a6c2c2-0c5a-4289-b5b1-766600886e90",
   "metadata": {
    "execution": {
     "iopub.execute_input": "2024-11-14T15:33:53.512176Z",
     "iopub.status.busy": "2024-11-14T15:33:53.511518Z",
     "iopub.status.idle": "2024-11-14T15:33:53.996419Z",
     "shell.execute_reply": "2024-11-14T15:33:53.995618Z",
     "shell.execute_reply.started": "2024-11-14T15:33:53.512152Z"
    }
   },
   "outputs": [
    {
     "name": "stdout",
     "output_type": "stream",
     "text": [
      "3633 9\n"
     ]
    }
   ],
   "source": [
    "skymap = butler.get('skyMap')\n",
    "tract = skymap.findTract(radec).tract_id\n",
    "patch = skymap.findTract(radec).findPatch(radec).getSequentialIndex()\n",
    "print(tract, patch)"
   ]
  },
  {
   "cell_type": "markdown",
   "id": "978266fd-165d-41d1-84f0-39c2f0d26c1a",
   "metadata": {},
   "source": [
    "For Roman images: four filters for one patch of deeply coadded Roman images have been stored in the shared space in the `/project` directory."
   ]
  },
  {
   "cell_type": "code",
   "execution_count": 7,
   "id": "c8b72657-05c7-4816-8223-05ca24280d22",
   "metadata": {
    "execution": {
     "iopub.execute_input": "2024-11-14T15:33:56.784288Z",
     "iopub.status.busy": "2024-11-14T15:33:56.783553Z",
     "iopub.status.idle": "2024-11-14T15:33:56.787538Z",
     "shell.execute_reply": "2024-11-14T15:33:56.786689Z",
     "shell.execute_reply.started": "2024-11-14T15:33:56.784261Z"
    }
   },
   "outputs": [],
   "source": [
    "ro_img_path = '/project/melissagraham2/troxel2023/'\n",
    "ro_img_fnms = ['dc2_Y106_54.24_-38.3.fits',\n",
    "               'dc2_J129_54.24_-38.3.fits',\n",
    "               'dc2_H158_54.24_-38.3.fits',\n",
    "               'dc2_F184_54.24_-38.3.fits']"
   ]
  },
  {
   "cell_type": "markdown",
   "id": "4bd17689-7bf5-413e-a19e-8c626f11195a",
   "metadata": {},
   "source": [
    "## Visualize images\n",
    "\n",
    "### Rubin images\n",
    "\n",
    "For each filter, retrieve the `deepCoadd` patch and display the cutout in Firefly frames 1 through 6."
   ]
  },
  {
   "cell_type": "code",
   "execution_count": 8,
   "id": "9789ff1c-67f5-4fae-825b-03dfdb3d9cf1",
   "metadata": {
    "editable": true,
    "execution": {
     "iopub.execute_input": "2024-11-14T15:33:59.550500Z",
     "iopub.status.busy": "2024-11-14T15:33:59.549773Z",
     "iopub.status.idle": "2024-11-14T15:34:18.494769Z",
     "shell.execute_reply": "2024-11-14T15:34:18.494204Z",
     "shell.execute_reply.started": "2024-11-14T15:33:59.550470Z"
    },
    "slideshow": {
     "slide_type": ""
    },
    "tags": []
   },
   "outputs": [
    {
     "name": "stdout",
     "output_type": "stream",
     "text": [
      "1 u\n",
      "2 g\n",
      "3 r\n",
      "4 i\n",
      "5 z\n",
      "6 y\n"
     ]
    }
   ],
   "source": [
    "lsst_bands = ['u', 'g', 'r', 'i', 'z', 'y']\n",
    "for i in range(6):\n",
    "    print(i+1, lsst_bands[i])\n",
    "    afw_display = afwDisplay.Display(frame=i+1)\n",
    "    dataId = {'tract': tract, 'patch': patch, 'band': lsst_bands[i]}\n",
    "    image = butler.get('deepCoadd', dataId=dataId)\n",
    "    size = stampsize\n",
    "    extent = lsst.geom.ExtentI(size, size)\n",
    "    cutout = image.getCutout(radec, extent)\n",
    "    afw_display.mtv(cutout)\n",
    "    afw_display.setMaskTransparency(100)\n",
    "    del dataId, image, size, extent, cutout"
   ]
  },
  {
   "cell_type": "markdown",
   "id": "2d4d9bc5-39f5-4ff0-9bfc-9087ac2608ea",
   "metadata": {
    "editable": true,
    "slideshow": {
     "slide_type": ""
    },
    "tags": []
   },
   "source": [
    "### Roman images\n",
    "\n",
    "Load and display a small cutout from each of the four images in Firefly frames 7 through 10.\n",
    "\n",
    "> **Warnings:** Below, the warnings about unreadable mask extensions can be disregarded for the purposes of this tutorial, but generally when using the LSST Science Pipelines with non-Rubin data, all warnings should be followed up and third-party data sets might need to be reformatted to work properly.\n",
    "In this case the images have four extensions: SCI, WHT, CTX, ERR.\n",
    "But the `readFits` function expects MASK and IMAGE extensions."
   ]
  },
  {
   "cell_type": "code",
   "execution_count": 9,
   "id": "4b03f732-2aea-40c3-9c56-5ad064a228e4",
   "metadata": {
    "execution": {
     "iopub.execute_input": "2024-11-14T15:36:04.244156Z",
     "iopub.status.busy": "2024-11-14T15:36:04.243497Z",
     "iopub.status.idle": "2024-11-14T15:36:08.251095Z",
     "shell.execute_reply": "2024-11-14T15:36:08.250462Z",
     "shell.execute_reply.started": "2024-11-14T15:36:04.244126Z"
    }
   },
   "outputs": [
    {
     "name": "stdout",
     "output_type": "stream",
     "text": [
      "7 /project/melissagraham2/troxel2023/dc2_Y106_54.24_-38.3.fits\n"
     ]
    },
    {
     "data": {
      "text/html": [
       "<pre style=\"margin: 0.1em;\n",
       "padding-left: 0.25em;\n",
       "border-left-style: solid;\n",
       "font-family: var(--jp-code-font-family);\n",
       "font-size: var(--jp-code-font-size);\n",
       "line-height: var(--jp-code-line-height);\n",
       "\"><span style=\"color: var(--jp-warn-color2)\">lsst.afw.image.MaskedImageFitsReader</span> <span style=\"color: var(--jp-warn-color0)\">WARNING</span>: Mask unreadable (cfitsio error (/project/melissagraham2/troxel2023/dc2_Y106_54.24_-38.3.fits) : Incompatible type for FITS image: on disk is float32 (HDU 2), in-memory is int32. Read with allowUnsafe=True to permit conversions that may overflow.\n",
       "cfitsio error stack:\n",
       "  ffgcnn could not find column: ZSCALE\n",
       "  ffgcnn could not find column: ZZERO\n",
       "  ffgcnn could not find column: ZSCALE\n",
       "  ffgcnn could not find column: ZZERO\n",
       "  ffgcnn could not find column: ZSCALE\n",
       "  ffgcnn could not find column: ZZERO\n",
       "  ffgcnn could not find column: ZSCALE\n",
       "  ffgcnn could not find column: ZZERO\n",
       "  ffgcnn could not find column: ZSCALE\n",
       "  ffgcnn could not find column: ZZERO\n",
       "  ffgcnn could not find column: ZSCALE\n",
       "  ffgcnn could not find column: ZZERO\n",
       "  ffgcnn could not find column: ZSCALE\n",
       "  ffgcnn could not find column: ZZERO\n",
       "  ffgcnn could not find column: ZSCALE\n",
       "  ffgcnn could not find column: ZZERO\n",
       "  ffgcnn could not find column: ZSCALE\n",
       "  ffgcnn could not find column: ZZERO\n",
       "  ffgcnn could not find column: ZSCALE\n",
       "); using default</pre>"
      ],
      "text/plain": [
       "<IPython.core.display.HTML object>"
      ]
     },
     "metadata": {},
     "output_type": "display_data"
    },
    {
     "data": {
      "text/html": [
       "<pre style=\"margin: 0.1em;\n",
       "padding-left: 0.25em;\n",
       "border-left-style: solid;\n",
       "font-family: var(--jp-code-font-family);\n",
       "font-size: var(--jp-code-font-size);\n",
       "line-height: var(--jp-code-line-height);\n",
       "\"><span style=\"color: var(--jp-warn-color2)\">lsst.afw.image.MaskedImageFitsReader</span> <span style=\"color: var(--jp-warn-color0)\">WARNING</span>: Expected extension type not found: IMAGE</pre>"
      ],
      "text/plain": [
       "<IPython.core.display.HTML object>"
      ]
     },
     "metadata": {},
     "output_type": "display_data"
    },
    {
     "name": "stdout",
     "output_type": "stream",
     "text": [
      "8 /project/melissagraham2/troxel2023/dc2_J129_54.24_-38.3.fits\n"
     ]
    },
    {
     "data": {
      "text/html": [
       "<pre style=\"margin: 0.1em;\n",
       "padding-left: 0.25em;\n",
       "border-left-style: solid;\n",
       "font-family: var(--jp-code-font-family);\n",
       "font-size: var(--jp-code-font-size);\n",
       "line-height: var(--jp-code-line-height);\n",
       "\"><span style=\"color: var(--jp-warn-color2)\">lsst.afw.image.MaskedImageFitsReader</span> <span style=\"color: var(--jp-warn-color0)\">WARNING</span>: Mask unreadable (cfitsio error (/project/melissagraham2/troxel2023/dc2_J129_54.24_-38.3.fits) : Incompatible type for FITS image: on disk is float32 (HDU 2), in-memory is int32. Read with allowUnsafe=True to permit conversions that may overflow.\n",
       "cfitsio error stack:\n",
       "); using default</pre>"
      ],
      "text/plain": [
       "<IPython.core.display.HTML object>"
      ]
     },
     "metadata": {},
     "output_type": "display_data"
    },
    {
     "data": {
      "text/html": [
       "<pre style=\"margin: 0.1em;\n",
       "padding-left: 0.25em;\n",
       "border-left-style: solid;\n",
       "font-family: var(--jp-code-font-family);\n",
       "font-size: var(--jp-code-font-size);\n",
       "line-height: var(--jp-code-line-height);\n",
       "\"><span style=\"color: var(--jp-warn-color2)\">lsst.afw.image.MaskedImageFitsReader</span> <span style=\"color: var(--jp-warn-color0)\">WARNING</span>: Variance unreadable (Error reading /project/melissagraham2/troxel2023/dc2_J129_54.24_-38.3.fits: HDU 3 has 3rd dimension 2 != 1); using default</pre>"
      ],
      "text/plain": [
       "<IPython.core.display.HTML object>"
      ]
     },
     "metadata": {},
     "output_type": "display_data"
    },
    {
     "data": {
      "text/html": [
       "<pre style=\"margin: 0.1em;\n",
       "padding-left: 0.25em;\n",
       "border-left-style: solid;\n",
       "font-family: var(--jp-code-font-family);\n",
       "font-size: var(--jp-code-font-size);\n",
       "line-height: var(--jp-code-line-height);\n",
       "\"><span style=\"color: var(--jp-warn-color2)\">lsst.afw.image.MaskedImageFitsReader</span> <span style=\"color: var(--jp-warn-color0)\">WARNING</span>: Expected extension type not found: IMAGE</pre>"
      ],
      "text/plain": [
       "<IPython.core.display.HTML object>"
      ]
     },
     "metadata": {},
     "output_type": "display_data"
    },
    {
     "name": "stdout",
     "output_type": "stream",
     "text": [
      "9 /project/melissagraham2/troxel2023/dc2_H158_54.24_-38.3.fits\n"
     ]
    },
    {
     "data": {
      "text/html": [
       "<pre style=\"margin: 0.1em;\n",
       "padding-left: 0.25em;\n",
       "border-left-style: solid;\n",
       "font-family: var(--jp-code-font-family);\n",
       "font-size: var(--jp-code-font-size);\n",
       "line-height: var(--jp-code-line-height);\n",
       "\"><span style=\"color: var(--jp-warn-color2)\">lsst.afw.image.MaskedImageFitsReader</span> <span style=\"color: var(--jp-warn-color0)\">WARNING</span>: Mask unreadable (cfitsio error (/project/melissagraham2/troxel2023/dc2_H158_54.24_-38.3.fits) : Incompatible type for FITS image: on disk is float32 (HDU 2), in-memory is int32. Read with allowUnsafe=True to permit conversions that may overflow.\n",
       "cfitsio error stack:\n",
       "); using default</pre>"
      ],
      "text/plain": [
       "<IPython.core.display.HTML object>"
      ]
     },
     "metadata": {},
     "output_type": "display_data"
    },
    {
     "data": {
      "text/html": [
       "<pre style=\"margin: 0.1em;\n",
       "padding-left: 0.25em;\n",
       "border-left-style: solid;\n",
       "font-family: var(--jp-code-font-family);\n",
       "font-size: var(--jp-code-font-size);\n",
       "line-height: var(--jp-code-line-height);\n",
       "\"><span style=\"color: var(--jp-warn-color2)\">lsst.afw.image.MaskedImageFitsReader</span> <span style=\"color: var(--jp-warn-color0)\">WARNING</span>: Expected extension type not found: IMAGE</pre>"
      ],
      "text/plain": [
       "<IPython.core.display.HTML object>"
      ]
     },
     "metadata": {},
     "output_type": "display_data"
    },
    {
     "name": "stdout",
     "output_type": "stream",
     "text": [
      "10 /project/melissagraham2/troxel2023/dc2_F184_54.24_-38.3.fits\n"
     ]
    },
    {
     "data": {
      "text/html": [
       "<pre style=\"margin: 0.1em;\n",
       "padding-left: 0.25em;\n",
       "border-left-style: solid;\n",
       "font-family: var(--jp-code-font-family);\n",
       "font-size: var(--jp-code-font-size);\n",
       "line-height: var(--jp-code-line-height);\n",
       "\"><span style=\"color: var(--jp-warn-color2)\">lsst.afw.image.MaskedImageFitsReader</span> <span style=\"color: var(--jp-warn-color0)\">WARNING</span>: Mask unreadable (cfitsio error (/project/melissagraham2/troxel2023/dc2_F184_54.24_-38.3.fits) : Incompatible type for FITS image: on disk is float32 (HDU 2), in-memory is int32. Read with allowUnsafe=True to permit conversions that may overflow.\n",
       "cfitsio error stack:\n",
       "); using default</pre>"
      ],
      "text/plain": [
       "<IPython.core.display.HTML object>"
      ]
     },
     "metadata": {},
     "output_type": "display_data"
    },
    {
     "data": {
      "text/html": [
       "<pre style=\"margin: 0.1em;\n",
       "padding-left: 0.25em;\n",
       "border-left-style: solid;\n",
       "font-family: var(--jp-code-font-family);\n",
       "font-size: var(--jp-code-font-size);\n",
       "line-height: var(--jp-code-line-height);\n",
       "\"><span style=\"color: var(--jp-warn-color2)\">lsst.afw.image.MaskedImageFitsReader</span> <span style=\"color: var(--jp-warn-color0)\">WARNING</span>: Expected extension type not found: IMAGE</pre>"
      ],
      "text/plain": [
       "<IPython.core.display.HTML object>"
      ]
     },
     "metadata": {},
     "output_type": "display_data"
    }
   ],
   "source": [
    "for i in range(4):\n",
    "    afw_display = afwDisplay.Display(frame=i+7)\n",
    "    fnm = ro_img_path + ro_img_fnms[i]\n",
    "    print(i+7, fnm)\n",
    "    image = afwImage.ExposureF.readFits(fnm)\n",
    "    size = stampsize * scale_ratio\n",
    "    extent = lsst.geom.ExtentI(size, size)\n",
    "    cutout = image.getCutout(radec, extent)\n",
    "    afw_display.mtv(cutout)\n",
    "    del fnm, image, size, extent, cutout"
   ]
  },
  {
   "cell_type": "markdown",
   "id": "982a6cc8-a399-4c22-ac5e-5e2e4d7f060f",
   "metadata": {
    "editable": true,
    "slideshow": {
     "slide_type": ""
    },
    "tags": []
   },
   "source": [
    "### Clean up the Firefly window\n",
    "\n",
    "Close each panel by clicking on the 'X' in the upper right corner until the display again says \"Firefly Ready\" and \"Awaiting Python API Commands\"."
   ]
  },
  {
   "cell_type": "markdown",
   "id": "15d8d66e-fb8d-4866-b1f2-e8f0811a4ab6",
   "metadata": {},
   "source": [
    "## Visualize detected sources\n",
    "\n",
    "### Rubin\n",
    "\n",
    "Source detection has already been run on the Rubin DP0 images.\n",
    "\n",
    "The threshold is 5-sigma.\n",
    "\n",
    "Display the r-band image cutout and overplot detected sources."
   ]
  },
  {
   "cell_type": "code",
   "execution_count": 10,
   "id": "7b77a6c5-1406-49d8-b678-6f886da5e529",
   "metadata": {
    "execution": {
     "iopub.execute_input": "2024-11-14T15:36:30.442643Z",
     "iopub.status.busy": "2024-11-14T15:36:30.442105Z",
     "iopub.status.idle": "2024-11-14T15:36:30.445723Z",
     "shell.execute_reply": "2024-11-14T15:36:30.445113Z",
     "shell.execute_reply.started": "2024-11-14T15:36:30.442621Z"
    }
   },
   "outputs": [],
   "source": [
    "dataId = {'tract': tract, 'patch': patch, 'band': 'r'}"
   ]
  },
  {
   "cell_type": "code",
   "execution_count": 11,
   "id": "3ff9ef73-9c7b-4502-bfb9-9cf8fac9030c",
   "metadata": {
    "execution": {
     "iopub.execute_input": "2024-11-14T15:36:30.866201Z",
     "iopub.status.busy": "2024-11-14T15:36:30.865901Z",
     "iopub.status.idle": "2024-11-14T15:36:34.308649Z",
     "shell.execute_reply": "2024-11-14T15:36:34.307811Z",
     "shell.execute_reply.started": "2024-11-14T15:36:30.866180Z"
    }
   },
   "outputs": [],
   "source": [
    "objects = butler.get('objectTable', dataId=dataId)"
   ]
  },
  {
   "cell_type": "code",
   "execution_count": 12,
   "id": "d50ce51c-c455-40a9-9c01-072f7309bde3",
   "metadata": {
    "execution": {
     "iopub.execute_input": "2024-11-14T15:36:34.310799Z",
     "iopub.status.busy": "2024-11-14T15:36:34.310246Z",
     "iopub.status.idle": "2024-11-14T15:36:34.341387Z",
     "shell.execute_reply": "2024-11-14T15:36:34.340454Z",
     "shell.execute_reply.started": "2024-11-14T15:36:34.310775Z"
    }
   },
   "outputs": [
    {
     "data": {
      "text/html": [
       "<div>\n",
       "<style scoped>\n",
       "    .dataframe tbody tr th:only-of-type {\n",
       "        vertical-align: middle;\n",
       "    }\n",
       "\n",
       "    .dataframe tbody tr th {\n",
       "        vertical-align: top;\n",
       "    }\n",
       "\n",
       "    .dataframe thead th {\n",
       "        text-align: right;\n",
       "    }\n",
       "</style>\n",
       "<table border=\"1\" class=\"dataframe\">\n",
       "  <thead>\n",
       "    <tr style=\"text-align: right;\">\n",
       "      <th>column</th>\n",
       "      <th>shape_xy</th>\n",
       "      <th>footprintArea</th>\n",
       "      <th>detect_isIsolated</th>\n",
       "      <th>parentObjectId</th>\n",
       "      <th>coord_dec</th>\n",
       "      <th>yErr</th>\n",
       "      <th>shape_xx</th>\n",
       "      <th>refFwhm</th>\n",
       "      <th>y</th>\n",
       "      <th>shape_yy</th>\n",
       "      <th>...</th>\n",
       "      <th>r_kronFlux_flag</th>\n",
       "      <th>r_kronFlux_flag_bad_radius</th>\n",
       "      <th>r_kronFlux_flag_bad_shape</th>\n",
       "      <th>r_kronFlux_flag_bad_shape_no_psf</th>\n",
       "      <th>r_kronFlux_flag_edge</th>\n",
       "      <th>r_kronFlux_flag_no_fallback_radius</th>\n",
       "      <th>r_kronFlux_flag_no_minimum_radius</th>\n",
       "      <th>r_kronFlux_flag_small_radius</th>\n",
       "      <th>r_kronFlux_flag_used_minimum_radius</th>\n",
       "      <th>r_kronFlux_flag_used_psf_radius</th>\n",
       "    </tr>\n",
       "    <tr>\n",
       "      <th>objectId</th>\n",
       "      <th></th>\n",
       "      <th></th>\n",
       "      <th></th>\n",
       "      <th></th>\n",
       "      <th></th>\n",
       "      <th></th>\n",
       "      <th></th>\n",
       "      <th></th>\n",
       "      <th></th>\n",
       "      <th></th>\n",
       "      <th></th>\n",
       "      <th></th>\n",
       "      <th></th>\n",
       "      <th></th>\n",
       "      <th></th>\n",
       "      <th></th>\n",
       "      <th></th>\n",
       "      <th></th>\n",
       "      <th></th>\n",
       "      <th></th>\n",
       "      <th></th>\n",
       "    </tr>\n",
       "  </thead>\n",
       "  <tbody>\n",
       "    <tr>\n",
       "      <th>1565933256371601409</th>\n",
       "      <td>1.243153</td>\n",
       "      <td>303</td>\n",
       "      <td>False</td>\n",
       "      <td>0</td>\n",
       "      <td>-38.493715</td>\n",
       "      <td>NaN</td>\n",
       "      <td>4.673852</td>\n",
       "      <td>0.689904</td>\n",
       "      <td>3908.000000</td>\n",
       "      <td>6.097430</td>\n",
       "      <td>...</td>\n",
       "      <td>True</td>\n",
       "      <td>False</td>\n",
       "      <td>True</td>\n",
       "      <td>False</td>\n",
       "      <td>True</td>\n",
       "      <td>False</td>\n",
       "      <td>False</td>\n",
       "      <td>False</td>\n",
       "      <td>False</td>\n",
       "      <td>False</td>\n",
       "    </tr>\n",
       "    <tr>\n",
       "      <th>1565933256371601410</th>\n",
       "      <td>0.108741</td>\n",
       "      <td>324</td>\n",
       "      <td>True</td>\n",
       "      <td>0</td>\n",
       "      <td>-38.493890</td>\n",
       "      <td>NaN</td>\n",
       "      <td>3.654526</td>\n",
       "      <td>0.689725</td>\n",
       "      <td>3906.000000</td>\n",
       "      <td>4.147783</td>\n",
       "      <td>...</td>\n",
       "      <td>True</td>\n",
       "      <td>False</td>\n",
       "      <td>True</td>\n",
       "      <td>False</td>\n",
       "      <td>True</td>\n",
       "      <td>False</td>\n",
       "      <td>False</td>\n",
       "      <td>False</td>\n",
       "      <td>False</td>\n",
       "      <td>False</td>\n",
       "    </tr>\n",
       "    <tr>\n",
       "      <th>1565933256371601411</th>\n",
       "      <td>1.263088</td>\n",
       "      <td>623</td>\n",
       "      <td>False</td>\n",
       "      <td>0</td>\n",
       "      <td>-38.493916</td>\n",
       "      <td>NaN</td>\n",
       "      <td>4.018945</td>\n",
       "      <td>0.695862</td>\n",
       "      <td>3907.000000</td>\n",
       "      <td>6.841806</td>\n",
       "      <td>...</td>\n",
       "      <td>True</td>\n",
       "      <td>False</td>\n",
       "      <td>True</td>\n",
       "      <td>False</td>\n",
       "      <td>True</td>\n",
       "      <td>False</td>\n",
       "      <td>False</td>\n",
       "      <td>False</td>\n",
       "      <td>False</td>\n",
       "      <td>False</td>\n",
       "    </tr>\n",
       "    <tr>\n",
       "      <th>1565933256371601412</th>\n",
       "      <td>1.038074</td>\n",
       "      <td>1092</td>\n",
       "      <td>False</td>\n",
       "      <td>0</td>\n",
       "      <td>-38.494027</td>\n",
       "      <td>NaN</td>\n",
       "      <td>12.427411</td>\n",
       "      <td>0.696046</td>\n",
       "      <td>3906.000000</td>\n",
       "      <td>7.290579</td>\n",
       "      <td>...</td>\n",
       "      <td>True</td>\n",
       "      <td>False</td>\n",
       "      <td>True</td>\n",
       "      <td>False</td>\n",
       "      <td>True</td>\n",
       "      <td>False</td>\n",
       "      <td>False</td>\n",
       "      <td>False</td>\n",
       "      <td>False</td>\n",
       "      <td>False</td>\n",
       "    </tr>\n",
       "    <tr>\n",
       "      <th>1565933256371601413</th>\n",
       "      <td>NaN</td>\n",
       "      <td>160</td>\n",
       "      <td>True</td>\n",
       "      <td>0</td>\n",
       "      <td>-38.493986</td>\n",
       "      <td>NaN</td>\n",
       "      <td>NaN</td>\n",
       "      <td>0.695326</td>\n",
       "      <td>3907.000000</td>\n",
       "      <td>NaN</td>\n",
       "      <td>...</td>\n",
       "      <td>True</td>\n",
       "      <td>False</td>\n",
       "      <td>True</td>\n",
       "      <td>False</td>\n",
       "      <td>True</td>\n",
       "      <td>False</td>\n",
       "      <td>False</td>\n",
       "      <td>False</td>\n",
       "      <td>False</td>\n",
       "      <td>False</td>\n",
       "    </tr>\n",
       "    <tr>\n",
       "      <th>...</th>\n",
       "      <td>...</td>\n",
       "      <td>...</td>\n",
       "      <td>...</td>\n",
       "      <td>...</td>\n",
       "      <td>...</td>\n",
       "      <td>...</td>\n",
       "      <td>...</td>\n",
       "      <td>...</td>\n",
       "      <td>...</td>\n",
       "      <td>...</td>\n",
       "      <td>...</td>\n",
       "      <td>...</td>\n",
       "      <td>...</td>\n",
       "      <td>...</td>\n",
       "      <td>...</td>\n",
       "      <td>...</td>\n",
       "      <td>...</td>\n",
       "      <td>...</td>\n",
       "      <td>...</td>\n",
       "      <td>...</td>\n",
       "      <td>...</td>\n",
       "    </tr>\n",
       "    <tr>\n",
       "      <th>1565933256371654383</th>\n",
       "      <td>-0.018556</td>\n",
       "      <td>132</td>\n",
       "      <td>True</td>\n",
       "      <td>1565933256371616347</td>\n",
       "      <td>-38.353039</td>\n",
       "      <td>0.985465</td>\n",
       "      <td>3.700394</td>\n",
       "      <td>0.782821</td>\n",
       "      <td>6450.848213</td>\n",
       "      <td>3.003776</td>\n",
       "      <td>...</td>\n",
       "      <td>False</td>\n",
       "      <td>True</td>\n",
       "      <td>False</td>\n",
       "      <td>False</td>\n",
       "      <td>False</td>\n",
       "      <td>False</td>\n",
       "      <td>False</td>\n",
       "      <td>False</td>\n",
       "      <td>False</td>\n",
       "      <td>True</td>\n",
       "    </tr>\n",
       "    <tr>\n",
       "      <th>1565933256371654384</th>\n",
       "      <td>0.088261</td>\n",
       "      <td>121</td>\n",
       "      <td>True</td>\n",
       "      <td>1565933256371616348</td>\n",
       "      <td>-38.349533</td>\n",
       "      <td>18.935143</td>\n",
       "      <td>3.532197</td>\n",
       "      <td>0.785004</td>\n",
       "      <td>6515.750069</td>\n",
       "      <td>3.047626</td>\n",
       "      <td>...</td>\n",
       "      <td>False</td>\n",
       "      <td>False</td>\n",
       "      <td>False</td>\n",
       "      <td>False</td>\n",
       "      <td>False</td>\n",
       "      <td>False</td>\n",
       "      <td>False</td>\n",
       "      <td>False</td>\n",
       "      <td>False</td>\n",
       "      <td>False</td>\n",
       "    </tr>\n",
       "    <tr>\n",
       "      <th>1565933256371654385</th>\n",
       "      <td>-0.113798</td>\n",
       "      <td>132</td>\n",
       "      <td>True</td>\n",
       "      <td>1565933256371616349</td>\n",
       "      <td>-38.345570</td>\n",
       "      <td>0.819093</td>\n",
       "      <td>3.919595</td>\n",
       "      <td>0.803746</td>\n",
       "      <td>6575.109889</td>\n",
       "      <td>3.743876</td>\n",
       "      <td>...</td>\n",
       "      <td>True</td>\n",
       "      <td>False</td>\n",
       "      <td>True</td>\n",
       "      <td>False</td>\n",
       "      <td>False</td>\n",
       "      <td>False</td>\n",
       "      <td>False</td>\n",
       "      <td>False</td>\n",
       "      <td>False</td>\n",
       "      <td>False</td>\n",
       "    </tr>\n",
       "    <tr>\n",
       "      <th>1565933256371654386</th>\n",
       "      <td>0.126496</td>\n",
       "      <td>121</td>\n",
       "      <td>True</td>\n",
       "      <td>1565933256371616350</td>\n",
       "      <td>-38.311782</td>\n",
       "      <td>0.874875</td>\n",
       "      <td>3.691658</td>\n",
       "      <td>0.787289</td>\n",
       "      <td>7193.876482</td>\n",
       "      <td>3.263451</td>\n",
       "      <td>...</td>\n",
       "      <td>False</td>\n",
       "      <td>True</td>\n",
       "      <td>False</td>\n",
       "      <td>False</td>\n",
       "      <td>False</td>\n",
       "      <td>False</td>\n",
       "      <td>False</td>\n",
       "      <td>False</td>\n",
       "      <td>False</td>\n",
       "      <td>True</td>\n",
       "    </tr>\n",
       "    <tr>\n",
       "      <th>1565933256371654387</th>\n",
       "      <td>0.245439</td>\n",
       "      <td>132</td>\n",
       "      <td>True</td>\n",
       "      <td>1565933256371616351</td>\n",
       "      <td>-38.280194</td>\n",
       "      <td>0.969564</td>\n",
       "      <td>5.377067</td>\n",
       "      <td>0.795269</td>\n",
       "      <td>7760.203026</td>\n",
       "      <td>5.915976</td>\n",
       "      <td>...</td>\n",
       "      <td>True</td>\n",
       "      <td>True</td>\n",
       "      <td>True</td>\n",
       "      <td>False</td>\n",
       "      <td>False</td>\n",
       "      <td>False</td>\n",
       "      <td>False</td>\n",
       "      <td>False</td>\n",
       "      <td>False</td>\n",
       "      <td>True</td>\n",
       "    </tr>\n",
       "  </tbody>\n",
       "</table>\n",
       "<p>37936 rows × 990 columns</p>\n",
       "</div>"
      ],
      "text/plain": [
       "column               shape_xy  footprintArea  detect_isIsolated  \\\n",
       "objectId                                                          \n",
       "1565933256371601409  1.243153            303              False   \n",
       "1565933256371601410  0.108741            324               True   \n",
       "1565933256371601411  1.263088            623              False   \n",
       "1565933256371601412  1.038074           1092              False   \n",
       "1565933256371601413       NaN            160               True   \n",
       "...                       ...            ...                ...   \n",
       "1565933256371654383 -0.018556            132               True   \n",
       "1565933256371654384  0.088261            121               True   \n",
       "1565933256371654385 -0.113798            132               True   \n",
       "1565933256371654386  0.126496            121               True   \n",
       "1565933256371654387  0.245439            132               True   \n",
       "\n",
       "column                    parentObjectId  coord_dec       yErr   shape_xx  \\\n",
       "objectId                                                                    \n",
       "1565933256371601409                    0 -38.493715        NaN   4.673852   \n",
       "1565933256371601410                    0 -38.493890        NaN   3.654526   \n",
       "1565933256371601411                    0 -38.493916        NaN   4.018945   \n",
       "1565933256371601412                    0 -38.494027        NaN  12.427411   \n",
       "1565933256371601413                    0 -38.493986        NaN        NaN   \n",
       "...                                  ...        ...        ...        ...   \n",
       "1565933256371654383  1565933256371616347 -38.353039   0.985465   3.700394   \n",
       "1565933256371654384  1565933256371616348 -38.349533  18.935143   3.532197   \n",
       "1565933256371654385  1565933256371616349 -38.345570   0.819093   3.919595   \n",
       "1565933256371654386  1565933256371616350 -38.311782   0.874875   3.691658   \n",
       "1565933256371654387  1565933256371616351 -38.280194   0.969564   5.377067   \n",
       "\n",
       "column                refFwhm            y  shape_yy  ...  r_kronFlux_flag  \\\n",
       "objectId                                              ...                    \n",
       "1565933256371601409  0.689904  3908.000000  6.097430  ...             True   \n",
       "1565933256371601410  0.689725  3906.000000  4.147783  ...             True   \n",
       "1565933256371601411  0.695862  3907.000000  6.841806  ...             True   \n",
       "1565933256371601412  0.696046  3906.000000  7.290579  ...             True   \n",
       "1565933256371601413  0.695326  3907.000000       NaN  ...             True   \n",
       "...                       ...          ...       ...  ...              ...   \n",
       "1565933256371654383  0.782821  6450.848213  3.003776  ...            False   \n",
       "1565933256371654384  0.785004  6515.750069  3.047626  ...            False   \n",
       "1565933256371654385  0.803746  6575.109889  3.743876  ...             True   \n",
       "1565933256371654386  0.787289  7193.876482  3.263451  ...            False   \n",
       "1565933256371654387  0.795269  7760.203026  5.915976  ...             True   \n",
       "\n",
       "column               r_kronFlux_flag_bad_radius  r_kronFlux_flag_bad_shape  \\\n",
       "objectId                                                                     \n",
       "1565933256371601409                       False                       True   \n",
       "1565933256371601410                       False                       True   \n",
       "1565933256371601411                       False                       True   \n",
       "1565933256371601412                       False                       True   \n",
       "1565933256371601413                       False                       True   \n",
       "...                                         ...                        ...   \n",
       "1565933256371654383                        True                      False   \n",
       "1565933256371654384                       False                      False   \n",
       "1565933256371654385                       False                       True   \n",
       "1565933256371654386                        True                      False   \n",
       "1565933256371654387                        True                       True   \n",
       "\n",
       "column               r_kronFlux_flag_bad_shape_no_psf  r_kronFlux_flag_edge  \\\n",
       "objectId                                                                      \n",
       "1565933256371601409                             False                  True   \n",
       "1565933256371601410                             False                  True   \n",
       "1565933256371601411                             False                  True   \n",
       "1565933256371601412                             False                  True   \n",
       "1565933256371601413                             False                  True   \n",
       "...                                               ...                   ...   \n",
       "1565933256371654383                             False                 False   \n",
       "1565933256371654384                             False                 False   \n",
       "1565933256371654385                             False                 False   \n",
       "1565933256371654386                             False                 False   \n",
       "1565933256371654387                             False                 False   \n",
       "\n",
       "column              r_kronFlux_flag_no_fallback_radius  \\\n",
       "objectId                                                 \n",
       "1565933256371601409                              False   \n",
       "1565933256371601410                              False   \n",
       "1565933256371601411                              False   \n",
       "1565933256371601412                              False   \n",
       "1565933256371601413                              False   \n",
       "...                                                ...   \n",
       "1565933256371654383                              False   \n",
       "1565933256371654384                              False   \n",
       "1565933256371654385                              False   \n",
       "1565933256371654386                              False   \n",
       "1565933256371654387                              False   \n",
       "\n",
       "column               r_kronFlux_flag_no_minimum_radius  \\\n",
       "objectId                                                 \n",
       "1565933256371601409                              False   \n",
       "1565933256371601410                              False   \n",
       "1565933256371601411                              False   \n",
       "1565933256371601412                              False   \n",
       "1565933256371601413                              False   \n",
       "...                                                ...   \n",
       "1565933256371654383                              False   \n",
       "1565933256371654384                              False   \n",
       "1565933256371654385                              False   \n",
       "1565933256371654386                              False   \n",
       "1565933256371654387                              False   \n",
       "\n",
       "column               r_kronFlux_flag_small_radius  \\\n",
       "objectId                                            \n",
       "1565933256371601409                         False   \n",
       "1565933256371601410                         False   \n",
       "1565933256371601411                         False   \n",
       "1565933256371601412                         False   \n",
       "1565933256371601413                         False   \n",
       "...                                           ...   \n",
       "1565933256371654383                         False   \n",
       "1565933256371654384                         False   \n",
       "1565933256371654385                         False   \n",
       "1565933256371654386                         False   \n",
       "1565933256371654387                         False   \n",
       "\n",
       "column               r_kronFlux_flag_used_minimum_radius  \\\n",
       "objectId                                                   \n",
       "1565933256371601409                                False   \n",
       "1565933256371601410                                False   \n",
       "1565933256371601411                                False   \n",
       "1565933256371601412                                False   \n",
       "1565933256371601413                                False   \n",
       "...                                                  ...   \n",
       "1565933256371654383                                False   \n",
       "1565933256371654384                                False   \n",
       "1565933256371654385                                False   \n",
       "1565933256371654386                                False   \n",
       "1565933256371654387                                False   \n",
       "\n",
       "column               r_kronFlux_flag_used_psf_radius  \n",
       "objectId                                              \n",
       "1565933256371601409                            False  \n",
       "1565933256371601410                            False  \n",
       "1565933256371601411                            False  \n",
       "1565933256371601412                            False  \n",
       "1565933256371601413                            False  \n",
       "...                                              ...  \n",
       "1565933256371654383                             True  \n",
       "1565933256371654384                            False  \n",
       "1565933256371654385                            False  \n",
       "1565933256371654386                             True  \n",
       "1565933256371654387                             True  \n",
       "\n",
       "[37936 rows x 990 columns]"
      ]
     },
     "execution_count": 12,
     "metadata": {},
     "output_type": "execute_result"
    }
   ],
   "source": [
    "objects"
   ]
  },
  {
   "cell_type": "markdown",
   "id": "7060e9fb-cde3-4bff-94e7-0b3da1a9b29d",
   "metadata": {},
   "source": [
    "Extract coordinate data into `numpy` arrays."
   ]
  },
  {
   "cell_type": "code",
   "execution_count": 13,
   "id": "fcebe2c0-b410-4308-9b47-b1ffe95cb948",
   "metadata": {
    "execution": {
     "iopub.execute_input": "2024-11-14T15:36:34.342679Z",
     "iopub.status.busy": "2024-11-14T15:36:34.342421Z",
     "iopub.status.idle": "2024-11-14T15:36:34.347124Z",
     "shell.execute_reply": "2024-11-14T15:36:34.346410Z",
     "shell.execute_reply.started": "2024-11-14T15:36:34.342660Z"
    }
   },
   "outputs": [],
   "source": [
    "ra_vals = np.asarray(objects['coord_ra'], dtype='float')\n",
    "dec_vals = np.asarray(objects['coord_dec'], dtype='float')\n",
    "x_vals = np.asarray(objects['x'], dtype='float')\n",
    "y_vals = np.asarray(objects['y'], dtype='float')"
   ]
  },
  {
   "cell_type": "markdown",
   "id": "dfb8a628-2700-404b-9791-d68b1fa0f593",
   "metadata": {},
   "source": [
    "Display the r-band cutout."
   ]
  },
  {
   "cell_type": "code",
   "execution_count": 14,
   "id": "aa33cf7d-cc82-420f-864f-e2b801b8e9cc",
   "metadata": {
    "execution": {
     "iopub.execute_input": "2024-11-14T15:36:34.348628Z",
     "iopub.status.busy": "2024-11-14T15:36:34.348405Z",
     "iopub.status.idle": "2024-11-14T15:36:38.364147Z",
     "shell.execute_reply": "2024-11-14T15:36:38.363455Z",
     "shell.execute_reply.started": "2024-11-14T15:36:34.348611Z"
    }
   },
   "outputs": [],
   "source": [
    "afw_display = afwDisplay.Display(frame=1)\n",
    "image = butler.get('deepCoadd', dataId=dataId)\n",
    "size = stampsize\n",
    "extent = lsst.geom.ExtentI(size, size)\n",
    "cutout = image.getCutout(radec, extent)\n",
    "afw_display.mtv(cutout)\n",
    "afw_display.setMaskTransparency(100)"
   ]
  },
  {
   "cell_type": "markdown",
   "id": "1d76c5f0-b3b3-4eaf-b456-7c128f13cea8",
   "metadata": {},
   "source": [
    "Mark detected objects with orange circles.\n",
    "\n",
    "The stampsize of 150 x 150 pixels is 30 x 30 arcsec, or about 0.008 x 0.008 degrees.\n",
    "Only plot objects thata re in the cutout."
   ]
  },
  {
   "cell_type": "code",
   "execution_count": 15,
   "id": "519c93d4-678f-49c6-84ab-c8a9a4aa2905",
   "metadata": {
    "execution": {
     "iopub.execute_input": "2024-11-14T15:36:38.365507Z",
     "iopub.status.busy": "2024-11-14T15:36:38.365287Z",
     "iopub.status.idle": "2024-11-14T15:36:38.369533Z",
     "shell.execute_reply": "2024-11-14T15:36:38.369038Z",
     "shell.execute_reply.started": "2024-11-14T15:36:38.365490Z"
    }
   },
   "outputs": [
    {
     "name": "stdout",
     "output_type": "stream",
     "text": [
      "232\n"
     ]
    }
   ],
   "source": [
    "tx = np.where((ra_vals > ra - 0.01) &\n",
    "              (ra_vals < ra + 0.01) &\n",
    "              (dec_vals > dec - 0.01) &\n",
    "              (dec_vals < dec + 0.01))[0]\n",
    "print(len(tx))"
   ]
  },
  {
   "cell_type": "code",
   "execution_count": 16,
   "id": "de0c5b6c-d1c4-4e6c-8218-6635289b8b91",
   "metadata": {
    "execution": {
     "iopub.execute_input": "2024-11-14T15:36:38.370323Z",
     "iopub.status.busy": "2024-11-14T15:36:38.370111Z",
     "iopub.status.idle": "2024-11-14T15:36:38.389401Z",
     "shell.execute_reply": "2024-11-14T15:36:38.388797Z",
     "shell.execute_reply.started": "2024-11-14T15:36:38.370307Z"
    }
   },
   "outputs": [],
   "source": [
    "with afw_display.Buffering():\n",
    "    for x in tx:\n",
    "        afw_display.dot('o', x_vals[x], y_vals[x],\n",
    "                        size=5, ctype='orange')"
   ]
  },
  {
   "cell_type": "markdown",
   "id": "98d71571-dc44-44d5-b985-d107e941bae5",
   "metadata": {},
   "source": [
    "Clean up."
   ]
  },
  {
   "cell_type": "code",
   "execution_count": 17,
   "id": "656da226-bcba-4fca-b69e-d18569a81648",
   "metadata": {
    "execution": {
     "iopub.execute_input": "2024-11-14T15:37:36.229656Z",
     "iopub.status.busy": "2024-11-14T15:37:36.228903Z",
     "iopub.status.idle": "2024-11-14T15:37:36.282207Z",
     "shell.execute_reply": "2024-11-14T15:37:36.281657Z",
     "shell.execute_reply.started": "2024-11-14T15:37:36.229630Z"
    }
   },
   "outputs": [],
   "source": [
    "del ra_vals, dec_vals, x_vals, y_vals\n",
    "del tx\n",
    "del dataId, image, size, extent, cutout"
   ]
  },
  {
   "cell_type": "markdown",
   "id": "19dea0f1-66a5-4777-9a1f-19e94cce8fe5",
   "metadata": {
    "editable": true,
    "slideshow": {
     "slide_type": ""
    },
    "tags": []
   },
   "source": [
    "### Roman\n"
   ]
  },
  {
   "cell_type": "markdown",
   "id": "3107867d-19c5-4b20-837f-cc87f67ecc25",
   "metadata": {},
   "source": [
    "#### Use DP0.2 tutorial 05 as a guide\n",
    "Start by setting up the configurations for each task."
   ]
  },
  {
   "cell_type": "code",
   "execution_count": 85,
   "id": "966d459a-188a-4582-8ede-5c26a5475e42",
   "metadata": {
    "execution": {
     "iopub.execute_input": "2024-11-14T18:01:37.933960Z",
     "iopub.status.busy": "2024-11-14T18:01:37.933652Z",
     "iopub.status.idle": "2024-11-14T18:01:38.056284Z",
     "shell.execute_reply": "2024-11-14T18:01:38.055503Z",
     "shell.execute_reply.started": "2024-11-14T18:01:37.933938Z"
    }
   },
   "outputs": [],
   "source": [
    "config_characterize = CharacterizeImageTask.ConfigClass()\n",
    "config_characterize.psfIterations = 2\n",
    "\n",
    "config_detection = SourceDetectionTask.ConfigClass()\n",
    "config_detection.thresholdValue = 5\n",
    "config_detection.thresholdType = \"stdev\"\n",
    "\n",
    "config_deblend = SourceDeblendTask.ConfigClass()\n",
    "config_deblend.propagateAllPeaks = True\n",
    "config_deblend.maskPlanes=[]\n",
    "\n",
    "config_measure = SingleFrameMeasurementTask.ConfigClass() "
   ]
  },
  {
   "cell_type": "code",
   "execution_count": 61,
   "id": "eba35a5c-1918-4c79-a012-daba1ea7d92d",
   "metadata": {
    "execution": {
     "iopub.execute_input": "2024-11-14T17:55:49.527882Z",
     "iopub.status.busy": "2024-11-14T17:55:49.527210Z",
     "iopub.status.idle": "2024-11-14T17:55:49.531341Z",
     "shell.execute_reply": "2024-11-14T17:55:49.530755Z",
     "shell.execute_reply.started": "2024-11-14T17:55:49.527857Z"
    }
   },
   "outputs": [],
   "source": [
    "schema = afwTable.SourceTable.makeMinimalSchema()\n",
    "raerr = schema.addField(\"coord_raErr\", type=\"F\")\n",
    "decerr = schema.addField(\"coord_decErr\", type=\"F\")\n",
    "\n",
    "algMetadata = dafBase.PropertyList()"
   ]
  },
  {
   "cell_type": "markdown",
   "id": "8f817909-2684-4178-be35-a844b133b54d",
   "metadata": {},
   "source": [
    "Define the tasks."
   ]
  },
  {
   "cell_type": "code",
   "execution_count": 62,
   "id": "4093c002-0945-46c2-b8b4-f5c861ecf6ae",
   "metadata": {
    "execution": {
     "iopub.execute_input": "2024-11-14T17:55:53.600394Z",
     "iopub.status.busy": "2024-11-14T17:55:53.599844Z",
     "iopub.status.idle": "2024-11-14T17:55:53.613716Z",
     "shell.execute_reply": "2024-11-14T17:55:53.613196Z",
     "shell.execute_reply.started": "2024-11-14T17:55:53.600369Z"
    }
   },
   "outputs": [],
   "source": [
    "characterizeTask = CharacterizeImageTask(config=config_characterize)\n",
    "detectionTask = SourceDetectionTask(schema=schema, config=config_detection)\n",
    "deblendTask = SourceDeblendTask(schema=schema, config=config_deblend)\n",
    "measureTask = SingleFrameMeasurementTask(schema=schema,\n",
    "                                         config=config_measure,\n",
    "                                         algMetadata=algMetadata)"
   ]
  },
  {
   "cell_type": "markdown",
   "id": "5ec27004-e03b-4a7a-a3ac-e8ecfe002b49",
   "metadata": {},
   "source": [
    "Get the Roman image, set the PSF, and make a cutout."
   ]
  },
  {
   "cell_type": "code",
   "execution_count": 63,
   "id": "ee65988c-aa99-427f-ab48-8847554fcb6b",
   "metadata": {
    "execution": {
     "iopub.execute_input": "2024-11-14T17:56:20.794012Z",
     "iopub.status.busy": "2024-11-14T17:56:20.793339Z",
     "iopub.status.idle": "2024-11-14T17:56:20.797315Z",
     "shell.execute_reply": "2024-11-14T17:56:20.796695Z",
     "shell.execute_reply.started": "2024-11-14T17:56:20.793987Z"
    }
   },
   "outputs": [
    {
     "name": "stdout",
     "output_type": "stream",
     "text": [
      "/project/melissagraham2/troxel2023/dc2_H158_54.24_-38.3.fits\n"
     ]
    }
   ],
   "source": [
    "fnm = ro_img_path + ro_img_fnms[2]\n",
    "print(fnm)"
   ]
  },
  {
   "cell_type": "code",
   "execution_count": 64,
   "id": "04ee7eed-85a4-416a-8579-22c1cd9cc254",
   "metadata": {
    "execution": {
     "iopub.execute_input": "2024-11-14T17:56:21.735812Z",
     "iopub.status.busy": "2024-11-14T17:56:21.735237Z",
     "iopub.status.idle": "2024-11-14T17:56:23.277817Z",
     "shell.execute_reply": "2024-11-14T17:56:23.276914Z",
     "shell.execute_reply.started": "2024-11-14T17:56:21.735788Z"
    }
   },
   "outputs": [
    {
     "data": {
      "text/html": [
       "<pre style=\"margin: 0.1em;\n",
       "padding-left: 0.25em;\n",
       "border-left-style: solid;\n",
       "font-family: var(--jp-code-font-family);\n",
       "font-size: var(--jp-code-font-size);\n",
       "line-height: var(--jp-code-line-height);\n",
       "\"><span style=\"color: var(--jp-warn-color2)\">lsst.afw.image.MaskedImageFitsReader</span> <span style=\"color: var(--jp-warn-color0)\">WARNING</span>: Mask unreadable (cfitsio error (/project/melissagraham2/troxel2023/dc2_H158_54.24_-38.3.fits) : Incompatible type for FITS image: on disk is float32 (HDU 2), in-memory is int32. Read with allowUnsafe=True to permit conversions that may overflow.\n",
       "cfitsio error stack:\n",
       "); using default</pre>"
      ],
      "text/plain": [
       "<IPython.core.display.HTML object>"
      ]
     },
     "metadata": {},
     "output_type": "display_data"
    },
    {
     "data": {
      "text/html": [
       "<pre style=\"margin: 0.1em;\n",
       "padding-left: 0.25em;\n",
       "border-left-style: solid;\n",
       "font-family: var(--jp-code-font-family);\n",
       "font-size: var(--jp-code-font-size);\n",
       "line-height: var(--jp-code-line-height);\n",
       "\"><span style=\"color: var(--jp-warn-color2)\">lsst.afw.image.MaskedImageFitsReader</span> <span style=\"color: var(--jp-warn-color0)\">WARNING</span>: Expected extension type not found: IMAGE</pre>"
      ],
      "text/plain": [
       "<IPython.core.display.HTML object>"
      ]
     },
     "metadata": {},
     "output_type": "display_data"
    }
   ],
   "source": [
    "image = afwImage.ExposureF.readFits(fnm)\n",
    "\n",
    "\n",
    "# Set PSF in full image\n",
    "fn_psf = \"/project/plazas/troxel2023/psf/coadd/dc2_H158_54.24_-38.3_psf.fits\"\n",
    "psf = measAlg.KernelPsf(afwMath.FixedKernel(afwImage.ImageD(fn_psf)))\n",
    "\n",
    "image.setPsf(psf)\n",
    "\n",
    "size = stampsize * scale_ratio\n",
    "extent = lsst.geom.ExtentI(size, size)\n",
    "cutout = image.getCutout(radec, extent)"
   ]
  },
  {
   "cell_type": "code",
   "execution_count": 65,
   "id": "c89a09ed-6101-4fe7-baea-ec1db636301c",
   "metadata": {
    "execution": {
     "iopub.execute_input": "2024-11-14T17:56:31.488391Z",
     "iopub.status.busy": "2024-11-14T17:56:31.487833Z",
     "iopub.status.idle": "2024-11-14T17:56:31.492130Z",
     "shell.execute_reply": "2024-11-14T17:56:31.491375Z",
     "shell.execute_reply.started": "2024-11-14T17:56:31.488367Z"
    }
   },
   "outputs": [],
   "source": [
    "tab = afwTable.SourceTable.make(schema)"
   ]
  },
  {
   "cell_type": "code",
   "execution_count": 66,
   "id": "53ea22c8-b6a5-4143-853b-d956bea13ad9",
   "metadata": {
    "execution": {
     "iopub.execute_input": "2024-11-14T17:56:41.345719Z",
     "iopub.status.busy": "2024-11-14T17:56:41.345194Z",
     "iopub.status.idle": "2024-11-14T17:56:41.433623Z",
     "shell.execute_reply": "2024-11-14T17:56:41.433005Z",
     "shell.execute_reply.started": "2024-11-14T17:56:41.345697Z"
    }
   },
   "outputs": [
    {
     "data": {
      "text/html": [
       "<pre style=\"margin: 0.1em;\n",
       "padding-left: 0.25em;\n",
       "border-left-style: solid;\n",
       "font-family: var(--jp-code-font-family);\n",
       "font-size: var(--jp-code-font-size);\n",
       "line-height: var(--jp-code-line-height);\n",
       "\"><span style=\"color: var(--jp-warn-color2)\">lsst.sourceDetection</span> <span style=\"color: var(--jp-info-color0)\">INFO</span>: Setting factor for negative detections equal to that for positive detections: 1.000000</pre>"
      ],
      "text/plain": [
       "<IPython.core.display.HTML object>"
      ]
     },
     "metadata": {},
     "output_type": "display_data"
    },
    {
     "data": {
      "text/html": [
       "<pre style=\"margin: 0.1em;\n",
       "padding-left: 0.25em;\n",
       "border-left-style: solid;\n",
       "font-family: var(--jp-code-font-family);\n",
       "font-size: var(--jp-code-font-size);\n",
       "line-height: var(--jp-code-line-height);\n",
       "\"><span style=\"color: var(--jp-warn-color2)\">lsst.sourceDetection</span> <span style=\"color: var(--jp-info-color0)\">INFO</span>: Detected 26 positive peaks in 23 footprints and 0 negative peaks in 0 footprints to 5 +ve and 5 -ve sigma</pre>"
      ],
      "text/plain": [
       "<IPython.core.display.HTML object>"
      ]
     },
     "metadata": {},
     "output_type": "display_data"
    },
    {
     "data": {
      "text/html": [
       "<pre style=\"margin: 0.1em;\n",
       "padding-left: 0.25em;\n",
       "border-left-style: solid;\n",
       "font-family: var(--jp-code-font-family);\n",
       "font-size: var(--jp-code-font-size);\n",
       "line-height: var(--jp-code-line-height);\n",
       "\"><span style=\"color: var(--jp-warn-color2)\">lsst.sourceDetection.background</span> <span style=\"color: var(--jp-warn-color0)\">WARNING</span>: Too few points in grid to constrain fit: min(nx, ny) &lt; approxOrder) [min(5, 5) &lt; 6]</pre>"
      ],
      "text/plain": [
       "<IPython.core.display.HTML object>"
      ]
     },
     "metadata": {},
     "output_type": "display_data"
    },
    {
     "data": {
      "text/html": [
       "<pre style=\"margin: 0.1em;\n",
       "padding-left: 0.25em;\n",
       "border-left-style: solid;\n",
       "font-family: var(--jp-code-font-family);\n",
       "font-size: var(--jp-code-font-size);\n",
       "line-height: var(--jp-code-line-height);\n",
       "\"><span style=\"color: var(--jp-warn-color2)\">lsst.sourceDetection.background</span> <span style=\"color: var(--jp-warn-color0)\">WARNING</span>: Reducing approxOrder to 4</pre>"
      ],
      "text/plain": [
       "<IPython.core.display.HTML object>"
      ]
     },
     "metadata": {},
     "output_type": "display_data"
    },
    {
     "data": {
      "text/html": [
       "<pre style=\"margin: 0.1em;\n",
       "padding-left: 0.25em;\n",
       "border-left-style: solid;\n",
       "font-family: var(--jp-code-font-family);\n",
       "font-size: var(--jp-code-font-size);\n",
       "line-height: var(--jp-code-line-height);\n",
       "\"><span style=\"color: var(--jp-warn-color2)\">lsst.sourceDetection</span> <span style=\"color: var(--jp-info-color0)\">INFO</span>: Resubtracting the background after object detection</pre>"
      ],
      "text/plain": [
       "<IPython.core.display.HTML object>"
      ]
     },
     "metadata": {},
     "output_type": "display_data"
    }
   ],
   "source": [
    "result = detectionTask.run(tab, cutout)"
   ]
  },
  {
   "cell_type": "code",
   "execution_count": 67,
   "id": "1735bf2e-71b6-4d95-935d-36a06682b4e2",
   "metadata": {
    "execution": {
     "iopub.execute_input": "2024-11-14T17:56:42.480838Z",
     "iopub.status.busy": "2024-11-14T17:56:42.480512Z",
     "iopub.status.idle": "2024-11-14T17:56:42.485134Z",
     "shell.execute_reply": "2024-11-14T17:56:42.484431Z",
     "shell.execute_reply.started": "2024-11-14T17:56:42.480817Z"
    }
   },
   "outputs": [
    {
     "data": {
      "text/plain": [
       "26"
      ]
     },
     "execution_count": 67,
     "metadata": {},
     "output_type": "execute_result"
    }
   ],
   "source": [
    "result.numPosPeaks"
   ]
  },
  {
   "cell_type": "code",
   "execution_count": 68,
   "id": "0802892d-8772-4eb0-9348-5665eed97a15",
   "metadata": {
    "execution": {
     "iopub.execute_input": "2024-11-14T17:56:43.287258Z",
     "iopub.status.busy": "2024-11-14T17:56:43.286481Z",
     "iopub.status.idle": "2024-11-14T17:56:43.290324Z",
     "shell.execute_reply": "2024-11-14T17:56:43.289725Z",
     "shell.execute_reply.started": "2024-11-14T17:56:43.287233Z"
    }
   },
   "outputs": [],
   "source": [
    "sources = result.sources"
   ]
  },
  {
   "cell_type": "code",
   "execution_count": 69,
   "id": "c2d38b1e-274d-4726-8fa2-7252b8508f00",
   "metadata": {
    "execution": {
     "iopub.execute_input": "2024-11-14T17:56:44.471296Z",
     "iopub.status.busy": "2024-11-14T17:56:44.470714Z",
     "iopub.status.idle": "2024-11-14T17:56:44.474297Z",
     "shell.execute_reply": "2024-11-14T17:56:44.473598Z",
     "shell.execute_reply.started": "2024-11-14T17:56:44.471271Z"
    }
   },
   "outputs": [],
   "source": [
    "# sources"
   ]
  },
  {
   "cell_type": "code",
   "execution_count": 70,
   "id": "4256f785-d856-42f4-b761-0aac089ab946",
   "metadata": {
    "execution": {
     "iopub.execute_input": "2024-11-14T17:56:49.104599Z",
     "iopub.status.busy": "2024-11-14T17:56:49.103782Z",
     "iopub.status.idle": "2024-11-14T17:56:49.138737Z",
     "shell.execute_reply": "2024-11-14T17:56:49.138060Z",
     "shell.execute_reply.started": "2024-11-14T17:56:49.104574Z"
    }
   },
   "outputs": [
    {
     "data": {
      "text/html": [
       "<pre style=\"margin: 0.1em;\n",
       "padding-left: 0.25em;\n",
       "border-left-style: solid;\n",
       "font-family: var(--jp-code-font-family);\n",
       "font-size: var(--jp-code-font-size);\n",
       "line-height: var(--jp-code-line-height);\n",
       "\"><span style=\"color: var(--jp-warn-color2)\">lsst.sourceDeblend</span> <span style=\"color: var(--jp-info-color0)\">INFO</span>: Deblending 23 sources</pre>"
      ],
      "text/plain": [
       "<IPython.core.display.HTML object>"
      ]
     },
     "metadata": {},
     "output_type": "display_data"
    },
    {
     "data": {
      "text/html": [
       "<pre style=\"margin: 0.1em;\n",
       "padding-left: 0.25em;\n",
       "border-left-style: solid;\n",
       "font-family: var(--jp-code-font-family);\n",
       "font-size: var(--jp-code-font-size);\n",
       "line-height: var(--jp-code-line-height);\n",
       "\"><span style=\"color: var(--jp-warn-color2)\">lsst.sourceDeblend</span> <span style=\"color: var(--jp-info-color0)\">INFO</span>: Deblended: of 23 sources, 2 were deblended, creating 5 children, total 28 sources</pre>"
      ],
      "text/plain": [
       "<IPython.core.display.HTML object>"
      ]
     },
     "metadata": {},
     "output_type": "display_data"
    }
   ],
   "source": [
    "deblendTask.run(cutout, sources)"
   ]
  },
  {
   "cell_type": "code",
   "execution_count": 71,
   "id": "43e29055-6352-4f15-ab53-1e00d4ac7b2b",
   "metadata": {
    "execution": {
     "iopub.execute_input": "2024-11-14T17:56:49.899690Z",
     "iopub.status.busy": "2024-11-14T17:56:49.899110Z",
     "iopub.status.idle": "2024-11-14T17:56:50.093070Z",
     "shell.execute_reply": "2024-11-14T17:56:50.092316Z",
     "shell.execute_reply.started": "2024-11-14T17:56:49.899668Z"
    }
   },
   "outputs": [
    {
     "data": {
      "text/html": [
       "<pre style=\"margin: 0.1em;\n",
       "padding-left: 0.25em;\n",
       "border-left-style: solid;\n",
       "font-family: var(--jp-code-font-family);\n",
       "font-size: var(--jp-code-font-size);\n",
       "line-height: var(--jp-code-line-height);\n",
       "\"><span style=\"color: var(--jp-warn-color2)\">lsst.measurement</span> <span style=\"color: var(--jp-info-color0)\">INFO</span>: Measuring 28 sources (23 parents, 5 children) </pre>"
      ],
      "text/plain": [
       "<IPython.core.display.HTML object>"
      ]
     },
     "metadata": {},
     "output_type": "display_data"
    }
   ],
   "source": [
    "measureTask.run(measCat=sources, exposure=cutout)"
   ]
  },
  {
   "cell_type": "code",
   "execution_count": 72,
   "id": "932a867a-4c9a-4bf4-a227-095ab19af1a2",
   "metadata": {
    "execution": {
     "iopub.execute_input": "2024-11-14T17:56:50.516521Z",
     "iopub.status.busy": "2024-11-14T17:56:50.515636Z",
     "iopub.status.idle": "2024-11-14T17:56:50.520033Z",
     "shell.execute_reply": "2024-11-14T17:56:50.519294Z",
     "shell.execute_reply.started": "2024-11-14T17:56:50.516496Z"
    }
   },
   "outputs": [],
   "source": [
    "sources = sources.copy(True)"
   ]
  },
  {
   "cell_type": "markdown",
   "id": "f71beced-0bea-4fd2-9028-a718aa730c0f",
   "metadata": {},
   "source": [
    "Display the Roman H-band cutout in frame 2."
   ]
  },
  {
   "cell_type": "code",
   "execution_count": 74,
   "id": "3d1c5ec0-134b-4a58-9496-2e1463a2206e",
   "metadata": {
    "execution": {
     "iopub.execute_input": "2024-11-14T18:00:12.706848Z",
     "iopub.status.busy": "2024-11-14T18:00:12.706274Z",
     "iopub.status.idle": "2024-11-14T18:00:12.963794Z",
     "shell.execute_reply": "2024-11-14T18:00:12.962954Z",
     "shell.execute_reply.started": "2024-11-14T18:00:12.706824Z"
    }
   },
   "outputs": [],
   "source": [
    "afw_display = afwDisplay.Display(frame=2)\n",
    "afw_display.mtv(cutout)\n",
    "afw_display.setMaskTransparency(100)"
   ]
  },
  {
   "cell_type": "markdown",
   "id": "5c42df01-d798-481c-833f-f7206314e4d1",
   "metadata": {
    "editable": true,
    "slideshow": {
     "slide_type": ""
    },
    "tags": []
   },
   "source": [
    "Overplot detected sources.\n"
   ]
  },
  {
   "cell_type": "code",
   "execution_count": 75,
   "id": "81000225-e686-4f10-8075-63967add2c55",
   "metadata": {
    "execution": {
     "iopub.execute_input": "2024-11-14T18:00:14.523520Z",
     "iopub.status.busy": "2024-11-14T18:00:14.522705Z",
     "iopub.status.idle": "2024-11-14T18:00:14.527554Z",
     "shell.execute_reply": "2024-11-14T18:00:14.526818Z",
     "shell.execute_reply.started": "2024-11-14T18:00:14.523495Z"
    }
   },
   "outputs": [],
   "source": [
    "ra_vals = np.asarray(sources['coord_ra'], dtype='float')\n",
    "dec_vals = np.asarray(sources['coord_dec'], dtype='float')\n",
    "x_vals = np.asarray(sources.getX(), dtype='float')\n",
    "y_vals = np.asarray(sources.getY(), dtype='float')"
   ]
  },
  {
   "cell_type": "code",
   "execution_count": 76,
   "id": "51737908-4f20-4b26-b4d1-cb5ff169e905",
   "metadata": {
    "execution": {
     "iopub.execute_input": "2024-11-14T18:00:16.031068Z",
     "iopub.status.busy": "2024-11-14T18:00:16.030499Z",
     "iopub.status.idle": "2024-11-14T18:00:16.035480Z",
     "shell.execute_reply": "2024-11-14T18:00:16.034700Z",
     "shell.execute_reply.started": "2024-11-14T18:00:16.031019Z"
    }
   },
   "outputs": [
    {
     "name": "stdout",
     "output_type": "stream",
     "text": [
      "0.9472796012143034 0.9474526559500056\n",
      "-0.6685297899537634 -0.6683946434095236\n",
      "2316.0 2803.0\n",
      "5397.0 5881.800331373262\n"
     ]
    }
   ],
   "source": [
    "print(np.min(ra_vals), np.max(ra_vals))\n",
    "print(np.min(dec_vals), np.max(dec_vals))\n",
    "print(np.min(x_vals), np.max(x_vals))\n",
    "print(np.min(y_vals), np.max(y_vals))"
   ]
  },
  {
   "cell_type": "code",
   "execution_count": 77,
   "id": "9a454f28-ed22-42d5-8382-6d7376cc1316",
   "metadata": {
    "execution": {
     "iopub.execute_input": "2024-11-14T18:00:17.101205Z",
     "iopub.status.busy": "2024-11-14T18:00:17.100506Z",
     "iopub.status.idle": "2024-11-14T18:00:17.105703Z",
     "shell.execute_reply": "2024-11-14T18:00:17.105009Z",
     "shell.execute_reply.started": "2024-11-14T18:00:17.101177Z"
    }
   },
   "outputs": [
    {
     "data": {
      "text/plain": [
       "Extent2I(521, 521)"
      ]
     },
     "execution_count": 77,
     "metadata": {},
     "output_type": "execute_result"
    }
   ],
   "source": [
    "extent"
   ]
  },
  {
   "cell_type": "code",
   "execution_count": 78,
   "id": "e704de34-3476-4466-b1ed-49a4251cf7d5",
   "metadata": {
    "execution": {
     "iopub.execute_input": "2024-11-14T18:00:17.789260Z",
     "iopub.status.busy": "2024-11-14T18:00:17.788432Z",
     "iopub.status.idle": "2024-11-14T18:00:17.793464Z",
     "shell.execute_reply": "2024-11-14T18:00:17.792873Z",
     "shell.execute_reply.started": "2024-11-14T18:00:17.789234Z"
    }
   },
   "outputs": [
    {
     "data": {
      "text/plain": [
       "Box2I(corner=Point2I(2303, 5384), dimensions=Extent2I(521, 521))"
      ]
     },
     "execution_count": 78,
     "metadata": {},
     "output_type": "execute_result"
    }
   ],
   "source": [
    "cutout.image.getBBox()"
   ]
  },
  {
   "cell_type": "code",
   "execution_count": 79,
   "id": "1f803348-8081-440f-8392-0d6562ed300a",
   "metadata": {
    "execution": {
     "iopub.execute_input": "2024-11-14T18:00:18.500164Z",
     "iopub.status.busy": "2024-11-14T18:00:18.499368Z",
     "iopub.status.idle": "2024-11-14T18:00:18.502996Z",
     "shell.execute_reply": "2024-11-14T18:00:18.502384Z",
     "shell.execute_reply.started": "2024-11-14T18:00:18.500139Z"
    }
   },
   "outputs": [],
   "source": [
    "#tx = np.where((x_vals > 2303) &\n",
    "#              (x_vals < 5384) &\n",
    "#              (y_vals > 2303) &\n",
    "#              (y_vals < 5384))[0]\n",
    "# tx = np.where((ra_vals > ra - 0.01) &\n",
    "#               (ra_vals < ra + 0.01) &\n",
    "#               (dec_vals > dec - 0.01) &\n",
    "#               (dec_vals < dec + 0.01))[0]\n",
    "#print(len(tx))"
   ]
  },
  {
   "cell_type": "markdown",
   "id": "f613907e-aac9-4966-914d-1b0ca9a544fb",
   "metadata": {},
   "source": [
    "Plot the fources."
   ]
  },
  {
   "cell_type": "code",
   "execution_count": 80,
   "id": "d9533f41-8c61-4d5d-bba4-a6f5ebb9f440",
   "metadata": {
    "execution": {
     "iopub.execute_input": "2024-11-14T18:00:19.662431Z",
     "iopub.status.busy": "2024-11-14T18:00:19.661489Z",
     "iopub.status.idle": "2024-11-14T18:00:19.671078Z",
     "shell.execute_reply": "2024-11-14T18:00:19.670444Z",
     "shell.execute_reply.started": "2024-11-14T18:00:19.662409Z"
    }
   },
   "outputs": [],
   "source": [
    "with afw_display.Buffering():\n",
    "    #for x in tx:\n",
    "    for i in np.arange(len(x_vals)):\n",
    "        afw_display.dot('o', x_vals[i], y_vals[i],\n",
    "                        size=20, ctype='orange')"
   ]
  },
  {
   "cell_type": "markdown",
   "id": "cba75d04-b0bd-4e9d-aae3-a6ab8fd639d6",
   "metadata": {
    "editable": true,
    "slideshow": {
     "slide_type": ""
    },
    "tags": []
   },
   "source": [
    "Clean up."
   ]
  },
  {
   "cell_type": "code",
   "execution_count": 81,
   "id": "b480f0a2-2adb-4997-ba12-3b93b5298d9c",
   "metadata": {
    "execution": {
     "iopub.execute_input": "2024-11-14T18:00:34.870345Z",
     "iopub.status.busy": "2024-11-14T18:00:34.869528Z",
     "iopub.status.idle": "2024-11-14T18:00:34.930931Z",
     "shell.execute_reply": "2024-11-14T18:00:34.930036Z",
     "shell.execute_reply.started": "2024-11-14T18:00:34.870321Z"
    }
   },
   "outputs": [],
   "source": [
    "del ra_vals, dec_vals, x_vals, y_vals\n",
    "del fnm, image, size, cutout, extent\n",
    "del tab, result, sources"
   ]
  },
  {
   "cell_type": "code",
   "execution_count": 86,
   "id": "5166ee49-172a-4e35-8c17-1dae54ae0ec7",
   "metadata": {
    "execution": {
     "iopub.execute_input": "2024-11-14T18:01:49.427675Z",
     "iopub.status.busy": "2024-11-14T18:01:49.427367Z",
     "iopub.status.idle": "2024-11-14T18:01:49.432217Z",
     "shell.execute_reply": "2024-11-14T18:01:49.431514Z",
     "shell.execute_reply.started": "2024-11-14T18:01:49.427652Z"
    }
   },
   "outputs": [],
   "source": [
    "del config_detection, config_deblend, config_measure\n",
    "del algMetadata, schema\n",
    "del characterizeTask, detectionTask, deblendTask, measureTask"
   ]
  },
  {
   "cell_type": "code",
   "execution_count": null,
   "id": "3c6bcf98-6908-488b-b8eb-fc6cfb6c36e6",
   "metadata": {},
   "outputs": [],
   "source": []
  },
  {
   "cell_type": "code",
   "execution_count": null,
   "id": "23239e35-40aa-4e29-bdf6-d16f7d607b75",
   "metadata": {},
   "outputs": [],
   "source": []
  },
  {
   "cell_type": "code",
   "execution_count": null,
   "id": "713bd5f8-87be-4c4a-b3f7-299c14a6b45a",
   "metadata": {},
   "outputs": [],
   "source": []
  },
  {
   "cell_type": "code",
   "execution_count": null,
   "id": "796dcc53-5f4a-41c8-a019-39233572f6ba",
   "metadata": {},
   "outputs": [],
   "source": []
  },
  {
   "cell_type": "code",
   "execution_count": null,
   "id": "a71b36fd-1912-43f4-a2a8-0a1e695da812",
   "metadata": {},
   "outputs": [],
   "source": []
  }
 ],
 "metadata": {
  "kernelspec": {
   "display_name": "LSST",
   "language": "python",
   "name": "lsst"
  },
  "language_info": {
   "codemirror_mode": {
    "name": "ipython",
    "version": 3
   },
   "file_extension": ".py",
   "mimetype": "text/x-python",
   "name": "python",
   "nbconvert_exporter": "python",
   "pygments_lexer": "ipython3",
   "version": "3.11.9"
  }
 },
 "nbformat": 4,
 "nbformat_minor": 5
}
