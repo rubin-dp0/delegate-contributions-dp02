{
 "cells": [
  {
   "cell_type": "markdown",
   "id": "73176e5e-1912-4769-939b-b6aaf57b4006",
   "metadata": {},
   "source": [
    "# Rubin (DP0) & Roman (Troxel+23) images\n",
    "\n",
    "Contact: Melissa Graham\n",
    "\n",
    "**Based on a tutorial by Chien-Hao Lin.**\n",
    "\n",
    "Date: Mon Nov 11 2024\n",
    "\n",
    "RSP Image: Weekly 2024_42\n",
    "\n",
    "Goal: Recreate Chien-Hao's notebook and use Roman images to help with deblending Rubin images.\n",
    "\n",
    "## Introduction\n",
    "\n",
    "Space-based images have much higher resolution.\n",
    "Stars and galaxies that are very close together or even overlapping (blended) due to chance\n",
    "alignments along the line-of-sight can be better distinguished in higher resolution images.\n",
    "So can actual galaxy mergers in close physical proximity, though this is less common.\n",
    "\n",
    "It is possible to use the locations of physically distinct objects (deblended objects)\n",
    "from higher resolution images to make more accurate photometry measurements.\n",
    "In cases where the higher and lower resolution images are obtained in the same filters,\n",
    "and with similar depths, it makes sense just to use the higher resolution images alone.\n",
    "\n",
    "However, Rubin will obtain data in optical filters and Roman in infrared filters.\n",
    "In this case, using the higher-resolution infrared images to determine the number and\n",
    "location of distinct objects, and then make photometric measurements in Rubin's\n",
    "optical-range images, can improve the optical photometric measurements.\n",
    "\n",
    "Roman DC2 Simulated Images and Catalogs at IRSA IPAC:<br>\n",
    "https://irsa.ipac.caltech.edu/data/theory/Roman/Troxel2023/overview.html\n",
    "\n",
    "Troxel et al. (2023):<br>\n",
    "https://academic.oup.com/mnras/article/522/2/2801/7076879?login=false\n",
    "\n",
    "## Set up"
   ]
  },
  {
   "cell_type": "code",
   "execution_count": null,
   "id": "f828784b-7a14-4dda-aab4-72a4c618128d",
   "metadata": {},
   "outputs": [],
   "source": [
    "import numpy as np\n",
    "\n",
    "import lsst.geom\n",
    "import lsst.afw.image as afwImage\n",
    "import lsst.afw.display as afwDisplay\n",
    "from lsst.daf.butler import Butler as dafButler\n",
    "\n",
    "import lsst.daf.base as dafBase\n",
    "from lsst.pipe.tasks.characterizeImage import CharacterizeImageTask\n",
    "from lsst.meas.algorithms.detection import SourceDetectionTask\n",
    "from lsst.meas.deblender import SourceDeblendTask\n",
    "from lsst.meas.base import SingleFrameMeasurementTask\n",
    "import lsst.afw.table as afwTable"
   ]
  },
  {
   "cell_type": "markdown",
   "id": "ff25f866-fd94-4604-aee6-2e12cadf07f6",
   "metadata": {},
   "source": [
    "Set the display backed to be Firefly."
   ]
  },
  {
   "cell_type": "code",
   "execution_count": null,
   "id": "0ae70064-9770-4dd5-a49f-20f28e9c850e",
   "metadata": {},
   "outputs": [],
   "source": [
    "afwDisplay.setDefaultBackend('firefly')"
   ]
  },
  {
   "cell_type": "markdown",
   "id": "e81ff194-c248-47de-80a7-5e04a30fdd59",
   "metadata": {},
   "source": [
    "Instantiate the butler."
   ]
  },
  {
   "cell_type": "code",
   "execution_count": null,
   "id": "9df61d90-0082-4729-95a5-b3defd9a8d32",
   "metadata": {},
   "outputs": [],
   "source": [
    "butler = dafButler('dp02', collections='2.2i/runs/DP0.2')"
   ]
  },
  {
   "cell_type": "markdown",
   "id": "99a64a7b-4763-4fcd-8133-4218ee801ffe",
   "metadata": {},
   "source": [
    "Define `ra` and `dec`, the central coordinates of interest.\n",
    "\n",
    "Define the scale, in arcseconds per pixel, of Rubin and Roman images.\n",
    "\n",
    "Define the stamp size to use when visualizing the images (i.e., the cutout size), in Rubin pixels; then use `stampsize / scale_ratio` as the extent when visualizing Roman images."
   ]
  },
  {
   "cell_type": "code",
   "execution_count": null,
   "id": "82b5adf6-9c9f-4418-92cc-7a8e546e4daf",
   "metadata": {},
   "outputs": [],
   "source": [
    "ra, dec = 54.28, -38.30\n",
    "rubin_scale = 0.2\n",
    "roman_scale = 0.0575\n",
    "stampsize = 150\n",
    "scale_ratio = rubin_scale/roman_scale"
   ]
  },
  {
   "cell_type": "markdown",
   "id": "0e8bfca6-dcdf-482b-880f-d01101701dd2",
   "metadata": {},
   "source": [
    "Convert the coordinates to type `SpherePoint`."
   ]
  },
  {
   "cell_type": "code",
   "execution_count": null,
   "id": "b3d90440-acff-4ee7-b63b-9866eb0f860a",
   "metadata": {},
   "outputs": [],
   "source": [
    "radec = lsst.geom.SpherePoint(ra, dec, lsst.geom.degrees)"
   ]
  },
  {
   "cell_type": "markdown",
   "id": "aae1d8a8-c1ff-4e31-891c-a106049ff917",
   "metadata": {},
   "source": [
    "For Rubin images: identify Rubin DP0.2 butler tract and patch for the desired coordinates."
   ]
  },
  {
   "cell_type": "code",
   "execution_count": null,
   "id": "a9a6c2c2-0c5a-4289-b5b1-766600886e90",
   "metadata": {},
   "outputs": [],
   "source": [
    "skymap = butler.get('skyMap')\n",
    "tract = skymap.findTract(radec).tract_id\n",
    "patch = skymap.findTract(radec).findPatch(radec).getSequentialIndex()\n",
    "print(tract, patch)"
   ]
  },
  {
   "cell_type": "markdown",
   "id": "978266fd-165d-41d1-84f0-39c2f0d26c1a",
   "metadata": {},
   "source": [
    "For Roman images: four filters for one patch of deeply coadded Roman images have been stored in the shared space in the `/project` directory."
   ]
  },
  {
   "cell_type": "code",
   "execution_count": null,
   "id": "c8b72657-05c7-4816-8223-05ca24280d22",
   "metadata": {},
   "outputs": [],
   "source": [
    "ro_img_path = '/project/melissagraham2/troxel2023/'\n",
    "ro_img_fnms = ['dc2_Y106_54.24_-38.3.fits',\n",
    "               'dc2_J129_54.24_-38.3.fits',\n",
    "               'dc2_H158_54.24_-38.3.fits',\n",
    "               'dc2_F184_54.24_-38.3.fits']"
   ]
  },
  {
   "cell_type": "markdown",
   "id": "4bd17689-7bf5-413e-a19e-8c626f11195a",
   "metadata": {},
   "source": [
    "## Visualize images\n",
    "\n",
    "### Rubin images\n",
    "\n",
    "For each filter, retrieve the `deepCoadd` patch and display the cutout in Firefly frames 1 through 6."
   ]
  },
  {
   "cell_type": "code",
   "execution_count": null,
   "id": "9789ff1c-67f5-4fae-825b-03dfdb3d9cf1",
   "metadata": {},
   "outputs": [],
   "source": [
    "lsst_bands = ['u', 'g', 'r', 'i', 'z', 'y']\n",
    "for i in range(6):\n",
    "    print(i+1, lsst_bands[i])\n",
    "    afw_display = afwDisplay.Display(frame=i+1)\n",
    "    dataId = {'tract': tract, 'patch': patch, 'band': lsst_bands[i]}\n",
    "    image = butler.get('deepCoadd', dataId=dataId)\n",
    "    size = stampsize\n",
    "    extent = lsst.geom.ExtentI(size, size)\n",
    "    cutout = image.getCutout(radec, extent)\n",
    "    afw_display.mtv(cutout)\n",
    "    afw_display.setMaskTransparency(100)\n",
    "    del dataId, image, size, extent, cutout"
   ]
  },
  {
   "cell_type": "markdown",
   "id": "2d4d9bc5-39f5-4ff0-9bfc-9087ac2608ea",
   "metadata": {},
   "source": [
    "### Roman images\n",
    "\n",
    "Load and display a small cutout from each of the four images in Firefly frames 7 through 10.\n",
    "\n",
    "> **Warnings:** Below, the warnings about unreadable mask extensions can be disregarded for the purposes of this tutorial, but generally when using the LSST Science Pipelines with non-Rubin data, all warnings should be followed up and third-party data sets might need to be reformatted to work properly.\n",
    "In this case the images have four extensions: SCI, WHT, CTX, ERR.\n",
    "But the `readFits` function expects MASK and IMAGE extensions."
   ]
  },
  {
   "cell_type": "code",
   "execution_count": null,
   "id": "4b03f732-2aea-40c3-9c56-5ad064a228e4",
   "metadata": {},
   "outputs": [],
   "source": [
    "for i in range(4):\n",
    "    afw_display = afwDisplay.Display(frame=i+7)\n",
    "    fnm = ro_img_path + ro_img_fnms[i]\n",
    "    print(i+7, fnm)\n",
    "    image = afwImage.ExposureF.readFits(fnm)\n",
    "    size = stampsize * scale_ratio\n",
    "    extent = lsst.geom.ExtentI(size, size)\n",
    "    cutout = image.getCutout(radec, extent)\n",
    "    afw_display.mtv(cutout)\n",
    "    del fnm, image, size, extent, cutout"
   ]
  },
  {
   "cell_type": "markdown",
   "id": "982a6cc8-a399-4c22-ac5e-5e2e4d7f060f",
   "metadata": {},
   "source": [
    "### Clean up the Firefly window\n",
    "\n",
    "Close each panel by clicking on the 'X' in the upper right corner until the display again says \"Firefly Ready\" and \"Awaiting Python API Commands\"."
   ]
  },
  {
   "cell_type": "markdown",
   "id": "15d8d66e-fb8d-4866-b1f2-e8f0811a4ab6",
   "metadata": {},
   "source": [
    "## Visualize detected sources\n",
    "\n",
    "### Rubin\n",
    "\n",
    "Source detection has already been run on the Rubin DP0 images.\n",
    "\n",
    "The threshold is 5-sigma.\n",
    "\n",
    "Display the r-band image cutout and overplot detected sources."
   ]
  },
  {
   "cell_type": "code",
   "execution_count": null,
   "id": "7b77a6c5-1406-49d8-b678-6f886da5e529",
   "metadata": {},
   "outputs": [],
   "source": [
    "dataId = {'tract': tract, 'patch': patch, 'band': 'r'}"
   ]
  },
  {
   "cell_type": "code",
   "execution_count": null,
   "id": "3ff9ef73-9c7b-4502-bfb9-9cf8fac9030c",
   "metadata": {},
   "outputs": [],
   "source": [
    "objects = butler.get('objectTable', dataId=dataId)"
   ]
  },
  {
   "cell_type": "code",
   "execution_count": null,
   "id": "d50ce51c-c455-40a9-9c01-072f7309bde3",
   "metadata": {},
   "outputs": [],
   "source": [
    "# objects"
   ]
  },
  {
   "cell_type": "markdown",
   "id": "7060e9fb-cde3-4bff-94e7-0b3da1a9b29d",
   "metadata": {},
   "source": [
    "Extract coordinate data into `numpy` arrays."
   ]
  },
  {
   "cell_type": "code",
   "execution_count": null,
   "id": "fcebe2c0-b410-4308-9b47-b1ffe95cb948",
   "metadata": {},
   "outputs": [],
   "source": [
    "ra_vals = np.asarray(objects['coord_ra'], dtype='float')\n",
    "dec_vals = np.asarray(objects['coord_dec'], dtype='float')\n",
    "x_vals = np.asarray(objects['x'], dtype='float')\n",
    "y_vals = np.asarray(objects['y'], dtype='float')"
   ]
  },
  {
   "cell_type": "markdown",
   "id": "dfb8a628-2700-404b-9791-d68b1fa0f593",
   "metadata": {},
   "source": [
    "Display the r-band cutout."
   ]
  },
  {
   "cell_type": "code",
   "execution_count": null,
   "id": "aa33cf7d-cc82-420f-864f-e2b801b8e9cc",
   "metadata": {},
   "outputs": [],
   "source": [
    "afw_display = afwDisplay.Display(frame=1)\n",
    "image = butler.get('deepCoadd', dataId=dataId)\n",
    "size = stampsize\n",
    "extent = lsst.geom.ExtentI(size, size)\n",
    "cutout = image.getCutout(radec, extent)\n",
    "afw_display.mtv(cutout)\n",
    "afw_display.setMaskTransparency(100)"
   ]
  },
  {
   "cell_type": "markdown",
   "id": "1d76c5f0-b3b3-4eaf-b456-7c128f13cea8",
   "metadata": {},
   "source": [
    "Mark detected objects with orange circles.\n",
    "\n",
    "The stampsize of 150 x 150 pixels is 30 x 30 arcsec, or about 0.008 x 0.008 degrees.\n",
    "Only plot objects thata re in the cutout."
   ]
  },
  {
   "cell_type": "code",
   "execution_count": null,
   "id": "519c93d4-678f-49c6-84ab-c8a9a4aa2905",
   "metadata": {},
   "outputs": [],
   "source": [
    "tx = np.where((ra_vals > ra - 0.01) &\n",
    "              (ra_vals < ra + 0.01) &\n",
    "              (dec_vals > dec - 0.01) &\n",
    "              (dec_vals < dec + 0.01))[0]\n",
    "print(len(tx))"
   ]
  },
  {
   "cell_type": "code",
   "execution_count": null,
   "id": "de0c5b6c-d1c4-4e6c-8218-6635289b8b91",
   "metadata": {},
   "outputs": [],
   "source": [
    "with afw_display.Buffering():\n",
    "    for x in tx:\n",
    "        afw_display.dot('o', x_vals[x], y_vals[x],\n",
    "                        size=5, ctype='orange')"
   ]
  },
  {
   "cell_type": "markdown",
   "id": "98d71571-dc44-44d5-b985-d107e941bae5",
   "metadata": {},
   "source": [
    "Clean up."
   ]
  },
  {
   "cell_type": "code",
   "execution_count": null,
   "id": "656da226-bcba-4fca-b69e-d18569a81648",
   "metadata": {},
   "outputs": [],
   "source": [
    "del ra_vals, dec_vals, x_vals, y_vals\n",
    "del tx\n",
    "del dataId, image, size, extent, cutout"
   ]
  },
  {
   "cell_type": "markdown",
   "id": "19dea0f1-66a5-4777-9a1f-19e94cce8fe5",
   "metadata": {},
   "source": [
    "### Roman\n",
    "\n",
    "#### Code straight from other tutorial\n",
    "\n",
    "Ends up failing, try to fix later."
   ]
  },
  {
   "cell_type": "code",
   "execution_count": null,
   "id": "f079499f-0cef-4138-9317-3db62b06a657",
   "metadata": {},
   "outputs": [],
   "source": [
    "# config_detection = SourceDetectionTask.ConfigClass()\n",
    "# config_deblend = SourceDeblendTask.ConfigClass()\n",
    "# config_meas = SingleFrameMeasurementTask.ConfigClass() \n",
    "# config_deblend.propagateAllPeaks = True\n",
    "# config_deblend.maskPlanes=[]\n",
    "# schema = afwTable.SourceTable.makeMinimalSchema()\n",
    "# detectionTask = SourceDetectionTask(schema=schema, config=config_detection)\n",
    "# sourceDeblendTask = SourceDeblendTask(schema=schema, config=config_deblend)\n",
    "# measureTask = SingleFrameMeasurementTask(schema=schema, config=config_meas)"
   ]
  },
  {
   "cell_type": "markdown",
   "id": "e63deaf2-2f74-4008-8283-c52f1b0838ef",
   "metadata": {},
   "source": [
    "Something happened this class lost its name."
   ]
  },
  {
   "cell_type": "code",
   "execution_count": null,
   "id": "be86c6c5-63fd-4cf7-bcd3-79d0c9aca129",
   "metadata": {},
   "outputs": [],
   "source": [
    "# def (self, image):\n",
    "#     exp = image.exp\n",
    "#     tab = afwTable.SourceTable.make(self.schema)\n",
    "#     ## Note that exp will be modified after running detection (calexp)\n",
    "#     detections = self.detectionTask.run(tab, exp, doSmooth=self.detection_dosmooth, sigma=self.detection_sigma)\n",
    "#     sources = detections.sources\n",
    "\n",
    "#     self.sourceDeblendTask.run(exp, sources) ##exp is now calexp\n",
    "#     self.measureTask.measure(sources, exp)\n",
    "\n",
    "#     return sources, detections"
   ]
  },
  {
   "cell_type": "code",
   "execution_count": null,
   "id": "46b2ca4c-7976-4d55-b264-4e47b51927c0",
   "metadata": {},
   "outputs": [],
   "source": [
    "# fnm = ro_img_path + ro_img_fnms[2]\n",
    "# print(fnm)\n",
    "# image = afwImage.ExposureF.readFits(fnm)\n",
    "# size = stampsize * scale_ratio\n",
    "# extent = lsst.geom.ExtentI(size, size)\n",
    "# cutout = image.getCutout(radec, extent)\n",
    "# del fnm, image, size, extent"
   ]
  },
  {
   "cell_type": "code",
   "execution_count": null,
   "id": "1225abcc-ac24-42f3-8e79-466460cb0181",
   "metadata": {},
   "outputs": [],
   "source": [
    "# exp_H = cutout\n",
    "# tab_H = afwTable.SourceTable.make(schema)\n",
    "\n",
    "# detections_H = detectionTask.run(tab_H, exp_H,\n",
    "#                                  doSmooth=True, sigma=None)\n",
    "# sources_H = detections_H.sources\n",
    "# sourceDeblendTask.run(exp_H, sources_H)\n",
    "# measureTask.measure(sources_H, exp_H)"
   ]
  },
  {
   "cell_type": "code",
   "execution_count": null,
   "id": "f1eaa30f-e718-4e81-bed2-7c68755ff1ad",
   "metadata": {},
   "outputs": [],
   "source": []
  },
  {
   "cell_type": "markdown",
   "id": "3107867d-19c5-4b20-837f-cc87f67ecc25",
   "metadata": {},
   "source": [
    "#### Use DP0.2 tutorial 05 as a guide\n",
    "\n",
    "THIS ALSO, ULTIMATELY, FAILS.\n",
    "\n",
    "Figure it out later.\n",
    "\n",
    "Start by setting up the configurations for each task."
   ]
  },
  {
   "cell_type": "code",
   "execution_count": null,
   "id": "966d459a-188a-4582-8ede-5c26a5475e42",
   "metadata": {},
   "outputs": [],
   "source": [
    "config_charaterize = CharacterizeImageTask.ConfigClass()\n",
    "config_charaterize.psfIterations = 1\n",
    "\n",
    "config_detection = SourceDetectionTask.ConfigClass()\n",
    "config_detection.thresholdValue = 5\n",
    "config_detection.thresholdType = \"stdev\"\n",
    "\n",
    "config_deblend = SourceDeblendTask.ConfigClass()\n",
    "config_deblend.propagateAllPeaks = True\n",
    "config_deblend.maskPlanes=[]\n",
    "\n",
    "config_measure = SingleFrameMeasurementTask.ConfigClass() "
   ]
  },
  {
   "cell_type": "code",
   "execution_count": null,
   "id": "eba35a5c-1918-4c79-a012-daba1ea7d92d",
   "metadata": {},
   "outputs": [],
   "source": [
    "schema = afwTable.SourceTable.makeMinimalSchema()\n",
    "raerr = schema.addField(\"coord_raErr\", type=\"F\")\n",
    "decerr = schema.addField(\"coord_decErr\", type=\"F\")\n",
    "\n",
    "algMetadata = dafBase.PropertyList()"
   ]
  },
  {
   "cell_type": "markdown",
   "id": "8f817909-2684-4178-be35-a844b133b54d",
   "metadata": {},
   "source": [
    "Define the tasks."
   ]
  },
  {
   "cell_type": "code",
   "execution_count": null,
   "id": "4093c002-0945-46c2-b8b4-f5c861ecf6ae",
   "metadata": {},
   "outputs": [],
   "source": [
    "characterizeTask = CharacterizeImageTask(config=config_charaterize)\n",
    "detectionTask = SourceDetectionTask(schema=schema, config=config_detection)\n",
    "deblendTask = SourceDeblendTask(schema=schema, config=config_deblend)\n",
    "measureTask = SingleFrameMeasurementTask(schema=schema,\n",
    "                                         config=config_measure,\n",
    "                                         algMetadata=algMetadata)"
   ]
  },
  {
   "cell_type": "markdown",
   "id": "5ec27004-e03b-4a7a-a3ac-e8ecfe002b49",
   "metadata": {},
   "source": [
    "Get the Roman image and make a cutout."
   ]
  },
  {
   "cell_type": "code",
   "execution_count": null,
   "id": "ee65988c-aa99-427f-ab48-8847554fcb6b",
   "metadata": {},
   "outputs": [],
   "source": [
    "fnm = ro_img_path + ro_img_fnms[2]\n",
    "print(fnm)"
   ]
  },
  {
   "cell_type": "code",
   "execution_count": null,
   "id": "04ee7eed-85a4-416a-8579-22c1cd9cc254",
   "metadata": {},
   "outputs": [],
   "source": [
    "image = afwImage.ExposureF.readFits(fnm)\n",
    "size = stampsize * scale_ratio\n",
    "extent = lsst.geom.ExtentI(size, size)\n",
    "cutout = image.getCutout(radec, extent)"
   ]
  },
  {
   "cell_type": "code",
   "execution_count": null,
   "id": "c89a09ed-6101-4fe7-baea-ec1db636301c",
   "metadata": {},
   "outputs": [],
   "source": [
    "tab = afwTable.SourceTable.make(schema)"
   ]
  },
  {
   "cell_type": "markdown",
   "id": "5c537083-cd65-4a5d-9d02-2286e3196860",
   "metadata": {},
   "source": [
    "The following run to characterize the image does get a pink warning but it does not seem fatal."
   ]
  },
  {
   "cell_type": "code",
   "execution_count": null,
   "id": "0b91e93b-da4d-46e7-9764-3097fd234665",
   "metadata": {},
   "outputs": [],
   "source": [
    "result = characterizeTask.run(image)"
   ]
  },
  {
   "cell_type": "code",
   "execution_count": null,
   "id": "53ea22c8-b6a5-4143-853b-d956bea13ad9",
   "metadata": {},
   "outputs": [],
   "source": [
    "result = detectionTask.run(tab, image)"
   ]
  },
  {
   "cell_type": "code",
   "execution_count": null,
   "id": "1735bf2e-71b6-4d95-935d-36a06682b4e2",
   "metadata": {},
   "outputs": [],
   "source": [
    "result.numPosPeaks"
   ]
  },
  {
   "cell_type": "code",
   "execution_count": null,
   "id": "0802892d-8772-4eb0-9348-5665eed97a15",
   "metadata": {},
   "outputs": [],
   "source": [
    "sources = result.sources"
   ]
  },
  {
   "cell_type": "code",
   "execution_count": null,
   "id": "c2d38b1e-274d-4726-8fa2-7252b8508f00",
   "metadata": {},
   "outputs": [],
   "source": [
    "# sources"
   ]
  },
  {
   "cell_type": "code",
   "execution_count": null,
   "id": "4256f785-d856-42f4-b761-0aac089ab946",
   "metadata": {},
   "outputs": [],
   "source": [
    "deblendTask.run(image, sources)"
   ]
  },
  {
   "cell_type": "code",
   "execution_count": null,
   "id": "43e29055-6352-4f15-ab53-1e00d4ac7b2b",
   "metadata": {},
   "outputs": [],
   "source": [
    "measureTask.run(measCat=sources, exposure=image)"
   ]
  },
  {
   "cell_type": "code",
   "execution_count": null,
   "id": "932a867a-4c9a-4bf4-a227-095ab19af1a2",
   "metadata": {},
   "outputs": [],
   "source": [
    "sources = sources.copy(True)"
   ]
  },
  {
   "cell_type": "markdown",
   "id": "f71beced-0bea-4fd2-9028-a718aa730c0f",
   "metadata": {},
   "source": [
    "Display the Roman H-band cutout in frame 2."
   ]
  },
  {
   "cell_type": "code",
   "execution_count": null,
   "id": "3d1c5ec0-134b-4a58-9496-2e1463a2206e",
   "metadata": {},
   "outputs": [],
   "source": [
    "afw_display = afwDisplay.Display(frame=2)\n",
    "afw_display.mtv(cutout)\n",
    "afw_display.setMaskTransparency(100)"
   ]
  },
  {
   "cell_type": "markdown",
   "id": "5c42df01-d798-481c-833f-f7206314e4d1",
   "metadata": {},
   "source": [
    "Overplot detected sources.\n",
    "\n",
    "Right away notice something bad has happened with the source coordinates."
   ]
  },
  {
   "cell_type": "code",
   "execution_count": null,
   "id": "5af3d9f4-b0b0-466a-9a81-0868e1d77dfb",
   "metadata": {},
   "outputs": [],
   "source": [
    "# sources.asAstropy()"
   ]
  },
  {
   "cell_type": "code",
   "execution_count": null,
   "id": "81000225-e686-4f10-8075-63967add2c55",
   "metadata": {},
   "outputs": [],
   "source": [
    "ra_vals = np.asarray(sources['coord_ra'], dtype='float')\n",
    "dec_vals = np.asarray(sources['coord_dec'], dtype='float')\n",
    "x_vals = np.asarray(sources.getX(), dtype='float')\n",
    "y_vals = np.asarray(sources.getY(), dtype='float')"
   ]
  },
  {
   "cell_type": "code",
   "execution_count": null,
   "id": "51737908-4f20-4b26-b4d1-cb5ff169e905",
   "metadata": {},
   "outputs": [],
   "source": [
    "print(np.min(ra_vals), np.max(ra_vals))\n",
    "print(np.min(dec_vals), np.max(dec_vals))\n",
    "print(np.min(x_vals), np.max(x_vals))\n",
    "print(np.min(y_vals), np.max(y_vals))"
   ]
  },
  {
   "cell_type": "code",
   "execution_count": null,
   "id": "9a454f28-ed22-42d5-8382-6d7376cc1316",
   "metadata": {},
   "outputs": [],
   "source": [
    "extent"
   ]
  },
  {
   "cell_type": "code",
   "execution_count": null,
   "id": "e704de34-3476-4466-b1ed-49a4251cf7d5",
   "metadata": {},
   "outputs": [],
   "source": [
    "cutout.image.getBBox()"
   ]
  },
  {
   "cell_type": "code",
   "execution_count": null,
   "id": "1f803348-8081-440f-8392-0d6562ed300a",
   "metadata": {},
   "outputs": [],
   "source": [
    "tx = np.where((x_vals > 2303) &\n",
    "              (x_vals < 5384) &\n",
    "              (y_vals > 2303) &\n",
    "              (y_vals < 5384))[0]\n",
    "# tx = np.where((ra_vals > ra - 0.01) &\n",
    "#               (ra_vals < ra + 0.01) &\n",
    "#               (dec_vals > dec - 0.01) &\n",
    "#               (dec_vals < dec + 0.01))[0]\n",
    "print(len(tx))"
   ]
  },
  {
   "cell_type": "markdown",
   "id": "f613907e-aac9-4966-914d-1b0ca9a544fb",
   "metadata": {},
   "source": [
    "Try to plot them anyway. This fails."
   ]
  },
  {
   "cell_type": "code",
   "execution_count": null,
   "id": "d9533f41-8c61-4d5d-bba4-a6f5ebb9f440",
   "metadata": {},
   "outputs": [],
   "source": [
    "with afw_display.Buffering():\n",
    "    for x in tx:\n",
    "        afw_display.dot('o', x_vals[x], y_vals[x],\n",
    "                        size=20, ctype='orange')"
   ]
  },
  {
   "cell_type": "markdown",
   "id": "cba75d04-b0bd-4e9d-aae3-a6ab8fd639d6",
   "metadata": {},
   "source": [
    "Clean up."
   ]
  },
  {
   "cell_type": "code",
   "execution_count": null,
   "id": "b480f0a2-2adb-4997-ba12-3b93b5298d9c",
   "metadata": {},
   "outputs": [],
   "source": [
    "del tx, ra_vals, dec_vals, x_vals, y_vals\n",
    "del fnm, image, size, cutout, extent\n",
    "del tab, result, sources"
   ]
  },
  {
   "cell_type": "code",
   "execution_count": null,
   "id": "5166ee49-172a-4e35-8c17-1dae54ae0ec7",
   "metadata": {},
   "outputs": [],
   "source": [
    "del config_characterize, config_detection, config_debelnd, config_measure\n",
    "del algMetadata, schema\n",
    "del characterizeTask, detectionTask, deblendTask, measureTask"
   ]
  },
  {
   "cell_type": "code",
   "execution_count": null,
   "id": "3c6bcf98-6908-488b-b8eb-fc6cfb6c36e6",
   "metadata": {},
   "outputs": [],
   "source": []
  },
  {
   "cell_type": "code",
   "execution_count": null,
   "id": "23239e35-40aa-4e29-bdf6-d16f7d607b75",
   "metadata": {},
   "outputs": [],
   "source": []
  },
  {
   "cell_type": "code",
   "execution_count": null,
   "id": "713bd5f8-87be-4c4a-b3f7-299c14a6b45a",
   "metadata": {},
   "outputs": [],
   "source": []
  },
  {
   "cell_type": "code",
   "execution_count": null,
   "id": "796dcc53-5f4a-41c8-a019-39233572f6ba",
   "metadata": {},
   "outputs": [],
   "source": []
  },
  {
   "cell_type": "code",
   "execution_count": null,
   "id": "a71b36fd-1912-43f4-a2a8-0a1e695da812",
   "metadata": {},
   "outputs": [],
   "source": []
  }
 ],
 "metadata": {
  "kernelspec": {
   "display_name": "LSST",
   "language": "python",
   "name": "lsst"
  },
  "language_info": {
   "codemirror_mode": {
    "name": "ipython",
    "version": 3
   },
   "file_extension": ".py",
   "mimetype": "text/x-python",
   "name": "python",
   "nbconvert_exporter": "python",
   "pygments_lexer": "ipython3",
   "version": "3.11.9"
  }
 },
 "nbformat": 4,
 "nbformat_minor": 5
}
