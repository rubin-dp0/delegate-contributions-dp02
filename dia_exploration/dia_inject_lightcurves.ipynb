{
 "cells": [
  {
   "cell_type": "markdown",
   "id": "56e33567-698e-4d36-b9c3-d13803425820",
   "metadata": {},
   "source": [
    "<img align=\"left\" src = https://project.lsst.org/sites/default/files/Rubin-O-Logo_0.png width=250 style=\"padding: 10px\"> \n",
    "<b>Testing injection and recovery of \"supernovaish\" lightcurves</b> <br>\n",
    "Contact author: Michael Wood-Vasey <br>\n",
    "Last verified to run: 2023-05-24 <br>\n",
    "LSST Science Pipelines version: Weekly 2023_20 + source_injection tickets/DM-34253 <br>\n",
    "Container Size: large <br>\n",
    "Targeted learning level: intermediate <br>"
   ]
  },
  {
   "cell_type": "markdown",
   "id": "adcd41fa-bff0-42af-b1ba-c9eb98a08f7a",
   "metadata": {
    "tags": []
   },
   "source": [
    "If we inject supernova lightcurves into a series of images and then run subtractions, what do we get back?\n",
    "\n",
    "The details of a supernova aren't key here, so we'll just use some Gaussian model of a lightcurve that has a rise and fall timescale of a few months."
   ]
  },
  {
   "cell_type": "markdown",
   "id": "46152cfb-4828-4458-bdf2-fa7615f5fb10",
   "metadata": {},
   "source": [
    "Note: This Notebook is written below the PipelineTask level.  Rather is uses individual Tasks directly and reads/writes output products to the butler.  This is pedagogically useful to understand how that works, and pratically helpful in working with the evolving `source_injection` package.  However, this structure is not scalable to larger runs (100+ images).  Such large-scale runs should be done as part of an integrated Task that can be connected and run through the large-scale cluster jobs submission."
   ]
  },
  {
   "cell_type": "markdown",
   "id": "f08728c8-e41a-42f5-8bd8-fbfbb21d4229",
   "metadata": {
    "tags": []
   },
   "source": [
    "1. [ ] Find set of images\n",
    "2. [ ] Simulate N supernovae over the T years of survey\n",
    "3. [ ] Simulate with peak magnitdues from 24 to 18\n",
    "4. [ ] Run subtractions\n",
    "5. [ ] Run measurement\n",
    "6. [ ] Match sources\n",
    "7. [ ] Compare injection catalog to recovered values"
   ]
  },
  {
   "cell_type": "code",
   "execution_count": null,
   "id": "b0c6b5a2-1fde-4dc2-84ee-97260750b278",
   "metadata": {
    "tags": []
   },
   "outputs": [],
   "source": [
    "import os\n",
    "\n",
    "from astropy.coordinates import SkyCoord\n",
    "from astropy.table import Table\n",
    "from astropy.wcs import WCS\n",
    "import astropy.units as u\n",
    "\n",
    "import gc\n",
    "\n",
    "import matplotlib.pyplot as plt\n",
    "import numpy as np\n",
    "import pandas as pd\n",
    "\n",
    "import lsst.afw.display as afwDisplay\n",
    "from lsst.afw.image import MultibandExposure\n",
    "from lsst.afw.math import Warper, WarperConfig\n",
    "import lsst.geom as geom\n",
    "from lsst.daf.butler import Butler, DimensionUniverse, DatasetType, CollectionType\n",
    "from lsst.daf.butler.registry import MissingCollectionError\n",
    "from lsst.ip.diffim import AlardLuptonSubtractConfig, AlardLuptonSubtractTask\n",
    "from lsst.ip.diffim import DetectAndMeasureConfig, DetectAndMeasureTask\n",
    "from lsst.pipe.tasks.makeWarp import MakeWarpConfig, MakeWarpTask\n",
    "import lsst.sphgeom"
   ]
  },
  {
   "cell_type": "markdown",
   "id": "dfe5d372-91ad-4dff-baee-d65706d280da",
   "metadata": {},
   "source": [
    "Here are the parts that we're going to use from the `source_injection` package"
   ]
  },
  {
   "cell_type": "code",
   "execution_count": null,
   "id": "4256e35e-2980-4b7f-9118-e1fa1ddd0ae3",
   "metadata": {
    "tags": []
   },
   "outputs": [],
   "source": [
    "from lsst.source.injection.inject_engine import generate_galsim_objects, inject_galsim_objects_into_exposure"
   ]
  },
  {
   "cell_type": "code",
   "execution_count": null,
   "id": "7caa7cac-2dd3-4cc2-9d36-c1002981d08a",
   "metadata": {
    "tags": []
   },
   "outputs": [],
   "source": [
    "afwDisplay.setDefaultBackend('matplotlib')\n",
    "plt.style.use('tableau-colorblind10')\n",
    "%matplotlib inline"
   ]
  },
  {
   "cell_type": "code",
   "execution_count": null,
   "id": "976fc1ea-6ac4-4b49-8291-403ef6392a54",
   "metadata": {
    "tags": []
   },
   "outputs": [],
   "source": [
    "INJECTED_IMAGES_EXIST = False\n",
    "SUBTRACTIONS_OF_INJECTED_IMAGE_EXIST = False"
   ]
  },
  {
   "cell_type": "markdown",
   "id": "463b0dd0-2d54-41d8-a043-0e3ab5c16672",
   "metadata": {},
   "source": [
    "We can run this on either DC2 or HSC by choosing appropriate RA, Dec\n",
    "Currently (2023-05-26) DC2 is only available at the IDF and HSC is only available at the USDF, so we split by site."
   ]
  },
  {
   "cell_type": "code",
   "execution_count": null,
   "id": "ff0462aa-afec-49d0-88d9-04d075cb2ab0",
   "metadata": {
    "tags": []
   },
   "outputs": [],
   "source": [
    "SITE = \"USDF\"\n",
    "\n",
    "survey_site = {\"USDF\": \"HSC\", \"IDF\": \"DC2\"}\n",
    "repo_site = {\"USDF\": \"/repo/main\", \"IDF\": \"dp02\"}\n",
    "collection_site = {\"USDF\": \"HSC/runs/RC2/w_2023_15/DM-38691\", \"IDF\": \"2.2i/runs/DP0.2\"}\n",
    "\n",
    "ra_dec_survey = {\"HSC\": (150, 2.5), \"DC2\": (55, -30)}"
   ]
  },
  {
   "cell_type": "code",
   "execution_count": null,
   "id": "68e2510b-9d8c-4a44-a2c0-7dd27662110c",
   "metadata": {
    "tags": []
   },
   "outputs": [],
   "source": [
    "collection = collection_site[SITE]\n",
    "repo_config = repo_site[SITE]\n",
    "\n",
    "user = os.getenv(\"USER\")\n",
    "output_collection = f\"u/{user}/inject_lightcurves\""
   ]
  },
  {
   "cell_type": "code",
   "execution_count": null,
   "id": "30ea1bd1-83b9-4f48-a824-cee94014583b",
   "metadata": {
    "tags": []
   },
   "outputs": [],
   "source": [
    "butler = Butler(repo_config, run=output_collection, collections=[output_collection, collection])"
   ]
  },
  {
   "cell_type": "code",
   "execution_count": null,
   "id": "d999c063-5c3e-4f1c-95dc-41bcc7a8b828",
   "metadata": {
    "tags": []
   },
   "outputs": [],
   "source": [
    "print(butler.registry.getDatasetType(\"calexp\"))"
   ]
  },
  {
   "cell_type": "code",
   "execution_count": null,
   "id": "4f9269a3-a928-43c1-bd56-2e87e52322ea",
   "metadata": {
    "tags": []
   },
   "outputs": [],
   "source": [
    "# Do a spatial query for calexps using HTM levels following example in 04b_Intermediate_Butler_Queries.ipynb\n",
    "ra, dec = ra_dec_survey[survey_site[SITE]]\n",
    "band = \"i\""
   ]
  },
  {
   "cell_type": "code",
   "execution_count": null,
   "id": "b2ff7249-bf1d-4474-82cf-b89a1fbe55b7",
   "metadata": {
    "tags": []
   },
   "outputs": [],
   "source": [
    "def htm_from_ra_dec_level(ra, dec, level):\n",
    "    pixelization = lsst.sphgeom.HtmPixelization(level)\n",
    "    htm_id = pixelization.index(\n",
    "        lsst.sphgeom.UnitVector3d(\n",
    "            lsst.sphgeom.LonLat.fromDegrees(ra, dec)\n",
    "        )\n",
    "    )\n",
    "    return htm_id"
   ]
  },
  {
   "cell_type": "code",
   "execution_count": null,
   "id": "e704e956-b196-4cc8-9bcf-9a4dac30ee3b",
   "metadata": {
    "tags": []
   },
   "outputs": [],
   "source": [
    "level = 20  # the resolution of the HTM grid\n",
    "htm_id = htm_from_ra_dec_level(ra, dec, level)"
   ]
  },
  {
   "cell_type": "code",
   "execution_count": null,
   "id": "30a0219c-d0ad-4124-bf3c-48a03dedb100",
   "metadata": {
    "tags": []
   },
   "outputs": [],
   "source": [
    "# HTM7 will be our spatial dimension for catalog sharding\n",
    "htm7 = htm_from_ra_dec_level(ra, dec, level=7)"
   ]
  },
  {
   "cell_type": "code",
   "execution_count": null,
   "id": "2386f3e8-85e3-4683-b16d-83f2471da593",
   "metadata": {
    "tags": []
   },
   "outputs": [],
   "source": [
    "print(htm7, htm_id)"
   ]
  },
  {
   "cell_type": "code",
   "execution_count": null,
   "id": "ac405a8c-98b2-45e6-8fec-3f87d6fbedce",
   "metadata": {
    "tags": []
   },
   "outputs": [],
   "source": [
    "parent_level = htm_id // 10\n",
    "htm_ids = [parent_level * 10 + i for i in [0, 1, 2, 3]]"
   ]
  },
  {
   "cell_type": "code",
   "execution_count": null,
   "id": "b048f6c4-0b4f-45f8-8493-b92aa3b7ac81",
   "metadata": {
    "tags": []
   },
   "outputs": [],
   "source": [
    "htm_ids"
   ]
  },
  {
   "cell_type": "code",
   "execution_count": null,
   "id": "e664233e-5849-4ca2-ba04-b4fa2162b6a0",
   "metadata": {
    "tags": []
   },
   "outputs": [],
   "source": [
    "hi = htm_ids[0]\n",
    "\n",
    "# dataset_refs is an iterator, but each query is only a few hundred results,\n",
    "#   so convert to a list for future convenience\n",
    "htm_kwargs = {}\n",
    "htm_kwargs[f\"htm{level}\"] = hi\n",
    "dataset_refs = list(butler.registry.queryDatasets(\"calexp\", dataId={\"band\": band}, **htm_kwargs))\n",
    "dataset_refs = set(dataset_refs)"
   ]
  },
  {
   "cell_type": "code",
   "execution_count": null,
   "id": "c105ea28-8430-4a97-baed-1458e3de4287",
   "metadata": {
    "tags": []
   },
   "outputs": [],
   "source": [
    "ra, dec"
   ]
  },
  {
   "cell_type": "code",
   "execution_count": null,
   "id": "ef7357f7-7278-490d-a2c6-de6f7750ce3a",
   "metadata": {
    "tags": []
   },
   "outputs": [],
   "source": [
    "for hi in htm_ids[1:]:\n",
    "    htm_kwargs = {}\n",
    "    htm_kwargs[f\"htm{level}\"] = hi\n",
    "    dr = list(butler.registry.queryDatasets(\"calexp\", dataId={\"band\": band}, **htm_kwargs))\n",
    "    dataset_refs = dataset_refs.intersection(set(dr))"
   ]
  },
  {
   "cell_type": "code",
   "execution_count": null,
   "id": "a9b03aed-bcd3-441e-bf17-120c8f02f274",
   "metadata": {
    "tags": []
   },
   "outputs": [],
   "source": [
    "dataset_refs = list(dataset_refs)\n",
    "# Sort by visitId to get a loose time order\n",
    "ids_visit = [dr.dataId[\"visit\"] for dr in dataset_refs]\n",
    "dataset_refs = [dataset_refs[idx] for idx in np.argsort(ids_visit)]\n",
    "\n",
    "print(dataset_refs)"
   ]
  },
  {
   "cell_type": "code",
   "execution_count": null,
   "id": "5f51bbfa-92e9-4a66-9a74-081286815ece",
   "metadata": {
    "tags": []
   },
   "outputs": [],
   "source": [
    "print(f\"Found {len(list(dataset_refs))} calexps\")"
   ]
  },
  {
   "cell_type": "code",
   "execution_count": null,
   "id": "31ca2798-dc98-426b-9a89-c32b952dab03",
   "metadata": {
    "tags": []
   },
   "outputs": [],
   "source": [
    "visit_table = butler.get(\"visitTable\") #, dataset_refs[0].dataId)"
   ]
  },
  {
   "cell_type": "markdown",
   "id": "3902d976-a034-47b7-9a77-af9e835f9942",
   "metadata": {},
   "source": [
    "We should find 17 calexps for DC2.  (RA, Dec) = (55, -30)\n",
    "\n",
    "We should find 44 calexps for HSC COSMOS.  (RA, Dec) = (150, +2.5)"
   ]
  },
  {
   "cell_type": "markdown",
   "id": "713c67cf-9f67-48f2-bae7-869be63b2d07",
   "metadata": {},
   "source": [
    "## Inject object"
   ]
  },
  {
   "cell_type": "code",
   "execution_count": null,
   "id": "9067a6f3-eb9d-4e7c-8d6a-44e646801b53",
   "metadata": {
    "tags": []
   },
   "outputs": [],
   "source": [
    "# Simulate star\n",
    "# Start with a constant magnitude\n",
    "BASE_MAG_STAR = 21  # u.mag\n",
    "BASE_STAR_RA, BASE_STAR_DEC = ra + 0.01, dec + 0.01\n",
    "if survey_site[SITE] == \"DC2\":\n",
    "    BASE_MJD = 60_000\n",
    "elif survey_site[SITE] == \"HSC\":\n",
    "    BASE_MJD = 56740\n",
    "\n",
    "# Wrap with a function to allow accessing consistent with a future expansion to time.\n",
    "def mag_star(phase=0 * u.d, decay_rate=0.1 * u.mag / u.d, peak_mag=BASE_MAG_STAR):\n",
    "    \"\"\"\n",
    "    Simple linear decay function\n",
    "    \n",
    "    All negative phase points are set to 0 flux or np.inf mag.\n",
    "    \"\"\"\n",
    "    relative_lightcurve = phase * decay_rate\n",
    "    # We do this asa condition array instead of using\n",
    "    # a (phase < 0) * np.inf above because that wouldn't work because np.inf * 0 = np.nan\n",
    "    relative_lightcurve[phase < 0] = np.inf\n",
    "\n",
    "    return peak_mag * u.mag + relative_lightcurve\n",
    "\n",
    "\n",
    "def ra_star(phase=0 * u.d, pm_ra=0.1 * u.arcsec / u.yr, base_ra = BASE_STAR_RA):\n",
    "    return base_ra * u.degree + phase * pm_ra\n",
    "\n",
    "\n",
    "def dec_star(phase=0 * u.d, pm_dec=0.1 * u.arcsec / u.yr, base_dec = BASE_STAR_DEC):\n",
    "    return base_dec * u.degree + phase * pm_dec"
   ]
  },
  {
   "cell_type": "markdown",
   "id": "f66c5d4f-3b49-4edd-98b0-286e8cc97aef",
   "metadata": {},
   "source": [
    "Create a catalog for each visit"
   ]
  },
  {
   "cell_type": "code",
   "execution_count": null,
   "id": "c49a9e7f-37ad-4d41-8f34-7cbf9fa44a71",
   "metadata": {
    "tags": []
   },
   "outputs": [],
   "source": [
    "injection_catalog = {}\n",
    "base_mjd = BASE_MJD\n",
    "\n",
    "for dr in dataset_refs:\n",
    "    visit = dr.dataId[\"visit\"]\n",
    "    mjd = visit_table.loc[visit][\"expMidptMJD\"]\n",
    "    phase = (mjd - base_mjd) * u.d\n",
    "    this_cat = Table()\n",
    "    this_cat[\"ra\"] = [ra_star(phase).to_value(u.degree)]\n",
    "    this_cat[\"dec\"] = [dec_star(phase).to_value(u.degree)]\n",
    "    this_cat[\"mag\"] = [mag_star(phase).to_value(u.mag)]\n",
    "    this_cat[\"source_type\"] = [\"DeltaFunction\"]\n",
    "    this_cat[\"index\"] = [\"test\"]\n",
    "    injection_catalog[visit] = this_cat"
   ]
  },
  {
   "cell_type": "markdown",
   "id": "ba94100c-2a23-46ab-9fa7-0f7c0327d7a6",
   "metadata": {},
   "source": [
    "### Register a Collection to write injection catalog and injected images to"
   ]
  },
  {
   "cell_type": "code",
   "execution_count": null,
   "id": "24a39272-ceef-42f3-8a50-867d6ed7cc89",
   "metadata": {
    "tags": []
   },
   "outputs": [],
   "source": [
    "if not INJECTED_IMAGES_EXIST:\n",
    "    try:\n",
    "        butler.removeRuns([output_collection])\n",
    "    except MissingCollectionError:\n",
    "        print(\"Writing into a new RUN collection\")\n",
    "        pass\n",
    "    else:\n",
    "        print(\"Prior RUN collection located and successfully removed\")\n",
    "\n",
    "_ = butler.registry.registerCollection(output_collection, type=CollectionType.RUN)"
   ]
  },
  {
   "cell_type": "markdown",
   "id": "73ef0049-2d45-410f-96a4-c38de67bc296",
   "metadata": {},
   "source": [
    "## Register a DatasetType for injected catalog\n",
    "\n",
    "The call to `registerDatasetType` will report \"False\" if the DatasetType already exists"
   ]
  },
  {
   "cell_type": "code",
   "execution_count": null,
   "id": "3d37b9c6-5a73-4d83-87ca-79e158f8a972",
   "metadata": {
    "tags": []
   },
   "outputs": [],
   "source": [
    "# \"injection_\" is for the input catalog that will be used for _injection_ into the images\n",
    "# \"injected_\" will be for the products that have been _injected_\n",
    "injection_dataset_type =  DatasetType(\n",
    "    \"injection_time_domain_catalog\",\n",
    "    dimensions=[\"htm7\", \"band\", \"visit\"],\n",
    "    storageClass=\"ArrowAstropy\",\n",
    "    universe=DimensionUniverse(),\n",
    ")\n",
    "\n",
    "butler.registry.registerDatasetType(injection_dataset_type)"
   ]
  },
  {
   "cell_type": "code",
   "execution_count": null,
   "id": "e10d532c-2934-44dc-9586-36b35f881710",
   "metadata": {
    "tags": []
   },
   "outputs": [],
   "source": [
    "instrument = dataset_refs[0].dataId[\"instrument\"]\n",
    "for visit, cat in injection_catalog.items():\n",
    "    data_id = {\"htm7\": htm7, \"visit\": visit, \"band\": band, \"instrument\": instrument}\n",
    "    butler.put(cat, \"injection_time_domain_catalog\", dataId=data_id)"
   ]
  },
  {
   "cell_type": "code",
   "execution_count": null,
   "id": "5bd358e5-6af2-4a4c-93bd-a6b394645503",
   "metadata": {
    "tags": []
   },
   "outputs": [],
   "source": [
    "foo = butler.registry.queryDatasets(\"injection_time_domain_catalog\")\n",
    "print(list(foo))"
   ]
  },
  {
   "cell_type": "markdown",
   "id": "1dbe2759-fd40-4738-8ed6-a086792ae32e",
   "metadata": {
    "execution": {
     "iopub.execute_input": "2023-05-02T16:39:19.012228Z",
     "iopub.status.busy": "2023-05-02T16:39:19.011965Z",
     "iopub.status.idle": "2023-05-02T16:39:19.028657Z",
     "shell.execute_reply": "2023-05-02T16:39:19.027826Z",
     "shell.execute_reply.started": "2023-05-02T16:39:19.012205Z"
    },
    "tags": []
   },
   "source": [
    "## Inject fake sources on images"
   ]
  },
  {
   "cell_type": "code",
   "execution_count": null,
   "id": "c81eaa2c-d990-4c22-9936-68d52e6f3630",
   "metadata": {
    "tags": []
   },
   "outputs": [],
   "source": [
    "data_id"
   ]
  },
  {
   "cell_type": "code",
   "execution_count": null,
   "id": "8defe07a-f2c5-49f7-a398-23dc27e2b668",
   "metadata": {
    "tags": []
   },
   "outputs": [],
   "source": [
    "def injected_and_save_image(data_id,\n",
    "                            butler: Butler,\n",
    "                            image_dataset_type=\"calexp\",\n",
    "                            catalog_dataset_type=\"injection_time_domain_catalog\",\n",
    "                            mask_plane_name: str = \"INJECTED\",\n",
    "                            calib_flux_radius: float = 12.0,\n",
    "                            draw_size_scale: float = 1.0,\n",
    "                            draw_size_max: int = 1000,\n",
    "                            verbose=True):\n",
    "    \"Load an image, injected a catalog, and save to a new collection\"\n",
    "    calexp = butler.get(image_dataset_type, dataId=data_id)\n",
    "    \n",
    "    # These aren't the RA, Dec I want, because these are the boresight.\n",
    "    # I want the center of the detector.\n",
    "    ra = visit_table.loc[dataset_refs[0].dataId[\"visit\"]][\"ra\"]\n",
    "    dec = visit_table.loc[dataset_refs[0].dataId[\"visit\"]][\"decl\"]\n",
    "    # htm7 = htm_from_ra_dec_level(ra, dec, level=7)\n",
    "    cat_data_id = {}\n",
    "    cat_data_id[\"htm7\"] = htm7\n",
    "    cat_data_id[\"visit\"] = data_id[\"visit\"]\n",
    "    cat_data_id[\"instrument\"] = data_id[\"instrument\"]\n",
    "    cat_data_id[\"band\"] = data_id[\"band\"]\n",
    "    if verbose:\n",
    "        print(cat_data_id)\n",
    "    injection_catalog = butler.get(catalog_dataset_type, dataId=cat_data_id)\n",
    "\n",
    "    injected_object_generator = generate_galsim_objects(\n",
    "        injection_catalog=injection_catalog,\n",
    "        wcs=calexp.getWcs(),\n",
    "        photo_calib=calexp.getPhotoCalib(),\n",
    "        fits_alignment = \"wcs\",\n",
    "    )\n",
    "\n",
    "    # ( draw_sizes, common_bounds, fft_size_errors, psf_compute_errors, ) = \n",
    "\n",
    "    if verbose:\n",
    "        print(f\"Inserting objects into {calexp}\")\n",
    "        \n",
    "    _ = inject_galsim_objects_into_exposure(\n",
    "        calexp,\n",
    "        injected_object_generator,\n",
    "        mask_plane_name=mask_plane_name,\n",
    "        calib_flux_radius=calib_flux_radius,\n",
    "        draw_size_scale=draw_size_scale,\n",
    "        draw_size_max=draw_size_max,\n",
    "    )\n",
    "    \n",
    "    if verbose:\n",
    "        print(\"Saving newly injected image: \", calexp)\n",
    "        print(butler)\n",
    "\n",
    "    butler.put(calexp, f\"injected_{image_dataset_type}\", dataId=data_id)"
   ]
  },
  {
   "cell_type": "code",
   "execution_count": null,
   "id": "e504bc23-c29a-45bf-ad55-f8df073a7ef5",
   "metadata": {
    "tags": []
   },
   "outputs": [],
   "source": [
    "print(butler.run)"
   ]
  },
  {
   "cell_type": "code",
   "execution_count": null,
   "id": "0f01ed95-d14c-47ef-a9ef-c9a4f112fb01",
   "metadata": {
    "tags": []
   },
   "outputs": [],
   "source": [
    "butler.registry.queryDatasetTypes(\"injection*\")"
   ]
  },
  {
   "cell_type": "code",
   "execution_count": null,
   "id": "dbdf0802-c52a-47f3-b325-3e886f52ce6a",
   "metadata": {
    "tags": []
   },
   "outputs": [],
   "source": [
    "if not INJECTED_IMAGES_EXIST:\n",
    "    for dr in dataset_refs:\n",
    "        injected_and_save_image(dr.dataId, butler)"
   ]
  },
  {
   "cell_type": "code",
   "execution_count": null,
   "id": "7215d3f0-a301-4721-9ea1-1c516b0bccf9",
   "metadata": {
    "tags": []
   },
   "outputs": [],
   "source": [
    "foo = butler.registry.queryDatasets(\"injected_calexp\")\n",
    "print(list(foo))"
   ]
  },
  {
   "cell_type": "markdown",
   "id": "88ded5d5-1a4a-4612-8479-fe9a2f4dba2f",
   "metadata": {
    "execution": {
     "iopub.execute_input": "2023-05-02T14:54:47.776325Z",
     "iopub.status.busy": "2023-05-02T14:54:47.775867Z",
     "iopub.status.idle": "2023-05-02T14:54:47.792118Z",
     "shell.execute_reply": "2023-05-02T14:54:47.791426Z",
     "shell.execute_reply.started": "2023-05-02T14:54:47.776303Z"
    },
    "tags": []
   },
   "source": [
    "# Run subtraction between calexps 2-N and calexp 1."
   ]
  },
  {
   "cell_type": "code",
   "execution_count": null,
   "id": "26c3437b-cadd-4684-a327-1c1faed8a8cc",
   "metadata": {
    "tags": []
   },
   "outputs": [],
   "source": [
    "config = AlardLuptonSubtractConfig()\n",
    "task = AlardLuptonSubtractTask(config=config)"
   ]
  },
  {
   "cell_type": "code",
   "execution_count": null,
   "id": "13a432b4-8ca3-4e5f-8304-51dc24e11faa",
   "metadata": {
    "tags": []
   },
   "outputs": [],
   "source": [
    "template = butler.get(\"calexp\", dataset_refs[0].dataId)"
   ]
  },
  {
   "cell_type": "code",
   "execution_count": null,
   "id": "a92263b0-2c7c-4bcb-af42-e9b8ed018ac6",
   "metadata": {
    "tags": []
   },
   "outputs": [],
   "source": [
    "def subtract(science, template, source_catalog):\n",
    "    warper_config = WarperConfig()\n",
    "    warper = Warper.fromConfig(warper_config)\n",
    "\n",
    "    science_wcs = science.getWcs()\n",
    "    science_bbox = science.getBBox()\n",
    "\n",
    "    science.visitInfo.id\n",
    "    \n",
    "    # Add PSF.  I think doing this directly without warping is wrong.  At least the x,y mapping should be updated\n",
    "    warped_template = warper.warpExposure(science_wcs, template, destBBox=science_bbox)\n",
    "    warped_template.setPsf(template.getPsf())\n",
    "    \n",
    "    # Now let's do the subtraction\n",
    "    subtraction = task.run(warped_template, science, source_catalog)\n",
    "    \n",
    "    return subtraction\n",
    "\n",
    "\n",
    "def detect(science, subtraction):\n",
    "    # Run detection on subtraction\n",
    "    detect_and_measure_config = DetectAndMeasureConfig()\n",
    "    detect_and_measure_task = DetectAndMeasureTask(config=detect_and_measure_config)\n",
    "\n",
    "    detect_and_measure = detect_and_measure_task.run(science, subtraction.matchedTemplate, subtraction.difference)\n",
    "\n",
    "    return detect_and_measure"
   ]
  },
  {
   "cell_type": "code",
   "execution_count": null,
   "id": "8a99d04e-fe59-4c5f-b67d-a6397a5976fc",
   "metadata": {
    "tags": []
   },
   "outputs": [],
   "source": [
    "def subtract_and_detect(data_id: dict,\n",
    "                        template: lsst.afw.image.ExposureF,\n",
    "                        butler: Butler):\n",
    "    \"\"\"\n",
    "    Subtract template image from image referred to by data_id and run detection.\n",
    "    \n",
    "    Butler needs to be writeable to store output of subtraction and detection.\n",
    "    \"\"\"\n",
    "    science = butler.get(\"injected_calexp\", dr.dataId)\n",
    "    source_catalog = butler.get(\"src\", dataId=dr.dataId)\n",
    "\n",
    "    subtraction = subtract(science, template, source_catalog)\n",
    "    butler.put(subtraction.difference, \"goodSeeingDiff_differenceExp\", dataId=dr.dataId)\n",
    "\n",
    "    detection_catalog = detect(science, subtraction)\n",
    "    butler.put(detection_catalog.diaSources, \"goodSeeingDiff_diaSrc\", dataId=dr.dataId)"
   ]
  },
  {
   "cell_type": "code",
   "execution_count": null,
   "id": "3354e6dd-f99b-417a-af95-7811de40b6b5",
   "metadata": {
    "tags": []
   },
   "outputs": [],
   "source": [
    "# The template is the first image, so start at 1:\n",
    "# This dataset_ref list is sorted by visit,\n",
    "#   which should be equivalent to sorting by MJD\n",
    "if not SUBTRACTIONS_OF_INJECTED_IMAGE_EXIST:\n",
    "    for dr in dataset_refs[1:]:\n",
    "        subtract_and_detect(dr.dataId, template, butler)"
   ]
  },
  {
   "cell_type": "markdown",
   "id": "23866c1c-0c6a-4681-aa03-d59995ca5b85",
   "metadata": {
    "execution": {
     "iopub.execute_input": "2023-05-12T18:05:13.586062Z",
     "iopub.status.busy": "2023-05-12T18:05:13.585108Z",
     "iopub.status.idle": "2023-05-12T18:05:13.590004Z",
     "shell.execute_reply": "2023-05-12T18:05:13.589105Z",
     "shell.execute_reply.started": "2023-05-12T18:05:13.586027Z"
    }
   },
   "source": [
    "## Show cut outs for each subtraction"
   ]
  },
  {
   "cell_type": "markdown",
   "id": "8581fc72-f0c1-4d48-9824-10a910e9a2a0",
   "metadata": {
    "tags": []
   },
   "source": [
    "## Some helper utilities for plotting"
   ]
  },
  {
   "cell_type": "code",
   "execution_count": null,
   "id": "d415822d-4ccd-489a-96e5-0f2a7cdf9e77",
   "metadata": {
    "tags": []
   },
   "outputs": [],
   "source": [
    "def show_image_on_wcs(calexp, figsize=(8, 8), ax=None, x=None, y=None,\n",
    "                      pixel_extent=None, stamp_size=None,\n",
    "                      marker=\"o\", color=\"red\", size=20):\n",
    "    \"\"\"\n",
    "    Show an image with an RA, Dec grid overlaid.  Optionally add markers.\n",
    "    \n",
    "    Notes\n",
    "    -----\n",
    "    Specifying both pixel_extent and size is undefined.\n",
    "    \"\"\"\n",
    "    if ax is None:\n",
    "        fig = plt.figure(figsize=figsize)\n",
    "        plt.subplot(projection=WCS(calexp.getWcs().getFitsMetadata()))\n",
    "        ax = plt.gca()\n",
    "\n",
    "    if stamp_size is not None and x is not None and y is not None:    \n",
    "        half_stamp = stamp_size / 2\n",
    "        # If x and y are of different types, then user should clarify what they wanted\n",
    "        if np.isscalar(x):\n",
    "            first_x = x\n",
    "            first_y = y\n",
    "        else:\n",
    "            first_x = x[0]\n",
    "            first_y = y[0]\n",
    "            \n",
    "        pixel_extent = (int(first_x - half_stamp), int(first_x + half_stamp),\n",
    "                        int(first_y - half_stamp), int(first_y + half_stamp))\n",
    "    if pixel_extent is None:\n",
    "        pixel_extent = (int(calexp.getBBox().beginX), int(calexp.getBBox().endX),\n",
    "                        int(calexp.getBBox().beginY), int(calexp.getBBox().endY))\n",
    "    # Image array is y, x.  \n",
    "    # So we select from the image array in [Y_Begin:Y_End, X_Begin:X_End]\n",
    "    # But then `extent` is (X_Begin, X_End, Y_Begin, Y_End)\n",
    "\n",
    "    im = ax.imshow(calexp.image.array[pixel_extent[2]:pixel_extent[3], pixel_extent[0]:pixel_extent[1]],\n",
    "                   cmap=\"gray\", vmin=-200.0, vmax=400,\n",
    "                   extent=pixel_extent, origin=\"lower\")\n",
    "    ax.grid(color=\"white\", ls=\"solid\")\n",
    "    ax.set_xlabel(\"Right Ascension\")\n",
    "    ax.set_ylabel(\"Declination\")\n",
    "    if x is not None and y is not None:\n",
    "        ax.scatter(x, y, s=size, marker=marker, edgecolor=color, facecolor=\"none\")"
   ]
  },
  {
   "cell_type": "markdown",
   "id": "7574b896-2736-47a2-b935-434f4a51165b",
   "metadata": {
    "tags": []
   },
   "source": [
    "### Identify pixel regions to focus on"
   ]
  },
  {
   "cell_type": "code",
   "execution_count": null,
   "id": "7380becc-8400-43f1-aaa1-730c231cc13b",
   "metadata": {
    "tags": []
   },
   "outputs": [],
   "source": [
    "def getSiXyFromCalexp(visit_id, calexp, injection_catalog=injection_catalog):\n",
    "    \"\"\"\n",
    "    visit_id: Visit index into catalog that has RA, Dec\n",
    "    calexp: Determines the WCS frame that converts RA, Dec -> x, y\n",
    "    \"\"\"\n",
    "    this_injection_catalog = injection_catalog[visit_id]\n",
    "    xy_coords = calexp.getWcs().skyToPixel(geom.SpherePoint(this_injection_catalog[0][\"ra\"], this_injection_catalog[0][\"dec\"], geom.degrees))\n",
    "    return xy_coords    "
   ]
  },
  {
   "cell_type": "code",
   "execution_count": null,
   "id": "f9b7e427-beb0-4d3a-82e0-66205149f6cd",
   "metadata": {
    "tags": []
   },
   "outputs": [],
   "source": [
    "template_xy_coords = getSiXyFromCalexp(template.visitInfo.id, template)"
   ]
  },
  {
   "cell_type": "code",
   "execution_count": null,
   "id": "f813b960-8a4f-469f-a520-caf7fcae0a8f",
   "metadata": {
    "tags": []
   },
   "outputs": [],
   "source": [
    "stamp_size = 400"
   ]
  },
  {
   "cell_type": "markdown",
   "id": "f3a08bba-9db7-461c-9e12-4b2181964f12",
   "metadata": {},
   "source": [
    "Here's the template"
   ]
  },
  {
   "cell_type": "code",
   "execution_count": null,
   "id": "202e6ba8-1b35-447a-984c-43e6feb2c6c1",
   "metadata": {
    "tags": []
   },
   "outputs": [],
   "source": [
    "xy_coords = getSiXyFromCalexp(template.visitInfo.id, template)\n",
    "show_image_on_wcs(template, x=xy_coords.x, y=xy_coords.y, stamp_size=stamp_size)"
   ]
  },
  {
   "cell_type": "markdown",
   "id": "6c0d2cc4-f24c-41be-b6b4-e311c9e27775",
   "metadata": {},
   "source": [
    "Now let's step through the calexps and subtractions"
   ]
  },
  {
   "cell_type": "markdown",
   "id": "04f027b2-ba9a-4b50-8662-729b4c707936",
   "metadata": {},
   "source": [
    "We can see the difference between the location of the star at the template epoch (\"green\") from the location of the star in the science epoch (\"red\")."
   ]
  },
  {
   "cell_type": "code",
   "execution_count": null,
   "id": "cdcd4ec7-adf1-41f1-85ea-a01f8c6064dd",
   "metadata": {
    "tags": []
   },
   "outputs": [],
   "source": [
    "def plot_calexp_cutout(data_id, template, butler=butler, ax=None, visit_table=visit_table, injection_catalog=injection_catalog, verbose=True):\n",
    "    calexp = butler.get(\"calexp\", dataId=dr.dataId)\n",
    "    # Warp the template to get the orientation\n",
    "    warper_config = WarperConfig()\n",
    "    warper = Warper.fromConfig(warper_config)\n",
    "\n",
    "    template_wcs = template.getWcs()\n",
    "    template_bbox = template.getBBox()\n",
    "    \n",
    "    # Add PSF.  I think doing this directly without warping is wrong.  At least the x,y mapping should be updated\n",
    "    warped_calexp = warper.warpExposure(template_wcs, calexp, destBBox=template_bbox)\n",
    "    warped_calexp.setPsf(calexp.getPsf())\n",
    "\n",
    "    template_xy_coords = getSiXyFromCalexp(template.visitInfo.id, warped_calexp, injection_catalog=injection_catalog)\n",
    "    xy_coords = getSiXyFromCalexp(warped_calexp.visitInfo.id, warped_calexp, injection_catalog=injection_catalog)\n",
    "    colors = [\"green\", \"red\"]\n",
    "    \n",
    "    visit_id = calexp.visitInfo.id\n",
    "    ra, dec = injection_catalog[visit_id][0][\"ra\"], injection_catalog[visit_id][0][\"dec\"]\n",
    "    template_ra, template_dec = injection_catalog[template.visitInfo.id][0][\"ra\"], injection_catalog[template.visitInfo.id][0][\"dec\"]\n",
    "    separation = SkyCoord(ra, dec, unit=u.degree).separation(SkyCoord(template_ra, template_dec, unit=u.degree))\n",
    "\n",
    "    if verbose:\n",
    "        print(f\"Visit: {visit_id}, MJD: {visit_table.loc[visit_id]['expMidptMJD']:0.6f}, \" + \\\n",
    "              f\"RA: {ra:0.7f}, Dec: {dec:0.7f}, Displacement: {separation.arcsec:0.6f} arcsec\")\n",
    "\n",
    "    show_image_on_wcs(warped_calexp,\n",
    "                      ax=ax,\n",
    "                      x=[template_xy_coords.x, xy_coords.x],\n",
    "                      y=[template_xy_coords.y, xy_coords.y],\n",
    "                      color=colors, stamp_size=stamp_size,\n",
    "                      figsize=(3, 3))\n",
    "        \n",
    "    del calexp"
   ]
  },
  {
   "cell_type": "code",
   "execution_count": null,
   "id": "2e8bf853-ba06-4bc6-9f65-aee74007eda8",
   "metadata": {
    "tags": []
   },
   "outputs": [],
   "source": [
    "def get_matched_object(dia_src: Table, ra, dec):\n",
    "    # Match in a simple way\n",
    "    threshold_dist = 2 / 3600  # arcseconds\n",
    "    threshold_dist_sq = threshold_dist ** 2\n",
    "\n",
    "    dist_sq = ((np.rad2deg(dia_src[\"coord_ra\"]) - ra) * np.cos(dia_src[\"coord_dec\"]))**2 + \\\n",
    "              (np.rad2deg(dia_src[\"coord_dec\"]) - dec)**2\n",
    "\n",
    "    idx, = np.where(dist_sq < threshold_dist_sq)\n",
    "    try:\n",
    "        matching_injected = dia_src[idx]\n",
    "    except:\n",
    "        matching_injected = None\n",
    "    \n",
    "    return matching_injected"
   ]
  },
  {
   "cell_type": "code",
   "execution_count": null,
   "id": "08dfc5a9-aed7-4963-850e-f1da5e4e3dc7",
   "metadata": {
    "tags": []
   },
   "outputs": [],
   "source": [
    "def plot_subtraction_cutout(data_id, template, butler=butler, injection_catalog=injection_catalog, ax=None, verbose=True, figsize=None):\n",
    "    calexp = butler.get(\"goodSeeingDiff_differenceExp\", dataId=data_id)\n",
    "    dia_src = butler.get(\"goodSeeingDiff_diaSrc\", dataId=data_id)\n",
    "    # I find Astropy Tables easier to think about than the custom lsst.afw.table SourceCatalog\n",
    "    dia_src = dia_src.asAstropy()\n",
    "    # Warp the template to get the orientation\n",
    "    warper_config = WarperConfig()\n",
    "    warper = Warper.fromConfig(warper_config)\n",
    "\n",
    "    template_wcs = template.getWcs()\n",
    "    template_bbox = template.getBBox()\n",
    "    \n",
    "    # Add PSF.  I think doing this directly without warping is wrong.  At least the x,y mapping should be updated\n",
    "    warped_calexp = warper.warpExposure(template_wcs, calexp, destBBox=template_bbox)\n",
    "    warped_calexp.setPsf(calexp.getPsf())\n",
    "\n",
    "    template_xy_coords = getSiXyFromCalexp(template.visitInfo.id, warped_calexp)\n",
    "    xy_coords = getSiXyFromCalexp(warped_calexp.visitInfo.id, warped_calexp)\n",
    "    x_array = [template_xy_coords.x, xy_coords.x]\n",
    "    y_array = [template_xy_coords.y, xy_coords.y]\n",
    "    colors = [\"green\", \"red\"]\n",
    "    size = [20, 20]\n",
    "   \n",
    "    visit_id = calexp.visitInfo.id\n",
    "    ra, dec = injection_catalog[visit_id][0][\"ra\"], injection_catalog[visit_id][0][\"dec\"]\n",
    "    template_ra, template_dec = injection_catalog[template.visitInfo.id][0][\"ra\"], injection_catalog[template.visitInfo.id][0][\"dec\"]\n",
    "    separation = SkyCoord(ra, dec, unit=u.degree).separation(SkyCoord(template_ra, template_dec, unit=u.degree))\n",
    "    \n",
    "    if verbose:\n",
    "        print(f\"Visit: {visit_id}, MJD: {visit_table.loc[visit_id]['expMidptMJD']:0.6f}, \" + \\\n",
    "              f\"RA: {ra:0.7f}, Dec: {dec:0.7f}, Displacement: {separation.arcsec:0.6f} arcsec\")\n",
    "    \n",
    "    matching_injected = get_matched_object(dia_src, ra, dec)\n",
    "    \n",
    "    columns_of_interest = [\"ip_diffim_PsfDipoleFlux_pos_instFlux\",\n",
    "                           \"ip_diffim_PsfDipoleFlux_neg_instFlux\",\n",
    "                           \"ip_diffim_ClassificationDipole_value\"]\n",
    "\n",
    "    if matching_injected is None or len(matching_injected) < 1:\n",
    "        print(\"No matching dia source found for injected object.\")\n",
    "    else:\n",
    "        print(f\"Dipole: \")\n",
    "        matching_injected[columns_of_interest].pprint(max_width=-1)\n",
    "        \n",
    "        dia_src_xy_coords = warped_calexp.getWcs().skyToPixel(geom.SpherePoint(matching_injected[\"coord_ra\"],\n",
    "                                                                               matching_injected[\"coord_dec\"],\n",
    "                                                                               geom.radians))\n",
    "        x_array.append(dia_src_xy_coords.x)\n",
    "        y_array.append(dia_src_xy_coords.y)\n",
    "        colors.append(\"blue\")\n",
    "        size.append(40)\n",
    "\n",
    "    show_image_on_wcs(warped_calexp, ax=ax, x=x_array, y=y_array, color=colors, size=size, stamp_size=stamp_size, figsize=figsize);\n",
    "    \n",
    "    del calexp\n",
    "    del dia_src"
   ]
  },
  {
   "cell_type": "code",
   "execution_count": null,
   "id": "2a59a3ba-9d9d-4192-a145-87db31ca7396",
   "metadata": {
    "tags": []
   },
   "outputs": [],
   "source": [
    "stamp_size = 100\n",
    "figsize = (8, 5)\n",
    "# Note that each image will be shown in its own orientation.\n",
    "for dr in dataset_refs[1:]:\n",
    "    plt.figure(figsize=figsize)\n",
    "    plt.subplot(1, 2, 1, projection=WCS(template.getWcs().getFitsMetadata()))\n",
    "    plot_calexp_cutout(dr.dataId, template, butler, ax=plt.gca(), verbose=False);\n",
    "    plt.subplot(1, 2, 2, projection=WCS(template.getWcs().getFitsMetadata()))\n",
    "    plot_subtraction_cutout(dr.dataId, template, butler, ax=plt.gca());\n",
    "    plt.tight_layout()\n",
    "    plt.show()"
   ]
  },
  {
   "cell_type": "markdown",
   "id": "ebb99ca8-5be0-475f-a4d1-598a1bb9c762",
   "metadata": {},
   "source": [
    "Green: Location of star in template  \n",
    "Red: Location of star in science  \n",
    "Blue: Location of matching dia_src"
   ]
  },
  {
   "cell_type": "markdown",
   "id": "bf853549-aa07-4b64-a443-fd7ac0300308",
   "metadata": {},
   "source": [
    "The injected star shows up clearly in the subtraction against the original template.\n",
    "\n",
    "If we subtract the injected template from the injected science we see a dipole"
   ]
  },
  {
   "cell_type": "markdown",
   "id": "35b8fbcf-c973-4497-8789-60706f98c88b",
   "metadata": {},
   "source": [
    "### Appendix.  Snippets of code one might want later"
   ]
  },
  {
   "cell_type": "code",
   "execution_count": null,
   "id": "87009b79-2e2c-43bc-89b6-c522d6b0070a",
   "metadata": {
    "tags": []
   },
   "outputs": [],
   "source": [
    "def remove_figure(fig):\n",
    "    \"\"\"\n",
    "    Remove a figure to reduce memory footprint.\n",
    "\n",
    "    Parameters\n",
    "    ----------\n",
    "    fig: matplotlib.figure.Figure\n",
    "        Figure to be removed.\n",
    "\n",
    "    Returns\n",
    "    -------\n",
    "    None\n",
    "    \"\"\"\n",
    "    # get the axes and clear their images\n",
    "    for ax in fig.get_axes():\n",
    "        for im in ax.get_images():\n",
    "            im.remove()\n",
    "    fig.clf()       # clear the figure\n",
    "    plt.close(fig)  # close the figure\n",
    "    gc.collect()    # call the garbage collector"
   ]
  },
  {
   "cell_type": "code",
   "execution_count": null,
   "id": "ffb0e33e-6456-4a65-a895-105e4897f4ca",
   "metadata": {},
   "outputs": [],
   "source": []
  }
 ],
 "metadata": {
  "kernelspec": {
   "display_name": "LSST",
   "language": "python",
   "name": "lsst"
  },
  "language_info": {
   "codemirror_mode": {
    "name": "ipython",
    "version": 3
   },
   "file_extension": ".py",
   "mimetype": "text/x-python",
   "name": "python",
   "nbconvert_exporter": "python",
   "pygments_lexer": "ipython3",
   "version": "3.10.10"
  }
 },
 "nbformat": 4,
 "nbformat_minor": 5
}
