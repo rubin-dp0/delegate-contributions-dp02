{
 "cells": [
  {
   "cell_type": "markdown",
   "id": "a1f62723-3cae-4253-9986-d3860ce807e2",
   "metadata": {},
   "source": [
    "<img align=\"left\" src = logos.png width=400 style=\"padding: 10px\"> \n",
    "<br>\n",
    "<b>Getting lightcurves and cutouts of DIA sources: Supernovae</b> <br>\n",
    "Contact author: Vincenzo Petrecca <br>\n",
    "Last verified to run: 2022-11-18<br>\n",
    "LSST Science Piplines version: Weekly 2022_40 <br>\n",
    "Container Size: medium <br>"
   ]
  },
  {
   "cell_type": "markdown",
   "id": "96079f08-d3af-4cf6-bcbf-50eb31f50bf5",
   "metadata": {},
   "source": [
    "**Description:** This notebook shows how to extract light curves of Supernovae detected on difference images querying both the *truth* and the DIA tables. Then, it shows how to plot the `calexp`, the `template` and the `diffexp` images for each detection. Finally, it provides hints on how the execute the DIA on the RSP with user-defined templates."
   ]
  },
  {
   "cell_type": "markdown",
   "id": "46fd732d-1c91-4756-9a1d-a5fc7d5c960a",
   "metadata": {},
   "source": [
    "**Credit**: Developed by Vincenzo Petrecca. Please consider acknowledging Vincenzo if this notebook is used for the preparation of journal articles, software releases, or other notebooks. This notebook is based in part on material originally developed by Leanne Guy, Melissa Graham, Jeff Carlin and the Rubin Community Engagement Team for Data Preview 0. \n",
    "\n",
    "Special thanks to Neven Caplar for updating the notebook by using the new dp0.2 truth table"
   ]
  },
  {
   "cell_type": "markdown",
   "id": "896eab59",
   "metadata": {},
   "source": [
    "## 0. Set Up"
   ]
  },
  {
   "cell_type": "code",
   "execution_count": null,
   "id": "dff335a8",
   "metadata": {},
   "outputs": [],
   "source": [
    "### Rubin-specific packages\n",
    "\n",
    "import lsst.geom as geom\n",
    "import lsst.sphgeom as sphgeom\n",
    "import lsst.daf.base as dafBase\n",
    "import lsst.afw.display as afwDisplay\n",
    "from lsst.afw.image import MultibandExposure\n",
    "import lsst.daf.butler as dafButler\n",
    "from lsst.daf.butler import Butler\n",
    "from rubin_jupyter_utils.lab.notebook import get_tap_service\n",
    "service = get_tap_service()\n",
    "\n",
    "### General python / astronomy packages\n",
    "\n",
    "import matplotlib.pyplot as plt\n",
    "import numpy as np\n",
    "import math\n",
    "import gc\n",
    "from matplotlib import container\n",
    "from astropy.coordinates import SkyCoord\n",
    "from astropy.coordinates import Angle\n",
    "from astropy.wcs import WCS\n",
    "import astropy.units as u\n",
    "from astropy.time import Time\n",
    "from astropy.table import Table\n",
    "from astropy.io import fits\n",
    "from astropy.timeseries import LombScargle\n",
    "from astropy.io import ascii\n",
    "from scipy.interpolate import interp1d, splrep, splev\n",
    "\n",
    "import time"
   ]
  },
  {
   "cell_type": "code",
   "execution_count": null,
   "id": "7d518192-742b-4324-bc26-3192563b060c",
   "metadata": {},
   "outputs": [],
   "source": [
    "plt.style.use('tableau-colorblind10')\n",
    "%matplotlib inline"
   ]
  },
  {
   "cell_type": "code",
   "execution_count": null,
   "id": "7180c5d2-d64e-48f2-9130-307bbaae73eb",
   "metadata": {},
   "outputs": [],
   "source": [
    "import warnings\n",
    "\n",
    "# Prevent some helpful but ancillary warning messages from printing\n",
    "#   during some LSST DM Release calls\n",
    "warnings.simplefilter(\"ignore\", category=UserWarning)"
   ]
  },
  {
   "cell_type": "code",
   "execution_count": null,
   "id": "56650c9e-ac1d-4218-810e-6080fd816664",
   "metadata": {},
   "outputs": [],
   "source": [
    "def remove_figure(fig):\n",
    "    \"\"\"\n",
    "    Remove a figure to reduce memory footprint.\n",
    "\n",
    "    Parameters\n",
    "    ----------\n",
    "    fig: matplotlib.figure.Figure\n",
    "        Figure to be removed.\n",
    "\n",
    "    Returns\n",
    "    -------\n",
    "    None\n",
    "    \"\"\"\n",
    "    # Get the axes and clear their images\n",
    "    for ax in fig.get_axes():\n",
    "        for im in ax.get_images():\n",
    "            im.remove()\n",
    "    fig.clf()       # Clear the figure\n",
    "    plt.close(fig)  # Close the figure\n",
    "    gc.collect()    # Call the garbage collector"
   ]
  },
  {
   "cell_type": "code",
   "execution_count": null,
   "id": "3b19ee8b-eeb5-4a31-8b33-408d55e6db61",
   "metadata": {},
   "outputs": [],
   "source": [
    "def cutout_coadd(butler, ra, dec, band='r', datasetType='deepCoadd',\n",
    "                 skymap=None, cutoutSideLength=51, **kwargs):\n",
    "    \"\"\"\n",
    "    Produce a cutout from a coadd at the given ra, dec position.\n",
    "\n",
    "    Adapted from DC2 tutorial notebook by Michael Wood-Vasey.\n",
    "\n",
    "    Parameters\n",
    "    ----------\n",
    "    butler: lsst.daf.persistence.Butler\n",
    "        Servant providing access to a data repository\n",
    "    ra: float\n",
    "        Right ascension of the center of the cutout, in degrees\n",
    "    dec: float\n",
    "        Declination of the center of the cutout, in degrees\n",
    "    band: string\n",
    "        Filter of the image to load\n",
    "    datasetType: string ['deepCoadd']\n",
    "        Which type of coadd to load.  Doesn't support 'calexp'\n",
    "    skymap: lsst.afw.skyMap.SkyMap [optional]\n",
    "        Pass in to avoid the Butler read.  Useful if you have lots of them.\n",
    "    cutoutSideLength: float [optional]\n",
    "        Size of the cutout region in pixels.\n",
    "\n",
    "    Returns\n",
    "    -------\n",
    "    MaskedImage\n",
    "    \"\"\"\n",
    "    radec = geom.SpherePoint(ra, dec, geom.degrees)\n",
    "    cutoutSize = geom.ExtentI(cutoutSideLength, cutoutSideLength)\n",
    "\n",
    "    if skymap is None:\n",
    "        skymap = butler.get(\"skyMap\")\n",
    "\n",
    "    # Look up the tract, patch for the RA, Dec\n",
    "    tractInfo = skymap.findTract(radec)\n",
    "    patchInfo = tractInfo.findPatch(radec)\n",
    "    xy = geom.PointI(tractInfo.getWcs().skyToPixel(radec))\n",
    "    bbox = geom.BoxI(xy - cutoutSize // 2, cutoutSize)\n",
    "    patch = tractInfo.getSequentialPatchIndex(patchInfo)\n",
    "\n",
    "    coaddId = {'tract': tractInfo.getId(), 'patch': patch, 'band': band}\n",
    "    parameters = {'bbox': bbox}\n",
    "\n",
    "    cutout_image = butler.get(datasetType, parameters=parameters,\n",
    "                              dataId=coaddId)\n",
    "\n",
    "    return cutout_image"
   ]
  },
  {
   "cell_type": "code",
   "execution_count": null,
   "id": "31e2b7d5-0660-4ad2-9b38-789c85d40ee6",
   "metadata": {},
   "outputs": [],
   "source": [
    "# Set up some plotting defaults:\n",
    "\n",
    "params = {'axes.labelsize': 13,\n",
    "          'font.size': 12,\n",
    "          'legend.fontsize': 12,\n",
    "          'xtick.major.width': 1.5,\n",
    "          'xtick.minor.width': 1,\n",
    "          'xtick.major.size': 6,\n",
    "          'xtick.minor.size': 3,\n",
    "          'xtick.direction': 'in',\n",
    "          'xtick.top': True,\n",
    "          'lines.linewidth': 1.5,\n",
    "          'axes.linewidth': 1.5,\n",
    "          'axes.labelweight': 1.5,\n",
    "          'axes.titleweight': 1.5,\n",
    "          'ytick.major.width': 1.5,\n",
    "          'ytick.minor.width': 1,\n",
    "          'ytick.major.size': 6,\n",
    "          'ytick.minor.size': 3,\n",
    "          'ytick.direction': 'in',\n",
    "          'ytick.right': True,\n",
    "          'figure.figsize': [8, 8],\n",
    "          'figure.facecolor': 'White'\n",
    "          }\n",
    "\n",
    "plt.rcParams.update(params)"
   ]
  },
  {
   "cell_type": "markdown",
   "id": "aff4cda5-cd6d-4e50-ad79-3cea794cfeae",
   "metadata": {},
   "source": [
    "## 1. Get a Supernova from the truth table\n",
    "\n",
    "Query the truth match catalog with the TAP service. Use coordinates near the center of DC2. Use a 0.5 degree radius. Use is_variable = 1 (true) to only return variables. Use is_variable = 1 (true) to only return variables. Use truth_type = 3 to only return Type Ia Supernovae. Use is_unique_truth_entry = 'true' to ensure good truth-table matches only. Use redshift < 0.3 to be more likely to get a full light curve with lots of data points.\n",
    "\n",
    "Get the coordinates and all the useful information through the query. \n",
    "\n",
    "The schema browser for each table is here: https://dm.lsst.org/sdm_schemas/browser/dp02.html\n",
    "\n",
    "**N.B.** New truth tables have been added to DP0.2. You may want to take a look at *delegate-contributions-dp02/desc_truth*"
   ]
  },
  {
   "cell_type": "code",
   "execution_count": null,
   "id": "43d4895d-6999-460a-b5d3-3aeda7e9bb87",
   "metadata": {},
   "outputs": [],
   "source": [
    "%%time\n",
    "results = service.search(\"SELECT ts.ra, ts.dec, ts.id, ts.host_galaxy, ts.redshift \"\\\n",
    "                         \"FROM dp02_dc2_catalogs.TruthSummary AS ts \"\n",
    "                         \"WHERE CONTAINS(POINT('ICRS', ts.ra, ts.dec), \"\\\n",
    "                         \"CIRCLE('ICRS', 64.0, -35.5, 0.5)) = 1 \"\\\n",
    "                         \"AND ts.is_variable = 1 AND ts.truth_type = 3 AND ts.redshift < 0.3 \",\\\n",
    "                         maxrec=10000)"
   ]
  },
  {
   "cell_type": "markdown",
   "id": "10ed6564-ee1b-4e89-96fc-31fe8117041c",
   "metadata": {},
   "source": [
    "#### Show the TAP query results"
   ]
  },
  {
   "cell_type": "code",
   "execution_count": null,
   "id": "b7515123-54dc-47c9-9473-0312fc859c76",
   "metadata": {},
   "outputs": [],
   "source": [
    "data = results.to_table().to_pandas()\n",
    "data"
   ]
  },
  {
   "cell_type": "markdown",
   "id": "371e9aae-bbf4-4ae2-b3e6-9e1d0b97ba11",
   "metadata": {},
   "source": [
    "### 1.1 Select a Supernova\n",
    "Select the SN you want to analyze"
   ]
  },
  {
   "cell_type": "code",
   "execution_count": null,
   "id": "8babb494-0ac4-4746-8e02-23a4e355edf0",
   "metadata": {},
   "outputs": [],
   "source": [
    "SN = data.loc[data['id'] == 'MS_9686_140'] # Very good object!\n",
    "\n",
    "\n",
    "#SN = data.loc[data['id'] == 'MS_9686_138'] # Offset in g-band\n",
    "#SN = data.loc[data['id'] == 'MS_9686_41'] # Offset in g-band and r-band\n",
    "#SN = data.loc[data['id'] == 'MS_9686_103'] # Offset in g-band"
   ]
  },
  {
   "cell_type": "markdown",
   "id": "048d62e4-dfa4-4686-8735-3072f0bd1082",
   "metadata": {},
   "source": [
    "### 1.2 Get useful information"
   ]
  },
  {
   "cell_type": "code",
   "execution_count": null,
   "id": "078f360f-dc05-440f-9be5-d4e03ca256d8",
   "metadata": {},
   "outputs": [],
   "source": [
    "# Get the coordinates\n",
    "SN_ra, SN_dec = SN['ra'].values[0]*u.deg, SN['dec'].values[0]*u.deg\n",
    "targ_coord = SkyCoord(ra=SN_ra,dec=SN_dec)"
   ]
  },
  {
   "cell_type": "markdown",
   "id": "756d5b1c-ce2d-4532-a814-fbd5a1dc3234",
   "metadata": {},
   "source": [
    "### 1.3 Define the HTM ID for the Butler\n",
    "Use these coordinates to define the HTM ID spatial search region to pass to the Butler's `queryDatasets` function."
   ]
  },
  {
   "cell_type": "code",
   "execution_count": null,
   "id": "92c04b87-8b51-49ea-829f-6e484d3fb09c",
   "metadata": {},
   "outputs": [],
   "source": [
    "pixelization = sphgeom.HtmPixelization(15)\n",
    "htm_id = pixelization.index(sphgeom.UnitVector3d(sphgeom.LonLat.fromDegrees(\n",
    "                            targ_coord.ra.value, targ_coord.dec.value)))\n",
    "\n",
    "# Obtain and print the scale to provide a sense of the size of the\n",
    "#   sky pixelization being used\n",
    "scale = pixelization.triangle(htm_id).getBoundingCircle().getOpeningAngle().asDegrees() * 3600\n",
    "print(f'HTM ID={htm_id} at level={pixelization.getLevel()} is a ~{scale:0.2}\" triangle.')"
   ]
  },
  {
   "cell_type": "markdown",
   "id": "10323c7c-3506-48ac-a2d7-789026b9c70f",
   "metadata": {},
   "source": [
    "## 2. TAP Query the *DIA* tables and get the lightcurve\n",
    "Every time a source is detected on a difference image with *Signal-to-noise ratio > 5*, a new entry is added to the `DiaSource` table.\n",
    "\n",
    "Multiple detections associated to the same object will have the same *diaObjectId*, otherwise a new Id is created. \n",
    "\n",
    "\n",
    "The `DiaObject` table contains a single entry for each variable/transient object. \n",
    "\n",
    "Query the `DiaObject` table to get the Id of the Supernova (assuming a simple coordinate matching for simplicity). Then, use the retrieved Id to get the lightcurve from the `DiaSource` table.\n",
    "\n",
    "### 2.1 Find the chosen Supernova on the *DiaObject* table\n",
    "\n",
    "We only need the *DiaObjectId* for this query, and we will take the closest match within 0.5 arcsec."
   ]
  },
  {
   "cell_type": "code",
   "execution_count": null,
   "id": "ff5fd1c5-be54-4c30-84c3-8739a85c1def",
   "metadata": {},
   "outputs": [],
   "source": [
    "results = service.search(\"SELECT ra, decl, diaObjectId \"\n",
    "                         \"FROM dp02_dc2_catalogs.DiaObject \"\n",
    "                         \"WHERE CONTAINS(POINT('ICRS', ra, decl), \"\n",
    "                         \"CIRCLE('ICRS',\" + str(targ_coord.ra.deg) + \", \"\n",
    "                         + str(targ_coord.dec.deg) + \", 0.00014)) = 1 \", maxrec=100000)\n",
    "\n",
    "DiaObjs = results.to_table()\n",
    "del results"
   ]
  },
  {
   "cell_type": "code",
   "execution_count": null,
   "id": "b8d93252-d687-46a3-9e51-c749041952fb",
   "metadata": {},
   "outputs": [],
   "source": [
    "DiaObjs"
   ]
  },
  {
   "cell_type": "markdown",
   "id": "1e44f23d-c48e-4580-a5f2-5b54f8728c05",
   "metadata": {},
   "source": [
    "Get the object ID"
   ]
  },
  {
   "cell_type": "code",
   "execution_count": null,
   "id": "6a176ee3-fea3-4f25-b654-baad2afa8cdd",
   "metadata": {},
   "outputs": [],
   "source": [
    "sel_objid = DiaObjs[0]['diaObjectId']\n",
    "print(sel_objid)"
   ]
  },
  {
   "cell_type": "code",
   "execution_count": null,
   "id": "1b210c2d-1e7f-4be8-b5e1-26fd90538d87",
   "metadata": {},
   "outputs": [],
   "source": [
    "# ------ BONUS CELL --------\n",
    "\n",
    "# Un-comment this if you want to see a light curve with template contamination,\n",
    "# ideal to test Difference Imaging Task with other templates\n",
    "\n",
    "sel_objid = 1650393341570843235\n",
    "\n",
    "# Get the coordinates\n",
    "SN_ra, SN_dec = 59.3569783*u.deg, -36.8152925*u.deg\n",
    "targ_coord = SkyCoord(ra=SN_ra,dec=SN_dec)\n",
    "\n",
    "pixelization = sphgeom.HtmPixelization(15)\n",
    "htm_id = pixelization.index(sphgeom.UnitVector3d(sphgeom.LonLat.fromDegrees(\n",
    "                            targ_coord.ra.value, targ_coord.dec.value)))\n",
    "\n",
    "# Obtain and print the scale to provide a sense of the size of the\n",
    "#   sky pixelization being used\n",
    "scale = pixelization.triangle(htm_id).getBoundingCircle().getOpeningAngle().asDegrees() * 3600\n",
    "print(f'HTM ID={htm_id} at level={pixelization.getLevel()} is a ~{scale:0.2}\" triangle.')"
   ]
  },
  {
   "cell_type": "markdown",
   "id": "8b1a3e93-505c-4c0a-93c7-31aaefaa2549",
   "metadata": {},
   "source": [
    "### 2.2 Extract the Photometry from the DiaSource Table\n",
    "To get a lightcurve, we query for times (midPointTai) and fluxes (with related errors). Rubin will provide fluxes in nanoJansky by default, but it is possible to convert them into magnitudes easily. \n",
    "\n",
    "There are two different types of measurement on the `DiaSource` table: *psFlux* is the PSF flux measured on the difference image, while *totFlux* is the PSF flux measured on the direct image (the calexp).\n"
   ]
  },
  {
   "cell_type": "code",
   "execution_count": null,
   "id": "ae4afffa-5db7-4d90-b65d-d80b4a2a00d0",
   "metadata": {},
   "outputs": [],
   "source": [
    "results = service.search(\"SELECT ra, decl, diaObjectId, diaSourceId, ccdVisitId, \"\n",
    "                         \"filterName, midPointTai, psFlux, psFluxErr, totFlux, totFluxErr, \"\n",
    "                         \"scisql_nanojanskyToAbMag(psFlux) AS psAbMag, \"\n",
    "                         \"scisql_nanojanskyToAbMag(totFlux) AS totAbMag, \"\n",
    "                         \"scisql_nanojanskyToAbMagSigma(psFlux, psFluxErr) AS psAbMagErr, \"\n",
    "                         \"scisql_nanojanskyToAbMagSigma(totFlux, totFluxErr) AS totAbMagErr \"\n",
    "                         \"FROM dp02_dc2_catalogs.DiaSource \"\n",
    "                         \"WHERE diaObjectId = \"+str(sel_objid))\n",
    "\n",
    "DiaSrcs = results.to_table()\n",
    "del results"
   ]
  },
  {
   "cell_type": "code",
   "execution_count": null,
   "id": "54cd0d59-12db-44ad-9e40-630ee6d3e66f",
   "metadata": {},
   "outputs": [],
   "source": [
    "# Get masks for different filters\n",
    "u_band = (DiaSrcs['filterName'] == 'u')\n",
    "g_band = (DiaSrcs['filterName'] == 'g')\n",
    "r_band = (DiaSrcs['filterName'] == 'r')\n",
    "i_band = (DiaSrcs['filterName'] == 'i')\n",
    "z_band = (DiaSrcs['filterName'] == 'z')\n",
    "y_band = (DiaSrcs['filterName'] == 'y')"
   ]
  },
  {
   "cell_type": "code",
   "execution_count": null,
   "id": "920cc78a-0086-4561-bd2d-4a1fe54364dc",
   "metadata": {},
   "outputs": [],
   "source": [
    "# Hot wo use list indexing to get values\n",
    "print(DiaSrcs[g_band]['psFlux'].value)"
   ]
  },
  {
   "cell_type": "markdown",
   "id": "135503d2-0acd-468b-967a-76b05b257ea8",
   "metadata": {},
   "source": [
    "### 2.3 Plot the lightcurves\n",
    "\n",
    "Here we plot the lightcurves using both *psFlux* and *totFlux*. For a Supernova we do not expect a significant difference, but a comparison could be useful for many science cases."
   ]
  },
  {
   "cell_type": "code",
   "execution_count": null,
   "id": "d7711a50-cb9d-4000-a92f-574680ddf712",
   "metadata": {},
   "outputs": [],
   "source": [
    "col = ['darkviolet','darkgreen','darkorange','red','brown','black']\n",
    "bands = [u_band, g_band, r_band, i_band, z_band, y_band]"
   ]
  },
  {
   "cell_type": "code",
   "execution_count": null,
   "id": "5655b2f7-d656-4128-b1d5-c93dc70f9cdd",
   "metadata": {},
   "outputs": [],
   "source": [
    "fig = plt.figure(figsize=(8, 5))\n",
    "\n",
    "for f,fil in enumerate( ['u','g','r','i','z','y'] ):\n",
    "    \n",
    "    # Simple scatter plot with points\n",
    "    plt.scatter(DiaSrcs[bands[f]]['midPointTai'], DiaSrcs[bands[f]]['psFlux'],\n",
    "               s = 20, color = col[f], label = fil)\n",
    "    # Light curve with error bars\n",
    "    plt.errorbar(DiaSrcs[bands[f]]['midPointTai'], DiaSrcs[bands[f]]['psFlux'],\n",
    "                xerr = None, yerr = DiaSrcs[bands[f]]['psFluxErr'], lw = 0, \n",
    "                elinewidth = 1, marker = 'o', markersize = 4, capsize = 2, color = col[f])\n",
    "    \n",
    "plt.minorticks_on()\n",
    "plt.xlabel('MJD (days)')\n",
    "plt.ylabel('Flux_diff (nJy)')\n",
    "plt.legend(loc='upper right')\n",
    "plt.title(\"Multi-band lightcurve\")\n",
    "plt.show()"
   ]
  },
  {
   "cell_type": "code",
   "execution_count": null,
   "id": "e0248222-ef38-4d47-b065-9729d7fdd8dd",
   "metadata": {},
   "outputs": [],
   "source": [
    "fig = plt.figure(figsize=(8, 5))\n",
    "\n",
    "for f,fil in enumerate( ['u','g','r','i','z','y'] ):\n",
    "    \n",
    "    # Simple scatter plot with points\n",
    "    plt.scatter(DiaSrcs[bands[f]]['midPointTai'], DiaSrcs[bands[f]]['totFlux'],\n",
    "               s = 20, color = col[f], label = fil)\n",
    "    # Light curve with error bars\n",
    "    plt.errorbar(DiaSrcs[bands[f]]['midPointTai'], DiaSrcs[bands[f]]['totFlux'],\n",
    "                xerr = None, yerr = DiaSrcs[bands[f]]['totFluxErr'], lw = 0, \n",
    "                elinewidth = 1, marker = 'o', markersize = 4, capsize = 2, color = col[f])\n",
    "    \n",
    "plt.minorticks_on()\n",
    "plt.xlabel('MJD (days)')\n",
    "plt.ylabel('Flux_tot (nJy)')\n",
    "plt.legend(loc='upper right')\n",
    "plt.title(\"Multi-band lightcurve\")\n",
    "plt.show()"
   ]
  },
  {
   "cell_type": "markdown",
   "id": "ef0e03ec-658d-453f-9da0-2ccf45755dc2",
   "metadata": {},
   "source": [
    "#### These are the same plots using magnitudes instead of fluxes"
   ]
  },
  {
   "cell_type": "code",
   "execution_count": null,
   "id": "908b057d-4aa4-4803-badc-683f87738cc2",
   "metadata": {},
   "outputs": [],
   "source": [
    "fig = plt.figure(figsize=(8, 5))\n",
    "\n",
    "for f,fil in enumerate( ['u','g','r','i','z','y'] ):\n",
    "    \n",
    "    # Simple scatter plot with points\n",
    "    plt.scatter(DiaSrcs[bands[f]]['midPointTai'], DiaSrcs[bands[f]]['psAbMag'],\n",
    "               s = 20, color = col[f], label = fil)\n",
    "    # Light curve with error bars\n",
    "    plt.errorbar(DiaSrcs[bands[f]]['midPointTai'], DiaSrcs[bands[f]]['psAbMag'],\n",
    "                xerr = None, yerr = DiaSrcs[bands[f]]['psAbMagErr'], lw = 0, \n",
    "                elinewidth = 1, marker = 'o', markersize = 4, capsize = 2, color = col[f])\n",
    "\n",
    "plt.minorticks_on()\n",
    "plt.gca().invert_yaxis()\n",
    "plt.xlabel('MJD (days)')\n",
    "plt.ylabel('Mag_diff')\n",
    "plt.legend(loc='upper right')\n",
    "plt.title(\"Multi-band lightcurve\")\n",
    "plt.show()"
   ]
  },
  {
   "cell_type": "code",
   "execution_count": null,
   "id": "3a4f84cf-4ef4-47ba-a607-626f27583214",
   "metadata": {},
   "outputs": [],
   "source": [
    "fig = plt.figure(figsize=(8, 5))\n",
    "\n",
    "for f,fil in enumerate( ['u','g','r','i','z','y'] ):\n",
    "    if f in [1,2,3]:\n",
    "        # Simple scatter plot with points\n",
    "        plt.scatter(DiaSrcs[bands[f]]['midPointTai'], DiaSrcs[bands[f]]['totAbMag'],\n",
    "                   s = 20, color = col[f], label = fil)\n",
    "        # Light curve with error bars\n",
    "        plt.errorbar(DiaSrcs[bands[f]]['midPointTai'], DiaSrcs[bands[f]]['totAbMag'],\n",
    "                    xerr = None, yerr = DiaSrcs[bands[f]]['totAbMagErr'], lw = 0, \n",
    "                    elinewidth = 1, marker = 'o', markersize = 4, capsize = 2, color = col[f])\n",
    "    else:\n",
    "        continue\n",
    "    \n",
    "plt.minorticks_on()\n",
    "plt.gca().invert_yaxis()\n",
    "plt.xlabel('MJD (days)')\n",
    "plt.ylabel('Mag_tot')\n",
    "plt.legend(loc='upper right')\n",
    "plt.title(\"Multi-band lightcurve\")\n",
    "plt.show()"
   ]
  },
  {
   "cell_type": "markdown",
   "id": "45e2ea60-681d-47a6-bfac-6ab9cd2c3201",
   "metadata": {},
   "source": [
    "### 2.4 Extract the Photometry from the ForcedSourceOnDiaObject Table\n",
    "It may be useful to look at the lightcurve using Forced-photometry measurements on individual single-epoch visit images and difference images (whether or not the source has been detected above 5 sigma S/N). This information is provided in the `ForcedSourceOnDiaObject` table.\n",
    "\n",
    "**N.B.** The table does not contain the time each exposure was observed. To build the lightcurve, we use a JOIN to extract visit info for each entry from the `CcdVisit` table."
   ]
  },
  {
   "cell_type": "code",
   "execution_count": null,
   "id": "53dd8306-88f8-44bc-ae77-0b3a1c7971c1",
   "metadata": {},
   "outputs": [],
   "source": [
    "results = service.search(\"SELECT frc.coord_ra, frc.coord_dec, frc.diaObjectId, frc.ccdVisitId, \"\n",
    "                         \"frc.psfDiffFlux, frc.psfDiffFluxErr, frc.psfFlux, frc.psfFluxErr, \"\n",
    "                         \"scisql_nanojanskyToAbMag(psfDiffFlux) AS psAbMag, \"\n",
    "                         \"scisql_nanojanskyToAbMag(psfFlux) AS totAbMag, \"\n",
    "                         \"scisql_nanojanskyToAbMagSigma(psfDiffFlux, psfDiffFluxErr) AS psAbMagErr, \"\n",
    "                         \"scisql_nanojanskyToAbMagSigma(psfFlux, psfFluxErr) AS totAbMagErr, \"\n",
    "                         \"visinfo.ccdVisitId, visinfo.band, visinfo.expMidptMJD, visinfo.zeroPoint \"\n",
    "                         \"FROM dp02_dc2_catalogs.ForcedSourceOnDiaObject AS frc \"\n",
    "                         \"JOIN dp02_dc2_catalogs.CcdVisit as visinfo \"\n",
    "                         \"ON visinfo.ccdVisitId = frc.ccdVisitId \"\n",
    "                         \"WHERE frc.diaObjectId = \" + str(sel_objid) +\n",
    "                         \"AND frc.psfDiffFlux_flag = \" + str(0) +\n",
    "                         \"AND frc.psfFlux_flag = \" + str(0))\n",
    "\n",
    "ForcedSrcs = results.to_table()\n",
    "del results"
   ]
  },
  {
   "cell_type": "markdown",
   "id": "3afba2a4-1323-407a-878f-c556c0f44ccb",
   "metadata": {},
   "source": [
    "Let's plot the lightcurves as above\n",
    "\n",
    "**N.B.** We omit error bars to make the plots easier to read "
   ]
  },
  {
   "cell_type": "code",
   "execution_count": null,
   "id": "9b7c83d6-ee15-49e2-aa72-2cc727246f28",
   "metadata": {},
   "outputs": [],
   "source": [
    "# Get masks for different filters\n",
    "u_band_f = (ForcedSrcs['band'] == 'u')\n",
    "g_band_f = (ForcedSrcs['band'] == 'g')\n",
    "r_band_f = (ForcedSrcs['band'] == 'r')\n",
    "i_band_f = (ForcedSrcs['band'] == 'i')\n",
    "z_band_f = (ForcedSrcs['band'] == 'z')\n",
    "y_band_f = (ForcedSrcs['band'] == 'y')"
   ]
  },
  {
   "cell_type": "code",
   "execution_count": null,
   "id": "e0b9d19e-1b10-4715-b340-806199b78568",
   "metadata": {},
   "outputs": [],
   "source": [
    "col = ['darkviolet','darkgreen','darkorange','red','brown','black']\n",
    "bands_f = [u_band_f, g_band_f, r_band_f, i_band_f, z_band_f, y_band_f]"
   ]
  },
  {
   "cell_type": "code",
   "execution_count": null,
   "id": "a7825a69-2c42-4ca6-8bef-2dff0ca1b866",
   "metadata": {},
   "outputs": [],
   "source": [
    "fig = plt.figure(figsize=(8, 5))\n",
    "\n",
    "for f,fil in enumerate( ['u','g','r','i','z','y'] ):\n",
    "    plt.plot(ForcedSrcs[bands_f[f]]['expMidptMJD'], ForcedSrcs[bands_f[f]]['psfDiffFlux'],\n",
    "             marker = 'o', lw = 0, color = col[f], label = fil)\n",
    "plt.minorticks_on()\n",
    "plt.xlabel('MJD (days)')\n",
    "plt.ylabel('Flux_diff (nJy)')\n",
    "plt.legend(loc='upper right')\n",
    "plt.title(\"Forced photometry lightcurve\")\n",
    "\n",
    "# Zoom around the peak\n",
    "peak = np.argmax(ForcedSrcs[i_band_f]['psfDiffFlux'])\n",
    "plt.xlim(ForcedSrcs[peak]['expMidptMJD']-100,ForcedSrcs[peak]['expMidptMJD']+100)\n",
    "plt.ylim(-200)\n",
    "\n",
    "plt.show()"
   ]
  },
  {
   "cell_type": "code",
   "execution_count": null,
   "id": "800f69e6-bdd6-4310-9af1-32e295a6546d",
   "metadata": {},
   "outputs": [],
   "source": [
    "fig = plt.figure(figsize=(8, 5))\n",
    "\n",
    "for f,fil in enumerate( ['u','g','r','i','z','y'] ):\n",
    "    plt.plot(ForcedSrcs[bands_f[f]]['expMidptMJD'], ForcedSrcs[bands_f[f]]['psAbMag'],\n",
    "             marker = 'o', lw = 0, color = col[f], label = fil)\n",
    "plt.minorticks_on()\n",
    "plt.gca().invert_yaxis()\n",
    "plt.xlabel('MJD (days)')\n",
    "plt.ylabel('Mag_diff')\n",
    "plt.legend(loc='upper right')\n",
    "plt.title(\"Forced photometry lightcurve\")\n",
    "\n",
    "# Zoom around the peak (rembember the magnitude scale is reversed!)\n",
    "peak = np.argmin(ForcedSrcs[i_band_f]['psAbMag'])\n",
    "plt.xlim(ForcedSrcs[peak]['expMidptMJD']-100,ForcedSrcs[peak]['expMidptMJD']+100)\n",
    "plt.ylim(30)\n",
    "\n",
    "plt.show()"
   ]
  },
  {
   "cell_type": "markdown",
   "id": "d2cacb21-39f3-4d8d-82cf-1e054e081f2c",
   "metadata": {},
   "source": [
    "## 3. Get the images\n",
    "\n",
    "We now show how to query the Butler to get images of the object of interest. We will start by looking at a deep coadd, then we will zoom in and query the Butler for the template, calexp and diffexp images for a selected point in the lightcurve.\n",
    "\n",
    "### 3.1 Instantiate the Butler"
   ]
  },
  {
   "cell_type": "code",
   "execution_count": null,
   "id": "c931b20f-fb67-4a6f-a4e9-a99f6331f153",
   "metadata": {},
   "outputs": [],
   "source": [
    "config = 'dp02'\n",
    "collection = '2.2i/runs/DP0.2'\n",
    "butler = Butler(config, collections=collection)"
   ]
  },
  {
   "cell_type": "markdown",
   "id": "4e250570-c26d-40ba-9c8f-daf4037fe43d",
   "metadata": {},
   "source": [
    "### 3.2 Get the coadded image"
   ]
  },
  {
   "cell_type": "code",
   "execution_count": null,
   "id": "cd868925-b096-43b7-82aa-8e92693020f9",
   "metadata": {},
   "outputs": [],
   "source": [
    "# Get tract and pacth (to retrieve the image)\n",
    "results = service.search(\"SELECT patch, tract \"\n",
    "                         \"FROM dp02_dc2_catalogs.ForcedSourceOnDiaObject \"\n",
    "                         \"WHERE diaObjectId = \"+str(sel_objid))\n",
    "\n",
    "patch, tract = results.to_table()[0]\n",
    "del results\n",
    "print(patch, tract)"
   ]
  },
  {
   "cell_type": "code",
   "execution_count": null,
   "id": "0a426ba8",
   "metadata": {},
   "outputs": [],
   "source": [
    "coadd = butler.get('deepCoadd_ref',tract=tract,patch=patch)"
   ]
  },
  {
   "cell_type": "code",
   "execution_count": null,
   "id": "82ed28da-6e9c-4577-8bf5-3030afb1f7e2",
   "metadata": {},
   "outputs": [],
   "source": [
    "# Use lsst.afw.display with the matplotlib backend\n",
    "afwDisplay.setDefaultBackend('matplotlib')"
   ]
  },
  {
   "cell_type": "code",
   "execution_count": null,
   "id": "de8f278f-b0cb-422c-ad97-6a0615b48b59",
   "metadata": {},
   "outputs": [],
   "source": [
    "# Select the filter and use tract and pacth from section 1.\n",
    "dataId = {'tract': tract, 'patch': patch, 'band': 'i'}\n",
    "\n",
    "# Retrieve the data using the `butler` instance and its function `get()`\n",
    "coadd_calexp = butler.get('deepCoadd_calexp', **dataId)"
   ]
  },
  {
   "cell_type": "code",
   "execution_count": null,
   "id": "eb94534c-64a9-4b48-95d3-572fd020b7ad",
   "metadata": {},
   "outputs": [],
   "source": [
    "# Create a matplotlib.pyplot figure\n",
    "fig, ax = plt.subplots()\n",
    "# Define a colormap\n",
    "afwDisplay.Display.setDefaultImageColormap('binary')\n",
    "# Get an alias to the lsst.afw.display.Display() method\n",
    "display = afwDisplay.Display(frame=fig)\n",
    "# Set the image stretch algorithm and range\n",
    "display.scale('asinh', 'zscale')\n",
    "# Load the image into the display\n",
    "display.mtv(coadd_calexp.image)\n",
    "#plt.subplot(projection=WCS(coadd_calexp.getWcs().getFitsMetadata()))\n",
    "plt.show()\n",
    "# Clean up memory\n",
    "remove_figure(fig)"
   ]
  },
  {
   "cell_type": "code",
   "execution_count": null,
   "id": "63fd1bdb-df19-4a2b-8610-2192d1d2fdd6",
   "metadata": {},
   "outputs": [],
   "source": [
    "# Get pixel coordinates of the Supernova\n",
    "RaDec = geom.SpherePoint(targ_coord.ra.degree,targ_coord.dec.degree,geom.degrees)"
   ]
  },
  {
   "cell_type": "code",
   "execution_count": null,
   "id": "c99836fd-ebf0-4dd9-bd63-248049ef1b8c",
   "metadata": {},
   "outputs": [],
   "source": [
    "# First, we need to extract the WCS solution, which provides the mapping\n",
    "#   between XY pixel values and sky coordinates:\n",
    "wcs = coadd_calexp.getWcs()\n",
    "\n",
    "# Print the WCS info to see what it contains:\n",
    "print(wcs)"
   ]
  },
  {
   "cell_type": "code",
   "execution_count": null,
   "id": "22df60ed-624f-47e0-8741-c16b56fe80cb",
   "metadata": {},
   "outputs": [],
   "source": [
    "sn_xy = geom.Point2I(wcs.skyToPixel(RaDec))"
   ]
  },
  {
   "cell_type": "markdown",
   "id": "acc38afc-c771-4372-bde5-d30fab98eee1",
   "metadata": {},
   "source": [
    "### 3.3 Get a cutout around the coordinates of the Supernova"
   ]
  },
  {
   "cell_type": "code",
   "execution_count": null,
   "id": "c13313c1-9a9d-4123-8d9e-3e2b04460870",
   "metadata": {},
   "outputs": [],
   "source": [
    "# We will use the function definted in Section 0.\n",
    "ra, dec = targ_coord.ra.degree, targ_coord.dec.degree\n",
    "cutout_image = cutout_coadd(butler, ra, dec, datasetType='deepCoadd',\n",
    "                            cutoutSideLength=300)\n",
    "print(\"The size of the cutout in pixels is: \", cutout_image.image.array.shape)"
   ]
  },
  {
   "cell_type": "code",
   "execution_count": null,
   "id": "b0bff57c-c687-485a-823f-8d4c50b37c48",
   "metadata": {},
   "outputs": [],
   "source": [
    "fig, ax = plt.subplots()\n",
    "afwDisplay.Display.setDefaultImageColormap('binary')\n",
    "afw_display = afwDisplay.Display(frame=fig)\n",
    "afw_display.scale('asinh', 'zscale')\n",
    "afw_display.mtv(cutout_image.image)\n",
    "#ax.axis('off')\n",
    "plt.plot(sn_xy[0],sn_xy[1],'*',ms=10,color='cyan',label='SN')\n",
    "plt.show()\n",
    "remove_figure(fig)"
   ]
  },
  {
   "cell_type": "markdown",
   "id": "f7d9deea-cbfe-4188-a426-26d9178c1ca3",
   "metadata": {},
   "source": [
    "### 3.4 Get template, calexp and diffexp for each point in the light curve"
   ]
  },
  {
   "cell_type": "markdown",
   "id": "4165abbf-29ff-4060-9dc7-ffeac8456ced",
   "metadata": {},
   "source": [
    "**N.B.** A new tutorial notebook by the Community Engagement Team on the image cutout service is in the works, and should avoid having to use the Butler for image access. Stay tooned for updates!"
   ]
  },
  {
   "cell_type": "code",
   "execution_count": null,
   "id": "b7cbbd4a-c30b-479d-a23e-29ab2dc720bc",
   "metadata": {},
   "outputs": [],
   "source": [
    "# Get all the image identifiers for a selected filters\n",
    "print(DiaSrcs[i_band]['ccdVisitId'].value)"
   ]
  },
  {
   "cell_type": "code",
   "execution_count": null,
   "id": "227146f5-3281-40cb-a37a-38dc692e5d63",
   "metadata": {},
   "outputs": [],
   "source": [
    "# Select a \"visit\" and a \"ccd\" id\n",
    "sel_visit = int(str(DiaSrcs[i_band]['ccdVisitId'][0])[:-3])\n",
    "sel_detector = int(str(DiaSrcs[i_band]['ccdVisitId'][0])[-3:])"
   ]
  },
  {
   "cell_type": "code",
   "execution_count": null,
   "id": "15b25516-a3db-4602-a649-3ca9d5f83686",
   "metadata": {},
   "outputs": [],
   "source": [
    "# Specify the type of image data product\n",
    "datasetType = 'calexp'\n",
    "# Specify the data that we are accessing\n",
    "dataId = {'visit': sel_visit, 'detector': sel_detector}\n",
    "# Retrieve the data using the `butler` instance and its function `get()`\n",
    "calexp = butler.get(datasetType, dataId=dataId)"
   ]
  },
  {
   "cell_type": "code",
   "execution_count": null,
   "id": "3ad03ba4-1960-4674-902f-da4772cbd0db",
   "metadata": {},
   "outputs": [],
   "source": [
    "# Specify the type of image data product\n",
    "datasetType = 'goodSeeingDiff_differenceExp'\n",
    "# Specify the data that we are accessing\n",
    "dataId = {'visit': sel_visit, 'detector': sel_detector}\n",
    "# Retrieve the data using the `butler` instance and its function `get()`\n",
    "diffexp = butler.get(datasetType, dataId=dataId)"
   ]
  },
  {
   "cell_type": "code",
   "execution_count": null,
   "id": "2beaf525-56d5-407a-9dc4-d56f201c97aa",
   "metadata": {},
   "outputs": [],
   "source": [
    "# Specify the type of image data product\n",
    "datasetType = 'goodSeeingDiff_templateExp'\n",
    "# Specify the data that we are accessing\n",
    "dataId = {'visit': sel_visit, 'detector': sel_detector}\n",
    "# Retrieve the data using the `butler` instance and its function `get()`\n",
    "template = butler.get(datasetType, dataId=dataId)"
   ]
  },
  {
   "cell_type": "code",
   "execution_count": null,
   "id": "ceed4680-619a-4678-97f1-cfd7acb781f0",
   "metadata": {},
   "outputs": [],
   "source": [
    "# Specify the type of image data product\n",
    "datasetType = 'sourceTable'\n",
    "# Specify the data that we are accessing\n",
    "dataId = {'visit': sel_visit, 'detector': sel_detector}\n",
    "# Retrieve the data using the `butler` instance and its function `get()`\n",
    "src = butler.get(datasetType, dataId=dataId)"
   ]
  },
  {
   "cell_type": "code",
   "execution_count": null,
   "id": "4cb699da-78d2-465d-b0f2-623e14087416",
   "metadata": {},
   "outputs": [],
   "source": [
    "# Get pixel coordinates on the image\n",
    "wcs2 = calexp.getWcs()\n",
    "sn_xy_2 = geom.Point2I(wcs2.skyToPixel(RaDec))"
   ]
  },
  {
   "cell_type": "markdown",
   "id": "274712ef-a69c-4227-9c93-b00694b8769b",
   "metadata": {},
   "source": [
    "### 3.5 Plot all the cutouts"
   ]
  },
  {
   "cell_type": "code",
   "execution_count": null,
   "id": "0c5e7a42-bfcf-4896-bf4e-4ed395d29edc",
   "metadata": {},
   "outputs": [],
   "source": [
    "plt.rcParams.update({'font.size':20})\n",
    "fig = plt.figure(figsize=(12, 7))\n",
    "fig, ax = plt.subplots(1, 3, figsize=(24, 21))\n",
    "afwDisplay.Display.setDefaultImageColormap('gray')\n",
    "\n",
    "plt.sca(ax[0])  # Next sub-plot\n",
    "display1 = afwDisplay.Display(frame=fig)\n",
    "display1.scale('linear', 'zscale')\n",
    "display1.mtv(template.image)\n",
    "plt.title('template')\n",
    "# Centre the image around the transient and limit borders\n",
    "plt.xlim(sn_xy_2[0]-100, sn_xy_2[0]+100)\n",
    "plt.ylim(sn_xy_2[1]-100, sn_xy_2[1]+100)\n",
    "\n",
    "plt.sca(ax[1])  # Next sub-plot\n",
    "display2 = afwDisplay.Display(frame=fig)\n",
    "display2.scale('linear', 'zscale')\n",
    "display2.mtv(calexp.image)\n",
    "plt.title('exposure')\n",
    "# Centre the image around the transient and limit borders\n",
    "plt.xlim(sn_xy_2[0]-100, sn_xy_2[0]+100)\n",
    "plt.ylim(sn_xy_2[1]-100, sn_xy_2[1]+100)\n",
    "\n",
    "plt.sca(ax[2])  # Next sub-plot\n",
    "display3 = afwDisplay.Display(frame=fig)\n",
    "display3.scale('linear', 'zscale')\n",
    "display3.mtv(diffexp.image)\n",
    "# Centre the image around the transient and limit borders\n",
    "plt.xlim(sn_xy_2[0]-100, sn_xy_2[0]+100)\n",
    "plt.ylim(sn_xy_2[1]-100, sn_xy_2[1]+100)\n",
    "plt.title('difference')\n",
    "\n",
    "plt.tight_layout()\n",
    "plt.show()\n",
    "# Clean up memory\n",
    "remove_figure(fig)"
   ]
  },
  {
   "cell_type": "markdown",
   "id": "7131976a-d4ff-4d4c-8ba4-ffb692a7e406",
   "metadata": {},
   "source": [
    "## 4. Launch the *Difference Imaging Task* using your own templates\n",
    "\n",
    "It is possible to produce difference images on the RSP by selecting a coadd (or another calexp) as templates.\n",
    "\n",
    "This is a DRAFT as it uses the deprecated classe *ImageDifferenceTask*. Updates of this notebook may results from work within the TVS DP0 Task Force\n",
    "\n",
    "Package info: https://github.com/lsst/pipe_tasks/blob/main/python/lsst/pipe/tasks/imageDifference.py"
   ]
  },
  {
   "cell_type": "code",
   "execution_count": null,
   "id": "d6c3a8e3-e8d4-4d6f-9ce3-7122e47a3e46",
   "metadata": {},
   "outputs": [],
   "source": [
    "# Select a \"visit\" and a \"ccd\" id for a new_calexp to be used as a template\n",
    "sel_visit = int(str(DiaSrcs[i_band]['ccdVisitId'][4])[:-3])\n",
    "sel_detector = int(str(DiaSrcs[i_band]['ccdVisitId'][4])[-3:])\n",
    "\n",
    "dataId = {'visit': sel_visit, 'detector': sel_detector}\n",
    "calexp_new = butler.get('calexp', dataId=dataId)\n",
    "\n",
    "src_new = butler.get('sourceTable', dataId=dataId)"
   ]
  },
  {
   "cell_type": "code",
   "execution_count": null,
   "id": "d89fa079-49f2-430a-9bfb-50ceb6f29cc6",
   "metadata": {},
   "outputs": [],
   "source": [
    "# Get pixel coordinates on the image\n",
    "wcs2 = calexp_new.getWcs()\n",
    "sn_xy_2 = geom.Point2I(wcs2.skyToPixel(RaDec))"
   ]
  },
  {
   "cell_type": "code",
   "execution_count": null,
   "id": "9b502edc-71cc-456e-b681-a2a668b2bddf",
   "metadata": {},
   "outputs": [],
   "source": [
    "from lsst.pipe.tasks.imageDifference import ImageDifferenceConfig, ImageDifferenceTask\n",
    "\n",
    "imdiff_config = ImageDifferenceConfig()\n",
    "imdiff_task = ImageDifferenceTask(imdiff_config)\n",
    "\n",
    "#res = imdiff_task.run(exposure=calexp, templateExposure=template)\n",
    "\n",
    "#res = imdiff_task.run(exposure=calexp_new, templateExposure=coadd_calexp) # Working, but the template is contaminated as well\n",
    "res = imdiff_task.run(exposure=calexp_new, templateExposure=calexp) # Working using another calexp as a template"
   ]
  },
  {
   "cell_type": "code",
   "execution_count": null,
   "id": "4603a9c9-e098-4d33-897b-4f864de94a15",
   "metadata": {},
   "outputs": [],
   "source": [
    "plt.rcParams.update({'font.size':20})\n",
    "fig = plt.figure(figsize=(12, 7))\n",
    "fig, ax = plt.subplots(1, 3, figsize=(24, 21))\n",
    "afwDisplay.Display.setDefaultImageColormap('gray')\n",
    "\n",
    "plt.sca(ax[0])  # Next sub-plot\n",
    "display1 = afwDisplay.Display(frame=fig)\n",
    "display1.scale('linear', 'zscale')\n",
    "#display1.mtv(calexp_orig_i.image)\n",
    "display1.mtv(res.warpedExposure.image)\n",
    "plt.title('template)')\n",
    "# Centre the image around the transient and limit borders\n",
    "plt.xlim(sn_xy_2[0]-100, sn_xy_2[0]+100)\n",
    "plt.ylim(sn_xy_2[1]-100, sn_xy_2[1]+100)\n",
    "\n",
    "plt.sca(ax[1])  # Next sub-plot\n",
    "display2 = afwDisplay.Display(frame=fig)\n",
    "display2.scale('linear', 'zscale')\n",
    "display2.mtv(calexp_new.image)\n",
    "plt.title('exposure')\n",
    "# Centre the image around the transient and limit borders\n",
    "plt.xlim(sn_xy_2[0]-100, sn_xy_2[0]+100)\n",
    "plt.ylim(sn_xy_2[1]-100, sn_xy_2[1]+100)\n",
    "\n",
    "plt.sca(ax[2])  # Next sub-plot\n",
    "display3 = afwDisplay.Display(frame=fig)\n",
    "display3.scale('linear', 'zscale')\n",
    "display3.mtv(res.subtractedExposure.image)\n",
    "# Centre the image around the transient and limit borders\n",
    "plt.xlim(sn_xy_2[0]-100, sn_xy_2[0]+100)\n",
    "plt.ylim(sn_xy_2[1]-100, sn_xy_2[1]+100)\n",
    "plt.title('difference')\n",
    "\n",
    "plt.tight_layout()\n",
    "plt.show()"
   ]
  },
  {
   "cell_type": "markdown",
   "id": "7f9eca75-d6a2-45c0-a619-4b01dc8d40df",
   "metadata": {},
   "source": [
    "### 4.1 Test with the new DIA package (DRAFT)\n",
    "\n",
    "This new task returns unexpected errors.\n",
    "\n",
    "Possible work in progress for the TVS DP0 Task Force to understand how to use it and produce new tutorial notebooks.\n",
    "\n",
    "Package info: https://github.com/lsst/ip_diffim/blob/main/python/lsst/ip/diffim/subtractImages.py"
   ]
  },
  {
   "cell_type": "code",
   "execution_count": null,
   "id": "f6533d02-967f-47cf-ac55-c9e26e215f5b",
   "metadata": {},
   "outputs": [],
   "source": [
    "from lsst.ip.diffim import subtractImages, detectAndMeasure, zogy"
   ]
  },
  {
   "cell_type": "code",
   "execution_count": null,
   "id": "89eb6219-f995-4da3-806f-906f88b3e8ba",
   "metadata": {},
   "outputs": [],
   "source": [
    "imdiff_config = subtractImages.AlardLuptonSubtractConfig()"
   ]
  },
  {
   "cell_type": "code",
   "execution_count": null,
   "id": "677ed045-4071-43df-b1ec-27fdb46788bd",
   "metadata": {},
   "outputs": [],
   "source": [
    "imdiff_task = subtractImages.AlardLuptonSubtractTask()"
   ]
  },
  {
   "cell_type": "code",
   "execution_count": null,
   "id": "0cf8cbf1-6ed5-4763-96f5-2f006645a1ab",
   "metadata": {},
   "outputs": [],
   "source": [
    "dia = imdiff_task.run(template=template, science=calexp, sources=src)"
   ]
  },
  {
   "cell_type": "code",
   "execution_count": null,
   "id": "5bc0da3d-880f-4b21-b43d-850752019220",
   "metadata": {},
   "outputs": [],
   "source": [
    "dia = imdiff_task.run(template=calexp, science=calexp_new, sources=src_new)"
   ]
  },
  {
   "cell_type": "code",
   "execution_count": null,
   "id": "6c847baf-a069-4223-b3fa-83d58ea9ea2b",
   "metadata": {},
   "outputs": [],
   "source": []
  }
 ],
 "metadata": {
  "kernelspec": {
   "display_name": "LSST",
   "language": "python",
   "name": "lsst"
  },
  "language_info": {
   "codemirror_mode": {
    "name": "ipython",
    "version": 3
   },
   "file_extension": ".py",
   "mimetype": "text/x-python",
   "name": "python",
   "nbconvert_exporter": "python",
   "pygments_lexer": "ipython3",
   "version": "3.10.10"
  }
 },
 "nbformat": 4,
 "nbformat_minor": 5
}
