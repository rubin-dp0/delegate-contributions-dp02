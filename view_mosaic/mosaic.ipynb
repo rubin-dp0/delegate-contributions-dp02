{
 "cells": [
  {
   "cell_type": "markdown",
   "id": "de45af01-2760-4a34-80fb-7ce52672afd0",
   "metadata": {
    "execution": {
     "iopub.execute_input": "2023-07-17T20:59:50.775498Z",
     "iopub.status.busy": "2023-07-17T20:59:50.774494Z",
     "iopub.status.idle": "2023-07-17T20:59:50.780743Z",
     "shell.execute_reply": "2023-07-17T20:59:50.779852Z",
     "shell.execute_reply.started": "2023-07-17T20:59:50.775463Z"
    },
    "tags": []
   },
   "source": [
    "<img align=\"left\" src = https://paulgregorymedia.com/wp-content/uploads/2022/04/New-BenU-Logo.png width=300 style=\"padding: 10px\"> \n",
    "<br><b>Displaying a mosaic image</b> <br>\n",
    "Author: Arman Svoboda and Matthew Wiesner <br>\n",
    "Last verified to run: 2023-07-17 <br>\n",
    "LSST Science Pipelines version: Weekly 2023_21 <br>\n",
    "Container size: large <br>"
   ]
  },
  {
   "cell_type": "markdown",
   "id": "91cd1d88-360d-4e1f-ae35-522e09037aeb",
   "metadata": {},
   "source": [
    "## Displays a set of calibrated exposures in a mosaic, so we can view 1 square degree"
   ]
  },
  {
   "cell_type": "code",
   "execution_count": 6,
   "id": "e106f8f7-65ff-4e12-a6f7-05b60f459e40",
   "metadata": {
    "execution": {
     "iopub.execute_input": "2023-07-17T21:11:14.201158Z",
     "iopub.status.busy": "2023-07-17T21:11:14.200185Z",
     "iopub.status.idle": "2023-07-17T21:11:14.205888Z",
     "shell.execute_reply": "2023-07-17T21:11:14.205126Z",
     "shell.execute_reply.started": "2023-07-17T21:11:14.201116Z"
    },
    "tags": []
   },
   "outputs": [],
   "source": [
    "import warnings\n",
    "import matplotlib.pyplot as plt\n",
    "\n",
    "from lsst.afw.display import Mosaic\n",
    "from lsst.daf.butler import Butler\n",
    "import lsst.afw.image as afwImage\n",
    "import lsst.afw.display as afwDisplay\n",
    "afwDisplay.setDefaultBackend('matplotlib')\n",
    "import gc"
   ]
  },
  {
   "cell_type": "markdown",
   "id": "bb983425-a582-4aaf-80e3-caffc0f4332f",
   "metadata": {},
   "source": [
    "## Call the Butler for DP0.2"
   ]
  },
  {
   "cell_type": "code",
   "execution_count": 8,
   "id": "c965cc78-e16a-4e4b-b944-cef9d51d5bad",
   "metadata": {
    "execution": {
     "iopub.execute_input": "2023-07-17T21:11:44.117929Z",
     "iopub.status.busy": "2023-07-17T21:11:44.116928Z",
     "iopub.status.idle": "2023-07-17T21:11:46.523940Z",
     "shell.execute_reply": "2023-07-17T21:11:46.523090Z",
     "shell.execute_reply.started": "2023-07-17T21:11:44.117892Z"
    },
    "tags": []
   },
   "outputs": [],
   "source": [
    "#Call the Butler, load in DP0.2 tables\n",
    "\n",
    "butler = Butler('dp02', collections='2.2i/runs/DP0.2')\n",
    "registry = butler.registry"
   ]
  },
  {
   "cell_type": "markdown",
   "id": "4375d9bf-f2c0-4fe1-84af-4bb57f556eb2",
   "metadata": {
    "execution": {
     "iopub.execute_input": "2023-07-10T23:44:12.450362Z",
     "iopub.status.busy": "2023-07-10T23:44:12.449353Z",
     "iopub.status.idle": "2023-07-10T23:44:12.453695Z",
     "shell.execute_reply": "2023-07-10T23:44:12.453021Z",
     "shell.execute_reply.started": "2023-07-10T23:44:12.450329Z"
    },
    "tags": []
   },
   "source": [
    "## How many images do you want to display? What chip do you want to start the display on?"
   ]
  },
  {
   "cell_type": "code",
   "execution_count": 16,
   "id": "54a33aaa-6b2a-42da-aadf-352cf9f4f8ca",
   "metadata": {
    "execution": {
     "iopub.execute_input": "2023-07-17T21:25:13.768845Z",
     "iopub.status.busy": "2023-07-17T21:25:13.768134Z",
     "iopub.status.idle": "2023-07-17T21:25:13.772451Z",
     "shell.execute_reply": "2023-07-17T21:25:13.771816Z",
     "shell.execute_reply.started": "2023-07-17T21:25:13.768815Z"
    },
    "tags": []
   },
   "outputs": [],
   "source": [
    "x = 6  #This is the number of chips you would like to display\n",
    "chip_start = 79  #This is the chip you want to start on (from 1 to 189)\n",
    "display_in = 'firefly' #Either 'firefly' or 'matplotlib'"
   ]
  },
  {
   "cell_type": "markdown",
   "id": "58054334-dd39-461b-9ef5-8d18a8115f3b",
   "metadata": {
    "execution": {
     "iopub.execute_input": "2023-06-30T20:26:23.145329Z",
     "iopub.status.busy": "2023-06-30T20:26:23.144322Z",
     "iopub.status.idle": "2023-06-30T20:26:23.149601Z",
     "shell.execute_reply": "2023-06-30T20:26:23.148631Z",
     "shell.execute_reply.started": "2023-06-30T20:26:23.145287Z"
    },
    "tags": []
   },
   "source": [
    "## Use the Butler to call calexps for x number of different detectors."
   ]
  },
  {
   "cell_type": "code",
   "execution_count": 24,
   "id": "829d3a67-7c8b-4fdc-af4b-dd3168f0ab57",
   "metadata": {
    "execution": {
     "iopub.execute_input": "2023-07-17T21:38:57.908257Z",
     "iopub.status.busy": "2023-07-17T21:38:57.907119Z",
     "iopub.status.idle": "2023-07-17T21:39:15.503176Z",
     "shell.execute_reply": "2023-07-17T21:39:15.502253Z",
     "shell.execute_reply.started": "2023-07-17T21:38:57.908224Z"
    },
    "tags": []
   },
   "outputs": [
    {
     "data": {
      "text/plain": [
       "<Figure size 2000x2000 with 0 Axes>"
      ]
     },
     "metadata": {},
     "output_type": "display_data"
    }
   ],
   "source": [
    "#We first choose the size of the figure. \n",
    "fig = plt.figure(figsize=(20,20))  \n",
    "\n",
    "#This uses the mosaic command from lsst.afw.display.mosaic: https://pipelines.lsst.io/py-api/lsst.afw.display.Mosaic.html \n",
    "m = Mosaic()\n",
    "m.setGutter(5)\n",
    "m.setBackground(10)\n",
    "m.setMode(\"square\")  \n",
    "\n",
    "labels=[]  #This makes sure the labels and images lists start empty\n",
    "images= []\n",
    "\n",
    "#This loop goes from the first detector above (chip_start) to the xth image and uses butler.get to obtain the image \n",
    "\n",
    "for i in range(0,x):\n",
    "    name = \"im\"+str(i) #This is used to define the image variable name\n",
    "    namer = \"im\"+str(i)+\".image\"  #This is used to populate the list of image names\n",
    "    labels.append(\"Detector \"+str(chip_start+i)) #this produces the list of image labels that will be displayed\n",
    "    datad = \"dataId\"+str(i) \n",
    "    datad = {'visit': 1185205, 'detector': chip_start + i, 'band': 'r'} #This gives the visit, detector number and band for the Butler\n",
    "    vars()[name] = butler.get('calexp', **datad)  #This does the actual call to the Butler and puts the data in an array called im1, im2, etc.\n",
    "    images.append(namer) \n",
    "\n",
    "images2 = [eval(string) for string in images] #This converts the list of strings to a list of string literals\n",
    "\n",
    "mosaic = m.makeMosaic(images2) #This actually creates the mosaic\n",
    "\n",
    "#This if statement determines if the mosaic is displayed in firefly or matplotlib\n",
    "\n",
    "if display_in == 'firefly':\n",
    "    afwDisplay.setDefaultBackend('firefly') #This opens it in firefly. Uncomment below if you want it in matplotlib.\n",
    "    display = afwDisplay.Display(frame=1)\n",
    "\n",
    "else:\n",
    "    afwDisplay.setDefaultBackend('matplotlib')\n",
    "    display = afwDisplay.Display(frame=fig)\n",
    "\n",
    "#This sets the display scale, displays the image and draws the labels\n",
    "display.scale('asinh', 'zscale')\n",
    "display.mtv(mosaic)\n",
    "m.drawLabels(labels, display)"
   ]
  },
  {
   "cell_type": "code",
   "execution_count": null,
   "id": "b21a2f1a-8726-46c4-a437-612668f7fe56",
   "metadata": {},
   "outputs": [],
   "source": []
  }
 ],
 "metadata": {
  "kernelspec": {
   "display_name": "LSST",
   "language": "python",
   "name": "lsst"
  },
  "language_info": {
   "codemirror_mode": {
    "name": "ipython",
    "version": 3
   },
   "file_extension": ".py",
   "mimetype": "text/x-python",
   "name": "python",
   "nbconvert_exporter": "python",
   "pygments_lexer": "ipython3",
   "version": "3.10.10"
  }
 },
 "nbformat": 4,
 "nbformat_minor": 5
}
