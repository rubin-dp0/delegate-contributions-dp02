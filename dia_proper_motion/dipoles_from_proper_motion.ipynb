{
 "cells": [
  {
   "cell_type": "markdown",
   "id": "56e33567-698e-4d36-b9c3-d13803425820",
   "metadata": {},
   "source": [
    "<img align=\"left\" src = https://project.lsst.org/sites/default/files/Rubin-O-Logo_0.png width=250 style=\"padding: 10px\"> \n",
    "<b>Testing dipole measurement and recovery of a star with proper-motion</b> <br>\n",
    "Contact author: Michael Wood-Vasey <br>\n",
    "Last verified to run: 2023-05-24 <br>\n",
    "LSST Science Pipelines version: Weekly 2023_07 + source_injection tickets/DM-34253 <br>\n",
    "Container Size: large <br>\n",
    "Targeted learning level: intermediate <br>"
   ]
  },
  {
   "cell_type": "markdown",
   "id": "adcd41fa-bff0-42af-b1ba-c9eb98a08f7a",
   "metadata": {
    "tags": []
   },
   "source": [
    "What do subtractions of a star that is moving look like?"
   ]
  },
  {
   "cell_type": "markdown",
   "id": "46152cfb-4828-4458-bdf2-fa7615f5fb10",
   "metadata": {},
   "source": [
    "Note: This Notebook is written below the PipelineTask level.  Rather is uses individual Tasks directly and reads/writes output products to the butler.  This is pedagogically useful to understand how that works, and pratically helpful in working with the evolving `source_injection` package.  However, this structure is not scalable to larger runs (100+ images).  Such large-scale runs should be done as part of an integrated Task that can be connected and run through the large-scale cluster jobs submission."
   ]
  },
  {
   "cell_type": "markdown",
   "id": "f08728c8-e41a-42f5-8bd8-fbfbb21d4229",
   "metadata": {
    "tags": []
   },
   "source": [
    "Inspired by conversation with Eric Bellm and Lynne Jones.\n",
    "\n",
    "1. [x] Identify a set of images of a region spaced over 10 years.\n",
    "2. [~] Simulate a star with a given proper motion.  Try things from 0.1 -- 10\" over ten years.  \n",
    "    a. Currently doing just one 0.1\"/yr example.\n",
    "3. [x] First test single-frame recovery and astrometry\n",
    "4. [x] Then run subtractions for each Year N - Year 1 pair.\n",
    "5. [x] Analyze the dipoles and measurements of these DIA Sources.  Compare to single-frame measurements.  I think the interesting question of concern/interest for DIA are the ability and robustness of dipole fitting and measurement as one approaches no separation.\n",
    "6. [x] Start with constant brightness source.\n",
    "7. [ ] Repeat for variable source and check recovery.\n",
    "8. [ ] Compare individual fitting with scene-modeling."
   ]
  },
  {
   "cell_type": "markdown",
   "id": "746c7f05-9091-4eba-b7ea-f50bf70f774f",
   "metadata": {
    "tags": []
   },
   "source": [
    "Ideas for next steps from 2023-05-16 DESC DIA TT/DIA Science Unit Meeting:\n",
    "\n",
    "1. [ ] Explore other dipole parameters such as dipole_length, angle, SNR.\n",
    "2. [ ] Explore a range of magnitudes.\n",
    "3. [ ] Think about classification cuts.\n",
    "4. [ ] Analytic answer to 0.35-0.65.\n",
    "5. [ ] Signed total_flux.  Actual sum of pos_flux and tot_flux.\n",
    "6. [ ] Forced total flux.  Forced total PSF.\n",
    "7. [ ] Match to catalog?  Maybe that's already there in the variance plane?\n",
    "8. [ ] If we convince ourselves that we need a new measurement, we can make the argument.\n",
    "\n",
    "This Notebook is designed to work with DC2[1] (5 years).  Should be expandable to HSC (3 years), DECam (5 years) images with appropriate changes to repo_config and RA, Dec.  The time lag of the data set isn't really key as one can scale up the proper motion to compensate[2].\n",
    "\n",
    "Footnotes:\n",
    "\n",
    "[1] DC2 stars do not have proper motion.  \n",
    "[2] I'm ignoring parallax.  One could simulate parallax if one really wanted to model end-to-end, but I don't think it's central to the basic question."
   ]
  },
  {
   "cell_type": "code",
   "execution_count": 32,
   "id": "b0c6b5a2-1fde-4dc2-84ee-97260750b278",
   "metadata": {
    "execution": {
     "iopub.execute_input": "2023-06-08T21:27:41.719030Z",
     "iopub.status.busy": "2023-06-08T21:27:41.718163Z",
     "iopub.status.idle": "2023-06-08T21:27:41.738563Z",
     "shell.execute_reply": "2023-06-08T21:27:41.737641Z",
     "shell.execute_reply.started": "2023-06-08T21:27:41.718998Z"
    },
    "tags": []
   },
   "outputs": [
    {
     "ename": "ModuleNotFoundError",
     "evalue": "No module named 'lsst.source'",
     "output_type": "error",
     "traceback": [
      "\u001b[0;31m---------------------------------------------------------------------------\u001b[0m",
      "\u001b[0;31mModuleNotFoundError\u001b[0m                       Traceback (most recent call last)",
      "Input \u001b[0;32mIn [32]\u001b[0m, in \u001b[0;36m<cell line: 23>\u001b[0;34m()\u001b[0m\n\u001b[1;32m     21\u001b[0m \u001b[38;5;28;01mfrom\u001b[39;00m \u001b[38;5;21;01mlsst\u001b[39;00m\u001b[38;5;21;01m.\u001b[39;00m\u001b[38;5;21;01mip\u001b[39;00m\u001b[38;5;21;01m.\u001b[39;00m\u001b[38;5;21;01mdiffim\u001b[39;00m \u001b[38;5;28;01mimport\u001b[39;00m DetectAndMeasureConfig, DetectAndMeasureTask\n\u001b[1;32m     22\u001b[0m \u001b[38;5;28;01mfrom\u001b[39;00m \u001b[38;5;21;01mlsst\u001b[39;00m\u001b[38;5;21;01m.\u001b[39;00m\u001b[38;5;21;01mpipe\u001b[39;00m\u001b[38;5;21;01m.\u001b[39;00m\u001b[38;5;21;01mtasks\u001b[39;00m\u001b[38;5;21;01m.\u001b[39;00m\u001b[38;5;21;01mmakeWarp\u001b[39;00m \u001b[38;5;28;01mimport\u001b[39;00m MakeWarpConfig, MakeWarpTask\n\u001b[0;32m---> 23\u001b[0m \u001b[38;5;28;01mfrom\u001b[39;00m \u001b[38;5;21;01mlsst\u001b[39;00m\u001b[38;5;21;01m.\u001b[39;00m\u001b[38;5;21;01msource\u001b[39;00m\u001b[38;5;21;01m.\u001b[39;00m\u001b[38;5;21;01minjection\u001b[39;00m\u001b[38;5;21;01m.\u001b[39;00m\u001b[38;5;21;01minject_engine\u001b[39;00m \u001b[38;5;28;01mimport\u001b[39;00m generate_galsim_objects, inject_galsim_objects_into_exposure\n\u001b[1;32m     24\u001b[0m \u001b[38;5;28;01mimport\u001b[39;00m \u001b[38;5;21;01mlsst\u001b[39;00m\u001b[38;5;21;01m.\u001b[39;00m\u001b[38;5;21;01msphgeom\u001b[39;00m\n",
      "\u001b[0;31mModuleNotFoundError\u001b[0m: No module named 'lsst.source'"
     ]
    }
   ],
   "source": [
    "import os\n",
    "\n",
    "import astropy\n",
    "from astropy.wcs import WCS\n",
    "import astropy.units as u\n",
    "from astropy.coordinates import SkyCoord\n",
    "\n",
    "import gc\n",
    "\n",
    "import matplotlib.pyplot as plt\n",
    "import numpy as np\n",
    "import pandas as pd\n",
    "\n",
    "import lsst.afw.display as afwDisplay\n",
    "from lsst.afw.image import MultibandExposure\n",
    "from lsst.afw.math import Warper, WarperConfig\n",
    "import lsst.geom as geom\n",
    "from lsst.daf.butler import Butler, DimensionUniverse, DatasetType, CollectionType\n",
    "from lsst.daf.butler.registry import MissingCollectionError\n",
    "from lsst.ip.diffim import AlardLuptonSubtractConfig, AlardLuptonSubtractTask\n",
    "from lsst.ip.diffim import DetectAndMeasureConfig, DetectAndMeasureTask\n",
    "from lsst.pipe.tasks.makeWarp import MakeWarpConfig, MakeWarpTask\n",
    "from lsst.source.injection.inject_engine import generate_galsim_objects, inject_galsim_objects_into_exposure\n",
    "import lsst.sphgeom"
   ]
  },
  {
   "cell_type": "code",
   "execution_count": 3,
   "id": "7caa7cac-2dd3-4cc2-9d36-c1002981d08a",
   "metadata": {
    "execution": {
     "iopub.execute_input": "2023-06-08T21:16:37.574640Z",
     "iopub.status.busy": "2023-06-08T21:16:37.573777Z",
     "iopub.status.idle": "2023-06-08T21:16:37.612347Z",
     "shell.execute_reply": "2023-06-08T21:16:37.611646Z",
     "shell.execute_reply.started": "2023-06-08T21:16:37.574612Z"
    },
    "tags": []
   },
   "outputs": [],
   "source": [
    "afwDisplay.setDefaultBackend('matplotlib')\n",
    "plt.style.use('tableau-colorblind10')\n",
    "%matplotlib inline"
   ]
  },
  {
   "cell_type": "code",
   "execution_count": 4,
   "id": "be877c8b-ea12-4199-bfed-e0ba6da1a21b",
   "metadata": {
    "execution": {
     "iopub.execute_input": "2023-06-08T21:16:40.276016Z",
     "iopub.status.busy": "2023-06-08T21:16:40.275664Z",
     "iopub.status.idle": "2023-06-08T21:16:40.279936Z",
     "shell.execute_reply": "2023-06-08T21:16:40.279229Z",
     "shell.execute_reply.started": "2023-06-08T21:16:40.275994Z"
    },
    "tags": []
   },
   "outputs": [],
   "source": [
    "user = os.getenv(\"USER\")\n",
    "\n",
    "collection = \"2.2i/runs/DP0.2\"\n",
    "repo_config = \"dp02\"\n",
    "output_collection = f\"u/{user}/proper_motion\""
   ]
  },
  {
   "cell_type": "code",
   "execution_count": 5,
   "id": "976fc1ea-6ac4-4b49-8291-403ef6392a54",
   "metadata": {
    "execution": {
     "iopub.execute_input": "2023-06-08T21:16:43.155439Z",
     "iopub.status.busy": "2023-06-08T21:16:43.154625Z",
     "iopub.status.idle": "2023-06-08T21:16:43.158410Z",
     "shell.execute_reply": "2023-06-08T21:16:43.157856Z",
     "shell.execute_reply.started": "2023-06-08T21:16:43.155412Z"
    },
    "tags": []
   },
   "outputs": [],
   "source": [
    "INJECTED_IMAGES_EXIST = False\n",
    "SUBTRACTIONS_OF_INJECTED_IMAGE_EXIST = False"
   ]
  },
  {
   "cell_type": "code",
   "execution_count": 6,
   "id": "30ea1bd1-83b9-4f48-a824-cee94014583b",
   "metadata": {
    "execution": {
     "iopub.execute_input": "2023-06-08T21:16:44.947478Z",
     "iopub.status.busy": "2023-06-08T21:16:44.947149Z",
     "iopub.status.idle": "2023-06-08T21:16:47.682441Z",
     "shell.execute_reply": "2023-06-08T21:16:47.681355Z",
     "shell.execute_reply.started": "2023-06-08T21:16:44.947456Z"
    },
    "tags": []
   },
   "outputs": [],
   "source": [
    "butler = Butler(repo_config, collections=collection)"
   ]
  },
  {
   "cell_type": "code",
   "execution_count": 16,
   "id": "d999c063-5c3e-4f1c-95dc-41bcc7a8b828",
   "metadata": {
    "execution": {
     "iopub.execute_input": "2023-06-08T21:18:03.524286Z",
     "iopub.status.busy": "2023-06-08T21:18:03.523431Z",
     "iopub.status.idle": "2023-06-08T21:18:03.528002Z",
     "shell.execute_reply": "2023-06-08T21:18:03.527330Z",
     "shell.execute_reply.started": "2023-06-08T21:18:03.524259Z"
    },
    "tags": []
   },
   "outputs": [
    {
     "name": "stdout",
     "output_type": "stream",
     "text": [
      "DatasetType('calexp', {band, instrument, detector, physical_filter, visit_system, visit}, ExposureF)\n"
     ]
    }
   ],
   "source": [
    "print(butler.registry.getDatasetType(\"calexp\"))"
   ]
  },
  {
   "cell_type": "code",
   "execution_count": 17,
   "id": "0db544ef-74fa-4f52-8f95-e07c56348e4e",
   "metadata": {
    "execution": {
     "iopub.execute_input": "2023-06-08T21:18:08.681935Z",
     "iopub.status.busy": "2023-06-08T21:18:08.681223Z",
     "iopub.status.idle": "2023-06-08T21:18:08.685744Z",
     "shell.execute_reply": "2023-06-08T21:18:08.685121Z",
     "shell.execute_reply.started": "2023-06-08T21:18:08.681903Z"
    },
    "tags": []
   },
   "outputs": [],
   "source": [
    "# Do a spatial query for calexps using HTM levels following example in 04b_Intermediate_Butler_Queries.ipynb\n",
    "ra, dec = 55, -30  # degrees\n",
    "\n",
    "level = 10  # the resolution of the HTM grid\n",
    "pixelization = lsst.sphgeom.HtmPixelization(level)\n",
    "\n",
    "htm_id = pixelization.index(\n",
    "    lsst.sphgeom.UnitVector3d(\n",
    "        lsst.sphgeom.LonLat.fromDegrees(ra, dec)\n",
    "    )\n",
    ")"
   ]
  },
  {
   "cell_type": "code",
   "execution_count": 18,
   "id": "0a0bda96-9043-408f-9261-b1afa445c8ea",
   "metadata": {
    "execution": {
     "iopub.execute_input": "2023-06-08T21:18:21.776962Z",
     "iopub.status.busy": "2023-06-08T21:18:21.776115Z",
     "iopub.status.idle": "2023-06-08T21:18:21.781206Z",
     "shell.execute_reply": "2023-06-08T21:18:21.780476Z",
     "shell.execute_reply.started": "2023-06-08T21:18:21.776933Z"
    },
    "tags": []
   },
   "outputs": [
    {
     "data": {
      "text/plain": [
       "9420791"
      ]
     },
     "execution_count": 18,
     "metadata": {},
     "output_type": "execute_result"
    }
   ],
   "source": [
    "htm_id"
   ]
  },
  {
   "cell_type": "markdown",
   "id": "2260fed4-2af5-4c00-bc76-2081d65add62",
   "metadata": {},
   "source": [
    "Get the neighboring HTM pixels"
   ]
  },
  {
   "cell_type": "code",
   "execution_count": 19,
   "id": "ac405a8c-98b2-45e6-8fec-3f87d6fbedce",
   "metadata": {
    "execution": {
     "iopub.execute_input": "2023-06-08T21:18:24.089251Z",
     "iopub.status.busy": "2023-06-08T21:18:24.088347Z",
     "iopub.status.idle": "2023-06-08T21:18:24.092780Z",
     "shell.execute_reply": "2023-06-08T21:18:24.092113Z",
     "shell.execute_reply.started": "2023-06-08T21:18:24.089219Z"
    },
    "tags": []
   },
   "outputs": [],
   "source": [
    "parent_level = htm_id // 10\n",
    "htm_ids = [parent_level * 10 + i for i in [0, 1, 2, 3]]"
   ]
  },
  {
   "cell_type": "code",
   "execution_count": 20,
   "id": "b048f6c4-0b4f-45f8-8493-b92aa3b7ac81",
   "metadata": {
    "execution": {
     "iopub.execute_input": "2023-06-08T21:18:25.121748Z",
     "iopub.status.busy": "2023-06-08T21:18:25.120928Z",
     "iopub.status.idle": "2023-06-08T21:18:25.126267Z",
     "shell.execute_reply": "2023-06-08T21:18:25.125449Z",
     "shell.execute_reply.started": "2023-06-08T21:18:25.121720Z"
    },
    "tags": []
   },
   "outputs": [
    {
     "data": {
      "text/plain": [
       "[9420790, 9420791, 9420792, 9420793]"
      ]
     },
     "execution_count": 20,
     "metadata": {},
     "output_type": "execute_result"
    }
   ],
   "source": [
    "htm_ids"
   ]
  },
  {
   "cell_type": "code",
   "execution_count": 21,
   "id": "30704f26-cfc1-4715-bf2c-eff5f760c9a6",
   "metadata": {
    "execution": {
     "iopub.execute_input": "2023-06-08T21:18:27.632210Z",
     "iopub.status.busy": "2023-06-08T21:18:27.631301Z",
     "iopub.status.idle": "2023-06-08T21:18:33.716769Z",
     "shell.execute_reply": "2023-06-08T21:18:33.716036Z",
     "shell.execute_reply.started": "2023-06-08T21:18:27.632184Z"
    },
    "tags": []
   },
   "outputs": [],
   "source": [
    "hi = htm_ids[0]\n",
    "\n",
    "# dataset_refs is an iterator, but each query is only a few hundred results,\n",
    "#   so convert to a list for future convenience\n",
    "dataset_refs = list(butler.registry.queryDatasets(\"calexp\", htm20=hi, dataId={\"band\": \"i\"}))\n",
    "dataset_refs = set(dataset_refs)\n",
    "for hi in htm_ids:\n",
    "    dr = list(butler.registry.queryDatasets(\"calexp\", htm20=hi, dataId={\"band\": \"i\"}))\n",
    "    dataset_refs = dataset_refs.intersection(dr)"
   ]
  },
  {
   "cell_type": "code",
   "execution_count": 22,
   "id": "a9b03aed-bcd3-441e-bf17-120c8f02f274",
   "metadata": {
    "execution": {
     "iopub.execute_input": "2023-06-08T21:18:33.735555Z",
     "iopub.status.busy": "2023-06-08T21:18:33.735117Z",
     "iopub.status.idle": "2023-06-08T21:18:33.739656Z",
     "shell.execute_reply": "2023-06-08T21:18:33.739052Z",
     "shell.execute_reply.started": "2023-06-08T21:18:33.735535Z"
    },
    "tags": []
   },
   "outputs": [
    {
     "name": "stdout",
     "output_type": "stream",
     "text": [
      "[DatasetRef(DatasetType('calexp', {band, instrument, detector, physical_filter, visit_system, visit}, ExposureF), {instrument: 'LSSTCam-imSim', detector: 175, visit: 204556, ...}, id=dd2cd401-b6e6-4f91-8aec-517bd6607c5b, run='2.2i/runs/DP0.2/v23_0_0_rc5/PREOPS-905/20211218T144437Z'), DatasetRef(DatasetType('calexp', {band, instrument, detector, physical_filter, visit_system, visit}, ExposureF), {instrument: 'LSSTCam-imSim', detector: 34, visit: 211147, ...}, id=b46f72c4-25f1-4e0e-ae00-7205f542b3d5, run='2.2i/runs/DP0.2/v23_0_0_rc5/PREOPS-905/20211218T214417Z'), DatasetRef(DatasetType('calexp', {band, instrument, detector, physical_filter, visit_system, visit}, ExposureF), {instrument: 'LSSTCam-imSim', detector: 131, visit: 227922, ...}, id=4df97ebc-0def-4a53-ac31-88ae060d61df, run='2.2i/runs/DP0.2/v23_0_0_rc5/PREOPS-905/20211219T150249Z'), DatasetRef(DatasetType('calexp', {band, instrument, detector, physical_filter, visit_system, visit}, ExposureF), {instrument: 'LSSTCam-imSim', detector: 149, visit: 420782, ...}, id=ab419578-c5b7-4af9-bf38-2797b3978819, run='2.2i/runs/DP0.2/v23_0_0_rc5/PREOPS-905/20211220T040027Z'), DatasetRef(DatasetType('calexp', {band, instrument, detector, physical_filter, visit_system, visit}, ExposureF), {instrument: 'LSSTCam-imSim', detector: 125, visit: 458531, ...}, id=75e2066d-3a4b-4c58-84d3-16bbd2dcf6a6, run='2.2i/runs/DP0.2/v23_0_0_rc5/PREOPS-905/20211220T214212Z'), DatasetRef(DatasetType('calexp', {band, instrument, detector, physical_filter, visit_system, visit}, ExposureF), {instrument: 'LSSTCam-imSim', detector: 84, visit: 478974, ...}, id=0bd74c54-27ea-420c-8850-44f70f0a1757, run='2.2i/runs/DP0.2/v23_0_0_rc5/PREOPS-905/20211222T004329Z'), DatasetRef(DatasetType('calexp', {band, instrument, detector, physical_filter, visit_system, visit}, ExposureF), {instrument: 'LSSTCam-imSim', detector: 69, visit: 614607, ...}, id=fc80a888-6200-436c-a4b3-b1ce482e194e, run='2.2i/runs/DP0.2/v23_0_0_rc5/PREOPS-905/20211222T004329Z'), DatasetRef(DatasetType('calexp', {band, instrument, detector, physical_filter, visit_system, visit}, ExposureF), {instrument: 'LSSTCam-imSim', detector: 172, visit: 687400, ...}, id=ece59db2-6917-471b-9ea9-8ba57236d39e, run='2.2i/runs/DP0.2/v23_0_0_rc5/PREOPS-905/20220107T163916Z'), DatasetRef(DatasetType('calexp', {band, instrument, detector, physical_filter, visit_system, visit}, ExposureF), {instrument: 'LSSTCam-imSim', detector: 41, visit: 693404, ...}, id=b950b312-f3b0-4bb6-a2e2-ae795945d8e0, run='2.2i/runs/DP0.2/v23_0_0_rc5/PREOPS-905/20211222T122903Z'), DatasetRef(DatasetType('calexp', {band, instrument, detector, physical_filter, visit_system, visit}, ExposureF), {instrument: 'LSSTCam-imSim', detector: 5, visit: 693452, ...}, id=37ba4bc7-47cc-4eaf-8ea5-8f5eeb66af05, run='2.2i/runs/DP0.2/v23_0_0_rc5/PREOPS-905/20211222T122903Z'), DatasetRef(DatasetType('calexp', {band, instrument, detector, physical_filter, visit_system, visit}, ExposureF), {instrument: 'LSSTCam-imSim', detector: 48, visit: 893768, ...}, id=1d7252ca-056f-4be6-bc1e-bf3434923c9b, run='2.2i/runs/DP0.2/v23_0_0_rc5/PREOPS-905/20211224T053402Z'), DatasetRef(DatasetType('calexp', {band, instrument, detector, physical_filter, visit_system, visit}, ExposureF), {instrument: 'LSSTCam-imSim', detector: 114, visit: 951274, ...}, id=a53b0be9-34d5-4ef4-baff-8b26330ad540, run='2.2i/runs/DP0.2/v23_0_0_rc5/PREOPS-905/20211231T053432Z'), DatasetRef(DatasetType('calexp', {band, instrument, detector, physical_filter, visit_system, visit}, ExposureF), {instrument: 'LSSTCam-imSim', detector: 146, visit: 953500, ...}, id=e56336c3-91f3-497a-a7ef-f22c3543ef51, run='2.2i/runs/DP0.2/v23_0_0_rc5/PREOPS-905/20211231T121620Z'), DatasetRef(DatasetType('calexp', {band, instrument, detector, physical_filter, visit_system, visit}, ExposureF), {instrument: 'LSSTCam-imSim', detector: 40, visit: 1173799, ...}, id=9c0bd257-d513-40f2-848c-d43ff9b119d9, run='2.2i/runs/DP0.2/v23_0_0_rc5/PREOPS-905/20220101T211007Z'), DatasetRef(DatasetType('calexp', {band, instrument, detector, physical_filter, visit_system, visit}, ExposureF), {instrument: 'LSSTCam-imSim', detector: 49, visit: 1174608, ...}, id=cd170688-f82a-4c2f-acda-22708ae9092d, run='2.2i/runs/DP0.2/v23_0_0_rc5/PREOPS-905/20220101T211007Z'), DatasetRef(DatasetType('calexp', {band, instrument, detector, physical_filter, visit_system, visit}, ExposureF), {instrument: 'LSSTCam-imSim', detector: 90, visit: 1185892, ...}, id=5eb91a38-f294-4931-8942-9955639d52b6, run='2.2i/runs/DP0.2/v23_0_0_rc5/PREOPS-905/20220102T060840Z'), DatasetRef(DatasetType('calexp', {band, instrument, detector, physical_filter, visit_system, visit}, ExposureF), {instrument: 'LSSTCam-imSim', detector: 36, visit: 1229645, ...}, id=aa5db494-40f5-46d2-a75e-3004ca0c4639, run='2.2i/runs/DP0.2/v23_0_0_rc5/PREOPS-905/20220104T062817Z')]\n"
     ]
    }
   ],
   "source": [
    "dataset_refs = list(dataset_refs)\n",
    "# Sort by visitId to get a loose time order\n",
    "ids_visit = [dr.dataId[\"visit\"] for dr in dataset_refs]\n",
    "dataset_refs = [dataset_refs[idx] for idx in np.argsort(ids_visit)]\n",
    "\n",
    "print(dataset_refs)"
   ]
  },
  {
   "cell_type": "code",
   "execution_count": 23,
   "id": "5f51bbfa-92e9-4a66-9a74-081286815ece",
   "metadata": {
    "execution": {
     "iopub.execute_input": "2023-06-08T21:18:33.741255Z",
     "iopub.status.busy": "2023-06-08T21:18:33.740788Z",
     "iopub.status.idle": "2023-06-08T21:18:33.753138Z",
     "shell.execute_reply": "2023-06-08T21:18:33.752456Z",
     "shell.execute_reply.started": "2023-06-08T21:18:33.741229Z"
    },
    "tags": []
   },
   "outputs": [
    {
     "name": "stdout",
     "output_type": "stream",
     "text": [
      "Found 17 calexps\n"
     ]
    }
   ],
   "source": [
    "print(f\"Found {len(list(dataset_refs))} calexps\")"
   ]
  },
  {
   "cell_type": "code",
   "execution_count": 24,
   "id": "31ca2798-dc98-426b-9a89-c32b952dab03",
   "metadata": {
    "execution": {
     "iopub.execute_input": "2023-06-08T21:18:50.749776Z",
     "iopub.status.busy": "2023-06-08T21:18:50.748981Z",
     "iopub.status.idle": "2023-06-08T21:18:50.810991Z",
     "shell.execute_reply": "2023-06-08T21:18:50.810260Z",
     "shell.execute_reply.started": "2023-06-08T21:18:50.749749Z"
    },
    "tags": []
   },
   "outputs": [],
   "source": [
    "visit_table = butler.get(\"visitTable\") #, dataset_refs[0].dataId)"
   ]
  },
  {
   "cell_type": "markdown",
   "id": "3902d976-a034-47b7-9a77-af9e835f9942",
   "metadata": {},
   "source": [
    "We should find ~17 calexps matching all."
   ]
  },
  {
   "cell_type": "markdown",
   "id": "713c67cf-9f67-48f2-bae7-869be63b2d07",
   "metadata": {},
   "source": [
    "## Inject object"
   ]
  },
  {
   "cell_type": "code",
   "execution_count": 25,
   "id": "9067a6f3-eb9d-4e7c-8d6a-44e646801b53",
   "metadata": {
    "execution": {
     "iopub.execute_input": "2023-06-08T21:19:06.468038Z",
     "iopub.status.busy": "2023-06-08T21:19:06.467713Z",
     "iopub.status.idle": "2023-06-08T21:19:06.473447Z",
     "shell.execute_reply": "2023-06-08T21:19:06.472707Z",
     "shell.execute_reply.started": "2023-06-08T21:19:06.468017Z"
    },
    "tags": []
   },
   "outputs": [],
   "source": [
    "# Simulate star\n",
    "# Start with a constant magnitude\n",
    "BASE_MAG_STAR = 17  # u.mag\n",
    "BASE_STAR_RA, BASE_STAR_DEC = 54.982, -29.81\n",
    "BASE_MJD = 60_000\n",
    "\n",
    "# Wrap with a function to allow accessing consistent with a future expansion to time.\n",
    "def mag_star(phase=0 * u.d):\n",
    "    return BASE_MAG_STAR * u.mag\n",
    "\n",
    "def ra_star(phase=0 * u.d, pm_ra=0.1 * u.arcsec / u.yr):\n",
    "    return BASE_STAR_RA * u.degree + phase * pm_ra\n",
    "\n",
    "def dec_star(phase=0 * u.d, pm_dec=0.1 * u.arcsec / u.yr):\n",
    "    return BASE_STAR_DEC * u.degree + phase * pm_dec"
   ]
  },
  {
   "cell_type": "markdown",
   "id": "f66c5d4f-3b49-4edd-98b0-286e8cc97aef",
   "metadata": {},
   "source": [
    "Create a catalog for each visit"
   ]
  },
  {
   "cell_type": "code",
   "execution_count": 28,
   "id": "777152be-1c8a-4be7-b594-be1b5c77fbe4",
   "metadata": {
    "execution": {
     "iopub.execute_input": "2023-06-08T21:20:46.721575Z",
     "iopub.status.busy": "2023-06-08T21:20:46.720892Z",
     "iopub.status.idle": "2023-06-08T21:20:46.726842Z",
     "shell.execute_reply": "2023-06-08T21:20:46.726246Z",
     "shell.execute_reply.started": "2023-06-08T21:20:46.721544Z"
    },
    "tags": []
   },
   "outputs": [
    {
     "data": {
      "text/plain": [
       "[DatasetRef(DatasetType('calexp', {band, instrument, detector, physical_filter, visit_system, visit}, ExposureF), {instrument: 'LSSTCam-imSim', detector: 175, visit: 204556, ...}, id=dd2cd401-b6e6-4f91-8aec-517bd6607c5b, run='2.2i/runs/DP0.2/v23_0_0_rc5/PREOPS-905/20211218T144437Z'),\n",
       " DatasetRef(DatasetType('calexp', {band, instrument, detector, physical_filter, visit_system, visit}, ExposureF), {instrument: 'LSSTCam-imSim', detector: 34, visit: 211147, ...}, id=b46f72c4-25f1-4e0e-ae00-7205f542b3d5, run='2.2i/runs/DP0.2/v23_0_0_rc5/PREOPS-905/20211218T214417Z'),\n",
       " DatasetRef(DatasetType('calexp', {band, instrument, detector, physical_filter, visit_system, visit}, ExposureF), {instrument: 'LSSTCam-imSim', detector: 131, visit: 227922, ...}, id=4df97ebc-0def-4a53-ac31-88ae060d61df, run='2.2i/runs/DP0.2/v23_0_0_rc5/PREOPS-905/20211219T150249Z'),\n",
       " DatasetRef(DatasetType('calexp', {band, instrument, detector, physical_filter, visit_system, visit}, ExposureF), {instrument: 'LSSTCam-imSim', detector: 149, visit: 420782, ...}, id=ab419578-c5b7-4af9-bf38-2797b3978819, run='2.2i/runs/DP0.2/v23_0_0_rc5/PREOPS-905/20211220T040027Z'),\n",
       " DatasetRef(DatasetType('calexp', {band, instrument, detector, physical_filter, visit_system, visit}, ExposureF), {instrument: 'LSSTCam-imSim', detector: 125, visit: 458531, ...}, id=75e2066d-3a4b-4c58-84d3-16bbd2dcf6a6, run='2.2i/runs/DP0.2/v23_0_0_rc5/PREOPS-905/20211220T214212Z'),\n",
       " DatasetRef(DatasetType('calexp', {band, instrument, detector, physical_filter, visit_system, visit}, ExposureF), {instrument: 'LSSTCam-imSim', detector: 84, visit: 478974, ...}, id=0bd74c54-27ea-420c-8850-44f70f0a1757, run='2.2i/runs/DP0.2/v23_0_0_rc5/PREOPS-905/20211222T004329Z'),\n",
       " DatasetRef(DatasetType('calexp', {band, instrument, detector, physical_filter, visit_system, visit}, ExposureF), {instrument: 'LSSTCam-imSim', detector: 69, visit: 614607, ...}, id=fc80a888-6200-436c-a4b3-b1ce482e194e, run='2.2i/runs/DP0.2/v23_0_0_rc5/PREOPS-905/20211222T004329Z'),\n",
       " DatasetRef(DatasetType('calexp', {band, instrument, detector, physical_filter, visit_system, visit}, ExposureF), {instrument: 'LSSTCam-imSim', detector: 172, visit: 687400, ...}, id=ece59db2-6917-471b-9ea9-8ba57236d39e, run='2.2i/runs/DP0.2/v23_0_0_rc5/PREOPS-905/20220107T163916Z'),\n",
       " DatasetRef(DatasetType('calexp', {band, instrument, detector, physical_filter, visit_system, visit}, ExposureF), {instrument: 'LSSTCam-imSim', detector: 41, visit: 693404, ...}, id=b950b312-f3b0-4bb6-a2e2-ae795945d8e0, run='2.2i/runs/DP0.2/v23_0_0_rc5/PREOPS-905/20211222T122903Z'),\n",
       " DatasetRef(DatasetType('calexp', {band, instrument, detector, physical_filter, visit_system, visit}, ExposureF), {instrument: 'LSSTCam-imSim', detector: 5, visit: 693452, ...}, id=37ba4bc7-47cc-4eaf-8ea5-8f5eeb66af05, run='2.2i/runs/DP0.2/v23_0_0_rc5/PREOPS-905/20211222T122903Z'),\n",
       " DatasetRef(DatasetType('calexp', {band, instrument, detector, physical_filter, visit_system, visit}, ExposureF), {instrument: 'LSSTCam-imSim', detector: 48, visit: 893768, ...}, id=1d7252ca-056f-4be6-bc1e-bf3434923c9b, run='2.2i/runs/DP0.2/v23_0_0_rc5/PREOPS-905/20211224T053402Z'),\n",
       " DatasetRef(DatasetType('calexp', {band, instrument, detector, physical_filter, visit_system, visit}, ExposureF), {instrument: 'LSSTCam-imSim', detector: 114, visit: 951274, ...}, id=a53b0be9-34d5-4ef4-baff-8b26330ad540, run='2.2i/runs/DP0.2/v23_0_0_rc5/PREOPS-905/20211231T053432Z'),\n",
       " DatasetRef(DatasetType('calexp', {band, instrument, detector, physical_filter, visit_system, visit}, ExposureF), {instrument: 'LSSTCam-imSim', detector: 146, visit: 953500, ...}, id=e56336c3-91f3-497a-a7ef-f22c3543ef51, run='2.2i/runs/DP0.2/v23_0_0_rc5/PREOPS-905/20211231T121620Z'),\n",
       " DatasetRef(DatasetType('calexp', {band, instrument, detector, physical_filter, visit_system, visit}, ExposureF), {instrument: 'LSSTCam-imSim', detector: 40, visit: 1173799, ...}, id=9c0bd257-d513-40f2-848c-d43ff9b119d9, run='2.2i/runs/DP0.2/v23_0_0_rc5/PREOPS-905/20220101T211007Z'),\n",
       " DatasetRef(DatasetType('calexp', {band, instrument, detector, physical_filter, visit_system, visit}, ExposureF), {instrument: 'LSSTCam-imSim', detector: 49, visit: 1174608, ...}, id=cd170688-f82a-4c2f-acda-22708ae9092d, run='2.2i/runs/DP0.2/v23_0_0_rc5/PREOPS-905/20220101T211007Z'),\n",
       " DatasetRef(DatasetType('calexp', {band, instrument, detector, physical_filter, visit_system, visit}, ExposureF), {instrument: 'LSSTCam-imSim', detector: 90, visit: 1185892, ...}, id=5eb91a38-f294-4931-8942-9955639d52b6, run='2.2i/runs/DP0.2/v23_0_0_rc5/PREOPS-905/20220102T060840Z'),\n",
       " DatasetRef(DatasetType('calexp', {band, instrument, detector, physical_filter, visit_system, visit}, ExposureF), {instrument: 'LSSTCam-imSim', detector: 36, visit: 1229645, ...}, id=aa5db494-40f5-46d2-a75e-3004ca0c4639, run='2.2i/runs/DP0.2/v23_0_0_rc5/PREOPS-905/20220104T062817Z')]"
      ]
     },
     "execution_count": 28,
     "metadata": {},
     "output_type": "execute_result"
    }
   ],
   "source": [
    "dataset_refs"
   ]
  },
  {
   "cell_type": "code",
   "execution_count": 29,
   "id": "c49a9e7f-37ad-4d41-8f34-7cbf9fa44a71",
   "metadata": {
    "execution": {
     "iopub.execute_input": "2023-06-08T21:21:13.465573Z",
     "iopub.status.busy": "2023-06-08T21:21:13.464742Z",
     "iopub.status.idle": "2023-06-08T21:21:13.477004Z",
     "shell.execute_reply": "2023-06-08T21:21:13.476351Z",
     "shell.execute_reply.started": "2023-06-08T21:21:13.465542Z"
    },
    "tags": []
   },
   "outputs": [],
   "source": [
    "injected_cat = {}\n",
    "for dr in dataset_refs:\n",
    "    visit = dr.dataId[\"visit\"]\n",
    "    mjd = visit_table.loc[visit][\"expMidptMJD\"]\n",
    "    phase = (mjd - BASE_MJD) * u.d\n",
    "    injected_cat[visit] = [dict(\n",
    "                                ra=ra_star(phase).to_value(u.degree),\n",
    "                                dec=dec_star(phase).to_value(u.degree),\n",
    "                                mag=mag_star().to_value(u.mag),\n",
    "                                source_type=\"DeltaFunction\",\n",
    "                                index=[\"test\"],\n",
    "    )]\n"
   ]
  },
  {
   "cell_type": "markdown",
   "id": "ba94100c-2a23-46ab-9fa7-0f7c0327d7a6",
   "metadata": {},
   "source": [
    "### Register a Collection to write injection catalog and injected images to"
   ]
  },
  {
   "cell_type": "markdown",
   "id": "93ff987e-519f-43be-9b0c-f28459f5c9af",
   "metadata": {},
   "source": [
    "See `source_injection` si_demo_dc2_visit.ipynb"
   ]
  },
  {
   "cell_type": "code",
   "execution_count": 30,
   "id": "24a39272-ceef-42f3-8a50-867d6ed7cc89",
   "metadata": {
    "execution": {
     "iopub.execute_input": "2023-06-08T21:21:22.866584Z",
     "iopub.status.busy": "2023-06-08T21:21:22.866213Z",
     "iopub.status.idle": "2023-06-08T21:21:30.086233Z",
     "shell.execute_reply": "2023-06-08T21:21:30.085441Z",
     "shell.execute_reply.started": "2023-06-08T21:21:22.866560Z"
    },
    "tags": []
   },
   "outputs": [
    {
     "name": "stdout",
     "output_type": "stream",
     "text": [
      "Prior RUN collection located and successfully removed\n"
     ]
    }
   ],
   "source": [
    "writeable_butler = Butler(repo_config,\n",
    "                          run=output_collection,\n",
    "                          collections=output_collection,\n",
    "                          writeable=True)\n",
    "\n",
    "if not INJECTED_IMAGES_EXIST:\n",
    "    try:\n",
    "        writeable_butler.removeRuns([output_collection])\n",
    "    except MissingCollectionError:\n",
    "        print(\"Writing into a new RUN collection\")\n",
    "        pass\n",
    "    else:\n",
    "        print(\"Prior RUN collection located and successfully removed\")\n",
    "\n",
    "_ = writeable_butler.registry.registerCollection(output_collection, type=CollectionType.RUN)"
   ]
  },
  {
   "cell_type": "code",
   "execution_count": null,
   "id": "d9558a6f-c146-4add-95d3-a04bd075f2c4",
   "metadata": {
    "tags": []
   },
   "outputs": [],
   "source": [
    "print(butler)"
   ]
  },
  {
   "cell_type": "code",
   "execution_count": null,
   "id": "95c2f32c-2dd3-4fea-8181-29be22407cd3",
   "metadata": {
    "tags": []
   },
   "outputs": [],
   "source": [
    "print(writeable_butler)"
   ]
  },
  {
   "cell_type": "markdown",
   "id": "1dbe2759-fd40-4738-8ed6-a086792ae32e",
   "metadata": {
    "execution": {
     "iopub.execute_input": "2023-05-02T16:39:19.012228Z",
     "iopub.status.busy": "2023-05-02T16:39:19.011965Z",
     "iopub.status.idle": "2023-05-02T16:39:19.028657Z",
     "shell.execute_reply": "2023-05-02T16:39:19.027826Z",
     "shell.execute_reply.started": "2023-05-02T16:39:19.012205Z"
    },
    "tags": []
   },
   "source": [
    "## Make an injection catalog generator, save a copy as a list, reprovide as generator"
   ]
  },
  {
   "cell_type": "code",
   "execution_count": null,
   "id": "8defe07a-f2c5-49f7-a398-23dc27e2b668",
   "metadata": {
    "tags": []
   },
   "outputs": [],
   "source": [
    "def injected_and_save_image(data_id,\n",
    "                            injected_cat,\n",
    "                            read_butler,\n",
    "                            write_butler,\n",
    "                            dataset_type=\"calexp\",\n",
    "                            mask_plane_name: str = \"INJECTED\",\n",
    "                            calib_flux_radius: float = 12.0,\n",
    "                            draw_size_scale: float = 1.0,\n",
    "                            draw_size_max: int = 1000,\n",
    "                            verbose=True):\n",
    "    \"Load an image, injected a catalog, and save to a new collection\"\n",
    "    calexp = read_butler.get(dataset_type, dataId=data_id)\n",
    "\n",
    "    injected_object_generator = generate_galsim_objects(\n",
    "        injection_catalog=injected_cat[calexp.visitInfo.id],\n",
    "        wcs=calexp.getWcs(),\n",
    "        photo_calib=calexp.getPhotoCalib(),\n",
    "        fits_alignment = \"wcs\",\n",
    "    )\n",
    "\n",
    "    # ( draw_sizes, common_bounds, fft_size_errors, psf_compute_errors, ) = \n",
    "\n",
    "    if verbose:\n",
    "        print(\"Inserting objects into {calexp}\")\n",
    "        \n",
    "    _ = inject_galsim_objects_into_exposure(\n",
    "        calexp,\n",
    "        injected_object_generator,\n",
    "        mask_plane_name=mask_plane_name,\n",
    "        calib_flux_radius=calib_flux_radius,\n",
    "        draw_size_scale=draw_size_scale,\n",
    "        draw_size_max=draw_size_max,\n",
    "    )\n",
    "    \n",
    "    if verbose:\n",
    "        print(\"Saving newly injected image: \", calexp)\n",
    "        print(write_butler)\n",
    "\n",
    "    write_butler.put(calexp, dataset_type, dataId=data_id)"
   ]
  },
  {
   "cell_type": "code",
   "execution_count": null,
   "id": "e504bc23-c29a-45bf-ad55-f8df073a7ef5",
   "metadata": {
    "tags": []
   },
   "outputs": [],
   "source": [
    "print(writeable_butler.run)"
   ]
  },
  {
   "cell_type": "code",
   "execution_count": null,
   "id": "dbdf0802-c52a-47f3-b325-3e886f52ce6a",
   "metadata": {
    "tags": []
   },
   "outputs": [],
   "source": [
    "if not INJECTED_IMAGES_EXIST:\n",
    "    for dr in dataset_refs:\n",
    "        injected_and_save_image(dr.dataId, injected_cat, butler, writeable_butler)"
   ]
  },
  {
   "cell_type": "markdown",
   "id": "88ded5d5-1a4a-4612-8479-fe9a2f4dba2f",
   "metadata": {
    "execution": {
     "iopub.execute_input": "2023-05-02T14:54:47.776325Z",
     "iopub.status.busy": "2023-05-02T14:54:47.775867Z",
     "iopub.status.idle": "2023-05-02T14:54:47.792118Z",
     "shell.execute_reply": "2023-05-02T14:54:47.791426Z",
     "shell.execute_reply.started": "2023-05-02T14:54:47.776303Z"
    },
    "tags": []
   },
   "source": [
    "# Run subtraction between calexps 2-N and calexp 1."
   ]
  },
  {
   "cell_type": "code",
   "execution_count": null,
   "id": "26c3437b-cadd-4684-a327-1c1faed8a8cc",
   "metadata": {
    "tags": []
   },
   "outputs": [],
   "source": [
    "config = AlardLuptonSubtractConfig()\n",
    "task = AlardLuptonSubtractTask(config=config)"
   ]
  },
  {
   "cell_type": "code",
   "execution_count": null,
   "id": "13a432b4-8ca3-4e5f-8304-51dc24e11faa",
   "metadata": {
    "tags": []
   },
   "outputs": [],
   "source": [
    "template = writeable_butler.get(\"calexp\", dataset_refs[0].dataId)"
   ]
  },
  {
   "cell_type": "code",
   "execution_count": null,
   "id": "a92263b0-2c7c-4bcb-af42-e9b8ed018ac6",
   "metadata": {
    "tags": []
   },
   "outputs": [],
   "source": [
    "def subtract(science, template, source_catalog):\n",
    "    warper_config = WarperConfig()\n",
    "    warper = Warper.fromConfig(warper_config)\n",
    "\n",
    "    science_wcs = science.getWcs()\n",
    "    science_bbox = science.getBBox()\n",
    "\n",
    "    science.visitInfo.id\n",
    "    \n",
    "    # Add PSF.  I think doing this directly without warping is wrong.  At least the x,y mapping should be updated\n",
    "    warped_template = warper.warpExposure(science_wcs, template, destBBox=science_bbox)\n",
    "    warped_template.setPsf(template.getPsf())\n",
    "    \n",
    "    # Now let's do the subtraction\n",
    "    subtraction = task.run(warped_template, science, source_catalog)\n",
    "    \n",
    "    return subtraction\n",
    "\n",
    "\n",
    "def detect(science, subtraction):\n",
    "    # Run detection on subtraction\n",
    "    detect_and_measure_config = DetectAndMeasureConfig()\n",
    "    detect_and_measure_task = DetectAndMeasureTask(config=detect_and_measure_config)\n",
    "\n",
    "    detect_and_measure = detect_and_measure_task.run(science, subtraction.matchedTemplate, subtraction.difference)\n",
    "\n",
    "    return detect_and_measure"
   ]
  },
  {
   "cell_type": "code",
   "execution_count": null,
   "id": "8a99d04e-fe59-4c5f-b67d-a6397a5976fc",
   "metadata": {
    "tags": []
   },
   "outputs": [],
   "source": [
    "def subtract_and_detect(data_id: dict,\n",
    "                        template: lsst.afw.image.exposure.ExposureF,\n",
    "                        previous_butler: Butler,\n",
    "                        writeable_butler: Butler):\n",
    "    \"\"\"\n",
    "    Subtract template image from image referred to by data_id and run detection.\n",
    "    \n",
    "    Butler needs to be writeable to store output of subtraction and detection.\n",
    "    \"\"\"\n",
    "    science = writeable_butler.get(\"calexp\", dr.dataId)\n",
    "    source_catalog = previous_butler.get(\"src\", dataId=dr.dataId)\n",
    "\n",
    "    subtraction = subtract(science, template, source_catalog)\n",
    "    writeable_butler.put(subtraction.difference, \"goodSeeingDiff_differenceExp\", dataId=dr.dataId)\n",
    "\n",
    "    detection_catalog = detect(science, subtraction)\n",
    "    writeable_butler.put(detection_catalog.diaSources, \"goodSeeingDiff_diaSrc\", dataId=dr.dataId)"
   ]
  },
  {
   "cell_type": "code",
   "execution_count": null,
   "id": "3354e6dd-f99b-417a-af95-7811de40b6b5",
   "metadata": {
    "tags": []
   },
   "outputs": [],
   "source": [
    "# The template is the first image, so start at 1:\n",
    "# This dataset_ref list is sorted by visit,\n",
    "#   which should be equivalent to sorting by MJD\n",
    "if not SUBTRACTIONS_OF_INJECTED_IMAGE_EXIST:\n",
    "    for dr in dataset_refs[1:]:\n",
    "        subtract_and_detect(dr.dataId, template, butler, writeable_butler)"
   ]
  },
  {
   "cell_type": "markdown",
   "id": "23866c1c-0c6a-4681-aa03-d59995ca5b85",
   "metadata": {
    "execution": {
     "iopub.execute_input": "2023-05-12T18:05:13.586062Z",
     "iopub.status.busy": "2023-05-12T18:05:13.585108Z",
     "iopub.status.idle": "2023-05-12T18:05:13.590004Z",
     "shell.execute_reply": "2023-05-12T18:05:13.589105Z",
     "shell.execute_reply.started": "2023-05-12T18:05:13.586027Z"
    }
   },
   "source": [
    "## Show cut outs for each subtraction"
   ]
  },
  {
   "cell_type": "markdown",
   "id": "8581fc72-f0c1-4d48-9824-10a910e9a2a0",
   "metadata": {
    "tags": []
   },
   "source": [
    "## Some helper utilities for plotting"
   ]
  },
  {
   "cell_type": "code",
   "execution_count": null,
   "id": "d415822d-4ccd-489a-96e5-0f2a7cdf9e77",
   "metadata": {
    "tags": []
   },
   "outputs": [],
   "source": [
    "def show_image_on_wcs(calexp, figsize=(8, 8), ax=None, x=None, y=None,\n",
    "                      pixel_extent=None, stamp_size=None,\n",
    "                      marker=\"o\", color=\"red\", size=20):\n",
    "    \"\"\"\n",
    "    Show an image with an RA, Dec grid overlaid.  Optionally add markers.\n",
    "    \n",
    "    Notes\n",
    "    -----\n",
    "    Specifying both pixel_extent and size is undefined.\n",
    "    \"\"\"\n",
    "    if ax is None:\n",
    "        fig = plt.figure(figsize=figsize)\n",
    "        plt.subplot(projection=WCS(calexp.getWcs().getFitsMetadata()))\n",
    "        ax = plt.gca()\n",
    "\n",
    "    if stamp_size is not None and x is not None and y is not None:    \n",
    "        half_stamp = stamp_size / 2\n",
    "        # If x and y are of different types, then user should clarify what they wanted\n",
    "        if np.isscalar(x):\n",
    "            first_x = x\n",
    "            first_y = y\n",
    "        else:\n",
    "            first_x = x[0]\n",
    "            first_y = y[0]\n",
    "            \n",
    "        pixel_extent = (int(first_x - half_stamp), int(first_x + half_stamp),\n",
    "                        int(first_y - half_stamp), int(first_y + half_stamp))\n",
    "    if pixel_extent is None:\n",
    "        pixel_extent = (int(calexp.getBBox().beginX), int(calexp.getBBox().endX),\n",
    "                        int(calexp.getBBox().beginY), int(calexp.getBBox().endY))\n",
    "    # Image array is y, x.  \n",
    "    # So we select from the image array in [Y_Begin:Y_End, X_Begin:X_End]\n",
    "    # But then `extent` is (X_Begin, X_End, Y_Begin, Y_End)\n",
    "\n",
    "    im = ax.imshow(calexp.image.array[pixel_extent[2]:pixel_extent[3], pixel_extent[0]:pixel_extent[1]],\n",
    "                   cmap=\"gray\", vmin=-200.0, vmax=400,\n",
    "                   extent=pixel_extent, origin=\"lower\")\n",
    "    ax.grid(color=\"white\", ls=\"solid\")\n",
    "    ax.set_xlabel(\"Right Ascension\")\n",
    "    ax.set_ylabel(\"Declination\")\n",
    "    if x is not None and y is not None:\n",
    "        ax.scatter(x, y, s=size, marker=marker, edgecolor=color, facecolor=\"none\")"
   ]
  },
  {
   "cell_type": "markdown",
   "id": "7574b896-2736-47a2-b935-434f4a51165b",
   "metadata": {
    "tags": []
   },
   "source": [
    "### Identify pixel regions to focus on"
   ]
  },
  {
   "cell_type": "code",
   "execution_count": null,
   "id": "7380becc-8400-43f1-aaa1-730c231cc13b",
   "metadata": {
    "tags": []
   },
   "outputs": [],
   "source": [
    "def getSiXyFromCalexp(visit_id, calexp, injected_cat=injected_cat):\n",
    "    \"\"\"\n",
    "    visit_id: Visit index into catalog that has RA, Dec\n",
    "    calexp: Determines the WCS frame that converts RA, Dec -> x, y\n",
    "    \"\"\"\n",
    "    this_injected_cat = injected_cat[visit_id]\n",
    "    xy_coords = calexp.getWcs().skyToPixel(geom.SpherePoint(this_injected_cat[0][\"ra\"], this_injected_cat[0][\"dec\"], geom.degrees))\n",
    "    return xy_coords    "
   ]
  },
  {
   "cell_type": "code",
   "execution_count": null,
   "id": "f9b7e427-beb0-4d3a-82e0-66205149f6cd",
   "metadata": {
    "tags": []
   },
   "outputs": [],
   "source": [
    "template_xy_coords = getSiXyFromCalexp(template.visitInfo.id, template)"
   ]
  },
  {
   "cell_type": "code",
   "execution_count": null,
   "id": "f813b960-8a4f-469f-a520-caf7fcae0a8f",
   "metadata": {
    "tags": []
   },
   "outputs": [],
   "source": [
    "stamp_size = 400"
   ]
  },
  {
   "cell_type": "markdown",
   "id": "f3a08bba-9db7-461c-9e12-4b2181964f12",
   "metadata": {},
   "source": [
    "Here's the template"
   ]
  },
  {
   "cell_type": "code",
   "execution_count": null,
   "id": "202e6ba8-1b35-447a-984c-43e6feb2c6c1",
   "metadata": {
    "tags": []
   },
   "outputs": [],
   "source": [
    "xy_coords = getSiXyFromCalexp(template.visitInfo.id, template)\n",
    "show_image_on_wcs(template, x=xy_coords.x, y=xy_coords.y, stamp_size=stamp_size)"
   ]
  },
  {
   "cell_type": "markdown",
   "id": "6c0d2cc4-f24c-41be-b6b4-e311c9e27775",
   "metadata": {},
   "source": [
    "Now let's step through the calexps and subtractions"
   ]
  },
  {
   "cell_type": "markdown",
   "id": "04f027b2-ba9a-4b50-8662-729b4c707936",
   "metadata": {},
   "source": [
    "We can see the difference between the location of the star at the template epoch (\"green\") from the location of the star in the science epoch (\"red\")."
   ]
  },
  {
   "cell_type": "code",
   "execution_count": null,
   "id": "cdcd4ec7-adf1-41f1-85ea-a01f8c6064dd",
   "metadata": {
    "tags": []
   },
   "outputs": [],
   "source": [
    "def plot_calexp_cutout(data_id, template, butler=writeable_butler, ax=None, visit_table=visit_table, injected_cat=injected_cat, verbose=True):\n",
    "    calexp = butler.get(\"calexp\", dataId=dr.dataId)\n",
    "    # Warp the template to get the orientation\n",
    "    warper_config = WarperConfig()\n",
    "    warper = Warper.fromConfig(warper_config)\n",
    "\n",
    "    template_wcs = template.getWcs()\n",
    "    template_bbox = template.getBBox()\n",
    "    \n",
    "    # Add PSF.  I think doing this directly without warping is wrong.  At least the x,y mapping should be updated\n",
    "    warped_calexp = warper.warpExposure(template_wcs, calexp, destBBox=template_bbox)\n",
    "    warped_calexp.setPsf(calexp.getPsf())\n",
    "\n",
    "    template_xy_coords = getSiXyFromCalexp(template.visitInfo.id, warped_calexp, injected_cat=injected_cat)\n",
    "    xy_coords = getSiXyFromCalexp(warped_calexp.visitInfo.id, warped_calexp, injected_cat=injected_cat)\n",
    "    colors = [\"green\", \"red\"]\n",
    "    \n",
    "    visit_id = calexp.visitInfo.id\n",
    "    ra, dec = injected_cat[visit_id][0][\"ra\"], injected_cat[visit_id][0][\"dec\"]\n",
    "    template_ra, template_dec = injected_cat[template.visitInfo.id][0][\"ra\"], injected_cat[template.visitInfo.id][0][\"dec\"]\n",
    "    separation = SkyCoord(ra, dec, unit=u.degree).separation(SkyCoord(template_ra, template_dec, unit=u.degree))\n",
    "\n",
    "    if verbose:\n",
    "        print(f\"Visit: {visit_id}, MJD: {visit_table.loc[visit_id]['expMidptMJD']:0.6f}, \" + \\\n",
    "              f\"RA: {ra:0.7f}, Dec: {dec:0.7f}, Displacement: {separation.arcsec:0.6f} arcsec\")\n",
    "\n",
    "    show_image_on_wcs(warped_calexp,\n",
    "                      ax=ax,\n",
    "                      x=[template_xy_coords.x, xy_coords.x],\n",
    "                      y=[template_xy_coords.y, xy_coords.y],\n",
    "                      color=colors, stamp_size=stamp_size,\n",
    "                      figsize=(3, 3))\n",
    "        \n",
    "    del calexp"
   ]
  },
  {
   "cell_type": "code",
   "execution_count": null,
   "id": "2e8bf853-ba06-4bc6-9f65-aee74007eda8",
   "metadata": {
    "tags": []
   },
   "outputs": [],
   "source": [
    "def get_matched_object(dia_src: astropy.table.Table, ra, dec):\n",
    "    # Match in a simple way\n",
    "    threshold_dist = 2 / 3600  # arcseconds\n",
    "    threshold_dist_sq = threshold_dist ** 2\n",
    "\n",
    "    dist_sq = ((np.rad2deg(dia_src[\"coord_ra\"]) - ra) * np.cos(dia_src[\"coord_dec\"]))**2 + \\\n",
    "              (np.rad2deg(dia_src[\"coord_dec\"]) - dec)**2\n",
    "\n",
    "    idx, = np.where(dist_sq < threshold_dist_sq)\n",
    "    try:\n",
    "        matching_injected = dia_src[idx]\n",
    "    except:\n",
    "        matching_injected = None\n",
    "    \n",
    "    return matching_injected"
   ]
  },
  {
   "cell_type": "code",
   "execution_count": null,
   "id": "08dfc5a9-aed7-4963-850e-f1da5e4e3dc7",
   "metadata": {
    "tags": []
   },
   "outputs": [],
   "source": [
    "def plot_subtraction_cutout(data_id, template, butler=writeable_butler, ax=None, verbose=True, figsize=None):\n",
    "    calexp = butler.get(\"goodSeeingDiff_differenceExp\", dataId=data_id)\n",
    "    dia_src = butler.get(\"goodSeeingDiff_diaSrc\", dataId=data_id)\n",
    "    # I find Astropy Tables easier to think about than the custom lsst.afw.table SourceCatalog\n",
    "    dia_src = dia_src.asAstropy()\n",
    "    # Warp the template to get the orientation\n",
    "    warper_config = WarperConfig()\n",
    "    warper = Warper.fromConfig(warper_config)\n",
    "\n",
    "    template_wcs = template.getWcs()\n",
    "    template_bbox = template.getBBox()\n",
    "    \n",
    "    # Add PSF.  I think doing this directly without warping is wrong.  At least the x,y mapping should be updated\n",
    "    warped_calexp = warper.warpExposure(template_wcs, calexp, destBBox=template_bbox)\n",
    "    warped_calexp.setPsf(calexp.getPsf())\n",
    "\n",
    "    template_xy_coords = getSiXyFromCalexp(template.visitInfo.id, warped_calexp)\n",
    "    xy_coords = getSiXyFromCalexp(warped_calexp.visitInfo.id, warped_calexp)\n",
    "    x_array = [template_xy_coords.x, xy_coords.x]\n",
    "    y_array = [template_xy_coords.y, xy_coords.y]\n",
    "    colors = [\"green\", \"red\"]\n",
    "    size = [20, 20]\n",
    "   \n",
    "    visit_id = calexp.visitInfo.id\n",
    "    ra, dec = injected_cat[visit_id][0][\"ra\"], injected_cat[visit_id][0][\"dec\"]\n",
    "    template_ra, template_dec = injected_cat[template.visitInfo.id][0][\"ra\"], injected_cat[template.visitInfo.id][0][\"dec\"]\n",
    "    separation = SkyCoord(ra, dec, unit=u.degree).separation(SkyCoord(template_ra, template_dec, unit=u.degree))\n",
    "    \n",
    "    if verbose:\n",
    "        print(f\"Visit: {visit_id}, MJD: {visit_table.loc[visit_id]['expMidptMJD']:0.6f}, \" + \\\n",
    "              f\"RA: {ra:0.7f}, Dec: {dec:0.7f}, Displacement: {separation.arcsec:0.6f} arcsec\")\n",
    "    \n",
    "    matching_injected = get_matched_object(dia_src, ra, dec)\n",
    "    \n",
    "    columns_of_interest = [\"ip_diffim_PsfDipoleFlux_pos_instFlux\",\n",
    "                           \"ip_diffim_PsfDipoleFlux_neg_instFlux\",\n",
    "                           \"ip_diffim_ClassificationDipole_value\"]\n",
    "\n",
    "    if matching_injected is None or len(matching_injected) < 1:\n",
    "        print(\"No matching dia source found for injected object.\")\n",
    "    else:\n",
    "        print(f\"Dipole: \")\n",
    "        matching_injected[columns_of_interest].pprint(max_width=-1)\n",
    "        \n",
    "        dia_src_xy_coords = warped_calexp.getWcs().skyToPixel(geom.SpherePoint(matching_injected[\"coord_ra\"],\n",
    "                                                                               matching_injected[\"coord_dec\"],\n",
    "                                                                               geom.radians))\n",
    "        x_array.append(dia_src_xy_coords.x)\n",
    "        y_array.append(dia_src_xy_coords.y)\n",
    "        colors.append(\"blue\")\n",
    "        size.append(40)\n",
    "\n",
    "    show_image_on_wcs(warped_calexp, ax=ax, x=x_array, y=y_array, color=colors, size=size, stamp_size=stamp_size, figsize=figsize);\n",
    "    \n",
    "    del calexp\n",
    "    del dia_src"
   ]
  },
  {
   "cell_type": "code",
   "execution_count": null,
   "id": "2a59a3ba-9d9d-4192-a145-87db31ca7396",
   "metadata": {
    "tags": []
   },
   "outputs": [],
   "source": [
    "stamp_size = 100\n",
    "figsize = (8, 5)\n",
    "# Note that each image will be shown in its own orientation.\n",
    "for dr in dataset_refs[1:]:\n",
    "    plt.figure(figsize=figsize)\n",
    "    plt.subplot(1, 2, 1, projection=WCS(template.getWcs().getFitsMetadata()))\n",
    "    plot_calexp_cutout(dr.dataId, template, writeable_butler, ax=plt.gca(), verbose=False);\n",
    "    plt.subplot(1, 2, 2, projection=WCS(template.getWcs().getFitsMetadata()))\n",
    "    plot_subtraction_cutout(dr.dataId, template, writeable_butler, ax=plt.gca());\n",
    "    plt.tight_layout()\n",
    "    plt.show()"
   ]
  },
  {
   "cell_type": "markdown",
   "id": "ebb99ca8-5be0-475f-a4d1-598a1bb9c762",
   "metadata": {},
   "source": [
    "Green: Location of star in template  \n",
    "Red: Location of star in science  \n",
    "Yellow: Location of matching dia_src"
   ]
  },
  {
   "cell_type": "markdown",
   "id": "bf853549-aa07-4b64-a443-fd7ac0300308",
   "metadata": {},
   "source": [
    "The injected star shows up clearly in the subtraction against the original template.\n",
    "\n",
    "If we subtract the injected template from the injected science we see a dipole"
   ]
  },
  {
   "cell_type": "markdown",
   "id": "35b8fbcf-c973-4497-8789-60706f98c88b",
   "metadata": {},
   "source": [
    "### Appendix.  Snippets of code one might want later"
   ]
  },
  {
   "cell_type": "code",
   "execution_count": null,
   "id": "87009b79-2e2c-43bc-89b6-c522d6b0070a",
   "metadata": {
    "tags": []
   },
   "outputs": [],
   "source": [
    "def remove_figure(fig):\n",
    "    \"\"\"\n",
    "    Remove a figure to reduce memory footprint.\n",
    "\n",
    "    Parameters\n",
    "    ----------\n",
    "    fig: matplotlib.figure.Figure\n",
    "        Figure to be removed.\n",
    "\n",
    "    Returns\n",
    "    -------\n",
    "    None\n",
    "    \"\"\"\n",
    "    # get the axes and clear their images\n",
    "    for ax in fig.get_axes():\n",
    "        for im in ax.get_images():\n",
    "            im.remove()\n",
    "    fig.clf()       # clear the figure\n",
    "    plt.close(fig)  # close the figure\n",
    "    gc.collect()    # call the garbage collector"
   ]
  },
  {
   "cell_type": "code",
   "execution_count": null,
   "id": "ffb0e33e-6456-4a65-a895-105e4897f4ca",
   "metadata": {},
   "outputs": [],
   "source": []
  }
 ],
 "metadata": {
  "kernelspec": {
   "display_name": "LSST",
   "language": "python",
   "name": "lsst"
  },
  "language_info": {
   "codemirror_mode": {
    "name": "ipython",
    "version": 3
   },
   "file_extension": ".py",
   "mimetype": "text/x-python",
   "name": "python",
   "nbconvert_exporter": "python",
   "pygments_lexer": "ipython3",
   "version": "3.10.10"
  }
 },
 "nbformat": 4,
 "nbformat_minor": 5
}
